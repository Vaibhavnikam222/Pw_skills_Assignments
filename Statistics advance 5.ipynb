{
 "cells": [
  {
   "cell_type": "markdown",
   "id": "a8945783",
   "metadata": {},
   "source": [
    "# Q1. Calculate the 95% confidence interval for a sample of data with a mean of 50 and a standard deviation of 5 using Python. Interpret the results."
   ]
  },
  {
   "cell_type": "code",
   "execution_count": 1,
   "id": "40090dfd",
   "metadata": {},
   "outputs": [
    {
     "name": "stdout",
     "output_type": "stream",
     "text": [
      "95% Confidence Interval: (49.02001800772997, 50.97998199227003)\n"
     ]
    }
   ],
   "source": [
    "import scipy.stats as stats\n",
    "\n",
    "# Sample mean and standard deviation\n",
    "sample_mean = 50\n",
    "sample_stddev = 5\n",
    "\n",
    "# assuming Sample size \n",
    "sample_size = 100 \n",
    "\n",
    "# Confidence level\n",
    "confidence_level = 0.95\n",
    "\n",
    "# Calculate the standard error of the mean\n",
    "standard_error = sample_stddev / (sample_size ** 0.5)\n",
    "\n",
    "# Calculate the margin of error\n",
    "margin_of_error = stats.norm.ppf((1 + confidence_level) / 2) * standard_error\n",
    "\n",
    "# Calculate the confidence interval\n",
    "confidence_interval = (sample_mean - margin_of_error, sample_mean + margin_of_error)\n",
    "\n",
    "print(\"95% Confidence Interval:\", confidence_interval)\n"
   ]
  },
  {
   "cell_type": "markdown",
   "id": "bb8eaf75",
   "metadata": {},
   "source": [
    "# Q2. Conduct a chi-square goodness of fit test to determine if the distribution of colors of M&Ms in a bag matches the expected distribution of 20% blue, 20% orange, 20% green, 10% yellow, 10% red, and 20% brown. Use Python to perform the test with a significance level of 0.05."
   ]
  },
  {
   "cell_type": "code",
   "execution_count": 3,
   "id": "87a55b5c",
   "metadata": {},
   "outputs": [
    {
     "name": "stdout",
     "output_type": "stream",
     "text": [
      "Chi-square statistic: 7.961538461538462\n",
      "P-value: 0.15836809570995178\n",
      "Fail to reject the null hypothesis\n"
     ]
    }
   ],
   "source": [
    "import numpy as np\n",
    "from scipy import stats\n",
    "\n",
    "# Observed counts of each color\n",
    "observed_counts = np.array([35, 18, 20, 12, 15, 30]) \n",
    "\n",
    "# Expected proportions (convert percentages to proportions)\n",
    "expected_proportions = np.array([0.20, 0.20, 0.20, 0.10, 0.10, 0.20])\n",
    "\n",
    "\n",
    "null_hypothesis=\" The distribution of M&M colors matches the expected distribution.\"\n",
    "alternate_hypothesis=\"The distribution of M&M colors is different from the expected distribution.\"\n",
    "\n",
    "# Total number of observations\n",
    "total_observations = np.sum(observed_counts)\n",
    "\n",
    "# Calculate expected counts based on the expected proportions\n",
    "expected_counts = expected_proportions * total_observations\n",
    "\n",
    "# Perform the chi-square goodness of fit test\n",
    "chi_square_statistic, p_value = stats.chisquare(observed_counts, expected_counts)\n",
    "\n",
    "# Define the significance level\n",
    "alpha = 0.05\n",
    "\n",
    "print(f\"Chi-square statistic: {chi_square_statistic}\")\n",
    "print(f\"P-value: {p_value}\")\n",
    "\n",
    "# Check if the p-value is less than alpha to determine significance\n",
    "if p_value < alpha:\n",
    "    print(\"Reject the null hypothesis\" )\n",
    "else:\n",
    "    print(\"Fail to reject the null hypothesis\")\n"
   ]
  },
  {
   "attachments": {
    "Screenshot%20.jpg": {
     "image/jpeg": "[encoded data removed]"
    }
   },
   "cell_type": "markdown",
   "id": "0a958dbd",
   "metadata": {},
   "source": [
    "# Q3. Use Python to calculate the chi-square statistic and p-value for a contingency table with the following data:\n",
    "\n",
    "![Screenshot%20.jpg](attachment:Screenshot%20.jpg)\n",
    "\n",
    "# Interpret the results of the test."
   ]
  },
  {
   "cell_type": "code",
   "execution_count": 2,
   "id": "28483642",
   "metadata": {},
   "outputs": [],
   "source": [
    "from scipy.stats import chi2_contingency\n",
    "import pandas as pd\n"
   ]
  },
  {
   "cell_type": "code",
   "execution_count": 3,
   "id": "762f0284",
   "metadata": {},
   "outputs": [
    {
     "name": "stdout",
     "output_type": "stream",
     "text": [
      "Observed Dataframe Below :\n",
      "\n",
      "           Group A  Group B\n",
      "Outcome 1       20       15\n",
      "Outcome 2       10       25\n",
      "Outcome 3       15       20\n"
     ]
    }
   ],
   "source": [
    "obs_df = pd.DataFrame({'Group A':[20,10,15],'Group B':[15,25,20]})\n",
    "obs_df.index = ['Outcome 1','Outcome 2','Outcome 3']\n",
    "print(\"Observed Dataframe Below :\\n\")\n",
    "print(obs_df)"
   ]
  },
  {
   "cell_type": "code",
   "execution_count": 4,
   "id": "a4e83ad6",
   "metadata": {},
   "outputs": [
    {
     "name": "stdout",
     "output_type": "stream",
     "text": [
      "Chi-square statistic: 5.8333\n",
      "p-value: 0.0541\n"
     ]
    }
   ],
   "source": [
    "stat, p, dof, expected = chi2_contingency(obs_df)\n",
    "print(\"Chi-square statistic:\", round(stat,4))\n",
    "print(\"p-value:\", round(p,4))"
   ]
  },
  {
   "cell_type": "code",
   "execution_count": 5,
   "id": "306d1428",
   "metadata": {},
   "outputs": [
    {
     "name": "stdout",
     "output_type": "stream",
     "text": [
      "Failed to reject the Null Hypothesis\n",
      "Conclusion : The outcomes are independent of the groups.\n"
     ]
    }
   ],
   "source": [
    "null_hypothesis = \"The outcomes are independent of the groups.\"\n",
    "alternate_hypothesis = \"The outcomes are Dependent on the groups.\"\n",
    "\n",
    "alpha = 0.05 \n",
    "\n",
    "if p < alpha :\n",
    "    print(\"Reject the Null Hypothesis\")\n",
    "    print(f\"Conclusion : {alternate_hypothesis}\")\n",
    "else:\n",
    "    print(\"Failed to reject the Null Hypothesis\")\n",
    "    print(f\"Conclusion : {null_hypothesis}\")"
   ]
  },
  {
   "cell_type": "markdown",
   "id": "dd491d24",
   "metadata": {},
   "source": [
    "# Q4. A study of the prevalence of smoking in a population of 500 individuals found that 60 individuals smoked. Use Python to calculate the 95% confidence interval for the true proportion of individuals in the population who smoke."
   ]
  },
  {
   "cell_type": "code",
   "execution_count": 6,
   "id": "f048a903",
   "metadata": {},
   "outputs": [],
   "source": [
    "import scipy.stats as stats\n",
    "import math"
   ]
  },
  {
   "cell_type": "code",
   "execution_count": 8,
   "id": "3ceaddd5",
   "metadata": {},
   "outputs": [
    {
     "name": "stdout",
     "output_type": "stream",
     "text": [
      "Sample proportion: 0.12\n",
      "Margin of error: 0.0285\n",
      "95% Confidence Interval: (0.0915, 0.1485)\n"
     ]
    }
   ],
   "source": [
    "n = 500\n",
    "\n",
    "x = 60\n",
    "\n",
    "# Proportion of smokers in the sample\n",
    "p_hat = x / n\n",
    "\n",
    "# Confidence level\n",
    "confidence_level = 0.95\n",
    "\n",
    "\n",
    "#Standard Error of the Proportion:\n",
    "#Formula: SE = √[p * (1 - p) / n]\n",
    "# Calculate the standard error\n",
    "standard_error = math.sqrt((p_hat * (1 - p_hat)) / n)\n",
    "\n",
    "# Calculate the margin of error\n",
    "\n",
    "z = stats.norm.ppf((1 + confidence_level) / 2)\n",
    "margin_of_error = z * standard_error\n",
    "\n",
    "# Calculate the confidence interval\n",
    "lower_bound = p_hat - margin_of_error\n",
    "upper_bound = p_hat + margin_of_error\n",
    "\n",
    "# Print the results\n",
    "print(f\"Sample proportion: {p_hat}\")\n",
    "print(f\"Margin of error: {margin_of_error:.4f}\")\n",
    "print(f\"95% Confidence Interval: ({lower_bound:.4f}, {upper_bound:.4f})\")\n"
   ]
  },
  {
   "cell_type": "markdown",
   "id": "9e10eb61",
   "metadata": {},
   "source": [
    "# Q5. Calculate the 90% confidence interval for a sample of data with a mean of 75 and a standard deviation of 12 using Python. Interpret the results."
   ]
  },
  {
   "cell_type": "code",
   "execution_count": 9,
   "id": "6bbe9c46",
   "metadata": {},
   "outputs": [
    {
     "name": "stdout",
     "output_type": "stream",
     "text": [
      "Sample Mean: 75\n",
      "Sample Standard Deviation: 12\n",
      "Sample Size: 100\n",
      "90% Confidence Interval: (73.03, 76.97)\n"
     ]
    }
   ],
   "source": [
    "import scipy.stats as stats\n",
    "\n",
    "# Sample statistics\n",
    "mean = 75\n",
    "stddev = 12\n",
    "\n",
    "n = 100  \n",
    "\n",
    "# Confidence level\n",
    "confidence_level = 0.90\n",
    "\n",
    "# Calculate the margin of error\n",
    "z = stats.norm.ppf(1 - (1 - confidence_level) / 2)\n",
    "\n",
    "margin_of_error = z * (stddev / (n ** 0.5))\n",
    "\n",
    "# Calculate the confidence interval\n",
    "lower_bound = mean - margin_of_error\n",
    "upper_bound = mean + margin_of_error\n",
    "\n",
    "# Print the results\n",
    "print(f\"Sample Mean: {mean}\")\n",
    "print(f\"Sample Standard Deviation: {stddev}\")\n",
    "print(f\"Sample Size: {n}\")\n",
    "print(f\"90% Confidence Interval: ({lower_bound:.2f}, {upper_bound:.2f})\")\n"
   ]
  },
  {
   "cell_type": "markdown",
   "id": "cb3af1c3",
   "metadata": {},
   "source": [
    "Interpretation : From above result, the estimated population mean lies between 73.03 and 76.97 with 90% confidence"
   ]
  },
  {
   "cell_type": "markdown",
   "id": "2f5c4184",
   "metadata": {},
   "source": [
    "# Q6. Use Python to plot the chi-square distribution with 10 degrees of freedom. Label the axes and shade the area corresponding to a chi-square statistic of 15."
   ]
  },
  {
   "cell_type": "code",
   "execution_count": 14,
   "id": "d125f5d0",
   "metadata": {},
   "outputs": [
    {
     "data": {
      "image/png": "[encoded data removed]",
      "text/plain": [
       "<Figure size 1080x576 with 1 Axes>"
      ]
     },
     "metadata": {
      "needs_background": "light"
     },
     "output_type": "display_data"
    }
   ],
   "source": [
    "import numpy as np\n",
    "import matplotlib.pyplot as plt\n",
    "import scipy.stats as stats\n",
    "\n",
    "\n",
    "df = 10\n",
    "\n",
    "# Generate x values\n",
    "x = np.linspace(0, 30, 1000)\n",
    "\n",
    "# Calculate the chi-square probability density function (PDF) for the given degrees of freedom\n",
    "pdf = stats.chi2.pdf(x, df)\n",
    "\n",
    "# Create the plot\n",
    "plt.figure(figsize=(15, 8))\n",
    "plt.plot(x, pdf, label=f\"Chi-Square Distribution (df={df})\", color='blue')\n",
    "\n",
    "# Shade the area corresponding to chi-square statistic of 15\n",
    "x_shaded = np.linspace(0, 15, 100)\n",
    "pdf_shaded = stats.chi2.pdf(x_shaded, df)\n",
    "plt.fill_between(x_shaded, pdf_shaded, 0, alpha=0.3, color='red', label='Chi-Square (x < 15)')\n",
    "\n",
    "# Label the axes\n",
    "plt.xlabel(\"Chi-Square Statistic\")\n",
    "plt.ylabel(\"Probability Density\")\n",
    "plt.title(f\"Chi-Square Distribution with {df} Degrees of Freedom\")\n",
    "plt.legend()\n",
    "plt.grid(True)\n",
    "\n",
    "plt.show()\n"
   ]
  },
  {
   "cell_type": "markdown",
   "id": "5d2cabbd",
   "metadata": {},
   "source": [
    "# Q7. A random sample of 1000 people was asked if they preferred Coke or Pepsi. Of the sample, 520 preferred Coke. Calculate a 99% confidence interval for the true proportion of people in the population who prefer Coke."
   ]
  },
  {
   "cell_type": "code",
   "execution_count": 8,
   "id": "2043797a",
   "metadata": {},
   "outputs": [
    {
     "name": "stdout",
     "output_type": "stream",
     "text": [
      "Critical value: 2.5758\n",
      "99% Confidence Interval: (0.4793, 0.5607)\n"
     ]
    }
   ],
   "source": [
    "import scipy.stats as stats\n",
    "import math\n",
    "\n",
    "size = 1000\n",
    "sample_proportion = 520 / size  \n",
    "\n",
    "# Confidence level and critical value\n",
    "confidence_level = 0.99\n",
    "alpha = 1 - confidence_level\n",
    "critical_value = stats.norm.ppf(1 - alpha / 2)\n",
    "\n",
    "# Standard error\n",
    "standard_error = math.sqrt((sample_proportion * (1 - sample_proportion)) / size)\n",
    "\n",
    "# Margin of error\n",
    "margin_of_error = critical_value * standard_error\n",
    "\n",
    "# Confidence interval\n",
    "lower_bound = sample_proportion - margin_of_error\n",
    "upper_bound = sample_proportion + margin_of_error\n",
    "\n",
    "print(f\"Critical value: {critical_value:.4f}\")\n",
    "print(f\"99% Confidence Interval: ({lower_bound:.4f}, {upper_bound:.4f})\")\n"
   ]
  },
  {
   "cell_type": "markdown",
   "id": "77835ffc",
   "metadata": {},
   "source": [
    "# Q8. A researcher hypothesizes that a coin is biased towards tails. They flip the coin 100 times and observe 45 tails. Conduct a chi-square goodness of fit test to determine if the observed frequencies match the expected frequencies of a fair coin. Use a significance level of 0.05."
   ]
  },
  {
   "cell_type": "code",
   "execution_count": 9,
   "id": "58a016ec",
   "metadata": {},
   "outputs": [
    {
     "name": "stdout",
     "output_type": "stream",
     "text": [
      "Chi-Square Test Statistic: 1.0000\n",
      "P-value: 0.3173\n",
      "Fail to reject the null hypothesis: The Coin is FAIR\n"
     ]
    }
   ],
   "source": [
    "import scipy.stats as stats\n",
    "\n",
    "observed_frequencies = [45, 55]\n",
    "expected_frequencies = [50, 50]\n",
    "\n",
    "# Null and Alternate Hypothesis \n",
    "null_hypothesis = \"The Coin is FAIR\"\n",
    "alternate_hypothesis = \"The Coin is BIASED toward tail\"\n",
    "\n",
    "# Compute the chi-square test statistic and p-value\n",
    "test_statistic, p_value = stats.chisquare(observed_frequencies, f_exp=expected_frequencies)\n",
    "\n",
    "# Print the results\n",
    "print(\"Chi-Square Test Statistic: {:.4f}\".format(test_statistic))\n",
    "print(\"P-value: {:.4f}\".format(p_value))\n",
    "\n",
    "# significance level\n",
    "alpha = 0.05\n",
    "\n",
    "# Compare the p-value to the significance level\n",
    "if p_value < alpha:\n",
    "    print(f\"Reject the null hypothesis: {alternate_hypothesis}\")\n",
    "else:\n",
    "    print(f\"Fail to reject the null hypothesis: {null_hypothesis}\")"
   ]
  },
  {
   "attachments": {
    "Q.9.jpg": {
     "image/jpeg": "[encoded data removed]"
    }
   },
   "cell_type": "markdown",
   "id": "236bd33d",
   "metadata": {},
   "source": [
    "# Q9. A study was conducted to determine if there is an association between smoking status (smoker or non-smoker) and lung cancer diagnosis (yes or no). The results are shown in the contingency table below. Conduct a chi-square test for independence to determine if there is a significant association between smoking status and lung cancer diagnosis.\n",
    "\n",
    "![Q.9.jpg](attachment:Q.9.jpg)\n",
    "\n",
    "# Use a significance level of 0.05."
   ]
  },
  {
   "cell_type": "code",
   "execution_count": 11,
   "id": "84f453ab",
   "metadata": {},
   "outputs": [
    {
     "data": {
      "text/html": [
       "<div>\n",
       "<style scoped>\n",
       "    .dataframe tbody tr th:only-of-type {\n",
       "        vertical-align: middle;\n",
       "    }\n",
       "\n",
       "    .dataframe tbody tr th {\n",
       "        vertical-align: top;\n",
       "    }\n",
       "\n",
       "    .dataframe thead th {\n",
       "        text-align: right;\n",
       "    }\n",
       "</style>\n",
       "<table border=\"1\" class=\"dataframe\">\n",
       "  <thead>\n",
       "    <tr style=\"text-align: right;\">\n",
       "      <th></th>\n",
       "      <th>Lung Cancer:Yes</th>\n",
       "      <th>Lung Cancer:No</th>\n",
       "    </tr>\n",
       "  </thead>\n",
       "  <tbody>\n",
       "    <tr>\n",
       "      <th>Smoker</th>\n",
       "      <td>60</td>\n",
       "      <td>140</td>\n",
       "    </tr>\n",
       "    <tr>\n",
       "      <th>Non Smoker</th>\n",
       "      <td>30</td>\n",
       "      <td>170</td>\n",
       "    </tr>\n",
       "  </tbody>\n",
       "</table>\n",
       "</div>"
      ],
      "text/plain": [
       "            Lung Cancer:Yes  Lung Cancer:No\n",
       "Smoker                   60             140\n",
       "Non Smoker               30             170"
      ]
     },
     "execution_count": 11,
     "metadata": {},
     "output_type": "execute_result"
    }
   ],
   "source": [
    "import pandas as pd\n",
    "import scipy.stats as stats\n",
    "df3 = pd.DataFrame({'Lung Cancer:Yes':[60,30], 'Lung Cancer:No':[140,170]})\n",
    "df3.index = ['Smoker','Non Smoker']\n",
    "df3"
   ]
  },
  {
   "cell_type": "code",
   "execution_count": 12,
   "id": "01545739",
   "metadata": {},
   "outputs": [
    {
     "name": "stdout",
     "output_type": "stream",
     "text": [
      "\n",
      "Chi-Square Test Statistic: 12.0573\n",
      "P-value: 0.0005\n",
      "Reject the null hypothesis.\n",
      "Conclusion : There is a SIGNIFICANT association between smoking status and lung cancer diagnosis.\n"
     ]
    }
   ],
   "source": [
    "null_hypothesis = \"There is NO significant association between smoking status and lung cancer diagnosis.\"\n",
    "alternate_hypothesis = \"There is a SIGNIFICANT association between smoking status and lung cancer diagnosis.\"\n",
    "\n",
    "test_statistic, p_value, dof, expected = stats.chi2_contingency(df3)\n",
    "\n",
    "\n",
    "# Print the results\n",
    "print(\"\\nChi-Square Test Statistic: {:.4f}\".format(test_statistic))\n",
    "print(\"P-value: {:.4f}\".format(p_value))\n",
    "\n",
    "# Significance value\n",
    "alpha = 0.05\n",
    "\n",
    "# Compare the p-value to the significance level\n",
    "if p_value < alpha:\n",
    "    print(f\"Reject the null hypothesis.\\nConclusion : {alternate_hypothesis}\")\n",
    "else:\n",
    "    print(f\"Fail to reject the null hypothesis.\\nConculsion : {null_hypothesis}\")"
   ]
  },
  {
   "attachments": {
    "Q.10.jpg": {
     "image/jpeg": "[encoded data removed]"
    }
   },
   "cell_type": "markdown",
   "id": "08398bcb",
   "metadata": {},
   "source": [
    "# Q10. A study was conducted to determine if the proportion of people who prefer milk chocolate, dark chocolate, or white chocolate is different in the U.S. versus the U.K. A random sample of 500 people from the U.S. and a random sample of 500 people from the U.K. were surveyed. The results are shown in the contingency table below. Conduct a chi-square test for independence to determine if there is a significant association between chocolate preference and country of origin.\n",
    "\n",
    "![Q.10.jpg](attachment:Q.10.jpg)\n",
    "\n",
    "# Use a significance level of 0.01."
   ]
  },
  {
   "cell_type": "code",
   "execution_count": 13,
   "id": "4112d8b3",
   "metadata": {},
   "outputs": [
    {
     "name": "stdout",
     "output_type": "stream",
     "text": [
      "              Milk Chocolate  Dark Chocolate  White Chocolate\n",
      "U.S. (n=500)             200             150              150\n",
      "U.K. (n=500)             225             175              100\n"
     ]
    }
   ],
   "source": [
    "df5 = pd.DataFrame({'Milk Chocolate':[200,225], 'Dark Chocolate':[150,175], 'White Chocolate':[150,100]})\n",
    "df5.index = ['U.S. (n=500)','U.K. (n=500)']\n",
    "\n",
    "print(df5)"
   ]
  },
  {
   "cell_type": "code",
   "execution_count": 15,
   "id": "7912250e",
   "metadata": {},
   "outputs": [
    {
     "name": "stdout",
     "output_type": "stream",
     "text": [
      "\n",
      "Chi-Square Test Statistic: 13.3937\n",
      "P-value: 0.0012\n",
      "Reject the null hypothesis.\n",
      "Conclusion : There is a SIGNIFICANT association between Country and Chocolate type preffered.\n"
     ]
    }
   ],
   "source": [
    "null_hypothesis = \"There is NO significant association between Country and Chocolate type preffered.\"\n",
    "alternate_hypothesis = \"There is a SIGNIFICANT association between Country and Chocolate type preffered.\"\n",
    "\n",
    "test_statistic, p_value, dof, expected = stats.chi2_contingency(df5)\n",
    "\n",
    "print(\"\\nChi-Square Test Statistic: {:.4f}\".format(test_statistic))\n",
    "print(\"P-value: {:.4f}\".format(p_value))\n",
    "\n",
    "# Significance value\n",
    "alpha = 0.01\n",
    "\n",
    "# Compare the p-value to the significance level\n",
    "if p_value < alpha:\n",
    "    print(f\"Reject the null hypothesis.\\nConclusion : {alternate_hypothesis}\")\n",
    "else:\n",
    "    print(f\"Fail to reject the null hypothesis.\\nConculsion : {null_hypothesis}\")"
   ]
  },
  {
   "cell_type": "markdown",
   "id": "d55495ce",
   "metadata": {},
   "source": [
    "# Q11. A random sample of 30 people was selected from a population with an unknown mean and standard deviation. The sample mean was found to be 72 and the sample standard deviation was found to be 10. Conduct a hypothesis test to determine if the population mean is significantly different from 70. Use a significance level of 0.05."
   ]
  },
  {
   "cell_type": "code",
   "execution_count": 26,
   "id": "ceed1e5e",
   "metadata": {},
   "outputs": [
    {
     "name": "stdout",
     "output_type": "stream",
     "text": [
      "Fail to reject the null hypothesis hence the conclusion is: The population mean is equal to 70. (p-value=0.2823362372860698)\n"
     ]
    }
   ],
   "source": [
    "import math\n",
    "from scipy.stats import t\n",
    "\n",
    "# Sample data\n",
    "sample_mean = 72\n",
    "sample_std = 10\n",
    "sample_size = 30\n",
    "\n",
    "# Hypotheses\n",
    "null_hypothesis = \"The population mean is equal to 70.\"\n",
    "alternative_hypothesis = \"The population mean is significantly different from 70.\"\n",
    "\n",
    "# Significance level\n",
    "alpha = 0.05\n",
    "\n",
    "# Degrees of freedom\n",
    "df = sample_size - 1\n",
    "\n",
    "# Calculate the t-statistic\n",
    "t_stat = (sample_mean - 70) / (sample_std / math.sqrt(sample_size))\n",
    "\n",
    "# Calculate the p-value\n",
    "p_value = 2 * (1 - t.cdf(abs(t_stat), df))\n",
    "\n",
    "# Compare the p-value to the significance level\n",
    "if p_value < alpha:\n",
    "    print(f\"Reject the null hypothesis hence the conclusion is: {alternative_hypothesis} (p-value={p_value})\")\n",
    "else:\n",
    "    print(f\"Fail to reject the null hypothesis hence the conclusion is: {null_hypothesis} (p-value={p_value})\")"
   ]
  },
  {
   "cell_type": "code",
   "execution_count": null,
   "id": "ee57e11d",
   "metadata": {},
   "outputs": [],
   "source": []
  },
  {
   "cell_type": "code",
   "execution_count": null,
   "id": "7fa1bab8",
   "metadata": {},
   "outputs": [],
   "source": []
  }
 ],
 "metadata": {
  "kernelspec": {
   "display_name": "Python 3 (ipykernel)",
   "language": "python",
   "name": "python3"
  },
  "language_info": {
   "codemirror_mode": {
    "name": "ipython",
    "version": 3
   },
   "file_extension": ".py",
   "mimetype": "text/x-python",
   "name": "python",
   "nbconvert_exporter": "python",
   "pygments_lexer": "ipython3",
   "version": "3.9.7"
  }
 },
 "nbformat": 4,
 "nbformat_minor": 5
}
