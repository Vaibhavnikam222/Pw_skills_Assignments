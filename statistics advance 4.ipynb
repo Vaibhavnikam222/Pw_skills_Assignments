{
 "cells": [
  {
   "cell_type": "markdown",
   "id": "db4c4b16",
   "metadata": {},
   "source": [
    "# Q1: What is the difference between a t-test and a z-test? Provide an example scenario where you would use each type of test."
   ]
  },
  {
   "cell_type": "markdown",
   "id": "660b4f76",
   "metadata": {},
   "source": []
  },
  {
   "cell_type": "markdown",
   "id": "cda5c77d",
   "metadata": {},
   "source": [
    "### 1. Population Variance:\n",
    "\n",
    "**T-Test:** T-tests are typically used when the population standard deviation (variance) is unknown, and we need to estimate it from sample data. This test uses the sample standard deviation to calculate the test statistic.\n",
    "**Z-Test:** Z-tests are used when the population standard deviation is known and the sample size is sufficiently large (typically n > 30). In this case, we can use the known population standard deviation to calculate the test statistic.\n",
    "\n",
    "### 2.Sample Size:\n",
    "\n",
    "**T-Test:** T-tests are more robust for small sample sizes (typically n < 30) because they use the sample standard deviation, which provides a better estimate of the population standard deviation for small samples.\n",
    "**Z-Test:** Z-tests are appropriate for larger sample sizes when the sample standard deviation is expected to closely approximate the population standard deviation.\n"
   ]
  },
  {
   "cell_type": "markdown",
   "id": "ef8c4205",
   "metadata": {},
   "source": [
    "###  3.Examples\n",
    "\n",
    "**T-Test:** Imagine we are studying the heights of students in a small class (n < 30) and want to determine if the average height of the students is different from a national average height for people of the same age. Since we don't know the population standard deviation for this age group, we would use a t-test.\n",
    "\n",
    "**Z-Test:** Suppose we are examining the test scores of a large group of students (n > 30) who took a standardized test, and we want to assess if their average score is significantly different from the population mean score, which is well-established. In this case, we could use a z-test because the sample size is large, and we have information about the population standard deviation."
   ]
  },
  {
   "attachments": {
    "difference.png": {
     "image/png": "[encoded data removed]"
    }
   },
   "cell_type": "markdown",
   "id": "030cf39b",
   "metadata": {},
   "source": [
    "![difference.png](attachment:difference.png)"
   ]
  },
  {
   "cell_type": "markdown",
   "id": "39ec2411",
   "metadata": {},
   "source": [
    "# Q2: Differentiate between one-tailed and two-tailed tests."
   ]
  },
  {
   "cell_type": "markdown",
   "id": "defe07c1",
   "metadata": {},
   "source": [
    "In statistics, there are two types of hypothesis tests: one-tailed tests and two-tailed testing. These tests are used to determine the significance of observed differences."
   ]
  },
  {
   "cell_type": "markdown",
   "id": "71d440a0",
   "metadata": {},
   "source": [
    "| Criteria                | One-Tailed Test                             | Two-Tailed Test                            |\n",
    "|-------------------------|---------------------------------------------|--------------------------------------------|\n",
    "| Null Hypothesis (H0)    | Specifies no significant effect or         | Specifies no significant effect or         |\n",
    "|                          | difference, or a specific direction.       | difference without specifying direction.   |\n",
    "|--------------------------|---------------------------------------------|--------------------------------------------|\n",
    "| Alternative Hypothesis  | Specifies a significant effect or          | Specifies a significant effect or          |\n",
    "| (Ha)                     | difference in a specific direction.        | difference without specifying direction.   |\n",
    "|--------------------------|---------------------------------------------|--------------------------------------------|\n",
    "| Critical Region          | Located in one tail (specified direction). | Split between both tails (symmetrical).    |\n",
    "|--------------------------|---------------------------------------------|--------------------------------------------|\n",
    "| Usage                    | When interested in a specific directional  | When interested in detecting any           |\n",
    "|                          | effect or difference (e.g., \"greater       | significant difference from the null      |\n",
    "|                          | than,\" \"less than\").                       | hypothesis, regardless of direction.      |\n",
    "|--------------------------|---------------------------------------------|--------------------------------------------|\n",
    "| Statistical Significance | Test statistic must fall into the          | Test statistic must fall into either of    |\n",
    "|                          | critical region in the specified tail.     | the critical regions (both tails).        |\n",
    "|--------------------------|---------------------------------------------|--------------------------------------------|\n"
   ]
  },
  {
   "cell_type": "markdown",
   "id": "9f89fa3b",
   "metadata": {},
   "source": [
    "# Q3: Explain the concept of Type 1 and Type 2 errors in hypothesis testing. Provide an example scenario for each type of error."
   ]
  },
  {
   "cell_type": "markdown",
   "id": "838c2c9b",
   "metadata": {},
   "source": [
    "### Type I Error (False Positive or Alpha Error):\n",
    "\n",
    "**Definition:** A Type I error occurs when you reject a null hypothesis that is actually true. In other words, it's a false alarm or a false positive.\n",
    "**Probability of Type I Error:** Denoted as α (alpha), it represents the significance level or the probability of making a Type I error.\n",
    "\n",
    "\n",
    "### Type II Error (False Negative or Beta Error):\n",
    "\n",
    "**Definition:** A Type II error occurs when you fail to reject a null hypothesis that is actually false. It's a missed opportunity to detect a real effect.\n",
    "**Probability:** Denoted as β (beta), it represents the probability of making a Type II error."
   ]
  },
  {
   "attachments": {
    "type_II_error.png": {
     "image/png": "[encoded data removed]"
    }
   },
   "cell_type": "markdown",
   "id": "8555b28a",
   "metadata": {},
   "source": [
    "![type_II_error.png](attachment:type_II_error.png)"
   ]
  },
  {
   "cell_type": "markdown",
   "id": "30a5368d",
   "metadata": {},
   "source": [
    "### Example:-\n",
    "### Type 1 Error:-\n",
    "Think about testing a novel medication for a specific illness. The medicine has no effect, meaning it is no better than a placebo, according to the null hypothesis (H0). The effectiveness of the medication is the alternate hypothesis (Ha).\n",
    "Rejecting H0 even when it is true is a Type I error.\n",
    "In this situation, a Type I error would consist of rejecting the null hypothesis and drawing the incorrect conclusion that the medicine is effective when in fact it has no therapeutic effect.\n",
    "\n",
    "### Type 2 Error:-\n",
    "Suppose a factory has a process that should produce widgets with an average weight of 10 grams (H0), but due to a machine malfunction, the process now produces widgets with an average weight of 9 grams (Ha).\n",
    "Type II Error: Failing to reject H0 when it's false\n",
    "In this case, a Type II error would occur if the factory's quality control team fails to detect the machine malfunction and continues to accept the widgets as meeting the desired weight specifications."
   ]
  },
  {
   "cell_type": "markdown",
   "id": "7c3bd4ef",
   "metadata": {},
   "source": [
    "# Q4: Explain Bayes's theorem with an example."
   ]
  },
  {
   "cell_type": "markdown",
   "id": "4d4716fb",
   "metadata": {},
   "source": [
    "Bayes's theorem is a fundamental concept in probability theory and statistics that describes how to update our beliefs or probabilities about an event based on new evidence. It provides a way to calculate conditional probabilities, where the probability of one event occurring is dependent on the occurrence of another event. Bayes's theorem is especially useful in situations involving uncertain or incomplete information.\n",
    "\n",
    "### Formula of Bayes's theorem:\n",
    "\n",
    "$$P(A|B)=\\frac{P(A|B)\\times P(A)}{P(B)}$$"
   ]
  },
  {
   "cell_type": "markdown",
   "id": "9c315603",
   "metadata": {},
   "source": [
    "### Example:-\n",
    "To calculate the probability of a patient having liver disease if they are alcoholic\n",
    "\n",
    "A is the event i.e. “patient has liver disease”. As per earlier records of the clinic, it states that 10% of the patient’s entering the clinic are suffering from liver disease. \n",
    "\n",
    "Therefore, P(A)=0.10\n",
    "\n",
    "B is the litmus test that “Patient is an alcoholic”. Earlier records of the clinic showed that 5% of the patients entering the clinic are alcoholic.\n",
    "\n",
    "Therefore, P(B)=0.05\n",
    "\n",
    "Also,  7% out of the patient’s that are diagnosed with liver disease, are alcoholics. This defines the B|A: probability of a patient being alcoholic, given that they have a liver disease is 7%.\n",
    "As, per Bayes theorem formula, \n",
    "\n",
    "P(A|B) = (0.07 * 0.1)/0.05 = 0.14\n",
    "\n",
    "Therefore, for a patient being alcoholic, the chances of having a liver disease are 0.14 (14%)."
   ]
  },
  {
   "cell_type": "markdown",
   "id": "22bc39de",
   "metadata": {},
   "source": [
    "# Q5: What is a confidence interval? How to calculate the confidence interval, explain with an example."
   ]
  },
  {
   "cell_type": "markdown",
   "id": "4297a8ca",
   "metadata": {},
   "source": [
    "A confidence interval is a range of values that is constructed from sample data in such a way that it is likely to contain the true population parameter with a specified level of confidence. It provides a measure of the uncertainty or margin of error associated with estimating a population parameter (such as a mean, proportion, or standard deviation) based on a sample from that population.\n",
    "\n",
    "### Example:-\n",
    "Suppose we want to estimate the average height (mean) of all adult males in a city. We collect a random sample of 100 adult males and find that the sample mean height is 175 centimeters, and the sample standard deviation is 10 centimeters.\n",
    "\n",
    "Select Confidence Level: we choose a 95% confidence level.\n",
    "\n",
    "Collect and Analyze Sample Data: We have our sample data with a mean of 175 cm and a sample size of 100.\n",
    "\n",
    "Select the Appropriate Distribution: Assuming that the population heights are approximately normally distributed, We use the normal distribution.\n",
    "\n",
    "Calculate the Standard Error: Standard Error = Sample Standard Deviation / √(Sample Size) = 10 / √(100) = 1.\n",
    "\n",
    "Determine the Critical Value: For a 95% confidence interval using the normal distribution, the critical values are approximately ±1.96.\n",
    "\n",
    "Calculate the Margin of Error: Margin of Error = Critical Value * Standard Error = 1.96 * 1 = 1.96.\n",
    "\n",
    "Construct the Confidence Interval:\n",
    "Confidence Interval = Sample Mean ± Margin of Error = 175 ± 1.96 = (173.04, 176.96).\n",
    "\n",
    "**Confidence Interval =(173.04, 176.96).**"
   ]
  },
  {
   "cell_type": "markdown",
   "id": "8ce9ff35",
   "metadata": {},
   "source": [
    "# Q6. Use Bayes' Theorem to calculate the probability of an event occurring given prior knowledge of the event's probability and new evidence. Provide a sample problem and solution."
   ]
  },
  {
   "cell_type": "markdown",
   "id": "b4b10be7",
   "metadata": {},
   "source": [
    "### Example:-\n",
    "What is the chance of rain during the day with cloudy morning? \n",
    "\n",
    "Where, Rain means rain during the day, and Cloud means cloudy morning.\n",
    "\n",
    "The chance of Rain given Cloud is written P(Rain|Cloud)\n",
    "\n",
    "$$P(Rain|Cloud) =  \\frac{P(Rain)\\times P(Cloud|Rain)}{P(Cloud)} $$\n",
    "\n",
    "P(Rain) is Probability of Rain = 10%\n",
    "\n",
    "P(Cloud|Rain) is Probability of Cloud, given that Rain happens = 50%\n",
    "\n",
    "P(Cloud) is Probability of Cloud = 40%\n",
    "\n",
    "$$P(Rain|Cloud) = \\frac{ 0.1 * 0.5}{0.4})$$ \n",
    "\n",
    "$$= .125$$\n",
    "\n",
    "Therefore, a 12.5% chance of rain. "
   ]
  },
  {
   "cell_type": "code",
   "execution_count": null,
   "id": "62c5e0c9",
   "metadata": {},
   "outputs": [],
   "source": []
  },
  {
   "cell_type": "markdown",
   "id": "77193121",
   "metadata": {},
   "source": [
    "# Q7. Calculate the 95% confidence interval for a sample of data with a mean of 50 and a standard deviationof 5. Interpret the results."
   ]
  },
  {
   "cell_type": "code",
   "execution_count": 34,
   "id": "c60cf462",
   "metadata": {},
   "outputs": [
    {
     "name": "stdout",
     "output_type": "stream",
     "text": [
      "95% Confidence Interval: (48.21, 51.79)\n"
     ]
    }
   ],
   "source": [
    "# Given data\n",
    "sample_mean = 50\n",
    "sample_std = 5\n",
    "sample_size = 30 \n",
    "\n",
    "# At 95% confidence interval, Z = 1.96\n",
    "Z = 1.96\n",
    "\n",
    "# Calculate the margin of error\n",
    "margin_of_error = Z * (sample_std / (sample_size ** (1/2)))\n",
    "\n",
    "# Calculate the confidence interval\n",
    "lower_boundary = sample_mean - margin_of_error\n",
    "upper_boundary = sample_mean + margin_of_error\n",
    "\n",
    "# Interpretation\n",
    "print(f\"95% Confidence Interval: ({lower_bound:.2f}, {upper_bound:.2f})\")\n"
   ]
  },
  {
   "cell_type": "markdown",
   "id": "46cad881",
   "metadata": {},
   "source": [
    "# Q8. What is the margin of error in a confidence interval? How does sample size affect the margin of error? Provide an example of a scenario where a larger sample size would result in a smaller margin of error."
   ]
  },
  {
   "cell_type": "markdown",
   "id": "ee478aa6",
   "metadata": {},
   "source": [
    "The margin of error (MOE) in a confidence interval (CI) is a measure of the range within which the true population parameter is likely to fall. It quantifies the uncertainty or precision of our estimate based on a sample from the population. \n",
    "\n",
    "A smaller margin of error indicates a more precise estimate, while a larger margin of error indicates a less precise estimate.\n",
    "\n",
    "### Sample Size and Margin of Error:\n",
    "There is an inverse relationship between sample size (n) and the margin of error (MOE). As the sample size increases, the margin of error decreases, and as the sample size decreases, the margin of error increases.\n",
    "\n",
    "### example:-\n",
    "\n",
    "Suppose we want to estimate the average height of students at a university with a certain level of confidence. we decide to take two different sample sizes and calculate the 95% confidence intervals for each.\n",
    "\n",
    "Sample 1 (Small Sample): You randomly select 10 students and measure their heights. The average height in this sample is 165 cm, and the standard deviation is 5 cm.\n",
    "\n",
    "Sample 2 (Large Sample): You randomly select 100 students and measure their heights. The average height in this sample is also 165 cm, and the standard deviation is still 5 cm.\n",
    "\n",
    "For sample1 :\n",
    "\n",
    "Standard Error (SE): s / √n = 5 / √10 =approx. 1.58 cm\n",
    "\n",
    "MOE= 1.96 * SE ≈ 1.96 * 1.58 ≈ 3.10 cm\n",
    "\n",
    "The 95% confidence interval for the small sample is  (161.90 cm, 168.10 cm).\n",
    "\n",
    "For sample 2:\n",
    "\n",
    "Standard Error (SE): s / √n = 5 / √100 = 0.5 cm\n",
    "\n",
    "MOE= 1.96 * SE = 1.96 * 0.5 = 0.98 cm\n",
    "\n",
    "The 95% confidence interval for the large sample is (164.02 cm, 165.98 cm)."
   ]
  },
  {
   "cell_type": "markdown",
   "id": "cee0e579",
   "metadata": {},
   "source": [
    "# Q9. Calculate the z-score for a data point with a value of 75, a population mean of 70, and a population standard deviation of 5. Interpret the results."
   ]
  },
  {
   "cell_type": "markdown",
   "id": "de9bb6ef",
   "metadata": {},
   "source": [
    "$$Z=\\frac{X-x}{\\sigma}$$"
   ]
  },
  {
   "cell_type": "code",
   "execution_count": 5,
   "id": "c16614c0",
   "metadata": {},
   "outputs": [
    {
     "name": "stdout",
     "output_type": "stream",
     "text": [
      "The z-score is: 1.0\n"
     ]
    }
   ],
   "source": [
    "X = 75  \n",
    "x = 70  \n",
    "sigma = 5  \n",
    "\n",
    "z = (X - x) / sigma\n",
    "\n",
    "print(f\"The z-score is: {z}\")"
   ]
  },
  {
   "cell_type": "code",
   "execution_count": null,
   "id": "aafe8761",
   "metadata": {},
   "outputs": [],
   "source": []
  },
  {
   "cell_type": "markdown",
   "id": "43a34104",
   "metadata": {},
   "source": [
    "# Q10. In a study of the effectiveness of a new weight loss drug, a sample of 50 participants lost an averageof 6 pounds with a standard deviation of 2.5 pounds. Conduct a hypothesis test to determine if the drug is significantly effective at a 95% confidence level using a t-test."
   ]
  },
  {
   "cell_type": "code",
   "execution_count": 14,
   "id": "1363fb77",
   "metadata": {},
   "outputs": [],
   "source": [
    "import scipy.stats as stats\n",
    "\n",
    "# Given data\n",
    "sample_mean = 6  # Sample mean weight loss\n",
    "sample_std = 2.5  # Sample standard deviation\n",
    "sample_size = 50  # Sample size\n",
    "alpha = 0.05  # Significance level"
   ]
  },
  {
   "cell_type": "code",
   "execution_count": 21,
   "id": "9347ce1f",
   "metadata": {},
   "outputs": [],
   "source": [
    "H0 =\"There is not enough evidence to conclude that the new weight loss drug is significantly effective at a 95% confidence level.\"\n",
    "H1 =\"The new weight loss drug is significantly effective at a 95% confidence level.\"\n",
    "# Hypotheses\n",
    "null_hypothesis_mean = 0  # Null hypothesis: Mean weight loss <= 0 pounds"
   ]
  },
  {
   "cell_type": "code",
   "execution_count": 7,
   "id": "a82e7dc9",
   "metadata": {},
   "outputs": [
    {
     "name": "stdout",
     "output_type": "stream",
     "text": [
      "16.970562748477143\n"
     ]
    }
   ],
   "source": [
    "# Calculate the t-test statistic\n",
    "t_statistic = (sample_mean - null_hypothesis_mean) / (sample_std / (sample_size ** 0.5))\n",
    "print(t_statistic)"
   ]
  },
  {
   "cell_type": "code",
   "execution_count": 8,
   "id": "e4cfaa57",
   "metadata": {},
   "outputs": [
    {
     "name": "stdout",
     "output_type": "stream",
     "text": [
      "1.6765508919142629\n"
     ]
    }
   ],
   "source": [
    "# Find the critical value (right-tailed test)\n",
    "critical_value = stats.t.ppf(1 - alpha, df=sample_size - 1)\n",
    "print(critical_value)"
   ]
  },
  {
   "cell_type": "code",
   "execution_count": 9,
   "id": "9abe438a",
   "metadata": {},
   "outputs": [
    {
     "name": "stdout",
     "output_type": "stream",
     "text": [
      "0.0\n"
     ]
    }
   ],
   "source": [
    "# Calculate the p-value\n",
    "p_value = 1 - stats.t.cdf(t_statistic, df=sample_size - 1)\n",
    "print(p_value)"
   ]
  },
  {
   "cell_type": "code",
   "execution_count": 18,
   "id": "c9f8f0e0",
   "metadata": {},
   "outputs": [
    {
     "name": "stdout",
     "output_type": "stream",
     "text": [
      "Decision: Reject the null hypothesis\n"
     ]
    }
   ],
   "source": [
    "# Make a decision\n",
    "if p_value <= alpha:\n",
    "    decision = \"Reject the null hypothesis\"\n",
    "else:\n",
    "    decision = \"Fail to reject the null hypothesis\"\n",
    "print(\"Decision:\", decision)"
   ]
  },
  {
   "cell_type": "markdown",
   "id": "528d3dc3",
   "metadata": {},
   "source": [
    "hence,conclusion is H1 =\"The new weight loss drug is significantly effective at a 95% confidence level.\""
   ]
  },
  {
   "cell_type": "markdown",
   "id": "074af48a",
   "metadata": {},
   "source": [
    "# Q11. In a survey of 500 people, 65% reported being satisfied with their current job. Calculate the 95% confidence interval for the true proportion of people who are satisfied with their job."
   ]
  },
  {
   "cell_type": "code",
   "execution_count": 2,
   "id": "fe1edde4",
   "metadata": {},
   "outputs": [
    {
     "name": "stdout",
     "output_type": "stream",
     "text": [
      "95% Confidence Interval: (0.6082, 0.6918)\n"
     ]
    }
   ],
   "source": [
    "import math\n",
    "\n",
    "# Given data\n",
    "sample_mean = 0.65  # 65%\n",
    "sample_size = 500\n",
    "confidence_level = 0.95 \n",
    "\n",
    "# Z-score for a 95% confidence interval\n",
    "z = 1.96 \n",
    "\n",
    "# Calculate the standard error\n",
    "standard_error = math.sqrt((sample_mean * (1 - sample_mean)) / sample_size)\n",
    "\n",
    "# Calculate the margin of error\n",
    "margin_of_error = z * standard_error\n",
    "\n",
    "# Calculate the lower and upper bounds of the confidence interval\n",
    "lower_bound = sample_mean - margin_of_error\n",
    "upper_bound = sample_mean + margin_of_error\n",
    "\n",
    "# Display the confidence interval\n",
    "print(f\"95% Confidence Interval: ({lower_bound:.4f}, {upper_bound:.4f})\")\n"
   ]
  },
  {
   "cell_type": "markdown",
   "id": "1eef0a0b",
   "metadata": {},
   "source": [
    "# Q12. A researcher is testing the effectiveness of two different teaching methods on student performance.Sample A has a mean score of 85 with a standard deviation of 6, while sample B has a mean score of 82 with a standard deviation of 5. Conduct a hypothesis test to determine if the two teaching methods have a significant difference in student performance using a t-test with a significance level of 0.01."
   ]
  },
  {
   "cell_type": "code",
   "execution_count": 16,
   "id": "4869edc2",
   "metadata": {},
   "outputs": [
    {
     "name": "stdout",
     "output_type": "stream",
     "text": [
      "t-statistic: 2.1039\n",
      "Degrees of freedom: 58\n",
      "Critical t-value: 2.6633\n",
      "p-value: 0.0397\n",
      "Fail to reject the null hypothesis: There is no significant difference in student performance between the two teaching methods.\n"
     ]
    }
   ],
   "source": [
    "import scipy.stats as stats\n",
    "\n",
    "# Sample A data\n",
    "mean_A = 85\n",
    "std_dev_A = 6\n",
    "sample_size_A = 30 # Fill in the sample size for Sample A\n",
    "\n",
    "# Sample B data\n",
    "mean_B = 82\n",
    "std_dev_B = 5\n",
    "sample_size_B =30  # Fill in the sample size for Sample B\n",
    "\n",
    "# Significance level\n",
    "alpha = 0.01\n",
    "\n",
    "# Calculate the pooled standard error (assuming equal variances)\n",
    "pooled_std_error = ((std_dev_A ** 2) / sample_size_A + (std_dev_B ** 2) / sample_size_B) ** 0.5\n",
    "\n",
    "# Calculate the t-statistic\n",
    "t_statistic = (mean_A - mean_B) / pooled_std_error\n",
    "\n",
    "# Calculate the degrees of freedom\n",
    "degrees_of_freedom = sample_size_A + sample_size_B - 2\n",
    "\n",
    "# Calculate the critical t-value for a two-tailed test\n",
    "critical_t_value = stats.t.ppf(1 - alpha / 2, degrees_of_freedom)\n",
    "\n",
    "# Print results\n",
    "print(f\"t-statistic: {t_stat:.4f}\")\n",
    "print(f\"Degrees of freedom: {df}\")\n",
    "print(f\"Critical t-value: {t_crit:.4f}\")\n",
    "print(f\"p-value: {p_value:.4f}\")\n",
    "\n",
    "# Compare the calculated t-statistic with the critical t-value\n",
    "if abs(t_statistic) > critical_t_value:\n",
    "    print(\"Reject the null hypothesis: There is a significant difference in student performance between the two teaching methods.\")\n",
    "else:\n",
    "    print(\"Fail to reject the null hypothesis: There is no significant difference in student performance between the two teaching methods.\")\n"
   ]
  },
  {
   "cell_type": "markdown",
   "id": "eb059c2f",
   "metadata": {},
   "source": [
    "# Q13. A population has a mean of 60 and a standard deviation of 8. A sample of 50 observations has a mean of 65. Calculate the 90% confidence interval for the true population mean."
   ]
  },
  {
   "cell_type": "markdown",
   "id": "fb482c84",
   "metadata": {},
   "source": [
    "$$Confidence Interval = \\bar{X} \\pm Z \\left(\\frac{\\sigma}{\\sqrt{n}}\\right)$$\n"
   ]
  },
  {
   "cell_type": "code",
   "execution_count": 27,
   "id": "04727947",
   "metadata": {},
   "outputs": [
    {
     "name": "stdout",
     "output_type": "stream",
     "text": [
      "90% Confidence Interval for the True Population Mean:\n",
      "Lower Bound:63.1332\n",
      "Upper Bound:66.8668\n"
     ]
    }
   ],
   "source": [
    "import scipy.stats as stats\n",
    "\n",
    "# Given data\n",
    "sample_mean = 65\n",
    "population_std_dev = 8\n",
    "sample_size = 50\n",
    "confidence_level = 0.90\n",
    "z=1.65\n",
    "\n",
    "# Calculate the margin of error (MOE)\n",
    "margin_of_error = z * (population_std_dev / (sample_size ** 0.5))\n",
    "\n",
    "# Calculate the confidence interval\n",
    "lower_bound = sample_mean - margin_of_error\n",
    "upper_bound = sample_mean + margin_of_error\n",
    "\n",
    "# Print the results\n",
    "print(\"90% Confidence Interval for the True Population Mean:\")\n",
    "print(f\"Lower Bound:{lower_bound:.4f}\")\n",
    "print(f\"Upper Bound:{ upper_bound:.4f}\")\n"
   ]
  },
  {
   "cell_type": "markdown",
   "id": "e81c6aa1",
   "metadata": {},
   "source": [
    "# Q14. In a study of the effects of caffeine on reaction time, a sample of 30 participants had an average reaction time of 0.25 seconds with a standard deviation of 0.05 seconds. Conduct a hypothesis test to determine if the caffeine has a significant effect on reaction time at a 90% confidence level using a t-test."
   ]
  },
  {
   "cell_type": "code",
   "execution_count": 32,
   "id": "57dab045",
   "metadata": {},
   "outputs": [
    {
     "name": "stdout",
     "output_type": "stream",
     "text": [
      "Result: Reject the null hypothesis: Caffeine has a significant effect on reaction time.\n",
      "Calculated t-statistic:-2.1909\n",
      "Critical Values (Lower and Upper): -1.6991, 1.6991\n"
     ]
    }
   ],
   "source": [
    "import scipy.stats as stats\n",
    "\n",
    "# Given data\n",
    "sample_mean = 0.25  \n",
    "sample_std_dev = 0.05  \n",
    "sample_size = 30  \n",
    "confidence_level = 0.90 \n",
    "\n",
    "# Hypothesized population mean reaction time without caffeine (assumed for this example)\n",
    "hypothesized_mean = 0.27  # Hypothetical value\n",
    "\n",
    "# Calculate the t-statistic\n",
    "t_statistic = (sample_mean - hypothesized_mean) / (sample_std_dev / (sample_size ** 0.5))\n",
    "\n",
    "# Calculate the degrees of freedom\n",
    "degrees_of_freedom = sample_size - 1\n",
    "\n",
    "# Find the critical t-values for a two-tailed test\n",
    "alpha = 1 - confidence_level\n",
    "critical_value_lower = stats.t.ppf(alpha / 2, degrees_of_freedom)\n",
    "critical_value_upper = -critical_value_lower  # Symmetric distribution\n",
    "\n",
    "# Make a decision based on the critical values\n",
    "if t_statistic < critical_value_lower or t_statistic > critical_value_upper:\n",
    "    # Reject the null hypothesis\n",
    "    result = \"Reject the null hypothesis: Caffeine has a significant effect on reaction time.\"\n",
    "else:\n",
    "    # Fail to reject the null hypothesis\n",
    "    result = \"Fail to reject the null hypothesis: Caffeine does not have a significant effect on reaction time.\"\n",
    "\n",
    "# Print the results\n",
    "print(\"Result:\", result)\n",
    "print(f\"Calculated t-statistic:{ t_statistic:.4f}\")\n",
    "print(f\"Critical Values (Lower and Upper): {critical_value_lower:.4f}, {critical_value_upper:.4f}\")\n"
   ]
  },
  {
   "cell_type": "code",
   "execution_count": null,
   "id": "748324e5",
   "metadata": {},
   "outputs": [],
   "source": []
  }
 ],
 "metadata": {
  "kernelspec": {
   "display_name": "Python 3 (ipykernel)",
   "language": "python",
   "name": "python3"
  },
  "language_info": {
   "codemirror_mode": {
    "name": "ipython",
    "version": 3
   },
   "file_extension": ".py",
   "mimetype": "text/x-python",
   "name": "python",
   "nbconvert_exporter": "python",
   "pygments_lexer": "ipython3",
   "version": "3.9.7"
  }
 },
 "nbformat": 4,
 "nbformat_minor": 5
}
