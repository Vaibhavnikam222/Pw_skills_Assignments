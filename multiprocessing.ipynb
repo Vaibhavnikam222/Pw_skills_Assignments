{
 "cells": [
  {
   "cell_type": "markdown",
   "id": "dbebbb7c-2f16-45a7-b0ad-9524be28d16b",
   "metadata": {},
   "source": [
    "# Q1. What is multiprocessing in python? Why is it useful?"
   ]
  },
  {
   "cell_type": "markdown",
   "id": "5253d240-4f34-4550-ab2e-a8d53db3b3f5",
   "metadata": {},
   "source": [
    "Multiprocessing is the ability to run multiple processes in parallel, each of which has its own memory space and runs independently of the others. It is a way to achieve concurrent execution by utilizing multiple CPU cores or processors. Unlike multithreading, where multiple threads share the same memory space, multiprocessing involves separate memory spaces for each process, which can help avoid certain concurrency-related issues like race conditions.\n",
    "\n",
    "multiprocessing in Python is a powerful technique for achieving parallelism and improved performance by utilizing multiple processes, each with its own memory space. It's particularly valuable for CPU-bound tasks and scenarios where true parallel execution is needed.\n",
    "\n",
    "Usefulnss- 1.Multiprocessing maximizes the utilization of available CPU cores. 2.It can also be useful for I/O-bound tasks. When one process is waiting for I/O operations to complete (e.g., reading from or writing to a file), other processes can continue their execution, leading to improved overall throughout. 3.Utilizing multiprocessing can significantly enhance the performance of external libraries. 4.In applications which requires multitasking and responsiveness ,multiprocessing can ensure that tasks are executed independently. 5.It achieves parallelism."
   ]
  },
  {
   "cell_type": "markdown",
   "id": "8b4c23fb-3b4c-46d2-81f5-4bb766a7d922",
   "metadata": {},
   "source": [
    "# Q2. What are the differences between multiprocessing and multithreading?"
   ]
  },
  {
   "cell_type": "markdown",
   "id": "2c23f3b8-21e9-4678-bd07-3020962d6ca7",
   "metadata": {},
   "source": [
    "1.Use of Resources\n",
    "\n",
    "In general, multiprocessing uses more memory because each process has its own dedicated memory space.Since threads share the same memory space, multithreading uses less memory.\n",
    "\n",
    "2.Isolating the fault\n",
    "\n",
    "In Multiprocessing because each process is independent of the others, if one crashes, it may not necessarily effect the others. Due to multi-threading, a crash in one thread could possibly affect the entire process because threads within the same process share the same memory.\n",
    "\n",
    "3.Complexity:\n",
    "\n",
    "Multiprocessing: Because inter-process communication mechanisms like pipes, queues, and shared memory are required, managing several processes might be more difficult.\n",
    "\n",
    "Multithreading: Because threads share the same memory area, managing them is typically easier. However, it is important to take precautions to prevent synchronization problems like race situations.\n",
    "\n",
    "4.Parallelism:\n",
    "\n",
    "Multiprocessing: Offers true parallelism for CPU-bound tasks, as each process can run independently on separate cores.\n",
    "\n",
    "Multithreading: Due to the GIL, multithreading provides concurrency rather than true parallelism for CPU-bound tasks. However, it can provide concurrency for I/O-bound tasks.\n",
    "\n",
    "5.Performance:\n",
    "\n",
    "Multiprocessing: Provides better performance for CPU-bound tasks, as each process can run on a separate CPU core, taking full advantage of multicore processors.\n",
    "\n",
    "Multithreading: May not provide as significant a performance boost for CPU-bound tasks due to the Python Global Interpreter Lock (GIL), which can limit true parallel execution.\n",
    "\n",
    "6.Processes vs. Threads:\n",
    "\n",
    "Multiprocessing: separate processes are created, each with its own memory space and resources. Processes run independently and can execute different code segments simultaneously.\n",
    "\n",
    "Multithreading: multiple threads share the same process's memory space and resources. Threads run within the same process and can execute different functions or code segments concurrently."
   ]
  },
  {
   "cell_type": "markdown",
   "id": "898014cd-7513-49c3-9355-1063482b817b",
   "metadata": {},
   "source": [
    "# Q3. Write a python code to create a process using the multiprocessing module."
   ]
  },
  {
   "cell_type": "code",
   "execution_count": 3,
   "id": "4bac3d8c-d081-4642-b5e6-ef30c64b6ec5",
   "metadata": {},
   "outputs": [
    {
     "name": "stdout",
     "output_type": "stream",
     "text": [
      "The square of 5 is 25\n",
      "Main process finished.\n"
     ]
    }
   ],
   "source": [
    "import multiprocessing\n",
    "\n",
    "def calculate_square(number):\n",
    "    square = number ** 2\n",
    "    print(f\"The square of {number} is {square}\")\n",
    "\n",
    "if __name__ == \"__main__\":\n",
    "    number = 5\n",
    "   \n",
    "    square_process = multiprocessing.Process(target=calculate_square, args=(number,))\n",
    "    \n",
    "    square_process.start()\n",
    "    square_process.join()\n",
    "    \n",
    "    print(\"Main process finished.\")"
   ]
  },
  {
   "cell_type": "markdown",
   "id": "dcc8a110-1fb2-4e24-9685-4c1a5dd85fc8",
   "metadata": {},
   "source": [
    "# Q4. What is a multiprocessing pool in python? Why is it used?"
   ]
  },
  {
   "cell_type": "markdown",
   "id": "b6764450-b9cb-4683-855d-de087e2e7359",
   "metadata": {},
   "source": [
    "A multiprocessing pool is a function provided by the multiprocessing module. It's a way to parallelize the execution of a function across multiple processes, taking advantage of multi-core processors to speed up computation-intensive tasks. The primary purpose of using a multiprocessing pool is to distribute work across multiple CPU cores, which can significantly improve the performance and reduce the time it takes to complete certain tasks."
   ]
  },
  {
   "cell_type": "code",
   "execution_count": 4,
   "id": "fe2a0cc4-748f-4a9c-b0cb-f198d953a9d5",
   "metadata": {},
   "outputs": [
    {
     "name": "stdout",
     "output_type": "stream",
     "text": [
      "[2, 4, 6, 8, 10, 12, 14, 16, 18, 20]\n"
     ]
    }
   ],
   "source": [
    "import multiprocessing\n",
    "\n",
    "def process_data(data):\n",
    "   \n",
    "    result = data * 2\n",
    "    return result\n",
    "\n",
    "if __name__ == \"__main__\":\n",
    "    data = [1, 2, 3, 4, 5, 6, 7, 8, 9, 10]\n",
    "\n",
    "    with multiprocessing.Pool(processes=4) as pool:\n",
    "        results = pool.map(process_data, data)\n",
    "print(results)\n"
   ]
  },
  {
   "cell_type": "markdown",
   "id": "c4c11a6f-9219-4c35-82f4-3a830e437c47",
   "metadata": {},
   "source": [
    "# Q5. How can we create a pool of worker processes in python using the multiprocessing module?"
   ]
  },
  {
   "cell_type": "code",
   "execution_count": 6,
   "id": "7a9a02ae-e811-49b7-b64c-44e982778157",
   "metadata": {},
   "outputs": [
    {
     "name": "stdout",
     "output_type": "stream",
     "text": [
      "Factorial of 3: 6\n",
      "Factorial of 5: 120\n",
      "Factorial of 7: 5040\n",
      "Factorial of 9: 362880\n",
      "Factorial of 11: 39916800\n"
     ]
    }
   ],
   "source": [
    "import multiprocessing\n",
    "import math\n",
    "\n",
    "def calculate_factorial(number):\n",
    "    return math.factorial(number)\n",
    "\n",
    "if __name__ == \"__main__\":\n",
    "    numbers = [3, 5, 7, 9, 11]\n",
    "\n",
    "    with multiprocessing.Pool(processes=2) as pool:\n",
    "        \n",
    "        results = pool.map(calculate_factorial, numbers)\n",
    "\n",
    "    for num, result in zip(numbers, results):\n",
    "        print(f\"Factorial of {num}: {result}\")"
   ]
  },
  {
   "cell_type": "markdown",
   "id": "d741b22b-14d5-48c1-bf35-cfd9f245b5a6",
   "metadata": {},
   "source": [
    "# Q6. Write a python program to create 4 processes, each process should print a different number using the multiprocessing module in python."
   ]
  },
  {
   "cell_type": "code",
   "execution_count": 1,
   "id": "c837f2ce-2ada-4972-b58e-3a9e15c9118a",
   "metadata": {},
   "outputs": [
    {
     "name": "stdout",
     "output_type": "stream",
     "text": [
      "Process 0: My number is 0\n",
      "Process 1: My number is 1\n",
      "Process 2: My number is 2\n",
      "Process 3: My number is 3\n",
      "All processes have finished.\n"
     ]
    }
   ],
   "source": [
    "import multiprocessing\n",
    "\n",
    "def print_number(number):\n",
    "    print(f\"Process {number}: My number is {number}\")\n",
    "\n",
    "if __name__ == \"__main__\":\n",
    "    processes = []\n",
    "\n",
    "    for i in range(4):\n",
    "        process = multiprocessing.Process(target=print_number, args=(i,))\n",
    "        processes.append(process)\n",
    "        process.start()\n",
    "\n",
    "    for process in processes:\n",
    "        process.join()\n",
    "\n",
    "    print(\"All processes have finished.\")\n"
   ]
  },
  {
   "cell_type": "code",
   "execution_count": null,
   "id": "e707c7f9-4f64-4150-b54a-c279c6b5045c",
   "metadata": {},
   "outputs": [],
   "source": []
  },
  {
   "cell_type": "code",
   "execution_count": null,
   "id": "554154f1-13ef-48a8-8bc3-4f4d4be5c968",
   "metadata": {},
   "outputs": [],
   "source": []
  }
 ],
 "metadata": {
  "kernelspec": {
   "display_name": "Python 3 (ipykernel)",
   "language": "python",
   "name": "python3"
  },
  "language_info": {
   "codemirror_mode": {
    "name": "ipython",
    "version": 3
   },
   "file_extension": ".py",
   "mimetype": "text/x-python",
   "name": "python",
   "nbconvert_exporter": "python",
   "pygments_lexer": "ipython3",
   "version": "3.10.8"
  }
 },
 "nbformat": 4,
 "nbformat_minor": 5
}
