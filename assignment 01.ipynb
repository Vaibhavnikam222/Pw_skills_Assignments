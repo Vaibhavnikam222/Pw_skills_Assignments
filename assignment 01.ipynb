{
 "cells": [
  {
   "cell_type": "markdown",
   "id": "a6e80725",
   "metadata": {},
   "source": [
    "**Q1. Create one variable containing following type of data:\n",
    "(i) string\n",
    "(ii) list\n",
    "(iii) float\n",
    "(iv) tuple**"
   ]
  },
  {
   "cell_type": "code",
   "execution_count": 1,
   "id": "1389a5c4",
   "metadata": {},
   "outputs": [],
   "source": [
    "string = \"Hello, World!\""
   ]
  },
  {
   "cell_type": "code",
   "execution_count": 2,
   "id": "32521437",
   "metadata": {},
   "outputs": [
    {
     "data": {
      "text/plain": [
       "str"
      ]
     },
     "execution_count": 2,
     "metadata": {},
     "output_type": "execute_result"
    }
   ],
   "source": [
    "type(string)"
   ]
  },
  {
   "cell_type": "code",
   "execution_count": 3,
   "id": "59093fe4",
   "metadata": {},
   "outputs": [],
   "source": [
    "list = [1, 2, 3, 4, 5]"
   ]
  },
  {
   "cell_type": "code",
   "execution_count": 4,
   "id": "47b7a4cc",
   "metadata": {},
   "outputs": [
    {
     "data": {
      "text/plain": [
       "list"
      ]
     },
     "execution_count": 4,
     "metadata": {},
     "output_type": "execute_result"
    }
   ],
   "source": [
    "type(list)"
   ]
  },
  {
   "cell_type": "code",
   "execution_count": 5,
   "id": "b18d1bd2",
   "metadata": {},
   "outputs": [],
   "source": [
    "float = 9.9"
   ]
  },
  {
   "cell_type": "code",
   "execution_count": 6,
   "id": "e6d64f24",
   "metadata": {},
   "outputs": [
    {
     "data": {
      "text/plain": [
       "float"
      ]
     },
     "execution_count": 6,
     "metadata": {},
     "output_type": "execute_result"
    }
   ],
   "source": [
    "type(float )"
   ]
  },
  {
   "cell_type": "code",
   "execution_count": 7,
   "id": "698d7730",
   "metadata": {},
   "outputs": [],
   "source": [
    "tuple = (10, 20, 30,40,50,60)"
   ]
  },
  {
   "cell_type": "code",
   "execution_count": 8,
   "id": "8151ec12",
   "metadata": {},
   "outputs": [
    {
     "data": {
      "text/plain": [
       "tuple"
      ]
     },
     "execution_count": 8,
     "metadata": {},
     "output_type": "execute_result"
    }
   ],
   "source": [
    "type(tuple )"
   ]
  },
  {
   "cell_type": "markdown",
   "id": "6a5971e9",
   "metadata": {},
   "source": [
    "**Q2. Given are some following variables containing data:**\n",
    "\n",
    "**(i) var1 = ‘ ‘\n",
    "(ii) var2 = ‘[ DS , ML , Python]’\n",
    "(iii) var3 = [ ‘DS’ , ’ML’ , ‘Python’ ]\n",
    "(iv) var4 = 1.**\n",
    "\n",
    "**What will be the data type of the above given variable.**"
   ]
  },
  {
   "cell_type": "code",
   "execution_count": 17,
   "id": "37968ebc",
   "metadata": {},
   "outputs": [],
   "source": [
    "var1 = ''"
   ]
  },
  {
   "cell_type": "code",
   "execution_count": 18,
   "id": "f69d244d",
   "metadata": {},
   "outputs": [
    {
     "data": {
      "text/plain": [
       "str"
      ]
     },
     "execution_count": 18,
     "metadata": {},
     "output_type": "execute_result"
    }
   ],
   "source": [
    "type(var1)"
   ]
  },
  {
   "cell_type": "code",
   "execution_count": 13,
   "id": "0113f4dd",
   "metadata": {},
   "outputs": [],
   "source": [
    " var2 ='[ DS, ML, Python]'"
   ]
  },
  {
   "cell_type": "code",
   "execution_count": 14,
   "id": "564b3e0a",
   "metadata": {},
   "outputs": [
    {
     "data": {
      "text/plain": [
       "str"
      ]
     },
     "execution_count": 14,
     "metadata": {},
     "output_type": "execute_result"
    }
   ],
   "source": [
    "type( var2)"
   ]
  },
  {
   "cell_type": "code",
   "execution_count": 26,
   "id": "a69ac9dd",
   "metadata": {},
   "outputs": [],
   "source": [
    "var3 = [ 'DS' , 'ML' , 'Python' ] "
   ]
  },
  {
   "cell_type": "code",
   "execution_count": 27,
   "id": "b6da82bd",
   "metadata": {},
   "outputs": [
    {
     "data": {
      "text/plain": [
       "list"
      ]
     },
     "execution_count": 27,
     "metadata": {},
     "output_type": "execute_result"
    }
   ],
   "source": [
    "type(var3)"
   ]
  },
  {
   "cell_type": "code",
   "execution_count": 23,
   "id": "f19313a6",
   "metadata": {},
   "outputs": [],
   "source": [
    "var4 = 1"
   ]
  },
  {
   "cell_type": "code",
   "execution_count": 24,
   "id": "1565c906",
   "metadata": {},
   "outputs": [
    {
     "data": {
      "text/plain": [
       "int"
      ]
     },
     "execution_count": 24,
     "metadata": {},
     "output_type": "execute_result"
    }
   ],
   "source": [
    "type(var4)"
   ]
  },
  {
   "cell_type": "markdown",
   "id": "542d0074",
   "metadata": {},
   "source": [
    "**Q3. Explain the use of the following operators using an example:**\n",
    "    \n",
    "**(i) /\n",
    "(ii) %\n",
    "(iii) //\n",
    "(iv) ****"
   ]
  },
  {
   "cell_type": "markdown",
   "id": "6e21edf9",
   "metadata": {},
   "source": [
    "The / operator is used for division"
   ]
  },
  {
   "cell_type": "code",
   "execution_count": 30,
   "id": "e40ea24f",
   "metadata": {},
   "outputs": [
    {
     "data": {
      "text/plain": [
       "3.3333333333333335"
      ]
     },
     "execution_count": 30,
     "metadata": {},
     "output_type": "execute_result"
    }
   ],
   "source": [
    "10/3"
   ]
  },
  {
   "cell_type": "markdown",
   "id": "17838191",
   "metadata": {},
   "source": [
    "The % operator used to calculate the remainder when one number is divided by another number."
   ]
  },
  {
   "cell_type": "code",
   "execution_count": 31,
   "id": "50abd8f7",
   "metadata": {},
   "outputs": [
    {
     "data": {
      "text/plain": [
       "1"
      ]
     },
     "execution_count": 31,
     "metadata": {},
     "output_type": "execute_result"
    }
   ],
   "source": [
    "10%3"
   ]
  },
  {
   "cell_type": "markdown",
   "id": "457466e6",
   "metadata": {},
   "source": [
    "The // operator use to perform floor division i.e. it returns the largest integer less than or equal to the result of the division."
   ]
  },
  {
   "cell_type": "code",
   "execution_count": 32,
   "id": "f8a64b75",
   "metadata": {},
   "outputs": [
    {
     "data": {
      "text/plain": [
       "3"
      ]
     },
     "execution_count": 32,
     "metadata": {},
     "output_type": "execute_result"
    }
   ],
   "source": [
    "10//3"
   ]
  },
  {
   "cell_type": "code",
   "execution_count": 34,
   "id": "30195fa2",
   "metadata": {},
   "outputs": [
    {
     "data": {
      "text/plain": [
       "1"
      ]
     },
     "execution_count": 34,
     "metadata": {},
     "output_type": "execute_result"
    }
   ],
   "source": [
    "9//5"
   ]
  },
  {
   "cell_type": "markdown",
   "id": "ca4c341c",
   "metadata": {},
   "source": [
    "The ** operator is used for exponentiation."
   ]
  },
  {
   "cell_type": "code",
   "execution_count": 35,
   "id": "d4fe4309",
   "metadata": {},
   "outputs": [
    {
     "data": {
      "text/plain": [
       "8"
      ]
     },
     "execution_count": 35,
     "metadata": {},
     "output_type": "execute_result"
    }
   ],
   "source": [
    "2**3"
   ]
  },
  {
   "cell_type": "markdown",
   "id": "952fcb9f",
   "metadata": {},
   "source": [
    "**Q4. Create a list of length 10 of your choice containing multiple types of data. Using for loop print the\n",
    "element and its data type**"
   ]
  },
  {
   "cell_type": "code",
   "execution_count": 42,
   "id": "bfcad53e",
   "metadata": {},
   "outputs": [
    {
     "name": "stdout",
     "output_type": "stream",
     "text": [
      "Element: True,      Data Type: <class 'bool'>\n",
      "Element: [1, 2, 3],      Data Type: <class 'list'>\n",
      "Element: 42,      Data Type: <class 'int'>\n",
      "Element: Hello,      Data Type: <class 'str'>\n",
      "Element: 3.14,      Data Type: <class 'float'>\n",
      "Element: {'name': 'John', 'age': 30},      Data Type: <class 'dict'>\n",
      "Element: (10, 20),      Data Type: <class 'tuple'>\n",
      "Element: 55,      Data Type: <class 'int'>\n",
      "Element: Python,      Data Type: <class 'str'>\n",
      "Element: False,      Data Type: <class 'bool'>\n"
     ]
    }
   ],
   "source": [
    "A = [True, [1, 2, 3], 42, 'Hello', 3.14,{'name': 'John', 'age': 30}, (10, 20), 55, 'Python', False]\n",
    "\n",
    "for i in A :\n",
    "    \n",
    "    print(f\"Element: {i},      Data Type: {type(i)}\")\n"
   ]
  },
  {
   "cell_type": "markdown",
   "id": "62d21c31",
   "metadata": {},
   "source": [
    "**Q5. Using a while loop, verify if the number A is purely divisible by number B and if so then how many\n",
    "times it can be divisible.**"
   ]
  },
  {
   "cell_type": "code",
   "execution_count": 50,
   "id": "d6eb57ae",
   "metadata": {},
   "outputs": [
    {
     "name": "stdout",
     "output_type": "stream",
     "text": [
      "Enter number A: 25\n",
      "Enter number B: 5\n",
      "1.0 is purely divisible by 5 2 times.\n"
     ]
    }
   ],
   "source": [
    "\n",
    "A = int(input(\"Enter number A: \"))\n",
    "B = int(input(\"Enter number B: \"))\n",
    "\n",
    "count = 0\n",
    "\n",
    "\n",
    "while A >= B and B != 0:\n",
    "    if A % B == 0:\n",
    "        A = A / B\n",
    "        count += 1\n",
    "    else:\n",
    "        break\n",
    "\n",
    "if A == 1:\n",
    "    print(f\"{A} is purely divisible by {B} {count} times.\")\n",
    "else:\n",
    "    print(f\"{A} is not purely divisible by {B}.\")\n",
    "\n"
   ]
  },
  {
   "cell_type": "markdown",
   "id": "e03948ee",
   "metadata": {},
   "source": [
    "**Q6. Create a list containing 25 int type data. Using for loop and if-else condition print if the element is\n",
    "divisible by 3 or not.**"
   ]
  },
  {
   "cell_type": "code",
   "execution_count": 53,
   "id": "1cf7c061",
   "metadata": {},
   "outputs": [
    {
     "name": "stdout",
     "output_type": "stream",
     "text": [
      "1 is not divisible by 3\n",
      "2 is not divisible by 3\n",
      "31 is not divisible by 3\n",
      "4 is not divisible by 3\n",
      "54 is divisible by 3\n",
      "6 is divisible by 3\n",
      "72 is divisible by 3\n",
      "8 is not divisible by 3\n",
      "9 is divisible by 3\n",
      "108 is divisible by 3\n",
      "11 is not divisible by 3\n",
      "12 is divisible by 3\n",
      "13 is not divisible by 3\n",
      "14 is not divisible by 3\n",
      "15 is divisible by 3\n",
      "16 is not divisible by 3\n",
      "17 is not divisible by 3\n",
      "18 is divisible by 3\n",
      "19 is not divisible by 3\n",
      "20 is not divisible by 3\n",
      "21 is divisible by 3\n",
      "22 is not divisible by 3\n",
      "23 is not divisible by 3\n",
      "24 is divisible by 3\n",
      "25 is not divisible by 3\n"
     ]
    }
   ],
   "source": [
    "list = [1, 2, 31, 4, 54, 6, 72, 8, 9, 108,\n",
    "           11, 12, 13, 14, 15, 16, 17, 18, 19, 20,\n",
    "           21, 22, 23, 24, 25]\n",
    "\n",
    "\n",
    "for i in list:\n",
    "    if i % 3 == 0:\n",
    "        \n",
    "        print(f\"{i} is divisible by 3\")\n",
    "        \n",
    "    else:\n",
    "        \n",
    "        print(f\"{i} is not divisible by 3\")\n"
   ]
  },
  {
   "cell_type": "markdown",
   "id": "3069fd7e",
   "metadata": {},
   "source": [
    "**Q7. What do you understand about mutable and immutable data types? Give examples for both showing\n",
    "this property.**"
   ]
  },
  {
   "cell_type": "markdown",
   "id": "289ed1cc",
   "metadata": {},
   "source": [
    "**MUTABLE-** 1.mutable objects are objects which can be modified after they are created.\n",
    "\n",
    "            2.This means that we can change their values, add or remove elements, or modify their internal structure.\n",
    "            3.EXAMPLE:-LIST,SET,dictionaries\n"
   ]
  },
  {
   "cell_type": "code",
   "execution_count": 57,
   "id": "9f59ade5",
   "metadata": {},
   "outputs": [],
   "source": [
    "B= [1, 2, 3]"
   ]
  },
  {
   "cell_type": "code",
   "execution_count": 58,
   "id": "4fc034c7",
   "metadata": {},
   "outputs": [],
   "source": [
    "B.append(4) "
   ]
  },
  {
   "cell_type": "code",
   "execution_count": 59,
   "id": "16ea552c",
   "metadata": {},
   "outputs": [
    {
     "name": "stdout",
     "output_type": "stream",
     "text": [
      "[1, 2, 3, 4]\n"
     ]
    }
   ],
   "source": [
    "print(B)  "
   ]
  },
  {
   "cell_type": "markdown",
   "id": "baad93e5",
   "metadata": {},
   "source": [
    "**IMMUTABLE:-** 1.immutable objects are objects which cannot be modified after they are created.\n",
    "\n",
    "              2. This means that once an immutable object is created, we cannot change its value or internal state.  \n",
    "              3.EXAMPLE:- TUPLE , strings,float"
   ]
  },
  {
   "cell_type": "code",
   "execution_count": 60,
   "id": "0fbad990",
   "metadata": {},
   "outputs": [],
   "source": [
    "j=(1,2,3)"
   ]
  },
  {
   "cell_type": "code",
   "execution_count": 61,
   "id": "60f3b262",
   "metadata": {},
   "outputs": [
    {
     "ename": "AttributeError",
     "evalue": "'tuple' object has no attribute 'append'",
     "output_type": "error",
     "traceback": [
      "\u001b[1;31m---------------------------------------------------------------------------\u001b[0m",
      "\u001b[1;31mAttributeError\u001b[0m                            Traceback (most recent call last)",
      "\u001b[1;32m~\\AppData\\Local\\Temp/ipykernel_2768/4031845474.py\u001b[0m in \u001b[0;36m<module>\u001b[1;34m\u001b[0m\n\u001b[1;32m----> 1\u001b[1;33m \u001b[0mj\u001b[0m\u001b[1;33m.\u001b[0m\u001b[0mappend\u001b[0m\u001b[1;33m(\u001b[0m\u001b[1;36m5\u001b[0m\u001b[1;33m)\u001b[0m\u001b[1;33m\u001b[0m\u001b[1;33m\u001b[0m\u001b[0m\n\u001b[0m",
      "\u001b[1;31mAttributeError\u001b[0m: 'tuple' object has no attribute 'append'"
     ]
    }
   ],
   "source": [
    "j.append(5)"
   ]
  },
  {
   "cell_type": "code",
   "execution_count": null,
   "id": "aa11897e",
   "metadata": {},
   "outputs": [],
   "source": []
  }
 ],
 "metadata": {
  "kernelspec": {
   "display_name": "Python 3 (ipykernel)",
   "language": "python",
   "name": "python3"
  },
  "language_info": {
   "codemirror_mode": {
    "name": "ipython",
    "version": 3
   },
   "file_extension": ".py",
   "mimetype": "text/x-python",
   "name": "python",
   "nbconvert_exporter": "python",
   "pygments_lexer": "ipython3",
   "version": "3.9.7"
  }
 },
 "nbformat": 4,
 "nbformat_minor": 5
}
