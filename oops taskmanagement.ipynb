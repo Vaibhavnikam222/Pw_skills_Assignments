{
 "cells": [
  {
   "cell_type": "markdown",
   "id": "ec9fd02d",
   "metadata": {},
   "source": [
    "Q1, Create a vehicle class with an init method having instance variables as name_of_vehicle, max_speed\n",
    "and average_of_vehicle."
   ]
  },
  {
   "cell_type": "code",
   "execution_count": 1,
   "id": "c9750f24",
   "metadata": {},
   "outputs": [],
   "source": [
    "class vehicle :\n",
    "    def __init__(self, name_of_vehicle, max_speed, average_of_vehicle):\n",
    "        self.name_of_vehicle = name_of_vehicle\n",
    "        self.max_speed = max_speed\n",
    "        self.average_of_vehicle = average_of_vehicle\n",
    "        \n",
    "    def return_vehicle_details(self) :\n",
    "        return self.name_of_vehicle,self.max_speed,self.average_of_vehicle"
   ]
  },
  {
   "cell_type": "code",
   "execution_count": 2,
   "id": "d9bb0b6d",
   "metadata": {},
   "outputs": [],
   "source": [
    "a = vehicle(\"nano\", 180 , 30)"
   ]
  },
  {
   "cell_type": "code",
   "execution_count": 5,
   "id": "7850faaa",
   "metadata": {},
   "outputs": [
    {
     "data": {
      "text/plain": [
       "('nano', 180, 30)"
      ]
     },
     "execution_count": 5,
     "metadata": {},
     "output_type": "execute_result"
    }
   ],
   "source": [
    "a.return_vehicle_details()"
   ]
  },
  {
   "cell_type": "markdown",
   "id": "393eea5f",
   "metadata": {},
   "source": [
    "Q2. Create a child class car from the vehicle class created in Que 1, which will inherit the vehicle class.\n",
    "Create a method named seating_capacity which takes capacity as an argument and returns the name of\n",
    "the vehicle and its seating capacity."
   ]
  },
  {
   "cell_type": "code",
   "execution_count": 7,
   "id": "80030628",
   "metadata": {},
   "outputs": [],
   "source": [
    "class Vehicle:\n",
    "    def __init__(self, name_of_vehicle, max_speed, average_of_vehicle):\n",
    "        self.name_of_vehicle = name_of_vehicle\n",
    "        self.max_speed = max_speed\n",
    "        self.average_of_vehicle = average_of_vehicle\n",
    "\n",
    "class Car(Vehicle):\n",
    "    def __init__(self, name_of_vehicle, max_speed, average_of_vehicle):\n",
    "        super().__init__(name_of_vehicle, max_speed, average_of_vehicle)\n",
    "\n",
    "    def seating_capacity(self, capacity):\n",
    "        return f\"{self.name_of_vehicle} - Seating Capacity: {capacity}\"\n"
   ]
  },
  {
   "cell_type": "code",
   "execution_count": 14,
   "id": "16bd711b",
   "metadata": {},
   "outputs": [],
   "source": [
    "c = Car(\"nano\", 200, 30)"
   ]
  },
  {
   "cell_type": "code",
   "execution_count": 15,
   "id": "493d6d50",
   "metadata": {},
   "outputs": [
    {
     "name": "stdout",
     "output_type": "stream",
     "text": [
      "nano - Seating Capacity: 5\n"
     ]
    }
   ],
   "source": [
    "print(c.seating_capacity(5))"
   ]
  },
  {
   "cell_type": "markdown",
   "id": "fbdb5009",
   "metadata": {},
   "source": [
    "Q3. What is multiple inheritance? Write a python code to demonstrate multiple inheritance."
   ]
  },
  {
   "cell_type": "markdown",
   "id": "e9e97885",
   "metadata": {},
   "source": [
    "When a class inherits characteristics and actions from many parent classes, this is known as multiple inheritance in object-oriented programming. This implies that a child class may inherit properties and functions from various parent classes."
   ]
  },
  {
   "cell_type": "code",
   "execution_count": 16,
   "id": "18f06430",
   "metadata": {},
   "outputs": [],
   "source": [
    "class Animal:\n",
    "    def speak(self):\n",
    "        pass\n",
    "\n",
    "class Mammal(Animal):\n",
    "    def feed_milk(self):\n",
    "        pass\n",
    "\n",
    "class Bird(Animal):\n",
    "    def lay_eggs(self):\n",
    "        pass\n",
    "\n",
    "class Bat(Mammal, Bird):\n",
    "    def fly(self):\n",
    "        print(\"Bat can fly.\")\n",
    "\n",
    "class Ostrich(Bird):\n",
    "    def run(self):\n",
    "        print(\"Ostrich can run.\")"
   ]
  },
  {
   "cell_type": "code",
   "execution_count": 18,
   "id": "3b658280",
   "metadata": {},
   "outputs": [],
   "source": [
    "bat = Bat()"
   ]
  },
  {
   "cell_type": "code",
   "execution_count": 22,
   "id": "fee017b4",
   "metadata": {},
   "outputs": [
    {
     "name": "stdout",
     "output_type": "stream",
     "text": [
      "Bat can fly.\n"
     ]
    }
   ],
   "source": [
    "bat.fly()"
   ]
  },
  {
   "cell_type": "markdown",
   "id": "d0f32622",
   "metadata": {},
   "source": [
    "Q4. What are getter and setter in python? Create a class and create a getter and a setter method in this\n",
    "class."
   ]
  },
  {
   "cell_type": "markdown",
   "id": "2f7ccb3b",
   "metadata": {},
   "source": [
    "In Python, getters and setters are methods that provide controlled access to class attributes. They allow you to encapsulate the attribute access and provide a way to get (getter) or set (setter) the values of private attributes, along with additional logic if needed"
   ]
  },
  {
   "cell_type": "code",
   "execution_count": 23,
   "id": "25b5882c",
   "metadata": {},
   "outputs": [],
   "source": [
    "class student:\n",
    "    def __init__(self, name, age):\n",
    "        self.__name = name \n",
    "        self.__age = age\n",
    "   \n",
    "\n",
    "    def get_name(self):\n",
    "        return self.__name\n",
    "\n",
    "    def set_name(self, name):\n",
    "        if len(name) >= 3:\n",
    "            self.__name = name\n",
    "        else:\n",
    "            print(\"Name can not be written\")\n",
    "   \n",
    "\n",
    "    def get_age(self):\n",
    "        return self.__age\n",
    "\n",
    "   \n",
    "    def set_age(self, age):\n",
    "        if age >= 0:\n",
    "            self.__age = age\n",
    "        else:\n",
    "            print(\"Age cannot be negative.\")"
   ]
  },
  {
   "cell_type": "code",
   "execution_count": 25,
   "id": "067f9d05",
   "metadata": {},
   "outputs": [],
   "source": [
    "s = student(\"raj\",20)"
   ]
  },
  {
   "cell_type": "code",
   "execution_count": 27,
   "id": "8defc4d4",
   "metadata": {},
   "outputs": [
    {
     "data": {
      "text/plain": [
       "20"
      ]
     },
     "execution_count": 27,
     "metadata": {},
     "output_type": "execute_result"
    }
   ],
   "source": [
    "s.get_age()"
   ]
  },
  {
   "cell_type": "code",
   "execution_count": 28,
   "id": "ce044974",
   "metadata": {},
   "outputs": [],
   "source": [
    "s.set_age(30)"
   ]
  },
  {
   "cell_type": "code",
   "execution_count": 29,
   "id": "3dd3854e",
   "metadata": {},
   "outputs": [
    {
     "data": {
      "text/plain": [
       "30"
      ]
     },
     "execution_count": 29,
     "metadata": {},
     "output_type": "execute_result"
    }
   ],
   "source": [
    "s.get_age()"
   ]
  },
  {
   "cell_type": "markdown",
   "id": "09336407",
   "metadata": {},
   "source": [
    "Q5.What is method overriding in python? Write a python code to demonstrate method overriding."
   ]
  },
  {
   "cell_type": "markdown",
   "id": "484f4380",
   "metadata": {},
   "source": [
    "\n",
    "Method overriding is a concept in oops where a subclass provides a specific implementation for a method that is already defined in its parent class. When the subclass overrides a method, the overridden method in the subclass will be called instead of the method in the parent class when the method is invoked on an instance of the subclass."
   ]
  },
  {
   "cell_type": "code",
   "execution_count": 30,
   "id": "d37bc911",
   "metadata": {},
   "outputs": [],
   "source": [
    "class Animal:\n",
    "    def speak(self):\n",
    "        print(\"Animal speaks\")\n",
    "\n",
    "class Dog(Animal):\n",
    "    def speak(self):\n",
    "        print(\"Dog barks\")\n",
    "\n",
    "class Cat(Animal):\n",
    "    def speak(self):\n",
    "        print(\"Cat meows\")"
   ]
  },
  {
   "cell_type": "code",
   "execution_count": 31,
   "id": "dc846784",
   "metadata": {},
   "outputs": [],
   "source": [
    "animal = Animal()"
   ]
  },
  {
   "cell_type": "code",
   "execution_count": 32,
   "id": "489a2e2a",
   "metadata": {},
   "outputs": [],
   "source": [
    "dog = Dog()\n",
    "cat = Cat()   "
   ]
  },
  {
   "cell_type": "code",
   "execution_count": 33,
   "id": "cef833ec",
   "metadata": {},
   "outputs": [
    {
     "name": "stdout",
     "output_type": "stream",
     "text": [
      "Animal speaks\n"
     ]
    }
   ],
   "source": [
    "animal.speak()  "
   ]
  },
  {
   "cell_type": "code",
   "execution_count": 34,
   "id": "141af24d",
   "metadata": {},
   "outputs": [
    {
     "name": "stdout",
     "output_type": "stream",
     "text": [
      "Dog barks\n"
     ]
    }
   ],
   "source": [
    "dog.speak()  "
   ]
  },
  {
   "cell_type": "code",
   "execution_count": null,
   "id": "c9a3969a",
   "metadata": {},
   "outputs": [],
   "source": []
  }
 ],
 "metadata": {
  "kernelspec": {
   "display_name": "Python 3 (ipykernel)",
   "language": "python",
   "name": "python3"
  },
  "language_info": {
   "codemirror_mode": {
    "name": "ipython",
    "version": 3
   },
   "file_extension": ".py",
   "mimetype": "text/x-python",
   "name": "python",
   "nbconvert_exporter": "python",
   "pygments_lexer": "ipython3",
   "version": "3.9.7"
  }
 },
 "nbformat": 4,
 "nbformat_minor": 5
}
