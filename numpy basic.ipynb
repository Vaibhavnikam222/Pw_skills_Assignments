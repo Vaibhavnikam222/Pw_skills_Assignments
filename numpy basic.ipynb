{
 "cells": [
  {
   "cell_type": "markdown",
   "id": "7d91e92c",
   "metadata": {},
   "source": [
    "# Q1. Is there any difference in the data type of variables list_ and array_list? If there is then write a code to print the data types of both the variables."
   ]
  },
  {
   "cell_type": "code",
   "execution_count": 5,
   "id": "a9426b2f",
   "metadata": {},
   "outputs": [],
   "source": [
    "import numpy as np\n",
    "list_ = [ '1' , '2' , '3' , '4' , '5' ]\n",
    "array_list = np.array(object = list_)"
   ]
  },
  {
   "cell_type": "markdown",
   "id": "9585af95",
   "metadata": {},
   "source": [
    "Yes, there is a difference in the data type of the 'list_' and 'array_list' variables. The 'list_' variable is a Python list containing string elements, while the 'array_list' variable is a NumPy array. We can check the data types of these variables using the type() function."
   ]
  },
  {
   "cell_type": "code",
   "execution_count": 7,
   "id": "c8020b59",
   "metadata": {},
   "outputs": [
    {
     "name": "stdout",
     "output_type": "stream",
     "text": [
      "Data type of 'list_': <class 'list'>\n",
      "Data type of 'array_list': <class 'numpy.ndarray'>\n"
     ]
    }
   ],
   "source": [
    "print(\"Data type of 'list_':\", type(list_))\n",
    "print(\"Data type of 'array_list':\", type(array_list))"
   ]
  },
  {
   "cell_type": "markdown",
   "id": "45a7a52e",
   "metadata": {},
   "source": [
    "# Q2. Write a code to print the data type of each and every element of both the variables list_ and arra_list."
   ]
  },
  {
   "cell_type": "code",
   "execution_count": 8,
   "id": "d6cb1844",
   "metadata": {},
   "outputs": [
    {
     "data": {
      "text/plain": [
       "['1', '2', '3', '4', '5']"
      ]
     },
     "execution_count": 8,
     "metadata": {},
     "output_type": "execute_result"
    }
   ],
   "source": [
    "list_ = ['1', '2', '3', '4', '5']\n",
    "list_"
   ]
  },
  {
   "cell_type": "code",
   "execution_count": 43,
   "id": "e88900cd",
   "metadata": {},
   "outputs": [
    {
     "data": {
      "text/plain": [
       "array(['1', '2', '3', '4', '5'], dtype='<U1')"
      ]
     },
     "execution_count": 43,
     "metadata": {},
     "output_type": "execute_result"
    }
   ],
   "source": [
    "array_list = np.array(list_)\n",
    "array_list"
   ]
  },
  {
   "cell_type": "code",
   "execution_count": 44,
   "id": "14bb269e",
   "metadata": {},
   "outputs": [
    {
     "name": "stdout",
     "output_type": "stream",
     "text": [
      "Data type of element in 'list_': <class 'str'>\n",
      "Data type of element in 'list_': <class 'str'>\n",
      "Data type of element in 'list_': <class 'str'>\n",
      "Data type of element in 'list_': <class 'str'>\n",
      "Data type of element in 'list_': <class 'str'>\n"
     ]
    }
   ],
   "source": [
    "for i in list_:\n",
    "    print(\"Data type of element in 'list_':\", type(i))"
   ]
  },
  {
   "cell_type": "code",
   "execution_count": 45,
   "id": "405dddc2",
   "metadata": {},
   "outputs": [
    {
     "name": "stdout",
     "output_type": "stream",
     "text": [
      "Data type of element in 'array_list': <class 'numpy.str_'>\n",
      "Data type of element in 'array_list': <class 'numpy.str_'>\n",
      "Data type of element in 'array_list': <class 'numpy.str_'>\n",
      "Data type of element in 'array_list': <class 'numpy.str_'>\n",
      "Data type of element in 'array_list': <class 'numpy.str_'>\n"
     ]
    }
   ],
   "source": [
    "for i in array_list:\n",
    "    print(\"Data type of element in 'array_list':\", type(i))"
   ]
  },
  {
   "cell_type": "markdown",
   "id": "a27d0aa7",
   "metadata": {},
   "source": [
    "# Q3. Considering the following changes in the variable, array_list:\n",
    "# array_list = np.array(object = list_, dtype = int)\n",
    "# Will there be any difference in the data type of the elements present in both the variables, list_ and arra_list? If so then print the data types of each and every element present in both the variables, list_ and arra_list."
   ]
  },
  {
   "cell_type": "code",
   "execution_count": 46,
   "id": "bc86f789",
   "metadata": {},
   "outputs": [
    {
     "data": {
      "text/plain": [
       "['1', '2', '3', '4', '5']"
      ]
     },
     "execution_count": 46,
     "metadata": {},
     "output_type": "execute_result"
    }
   ],
   "source": [
    "list_"
   ]
  },
  {
   "cell_type": "code",
   "execution_count": 47,
   "id": "afb80fa2",
   "metadata": {},
   "outputs": [
    {
     "data": {
      "text/plain": [
       "array(['1', '2', '3', '4', '5'], dtype='<U1')"
      ]
     },
     "execution_count": 47,
     "metadata": {},
     "output_type": "execute_result"
    }
   ],
   "source": [
    "array_list"
   ]
  },
  {
   "cell_type": "code",
   "execution_count": 48,
   "id": "d46e6c12",
   "metadata": {
    "scrolled": true
   },
   "outputs": [
    {
     "name": "stdout",
     "output_type": "stream",
     "text": [
      "Data type of element in 'list_': <class 'str'>\n",
      "Data type of element in 'list_': <class 'str'>\n",
      "Data type of element in 'list_': <class 'str'>\n",
      "Data type of element in 'list_': <class 'str'>\n",
      "Data type of element in 'list_': <class 'str'>\n"
     ]
    }
   ],
   "source": [
    "for i in list_:\n",
    "    print(\"Data type of element in 'list_':\", type(i))"
   ]
  },
  {
   "cell_type": "code",
   "execution_count": 49,
   "id": "7ee97420",
   "metadata": {},
   "outputs": [
    {
     "name": "stdout",
     "output_type": "stream",
     "text": [
      "Data type of element in 'array_list': <class 'numpy.str_'>\n",
      "Data type of element in 'array_list': <class 'numpy.str_'>\n",
      "Data type of element in 'array_list': <class 'numpy.str_'>\n",
      "Data type of element in 'array_list': <class 'numpy.str_'>\n",
      "Data type of element in 'array_list': <class 'numpy.str_'>\n"
     ]
    }
   ],
   "source": [
    "for k in array_list:\n",
    "    print(\"Data type of element in 'array_list':\", type(k))"
   ]
  },
  {
   "cell_type": "code",
   "execution_count": 50,
   "id": "813788d9",
   "metadata": {},
   "outputs": [],
   "source": [
    "array_list2 = np.array(object = list_, dtype = int)"
   ]
  },
  {
   "cell_type": "code",
   "execution_count": 33,
   "id": "248c9cde",
   "metadata": {},
   "outputs": [
    {
     "data": {
      "text/plain": [
       "array([1, 2, 3, 4, 5])"
      ]
     },
     "execution_count": 33,
     "metadata": {},
     "output_type": "execute_result"
    }
   ],
   "source": [
    "array_list2"
   ]
  },
  {
   "cell_type": "code",
   "execution_count": 34,
   "id": "2f364f41",
   "metadata": {},
   "outputs": [
    {
     "name": "stdout",
     "output_type": "stream",
     "text": [
      "Data type of element in 'array_list': <class 'numpy.int32'>\n",
      "Data type of element in 'array_list': <class 'numpy.int32'>\n",
      "Data type of element in 'array_list': <class 'numpy.int32'>\n",
      "Data type of element in 'array_list': <class 'numpy.int32'>\n",
      "Data type of element in 'array_list': <class 'numpy.int32'>\n"
     ]
    }
   ],
   "source": [
    "for i in array_list:\n",
    "    print(\"Data type of element in 'array_list':\", type(i))"
   ]
  },
  {
   "cell_type": "markdown",
   "id": "4ff0d8dd",
   "metadata": {},
   "source": [
    "# Q4. Write a code to find the following characteristics of variable, num_array:\n",
    "# (i) shape\n",
    "# (ii) size"
   ]
  },
  {
   "cell_type": "code",
   "execution_count": 51,
   "id": "3cb1329b",
   "metadata": {},
   "outputs": [],
   "source": [
    "num_list = [ [ 1 , 2 , 3 ] , [ 4 , 5 , 6 ] ]\n",
    "num_array = np.array(object = num_list)"
   ]
  },
  {
   "cell_type": "code",
   "execution_count": 56,
   "id": "8ba06570",
   "metadata": {},
   "outputs": [
    {
     "data": {
      "text/plain": [
       "(2, 3)"
      ]
     },
     "execution_count": 56,
     "metadata": {},
     "output_type": "execute_result"
    }
   ],
   "source": [
    "shape =num_array.shape\n",
    "shape"
   ]
  },
  {
   "cell_type": "code",
   "execution_count": 57,
   "id": "1b4e614c",
   "metadata": {},
   "outputs": [
    {
     "data": {
      "text/plain": [
       "6"
      ]
     },
     "execution_count": 57,
     "metadata": {},
     "output_type": "execute_result"
    }
   ],
   "source": [
    "size =num_array.size\n",
    "size"
   ]
  },
  {
   "cell_type": "markdown",
   "id": "791f5d4c",
   "metadata": {},
   "source": [
    "# Q5. Write a code to create numpy array of 3*3 matrix containing zeros only, using a numpy array creation function."
   ]
  },
  {
   "cell_type": "code",
   "execution_count": 59,
   "id": "6e99ec69",
   "metadata": {},
   "outputs": [
    {
     "data": {
      "text/plain": [
       "array([[0., 0., 0.],\n",
       "       [0., 0., 0.],\n",
       "       [0., 0., 0.]])"
      ]
     },
     "execution_count": 59,
     "metadata": {},
     "output_type": "execute_result"
    }
   ],
   "source": [
    "mm=np.zeros((3,3))\n",
    "mm"
   ]
  },
  {
   "cell_type": "markdown",
   "id": "249dfb66",
   "metadata": {},
   "source": [
    "# Q6. Create an identity matrix of shape (5,5) using numpy functions?\n",
    "[Hint: An identity matrix is a matrix containing 1 diagonally and other elements will be 0.]"
   ]
  },
  {
   "cell_type": "code",
   "execution_count": 60,
   "id": "9f221ad0",
   "metadata": {},
   "outputs": [
    {
     "data": {
      "text/plain": [
       "array([[1., 0., 0., 0., 0.],\n",
       "       [0., 1., 0., 0., 0.],\n",
       "       [0., 0., 1., 0., 0.],\n",
       "       [0., 0., 0., 1., 0.],\n",
       "       [0., 0., 0., 0., 1.]])"
      ]
     },
     "execution_count": 60,
     "metadata": {},
     "output_type": "execute_result"
    }
   ],
   "source": [
    "ii=np.eye(5)\n",
    "ii"
   ]
  },
  {
   "cell_type": "code",
   "execution_count": null,
   "id": "cc5f1b0f",
   "metadata": {},
   "outputs": [],
   "source": []
  }
 ],
 "metadata": {
  "kernelspec": {
   "display_name": "Python 3 (ipykernel)",
   "language": "python",
   "name": "python3"
  },
  "language_info": {
   "codemirror_mode": {
    "name": "ipython",
    "version": 3
   },
   "file_extension": ".py",
   "mimetype": "text/x-python",
   "name": "python",
   "nbconvert_exporter": "python",
   "pygments_lexer": "ipython3",
   "version": "3.9.7"
  }
 },
 "nbformat": 4,
 "nbformat_minor": 5
}
