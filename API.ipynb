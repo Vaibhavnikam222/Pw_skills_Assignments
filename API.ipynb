{
 "cells": [
  {
   "cell_type": "markdown",
   "id": "530c66e3",
   "metadata": {},
   "source": [
    "# Q1. What is an API? Give an example, where an API is used in real life."
   ]
  },
  {
   "cell_type": "markdown",
   "id": "05e9268c",
   "metadata": {},
   "source": [
    "API is a set of rules and protocols that allows different software applications to communicate with each other. It defines how different components of software should interact, specifying the methods and data structures that developers can use to request and exchange information between applications or services.\n",
    "\n",
    "**EXAMPLE-**\n",
    "**Google Maps API-**\n",
    "\n",
    "In travel website, interactive maps are provided to help users to visualize routes and points of interest. Instead of creating their own mapping system from scratch, they use the Google Maps API."
   ]
  },
  {
   "cell_type": "markdown",
   "id": "18148995",
   "metadata": {},
   "source": [
    "# Q2. Give advantages and disadvantages of using API."
   ]
  },
  {
   "cell_type": "markdown",
   "id": "fbf53246",
   "metadata": {},
   "source": [
    "**ADAVNTAGES-**\n",
    "\n",
    "1.Time and Cost Savings:-\n",
    "By using existing APIs, developers can save time and resources that would have been required to develop complex functionalities from scratch.\n",
    "\n",
    "2.Rapid Development:- API provide a shortcut to integrating complex services or features, which helps developers to focus on the unique aspects of their application and accelerate development.\n",
    "\n",
    "3.Interoperation: APIs facilitate communication and interoperability between different software systems. It allows disparate systems to work together seamlessly.\n",
    "\n",
    "4.Scalability: Many APIs are built on highly scalable infrastructure, ensuring that application can handle increased user loads without major architectural changes.\n",
    "\n",
    "5.Reusability:APIs allow reusability of code. This speeds up development and reduces the need to reinvent the wheel for common functionalities.\n",
    "\n",
    "**DISADVANTAGES-**\n",
    "\n",
    "1.It increases dependence on third parties.\n",
    "\n",
    "2.It raises concerns about data privacy and security.\n",
    "\n",
    "3.Changes made by the API provider could impact our application.\n",
    "\n",
    "4.Some APIs have associated costs based on usage, volume, or features. \n",
    "\n",
    "5.When we use external APIs, we have limited control over their behavior, features, and updates. Changes made by the API provider could impact our application."
   ]
  },
  {
   "cell_type": "markdown",
   "id": "0ce564fb",
   "metadata": {},
   "source": [
    "# Q3. What is a Web API? Differentiate between API and Web API."
   ]
  },
  {
   "cell_type": "markdown",
   "id": "b7c181c7",
   "metadata": {},
   "source": [
    "A Web API is a type of API that is designed to do communication and interaction between different software applications over the internet. Web APIs allow applications to request and exchange data or perform specific actions with remote servers or services through standardized protocols, often using HTTP as the underlying communication protocol.\n",
    "\n",
    "Web APIs enable developers to build applications that can leverage the functionality and data of other services without needing to understand the internal workings of those services. They provide a way for different software systems, whether they are on different servers or platforms, to communicate and collaborate easily.\n",
    "\n",
    "**Difference between API and Web API-**\n",
    "1.Transport Format:\n",
    "\n",
    "API: The format of data exchange can vary based on the API's design and implementation.\n",
    "\n",
    "Web API: Web APIs use standardized data formats such as JSON or XML for data exchange.\n",
    "\n",
    "2.Usage Scenario:\n",
    "\n",
    "API: APIs can be used for both local and remote communication between software components.\n",
    "\n",
    "Web API: Web APIs are used primarily for remote communication over the internet.\n",
    "\n",
    "3.Accessibility:\n",
    "\n",
    "API: APIs can be used for communication between applications running on the same machine or within the same network.\n",
    "\n",
    "Web API: Web APIs are accessible over the internet and allow communication between applications on different machines, platforms, or even geographical locations.\n",
    "\n",
    "4.Communication Protocol:\n",
    "\n",
    "API: APIs can use various communication methods, including local function calls, libraries, and protocols beyond HTTP.\n",
    "\n",
    "Web API: Web APIs are specifically designed to work over the internet and primarily use HTTP as the communication protocol.\n",
    "\n",
    "5.All Web APIs are APIs, not all APIs are Web APIs."
   ]
  },
  {
   "cell_type": "markdown",
   "id": "f3a6fe69",
   "metadata": {},
   "source": [
    "# Q4. Explain REST and SOAP Architecture. Mention shortcomings of SOAP."
   ]
  },
  {
   "cell_type": "markdown",
   "id": "74de3483",
   "metadata": {},
   "source": [
    "**REST:-**\n",
    "\n",
    "REST is an architectural style and set of constraints for designing networked applications. It emphasizes a stateless client-server interaction where resources are identified by URLs and the communication between clients and servers is achieved using standard HTTP methods like GET, POST, PUT, and DELETE. \n",
    "\n",
    "REST aims to provide a scalable and simple way to design web services.\n",
    "\n",
    "**principles of REST-**\n",
    "\n",
    "1.Statelessness: Each client request to the server must contain all the information needed to process the request. The server does not store any client state between requests.\n",
    "\n",
    "2.Resource-Oriented: Resources are identified by URLs, and the actions performed on these resources are determined by HTTP methods.\n",
    "\n",
    "3.Uniform Interface: REST enforces a uniform interface for interaction between clients and servers. This includes the use of standard HTTP methods and status codes.\n",
    "\n",
    "4.Cachable: Responses from the server can be cached, improving performance and reducing the need for redundant requests.\n",
    "\n",
    "5.Layered System: Clients interact with intermediaries (such as proxies) without needing to know the underlying structure.\n",
    "\n",
    "**SOAP-**\n",
    "\n",
    "SOAP is a protocol for exchanging structured information in the implementation of web services. Unlike REST, which is an architectural style, SOAP is a protocol with a set of rules governing message structure and communication. SOAP messages are typically encoded using XML and can be transported over various protocols, including HTTP, SMTP, and more.\n",
    "\n",
    "**principles of SOAP-**\n",
    "\n",
    "1.Message Format: SOAP messages are XML-based and have a well-defined structure that includes an envelope, header, and body.\n",
    "\n",
    "2.Remote Procedure Calls: SOAP enables remote procedure calls (RPc) between applications, allowing them to invoke methods on remote systems.\n",
    "\n",
    "3.Built-in Security: SOAP provides built-in security mechanisms. It includes authentication and encryption.\n",
    "\n",
    "4.Complex Data Types: SOAP supports complex data types, making it suitable for more elaborate scenarios where data structures are intricate.\n",
    "\n",
    "5.Transport Independence: SOAP messages can be sent over multiple transport protocols, not limited to HTTP.\n",
    "\n",
    "**Shortcomings of SOAP-**\n",
    "\n",
    "1.Complexity: SOAP messages are larger and more complex due to the XML structure and additional standards, leading to increased overhead in terms of processing and bandwidth usage.\n",
    "\n",
    "2.Performance: Due to its complexity, SOAP is generally slower in terms of processing and data transfer compared to REST.\n",
    "\n",
    "3.Limited Browser Support: SOAP services are not as easily consumed by web browsers as REST services, as they may require additional client-side libraries.\n",
    "\n",
    "4.Human-Readability: SOAP's XML format is less human-readable than the JSON format often used in REST, making debugging and development more challenging.\n",
    "\n",
    "5.Strictness: SOAP services required a strict adherence to defined standards, which can limit flexibility and make development and integration more rigid.\n",
    "\n",
    "6.Overhead: The additional security and transactional features of SOAP may not be necessary for all applications, leading to unnecessary overhead."
   ]
  },
  {
   "cell_type": "markdown",
   "id": "3ef410a3",
   "metadata": {},
   "source": [
    "# Q5. Differentiate between REST and SOAP."
   ]
  },
  {
   "cell_type": "markdown",
   "id": "0062b168",
   "metadata": {},
   "source": [
    "**1. Communication Protocol:**\n",
    "\n",
    "REST: Relies on HTTP methods (GET, POST, PUT, DELETE) for communication. Typically uses URLs to represent resources and performs actions on them using these methods.\n",
    "\n",
    "SOAP: Utilizes its own protocol and can be transported over various protocols like HTTP, SMTP, TCP, etc.\n",
    "    \n",
    "**2. Message Format:**\n",
    "\n",
    "REST: Generally uses lightweight and human-readable formats like JSON or XML for data exchange.\n",
    "\n",
    "SOAP: Uses XML as the message format, which is both human-readable and machine-readable but more verbose than JSON.\n",
    "    \n",
    "**3. Complexity:**\n",
    "\n",
    "REST:It is easier to understand and implement.\n",
    "\n",
    "SOAP:It is complex because of standards for security, transactions.\n",
    "    \n",
    "**4. Statefulness:**\n",
    "\n",
    "REST: Primarily stateless; each request from the client to the server must contain all necessary information.\n",
    "\n",
    "SOAP: Can maintain conversational state between the client and server, making it more suitable for transactional scenarios.\n",
    "    \n",
    "**5. Standards:**\n",
    "\n",
    "REST: Follows a set of principles and constraints, but doesn't enforce strict standards.\n",
    "\n",
    "SOAP: Has well-defined standards for security, reliability, and other features.\n",
    "\n",
    "**6. Performance:**\n",
    "\n",
    "REST: Generally offers better performance due to its lightweight nature and simpler message formats.\n",
    "\n",
    "SOAP: Tends to have higher processing overhead and larger message sizes, leading to slower performance in comparison.\n",
    "\n",
    "**7. Browser Compatibility:**\n",
    "\n",
    "REST: Easily consumable by web browsers and can be directly accessed through URLs\n",
    ".\n",
    "SOAP: Less browser-friendly and often requires additional client-side libraries for integration.\n",
    "    \n",
    "**8. Uses:**\n",
    "\n",
    "REST:  web and mobile applications.\n",
    "\n",
    "SOAP: More appropriate for situations requiring advanced security, transactions, and reliability, such as enterprise-level integrations.\n",
    "\n",
    "**9. Flexibility:**\n",
    "\n",
    "REST: Provides more flexibility due to its simple structure, making it adaptable to changing requirements.\n",
    "\n",
    "SOAP:It enforces strict adherence to defined standards, which can make it less flexible."
   ]
  },
  {
   "cell_type": "code",
   "execution_count": null,
   "id": "bc1e56db",
   "metadata": {},
   "outputs": [],
   "source": []
  }
 ],
 "metadata": {
  "kernelspec": {
   "display_name": "Python 3 (ipykernel)",
   "language": "python",
   "name": "python3"
  },
  "language_info": {
   "codemirror_mode": {
    "name": "ipython",
    "version": 3
   },
   "file_extension": ".py",
   "mimetype": "text/x-python",
   "name": "python",
   "nbconvert_exporter": "python",
   "pygments_lexer": "ipython3",
   "version": "3.9.7"
  }
 },
 "nbformat": 4,
 "nbformat_minor": 5
}
