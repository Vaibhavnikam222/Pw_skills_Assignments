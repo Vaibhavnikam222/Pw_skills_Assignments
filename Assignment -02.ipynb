{
 "cells": [
  {
   "cell_type": "markdown",
   "id": "33d78b4a",
   "metadata": {},
   "source": [
    "# Q1. How do you comment code in Python? What are the different types of comments?"
   ]
  },
  {
   "cell_type": "markdown",
   "id": "4d7243b7",
   "metadata": {},
   "source": [
    "By adding comments to our code to provide explanations or notes that are not executed as part of the program.\n",
    "\n",
    "**1.Single-line comments:** To add comments in Python, we can use the hash symbol (#)."
   ]
  },
  {
   "cell_type": "code",
   "execution_count": 1,
   "id": "bfc330fd",
   "metadata": {
    "scrolled": true
   },
   "outputs": [
    {
     "name": "stdout",
     "output_type": "stream",
     "text": [
      "Hello, World!\n"
     ]
    }
   ],
   "source": [
    "# We can add Comment by using #\n",
    "# The part front of # can not be executed and treat as a extra part that can not be Run.\n",
    "print(\"Hello, World!\") "
   ]
  },
  {
   "cell_type": "markdown",
   "id": "8b07494a",
   "metadata": {},
   "source": [
    "**2.Multi-line comments:** We can also add comment in python by using tripple quotes "
   ]
  },
  {
   "cell_type": "code",
   "execution_count": 2,
   "id": "5c3d98a7",
   "metadata": {},
   "outputs": [
    {
     "name": "stdout",
     "output_type": "stream",
     "text": [
      "Hello, World2!!\n"
     ]
    }
   ],
   "source": [
    "\"\"\" In this we are going to do \n",
    "add a multi statemet or multi line comment\"\"\"\n",
    "print(\"Hello, World2!!\") "
   ]
  },
  {
   "cell_type": "markdown",
   "id": "14fb74b0",
   "metadata": {},
   "source": [
    "# Q2. What are variables in Python? How do you declare and assign values to variables?"
   ]
  },
  {
   "cell_type": "markdown",
   "id": "d9346a52",
   "metadata": {},
   "source": [
    "Variables are used to store Data and also Variable is essentially a name that represents a memory location where a value is stored.\n",
    "\n",
    "To declare and assign values to variables in Python **Assignment operator (=)** is used."
   ]
  },
  {
   "cell_type": "code",
   "execution_count": 4,
   "id": "279b0396",
   "metadata": {},
   "outputs": [],
   "source": [
    "f= [\"apple\", \"banana\", \"cherry\"]"
   ]
  },
  {
   "cell_type": "code",
   "execution_count": 6,
   "id": "aec2398c",
   "metadata": {},
   "outputs": [
    {
     "data": {
      "text/plain": [
       "['apple', 'banana', 'cherry']"
      ]
     },
     "execution_count": 6,
     "metadata": {},
     "output_type": "execute_result"
    }
   ],
   "source": [
    "f"
   ]
  },
  {
   "cell_type": "markdown",
   "id": "28295cec",
   "metadata": {},
   "source": [
    " # Q3. How do you convert one data type to another in Python?"
   ]
  },
  {
   "cell_type": "markdown",
   "id": "70ab7a37",
   "metadata": {},
   "source": [
    "We can covert one data type in another data type by using method of type covnvesion \n",
    "1. int(): Converts a value to an integer.\n",
    "2. float (): Converts a value to a floating-point number.\n",
    "3. str(): Converts a value to a string.\n",
    "4. bool(): Converts a value to a boolean.\n"
   ]
  },
  {
   "cell_type": "code",
   "execution_count": 7,
   "id": "e36aad17",
   "metadata": {},
   "outputs": [],
   "source": [
    "a =3.14"
   ]
  },
  {
   "cell_type": "code",
   "execution_count": 8,
   "id": "4f6aac34",
   "metadata": {},
   "outputs": [
    {
     "data": {
      "text/plain": [
       "3.14"
      ]
     },
     "execution_count": 8,
     "metadata": {},
     "output_type": "execute_result"
    }
   ],
   "source": [
    "a"
   ]
  },
  {
   "cell_type": "code",
   "execution_count": 9,
   "id": "3112d1bb",
   "metadata": {},
   "outputs": [
    {
     "data": {
      "text/plain": [
       "float"
      ]
     },
     "execution_count": 9,
     "metadata": {},
     "output_type": "execute_result"
    }
   ],
   "source": [
    "type(a)"
   ]
  },
  {
   "cell_type": "code",
   "execution_count": 10,
   "id": "46ed3734",
   "metadata": {},
   "outputs": [],
   "source": [
    "s=str(a)"
   ]
  },
  {
   "cell_type": "code",
   "execution_count": 11,
   "id": "fab6fcbb",
   "metadata": {},
   "outputs": [
    {
     "data": {
      "text/plain": [
       "'3.14'"
      ]
     },
     "execution_count": 11,
     "metadata": {},
     "output_type": "execute_result"
    }
   ],
   "source": [
    "s"
   ]
  },
  {
   "cell_type": "code",
   "execution_count": 12,
   "id": "c7908036",
   "metadata": {},
   "outputs": [
    {
     "data": {
      "text/plain": [
       "str"
      ]
     },
     "execution_count": 12,
     "metadata": {},
     "output_type": "execute_result"
    }
   ],
   "source": [
    "type(s)"
   ]
  },
  {
   "cell_type": "markdown",
   "id": "8b42dc33",
   "metadata": {},
   "source": [
    "# Q4. How do you write and execute a Python script from the command line"
   ]
  },
  {
   "cell_type": "markdown",
   "id": "fcecb611",
   "metadata": {
    "scrolled": true
   },
   "source": [
    "**steps to create and run a Python script from the command line:**"
   ]
  },
  {
   "cell_type": "markdown",
   "id": "895d27b5",
   "metadata": {},
   "source": [
    "1. Create a Python Script:\n",
    "\n",
    "Open a text editor (e.g., Notepad, Visual Studio Code, Sublime Text) and create a new file with a .py extension. For example,  script.py.\n",
    "\n",
    "2. Add the Python code to this file.\n",
    "\n",
    "3. Save the script file in a directory of our choice.\n",
    "\n",
    "4. On Windows: we can open Command Prompt by searching for \"cmd\" in the Start menu or using the \"Run\" dialog (Windows key + R) and typing \"cmd.\"\n",
    "\n",
    "5. Use the **cd** (change directory) command to navigate to the directory where you saved your Python script. \n",
    "For example:cd C:\\Users\\SAMPADA\\\n",
    "\n",
    "6. Run the Python Script:\n",
    "To execute the Python script, simply type python followed by the script's filename (including the .py extension) and press Enter\n",
    "\n",
    "7. Run the Python Script:\n",
    "To execute the Python script, simply type python followed by the script's filename (including the .py extension) and press Enter\n",
    "\n",
    "python script.py\n",
    "\n",
    "8. View the Output:\n",
    "\n",
    "The script will run, and output will be generated in the terminal. In the example script, \"Myyyy\" will be printed to the console."
   ]
  },
  {
   "cell_type": "code",
   "execution_count": 24,
   "id": "25ff75ce",
   "metadata": {},
   "outputs": [
    {
     "name": "stdout",
     "output_type": "stream",
     "text": [
      "C:\\Users\\SAMPADA\n"
     ]
    }
   ],
   "source": [
    "cd C:\\Users\\SAMPADA\\"
   ]
  },
  {
   "cell_type": "code",
   "execution_count": null,
   "id": "a49f4462",
   "metadata": {},
   "outputs": [],
   "source": []
  },
  {
   "cell_type": "markdown",
   "id": "aed1c29e",
   "metadata": {},
   "source": [
    "# Q5. Given a list my_list = [1, 2, 3, 4, 5], write the code to slice the list and obtain the sub-list [2, 3]"
   ]
  },
  {
   "cell_type": "code",
   "execution_count": 26,
   "id": "dae3f860",
   "metadata": {},
   "outputs": [],
   "source": [
    "my_list = [1, 2, 3, 4, 5]"
   ]
  },
  {
   "cell_type": "code",
   "execution_count": 27,
   "id": "cc94ccc1",
   "metadata": {},
   "outputs": [
    {
     "data": {
      "text/plain": [
       "[1, 2, 3, 4, 5]"
      ]
     },
     "execution_count": 27,
     "metadata": {},
     "output_type": "execute_result"
    }
   ],
   "source": [
    "my_list"
   ]
  },
  {
   "cell_type": "code",
   "execution_count": 28,
   "id": "97e65704",
   "metadata": {},
   "outputs": [
    {
     "data": {
      "text/plain": [
       "[2, 3]"
      ]
     },
     "execution_count": 28,
     "metadata": {},
     "output_type": "execute_result"
    }
   ],
   "source": [
    "sub_list =my_list[1:3]\n",
    "sub_list"
   ]
  },
  {
   "cell_type": "markdown",
   "id": "5c54bd0f",
   "metadata": {},
   "source": [
    "# Q6. What is a complex number in mathematics, and how is it represented in Python?"
   ]
  },
  {
   "cell_type": "markdown",
   "id": "e076631e",
   "metadata": {},
   "source": [
    "In mathematics, a complex number is a number that can be expressed in the form a + bi, where:\n",
    "\n",
    "1. a is the real part of the complex number.\n",
    "2. b is the imaginary part of the complex number.\n",
    "3. i is the imaginary unit, defined as the square root of -1."
   ]
  },
  {
   "cell_type": "markdown",
   "id": "a26550c9",
   "metadata": {},
   "source": [
    "In python it can  be denoted by a+bj"
   ]
  },
  {
   "cell_type": "markdown",
   "id": "5e9138bd",
   "metadata": {},
   "source": [
    "'i' is replaced by 'j' in python"
   ]
  },
  {
   "cell_type": "code",
   "execution_count": 29,
   "id": "da45013c",
   "metadata": {},
   "outputs": [],
   "source": [
    "a =3+4j"
   ]
  },
  {
   "cell_type": "code",
   "execution_count": 30,
   "id": "1ac4cc97",
   "metadata": {},
   "outputs": [
    {
     "data": {
      "text/plain": [
       "(3+4j)"
      ]
     },
     "execution_count": 30,
     "metadata": {},
     "output_type": "execute_result"
    }
   ],
   "source": [
    "a"
   ]
  },
  {
   "cell_type": "code",
   "execution_count": 31,
   "id": "34b9494a",
   "metadata": {},
   "outputs": [
    {
     "data": {
      "text/plain": [
       "complex"
      ]
     },
     "execution_count": 31,
     "metadata": {},
     "output_type": "execute_result"
    }
   ],
   "source": [
    "type(a)"
   ]
  },
  {
   "cell_type": "markdown",
   "id": "f827825c",
   "metadata": {},
   "source": [
    "# Q7. What is the correct way to declare a variable named age and assign the value 25 to it"
   ]
  },
  {
   "cell_type": "code",
   "execution_count": 35,
   "id": "6008d522",
   "metadata": {},
   "outputs": [],
   "source": [
    "age = 25"
   ]
  },
  {
   "cell_type": "code",
   "execution_count": 36,
   "id": "93f1b33c",
   "metadata": {},
   "outputs": [
    {
     "data": {
      "text/plain": [
       "25"
      ]
     },
     "execution_count": 36,
     "metadata": {},
     "output_type": "execute_result"
    }
   ],
   "source": [
    "age"
   ]
  },
  {
   "cell_type": "markdown",
   "id": "0a530386",
   "metadata": {},
   "source": [
    "# Q8. Declare a variable named price and assign the value 9.99 to it. What data type does this variable  belong to?"
   ]
  },
  {
   "cell_type": "code",
   "execution_count": 42,
   "id": "d6987c3c",
   "metadata": {},
   "outputs": [],
   "source": [
    "price = 9.99          "
   ]
  },
  {
   "cell_type": "code",
   "execution_count": 43,
   "id": "429d27bb",
   "metadata": {},
   "outputs": [
    {
     "data": {
      "text/plain": [
       "9.99"
      ]
     },
     "execution_count": 43,
     "metadata": {},
     "output_type": "execute_result"
    }
   ],
   "source": [
    "price"
   ]
  },
  {
   "cell_type": "code",
   "execution_count": 44,
   "id": "cb0dafbc",
   "metadata": {},
   "outputs": [
    {
     "data": {
      "text/plain": [
       "float"
      ]
     },
     "execution_count": 44,
     "metadata": {},
     "output_type": "execute_result"
    }
   ],
   "source": [
    "type(price)"
   ]
  },
  {
   "cell_type": "markdown",
   "id": "97b4791e",
   "metadata": {},
   "source": [
    "# Q.9 Create a variable named name and assign your full name to it as a string. How would you print the  value of this variable"
   ]
  },
  {
   "cell_type": "code",
   "execution_count": 39,
   "id": "2b5e0f5c",
   "metadata": {},
   "outputs": [],
   "source": [
    "name = \"VAIBHAV SANJAY NIKAM\""
   ]
  },
  {
   "cell_type": "code",
   "execution_count": 40,
   "id": "5428abbd",
   "metadata": {},
   "outputs": [
    {
     "data": {
      "text/plain": [
       "'VAIBHAV SANJAY NIKAM'"
      ]
     },
     "execution_count": 40,
     "metadata": {},
     "output_type": "execute_result"
    }
   ],
   "source": [
    "name"
   ]
  },
  {
   "cell_type": "code",
   "execution_count": 41,
   "id": "515d9ae0",
   "metadata": {},
   "outputs": [
    {
     "data": {
      "text/plain": [
       "str"
      ]
     },
     "execution_count": 41,
     "metadata": {},
     "output_type": "execute_result"
    }
   ],
   "source": [
    "type(name)"
   ]
  },
  {
   "cell_type": "markdown",
   "id": "62f10b59",
   "metadata": {},
   "source": [
    " # Q10. Given the string \"Hello, World!\", extract the substring \"World\""
   ]
  },
  {
   "cell_type": "code",
   "execution_count": 32,
   "id": "ecb70a83",
   "metadata": {},
   "outputs": [],
   "source": [
    "z = \"Hello World\""
   ]
  },
  {
   "cell_type": "code",
   "execution_count": 33,
   "id": "9086d17e",
   "metadata": {},
   "outputs": [],
   "source": [
    "y =z[6:11]"
   ]
  },
  {
   "cell_type": "code",
   "execution_count": 34,
   "id": "29d4e668",
   "metadata": {},
   "outputs": [
    {
     "data": {
      "text/plain": [
       "'World'"
      ]
     },
     "execution_count": 34,
     "metadata": {},
     "output_type": "execute_result"
    }
   ],
   "source": [
    "y"
   ]
  },
  {
   "cell_type": "markdown",
   "id": "a156ec32",
   "metadata": {},
   "source": [
    "# Q11. Create a variable named \"is_student\" and assign it a boolean value indicating whether you are  currently a student or not"
   ]
  },
  {
   "cell_type": "code",
   "execution_count": 45,
   "id": "99e23cdf",
   "metadata": {},
   "outputs": [
    {
     "name": "stdout",
     "output_type": "stream",
     "text": [
      "You are currently a student.\n"
     ]
    }
   ],
   "source": [
    "is_student = True  \n",
    "\n",
    "if is_student:\n",
    "    print(\"You are currently a student.\")\n",
    "else:\n",
    "    print(\"You are not a student.\")"
   ]
  },
  {
   "cell_type": "code",
   "execution_count": null,
   "id": "de24d250",
   "metadata": {},
   "outputs": [],
   "source": []
  }
 ],
 "metadata": {
  "kernelspec": {
   "display_name": "Python 3 (ipykernel)",
   "language": "python",
   "name": "python3"
  },
  "language_info": {
   "codemirror_mode": {
    "name": "ipython",
    "version": 3
   },
   "file_extension": ".py",
   "mimetype": "text/x-python",
   "name": "python",
   "nbconvert_exporter": "python",
   "pygments_lexer": "ipython3",
   "version": "3.9.7"
  }
 },
 "nbformat": 4,
 "nbformat_minor": 5
}
