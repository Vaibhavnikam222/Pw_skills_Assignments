{
 "cells": [
  {
   "cell_type": "markdown",
   "id": "2c14a701",
   "metadata": {},
   "source": [
    "**Q1. Explain Class and Object with respect to Object-Oriented Programming. Give a suitable example.**"
   ]
  },
  {
   "cell_type": "markdown",
   "id": "6a33ea2b",
   "metadata": {},
   "source": [
    "In OOPs, a class and an object are fundamental concepts that help organize and structure code.\n",
    "\n",
    "Class:\n",
    "A class is a blueprint or template that defines the structure and behavior of objects. It serves as a prototype for creating objects. A class defines the data members and methods that objects of that class will possess. It encapsulates the common properties and behaviors that multiple objects might share.\n",
    "\n",
    "Object:\n",
    "An object is an instance of a class. It is a concrete representation of a particular entity or concept defined by the class. Objects have their own values of attributes as defined by the class. They are used to interact with other objects, store and manipulate data, and perform actions based on the methods defined in the class"
   ]
  },
  {
   "cell_type": "code",
   "execution_count": 1,
   "id": "1648feef",
   "metadata": {},
   "outputs": [],
   "source": [
    "class car:\n",
    "    def __init__(self, make, model, year):\n",
    "        self.make = make\n",
    "        self.model = model\n",
    "        self.year = year\n",
    "        self.is_running = False\n",
    "    \n",
    "    def start(self):\n",
    "        self.is_running = True\n",
    "        print(\"Car is running.\")\n",
    "    \n",
    "    def stop(self):\n",
    "        self.is_running = False\n",
    "        print(\"Car has been stopped.\")"
   ]
  },
  {
   "cell_type": "code",
   "execution_count": 2,
   "id": "727a68a0",
   "metadata": {},
   "outputs": [],
   "source": [
    "car1 = car(\"nano\",\"8i\",2023)"
   ]
  },
  {
   "cell_type": "code",
   "execution_count": 3,
   "id": "6d8cdb0d",
   "metadata": {},
   "outputs": [
    {
     "name": "stdout",
     "output_type": "stream",
     "text": [
      "Car is running.\n"
     ]
    }
   ],
   "source": [
    "car1.start()"
   ]
  },
  {
   "cell_type": "markdown",
   "id": "7cbc6a6a",
   "metadata": {},
   "source": [
    "**Q2. Name the four pillars of OOPs.**"
   ]
  },
  {
   "cell_type": "markdown",
   "id": "5dc9e236",
   "metadata": {},
   "source": [
    "1. Abstraction\n",
    "2. Encapsulation\n",
    "3. Polymorphism\n",
    "4. Inheritance "
   ]
  },
  {
   "cell_type": "markdown",
   "id": "660cad07",
   "metadata": {},
   "source": [
    "**Q3. Explain why the __init__() function is used. Give a suitable example.**"
   ]
  },
  {
   "cell_type": "markdown",
   "id": "3f667361",
   "metadata": {},
   "source": [
    "The __init__() function is used in Python classes as a special method to initialize the attributes of an object when it is created. It is also known as the constructor method. The purpose of the __init__() method is to set initial values for the object's attributes, allowing you to provide the necessary information and state for an object as soon as it is instantiated.\n",
    "\n",
    "When an object is created from a class, the __init__() method is automatically called, and it can accept arguments that are used to set the initial values of the object's attributes."
   ]
  },
  {
   "cell_type": "code",
   "execution_count": 5,
   "id": "bd07fc59",
   "metadata": {},
   "outputs": [],
   "source": [
    "class Person:\n",
    "    def __init__(self, name, age):\n",
    "        self.name = name\n",
    "        self.age = age"
   ]
  },
  {
   "cell_type": "code",
   "execution_count": 6,
   "id": "8b1586f5",
   "metadata": {},
   "outputs": [
    {
     "name": "stdout",
     "output_type": "stream",
     "text": [
      "raj is 25 years old.\n"
     ]
    }
   ],
   "source": [
    "p1 = Person(\"raj\", 25)\n",
    "print(f\"{p1.name} is {p1.age} years old.\")"
   ]
  },
  {
   "cell_type": "markdown",
   "id": "776e45c5",
   "metadata": {},
   "source": [
    "**Q4. Why self is used in OOPs?**"
   ]
  },
  {
   "cell_type": "markdown",
   "id": "a270c2bb",
   "metadata": {},
   "source": [
    "In object-oriented programming (OOP), the self keyword is used to refer to the instance of the class within the class itself. It is a common convention in Python (and some other object-oriented languages) to use self as the first parameter in method definitions. The purpose of self is to allow methods to access and manipulate the attributes and methods of the object to which they belong. It helps in maintaining the separation and organization of data and behavior within an object."
   ]
  },
  {
   "cell_type": "markdown",
   "id": "5ab58268",
   "metadata": {},
   "source": [
    "We can also use anithing in place of self, it is not basically reserved keyword.\n",
    "but It is commonly used and for understanding perpose everyone use self"
   ]
  },
  {
   "cell_type": "code",
   "execution_count": 7,
   "id": "4c82be5c",
   "metadata": {},
   "outputs": [],
   "source": [
    "class student:\n",
    "    def __init__(self, name, age):\n",
    "        self.name = name\n",
    "        self.age = age\n",
    "\n",
    "    def school(self):\n",
    "        print(\"I sudy in PW SCHOOL\")"
   ]
  },
  {
   "cell_type": "code",
   "execution_count": 10,
   "id": "65f87656",
   "metadata": {},
   "outputs": [],
   "source": [
    "s1 = student(\"ram\",13)"
   ]
  },
  {
   "cell_type": "code",
   "execution_count": 11,
   "id": "a2409d4d",
   "metadata": {},
   "outputs": [
    {
     "name": "stdout",
     "output_type": "stream",
     "text": [
      "I sudy in PW SCHOOL\n"
     ]
    }
   ],
   "source": [
    "s1.school()"
   ]
  },
  {
   "cell_type": "markdown",
   "id": "97310505",
   "metadata": {},
   "source": [
    "**Q5. What is inheritance? Give an example for each type of inheritance.**"
   ]
  },
  {
   "cell_type": "markdown",
   "id": "e8e2736c",
   "metadata": {},
   "source": [
    "Inheritance :- \n",
    "It allows a new class to inherit attributes and methods from an existing class. The existing class is often referred to as the superclass or base class, and the new class is called the subclass or derived class. Inheritance facilitates code reuse, promotes modularity, and supports the establishment of a relationship between classes, where the subclass can extend or override the functionality of the superclass.\n",
    "\n",
    "There are basically Three types of Inheritance\n",
    "1. Single inheritance\n",
    "2. muliple inheritance\n",
    "3. multilevel inheritance"
   ]
  },
  {
   "cell_type": "code",
   "execution_count": 12,
   "id": "bb4fae2c",
   "metadata": {},
   "outputs": [],
   "source": [
    "# single inheritance\n",
    "class vehicle:\n",
    "    def __init__(self, brand, year):\n",
    "        self.brand = brand\n",
    "        self.year = year\n",
    "\n",
    "    def start_engine(self):\n",
    "        return \" engine started\"\n",
    "\n",
    "class Car(vehicle):\n",
    "    def __init__(self, brand, year, model):\n",
    "        super().__init__(brand, year)\n",
    "        self.model = model\n",
    "\n",
    "    def drive(self):\n",
    "        return ( self.year, self.brand, self.model)"
   ]
  },
  {
   "cell_type": "code",
   "execution_count": 13,
   "id": "0703c510",
   "metadata": {},
   "outputs": [],
   "source": [
    "v1 = vehicle(\"nano\",2008) "
   ]
  },
  {
   "cell_type": "code",
   "execution_count": 14,
   "id": "f443e3b3",
   "metadata": {},
   "outputs": [
    {
     "data": {
      "text/plain": [
       "' engine started'"
      ]
     },
     "execution_count": 14,
     "metadata": {},
     "output_type": "execute_result"
    }
   ],
   "source": [
    "v1.start_engine()"
   ]
  },
  {
   "cell_type": "code",
   "execution_count": 16,
   "id": "433ff80f",
   "metadata": {},
   "outputs": [],
   "source": [
    "#muliple inheritance\n",
    "class Father:\n",
    "    def skill1(self):\n",
    "        return \"Farming\"\n",
    "\n",
    "class Mother:\n",
    "    def skill2(self):\n",
    "        return \"Cooking\"\n",
    "\n",
    "class Child(Father, Mother):\n",
    "    pass"
   ]
  },
  {
   "cell_type": "code",
   "execution_count": 17,
   "id": "731ab177",
   "metadata": {},
   "outputs": [],
   "source": [
    "c1=Child()"
   ]
  },
  {
   "cell_type": "code",
   "execution_count": 18,
   "id": "14a94beb",
   "metadata": {},
   "outputs": [
    {
     "data": {
      "text/plain": [
       "'Farming'"
      ]
     },
     "execution_count": 18,
     "metadata": {},
     "output_type": "execute_result"
    }
   ],
   "source": [
    "c1.skill1()\n"
   ]
  },
  {
   "cell_type": "code",
   "execution_count": 19,
   "id": "d9c934fd",
   "metadata": {},
   "outputs": [
    {
     "data": {
      "text/plain": [
       "'Cooking'"
      ]
     },
     "execution_count": 19,
     "metadata": {},
     "output_type": "execute_result"
    }
   ],
   "source": [
    "c1.skill2()"
   ]
  },
  {
   "cell_type": "code",
   "execution_count": 21,
   "id": "8ae3fcfd",
   "metadata": {},
   "outputs": [],
   "source": [
    "#multilevel inheritance\n",
    "class Animal:\n",
    "    def speak(self):\n",
    "        print(\"Animal speaks\")\n",
    "\n",
    "class Dog(Animal):\n",
    "    def bark(self):\n",
    "        print(\"Dog barks\")\n",
    "\n",
    "class Labrador(Dog):\n",
    "    def specific_bark(self):\n",
    "        print(\"Labrador barks loudly\")"
   ]
  },
  {
   "cell_type": "code",
   "execution_count": 22,
   "id": "99b2e38d",
   "metadata": {},
   "outputs": [],
   "source": [
    "labrador = Labrador()  "
   ]
  },
  {
   "cell_type": "code",
   "execution_count": 23,
   "id": "e2fb8490",
   "metadata": {},
   "outputs": [
    {
     "name": "stdout",
     "output_type": "stream",
     "text": [
      "Animal speaks\n"
     ]
    }
   ],
   "source": [
    "labrador.speak()          "
   ]
  },
  {
   "cell_type": "code",
   "execution_count": 24,
   "id": "4f50b23b",
   "metadata": {},
   "outputs": [
    {
     "name": "stdout",
     "output_type": "stream",
     "text": [
      "Labrador barks loudly\n"
     ]
    }
   ],
   "source": [
    "labrador.specific_bark()"
   ]
  },
  {
   "cell_type": "code",
   "execution_count": null,
   "id": "62341ee2",
   "metadata": {},
   "outputs": [],
   "source": []
  }
 ],
 "metadata": {
  "kernelspec": {
   "display_name": "Python 3 (ipykernel)",
   "language": "python",
   "name": "python3"
  },
  "language_info": {
   "codemirror_mode": {
    "name": "ipython",
    "version": 3
   },
   "file_extension": ".py",
   "mimetype": "text/x-python",
   "name": "python",
   "nbconvert_exporter": "python",
   "pygments_lexer": "ipython3",
   "version": "3.9.7"
  }
 },
 "nbformat": 4,
 "nbformat_minor": 5
}
