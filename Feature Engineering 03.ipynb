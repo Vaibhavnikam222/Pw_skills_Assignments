{
 "cells": [
  {
   "cell_type": "markdown",
   "id": "9365de18",
   "metadata": {},
   "source": [
    "# Q1. What is data encoding? How is it useful in data science?"
   ]
  },
  {
   "cell_type": "markdown",
   "id": "560571e2",
   "metadata": {},
   "source": [
    "Data encoding is the process of converting data from one format or representation into another format, typically for the purpose of storage, transmission, or processing by a computer or data analysis tool. It involves translating data into a standardized format that can be easily interpreted and manipulated by software or algorithms.\n",
    "\n",
    "### Usefulness:-\n",
    "1. Compatibility: Data encoding ensures data is compatible with tools, libraries, or algorithms. For instance, it can convert categorical data (e.g., \"red,\" \"green,\" \"blue\") into numerical values (e.g., 1, 2, 3) for mathematical operations.\n",
    "\n",
    "2. Normalization: Encoding normalizes data to a consistent scale. This is crucial when different features have different units, ensuring fair treatment in machine learning.\n",
    "\n",
    "3. Privacy and Security: Encoding conceals sensitive information while preserving analysis capabilities. Techniques like hashing and tokenization anonymize data.\n",
    "\n",
    "4. Reducing Dimensionality: Techniques like Principal Component Analysis (PCA) reduce the dimensionality of high-dimensional data, aiding visualization and machine learning.\n",
    "\n",
    "5. Feature Engineering: Encoding contributes to feature engineering by creating new features from existing data. For example, one-hot encoding converts categorical data into binary features.\n",
    "\n",
    "6. Text Processing: In natural language processing (NLP), text data is encoded into numerical vectors (word embeddings) for analysis.\n",
    "\n",
    "7. Time Series Analysis: Encoding timestamps and time-related data is essential for time series analysis and forecasting.\n",
    "\n",
    "8. Machine Learning Input: Machine learning models require structured data, making encoding necessary to prepare raw data for training and prediction.\n"
   ]
  },
  {
   "cell_type": "code",
   "execution_count": null,
   "id": "6d7dc42b",
   "metadata": {},
   "outputs": [],
   "source": []
  },
  {
   "cell_type": "markdown",
   "id": "0cb10c7a",
   "metadata": {},
   "source": [
    "# Q2. What is nominal encoding? Provide an example of how you would use it in a real-world scenario."
   ]
  },
  {
   "cell_type": "markdown",
   "id": "e3ebe599",
   "metadata": {},
   "source": [
    "Nominal encoding is a method used to represent categorical data as binary vectors. In this encoding, each category is transformed into a binary vector with one element set to 1 and all others set to 0. It's called \"nominal\" because it deals with unordered categories or labels without any inherent order or ranking. It is also known as one-hot encoding."
   ]
  },
  {
   "cell_type": "code",
   "execution_count": 29,
   "id": "91f55378",
   "metadata": {},
   "outputs": [],
   "source": [
    "from sklearn.preprocessing import OneHotEncoder\n",
    "import pandas as pd"
   ]
  },
  {
   "cell_type": "code",
   "execution_count": 30,
   "id": "b452142a",
   "metadata": {},
   "outputs": [
    {
     "data": {
      "text/html": [
       "<div>\n",
       "<style scoped>\n",
       "    .dataframe tbody tr th:only-of-type {\n",
       "        vertical-align: middle;\n",
       "    }\n",
       "\n",
       "    .dataframe tbody tr th {\n",
       "        vertical-align: top;\n",
       "    }\n",
       "\n",
       "    .dataframe thead th {\n",
       "        text-align: right;\n",
       "    }\n",
       "</style>\n",
       "<table border=\"1\" class=\"dataframe\">\n",
       "  <thead>\n",
       "    <tr style=\"text-align: right;\">\n",
       "      <th></th>\n",
       "      <th>Customer ID</th>\n",
       "      <th>Internet Service Type</th>\n",
       "    </tr>\n",
       "  </thead>\n",
       "  <tbody>\n",
       "    <tr>\n",
       "      <th>0</th>\n",
       "      <td>1</td>\n",
       "      <td>DSL</td>\n",
       "    </tr>\n",
       "    <tr>\n",
       "      <th>1</th>\n",
       "      <td>2</td>\n",
       "      <td>Fiber Optic</td>\n",
       "    </tr>\n",
       "    <tr>\n",
       "      <th>2</th>\n",
       "      <td>3</td>\n",
       "      <td>DSL</td>\n",
       "    </tr>\n",
       "    <tr>\n",
       "      <th>3</th>\n",
       "      <td>4</td>\n",
       "      <td>No Internet</td>\n",
       "    </tr>\n",
       "    <tr>\n",
       "      <th>4</th>\n",
       "      <td>5</td>\n",
       "      <td>Fiber Optic</td>\n",
       "    </tr>\n",
       "  </tbody>\n",
       "</table>\n",
       "</div>"
      ],
      "text/plain": [
       "   Customer ID Internet Service Type\n",
       "0            1                   DSL\n",
       "1            2           Fiber Optic\n",
       "2            3                   DSL\n",
       "3            4           No Internet\n",
       "4            5           Fiber Optic"
      ]
     },
     "execution_count": 30,
     "metadata": {},
     "output_type": "execute_result"
    }
   ],
   "source": [
    "data = {'Customer ID': [1, 2, 3, 4, 5],\n",
    "        'Internet Service Type': ['DSL', 'Fiber Optic', 'DSL', 'No Internet', 'Fiber Optic']}\n",
    "\n",
    "df = pd.DataFrame(data)\n",
    "df"
   ]
  },
  {
   "cell_type": "code",
   "execution_count": 31,
   "id": "42961ba0",
   "metadata": {},
   "outputs": [
    {
     "name": "stdout",
     "output_type": "stream",
     "text": [
      "   Customer ID  internet_DSL  internet_Fiber Optic  internet_No Internet\n",
      "0            1             1                     0                     0\n",
      "1            2             0                     1                     0\n",
      "2            3             1                     0                     0\n",
      "3            4             0                     0                     1\n",
      "4            5             0                     1                     0\n"
     ]
    }
   ],
   "source": [
    "encoded_df = pd.get_dummies(df, columns=['Internet Service Type'],prefix='internet')\n",
    "\n",
    "print(encoded_df)"
   ]
  },
  {
   "cell_type": "code",
   "execution_count": null,
   "id": "7624cb27",
   "metadata": {},
   "outputs": [],
   "source": []
  },
  {
   "cell_type": "markdown",
   "id": "ee616179",
   "metadata": {},
   "source": [
    "# Q3. In what situations is nominal encoding preferred over one-hot encoding? Provide a practical example."
   ]
  },
  {
   "cell_type": "code",
   "execution_count": 20,
   "id": "f1713d73",
   "metadata": {},
   "outputs": [
    {
     "data": {
      "text/html": [
       "<div>\n",
       "<style scoped>\n",
       "    .dataframe tbody tr th:only-of-type {\n",
       "        vertical-align: middle;\n",
       "    }\n",
       "\n",
       "    .dataframe tbody tr th {\n",
       "        vertical-align: top;\n",
       "    }\n",
       "\n",
       "    .dataframe thead th {\n",
       "        text-align: right;\n",
       "    }\n",
       "</style>\n",
       "<table border=\"1\" class=\"dataframe\">\n",
       "  <thead>\n",
       "    <tr style=\"text-align: right;\">\n",
       "      <th></th>\n",
       "      <th>Customer ID</th>\n",
       "      <th>Internet Service Type</th>\n",
       "    </tr>\n",
       "  </thead>\n",
       "  <tbody>\n",
       "    <tr>\n",
       "      <th>0</th>\n",
       "      <td>1</td>\n",
       "      <td>DSL</td>\n",
       "    </tr>\n",
       "    <tr>\n",
       "      <th>1</th>\n",
       "      <td>2</td>\n",
       "      <td>Fiber Optic</td>\n",
       "    </tr>\n",
       "    <tr>\n",
       "      <th>2</th>\n",
       "      <td>3</td>\n",
       "      <td>DSL</td>\n",
       "    </tr>\n",
       "    <tr>\n",
       "      <th>3</th>\n",
       "      <td>4</td>\n",
       "      <td>No Internet</td>\n",
       "    </tr>\n",
       "    <tr>\n",
       "      <th>4</th>\n",
       "      <td>5</td>\n",
       "      <td>Fiber Optic</td>\n",
       "    </tr>\n",
       "  </tbody>\n",
       "</table>\n",
       "</div>"
      ],
      "text/plain": [
       "   Customer ID Internet Service Type\n",
       "0            1                   DSL\n",
       "1            2           Fiber Optic\n",
       "2            3                   DSL\n",
       "3            4           No Internet\n",
       "4            5           Fiber Optic"
      ]
     },
     "execution_count": 20,
     "metadata": {},
     "output_type": "execute_result"
    }
   ],
   "source": [
    "df1 = pd.DataFrame(data)\n",
    "df1"
   ]
  },
  {
   "cell_type": "code",
   "execution_count": 23,
   "id": "8c22fa03",
   "metadata": {},
   "outputs": [
    {
     "name": "stdout",
     "output_type": "stream",
     "text": [
      "   Customer ID Internet Service Type  Customer ID  internet_DSL  \\\n",
      "0            1                   DSL            1             1   \n",
      "1            2           Fiber Optic            2             0   \n",
      "2            3                   DSL            3             1   \n",
      "3            4           No Internet            4             0   \n",
      "4            5           Fiber Optic            5             0   \n",
      "\n",
      "   internet_Fiber Optic  internet_No Internet  \n",
      "0                     0                     0  \n",
      "1                     1                     0  \n",
      "2                     0                     0  \n",
      "3                     0                     1  \n",
      "4                     1                     0  \n"
     ]
    }
   ],
   "source": [
    "# Initialize the OneHotEncoder\n",
    "encoder = OneHotEncoder(sparse=False)\n",
    "\n",
    "# Fit and transform the encoder on the categorical column\n",
    "encoded_data = encoder.fit_transform(df[['Internet Service Type']])\n",
    "\n",
    "# Create a DataFrame with the encoded data\n",
    "encoded_df1 = pd.DataFrame(encoded_data, columns=encoder.get_feature_names(['Internet Service Type']))\n",
    "\n",
    "# Concatenate the encoded DataFrame with the original DataFrame\n",
    "result_df1 = pd.concat([df1, encoded_df], axis=1)\n",
    "\n",
    "# Display the result\n",
    "print(result_df1)"
   ]
  },
  {
   "cell_type": "markdown",
   "id": "b570c5f9",
   "metadata": {},
   "source": [
    "# Q4. Suppose you have a dataset containing categorical data with 5 unique values. Which encoding technique would you use to transform this data into a format suitable for machine learning algorithms? Explain why you made this choice."
   ]
  },
  {
   "cell_type": "markdown",
   "id": "61eacf51",
   "metadata": {},
   "source": [
    "### If you have a dataset containing categorical data with 5 unique values, we can use either ordinal encoding or one-hot encoding to transform this data into a format suitable for machine learning algorithms.\n",
    "\n",
    "### If the categorical variable has a natural order or ranking, then we can opt for ordinal encoding. However, if the categorical variable lacks a natural order or ranking, we recommend using one-hot encoding.\n",
    "\n",
    "### In general, we prefer one-hot encoding over ordinal encoding because it does not assume any ordinal relationship between the categories and can be used for categorical variables with any number of unique values. However, it's important to be aware that one-hot encoding can lead to the curse of dimensionality if the number of unique values is very large.\n",
    "\n",
    "### Ordinal encoding is preferred when we encounter situations where the number of unique values is large, and using one-hot encoding could potentially lead to the curse of dimensionality.\n"
   ]
  },
  {
   "cell_type": "code",
   "execution_count": null,
   "id": "047d0114",
   "metadata": {},
   "outputs": [],
   "source": []
  },
  {
   "cell_type": "markdown",
   "id": "7faad7a7",
   "metadata": {},
   "source": [
    "# Q5. In a machine learning project, you have a dataset with 1000 rows and 5 columns. Two of the columns are categorical, and the remaining three columns are numerical. If you were to use nominal encoding to transform the categorical data, how many new columns would be created? Show your calculations."
   ]
  },
  {
   "cell_type": "markdown",
   "id": "e545aab1",
   "metadata": {},
   "source": [
    "When using nominal encoding (one-hot encoding) to transform categorical data, we create a new binary column for each unique category within each categorical column. The number of new columns created for each categorical column is equal to the number of **unique categories minus one.**\n",
    "\n",
    "First Categorical Column: Let's say this column has \"n\" unique categories. We create \"n-1\" new columns because the information from \"n-1\" columns is sufficient to represent all \"n\" categories (the last category is represented when all others are 0).\n",
    "\n",
    "Second Categorical Column: Similarly, for the second categorical column with \"m\" unique categories, we create \"m-1\" new columns.\n",
    "\n",
    " **total no. of= new columns= (n-1) + (m-1) **.\n",
    "\n",
    "\n",
    "Let's assume:\n",
    "\n",
    "The first categorical column has 4 unique categories (n1 = 4).\n",
    "The second categorical column has 3 unique categories (n2 = 3).\n",
    "The total number of new columns created would be:\n",
    "\n",
    "(n-1) + (m-1) = (4-1) + (3-1) = 3 + 2 \n",
    "\n",
    "                       =5 new column\n",
    "\n"
   ]
  },
  {
   "cell_type": "code",
   "execution_count": null,
   "id": "43fe062c",
   "metadata": {},
   "outputs": [],
   "source": []
  },
  {
   "cell_type": "markdown",
   "id": "cd0191ef",
   "metadata": {},
   "source": [
    "# Q6. You are working with a dataset containing information about different types of animals, including their species, habitat, and diet. Which encoding technique would you use to transform the categorical data into a format suitable for machine learning algorithms? Justify your answer."
   ]
  },
  {
   "cell_type": "markdown",
   "id": "6634fe74",
   "metadata": {},
   "source": [
    "### 1. It is observed that variables species , habitat and diet are NOMINAL features with no natural order or ranking.\n",
    "\n",
    "### 2. It does not assume any ordinal relationship among categories.\n",
    " \n",
    "### 3. If the categorical variable has no natural order or ranking, then one-hot encoding can be used.\n",
    "\n"
   ]
  },
  {
   "cell_type": "code",
   "execution_count": null,
   "id": "f9c00503",
   "metadata": {},
   "outputs": [],
   "source": []
  },
  {
   "cell_type": "markdown",
   "id": "baab2151",
   "metadata": {},
   "source": [
    "# Q7.You are working on a project that involves predicting customer churn for a telecommunications company. You have a dataset with 5 features, including the customer's gender, age, contract type, monthly charges, and tenure. Which encoding technique(s) would you use to transform the categorical data into numerical data? Provide a step-by-step explanation of how you would implement the encoding."
   ]
  },
  {
   "cell_type": "code",
   "execution_count": 27,
   "id": "b401a1af",
   "metadata": {},
   "outputs": [
    {
     "data": {
      "text/html": [
       "<div>\n",
       "<style scoped>\n",
       "    .dataframe tbody tr th:only-of-type {\n",
       "        vertical-align: middle;\n",
       "    }\n",
       "\n",
       "    .dataframe tbody tr th {\n",
       "        vertical-align: top;\n",
       "    }\n",
       "\n",
       "    .dataframe thead th {\n",
       "        text-align: right;\n",
       "    }\n",
       "</style>\n",
       "<table border=\"1\" class=\"dataframe\">\n",
       "  <thead>\n",
       "    <tr style=\"text-align: right;\">\n",
       "      <th></th>\n",
       "      <th>Gender</th>\n",
       "      <th>Contract Type</th>\n",
       "      <th>Monthly Charges</th>\n",
       "      <th>Tenure</th>\n",
       "    </tr>\n",
       "  </thead>\n",
       "  <tbody>\n",
       "    <tr>\n",
       "      <th>0</th>\n",
       "      <td>Male</td>\n",
       "      <td>Month-to-Month</td>\n",
       "      <td>65.5</td>\n",
       "      <td>12</td>\n",
       "    </tr>\n",
       "    <tr>\n",
       "      <th>1</th>\n",
       "      <td>Female</td>\n",
       "      <td>One Year</td>\n",
       "      <td>85.2</td>\n",
       "      <td>24</td>\n",
       "    </tr>\n",
       "    <tr>\n",
       "      <th>2</th>\n",
       "      <td>Male</td>\n",
       "      <td>Two Year</td>\n",
       "      <td>75.0</td>\n",
       "      <td>6</td>\n",
       "    </tr>\n",
       "    <tr>\n",
       "      <th>3</th>\n",
       "      <td>Female</td>\n",
       "      <td>Month-to-Month</td>\n",
       "      <td>68.3</td>\n",
       "      <td>18</td>\n",
       "    </tr>\n",
       "    <tr>\n",
       "      <th>4</th>\n",
       "      <td>Male</td>\n",
       "      <td>One Year</td>\n",
       "      <td>92.5</td>\n",
       "      <td>36</td>\n",
       "    </tr>\n",
       "  </tbody>\n",
       "</table>\n",
       "</div>"
      ],
      "text/plain": [
       "   Gender   Contract Type  Monthly Charges  Tenure\n",
       "0    Male  Month-to-Month             65.5      12\n",
       "1  Female        One Year             85.2      24\n",
       "2    Male        Two Year             75.0       6\n",
       "3  Female  Month-to-Month             68.3      18\n",
       "4    Male        One Year             92.5      36"
      ]
     },
     "execution_count": 27,
     "metadata": {},
     "output_type": "execute_result"
    }
   ],
   "source": [
    "import pandas as pd\n",
    "\n",
    "\n",
    "data = {\n",
    "    'Gender': ['Male', 'Female', 'Male', 'Female', 'Male'],\n",
    "    'Contract Type': ['Month-to-Month', 'One Year', 'Two Year', 'Month-to-Month', 'One Year'],\n",
    "    'Monthly Charges': [65.5, 85.2, 75.0, 68.3, 92.5],\n",
    "    'Tenure': [12, 24, 6, 18, 36]\n",
    "}\n",
    "\n",
    "\n",
    "df = pd.DataFrame(data)\n",
    "df"
   ]
  },
  {
   "cell_type": "code",
   "execution_count": 28,
   "id": "aa84f217",
   "metadata": {},
   "outputs": [
    {
     "name": "stdout",
     "output_type": "stream",
     "text": [
      "   Gender  Monthly Charges  Tenure  Contract_Month-to-Month  \\\n",
      "0       0             65.5      12                        1   \n",
      "1       1             85.2      24                        0   \n",
      "2       0             75.0       6                        0   \n",
      "3       1             68.3      18                        1   \n",
      "4       0             92.5      36                        0   \n",
      "\n",
      "   Contract_One Year  Contract_Two Year  \n",
      "0                  0                  0  \n",
      "1                  1                  0  \n",
      "2                  0                  1  \n",
      "3                  0                  0  \n",
      "4                  1                  0  \n"
     ]
    }
   ],
   "source": [
    "# Binary encoding for \"Gender\"\n",
    "df['Gender'] = df['Gender'].map({'Male': 0, 'Female': 1})\n",
    "\n",
    "# One-hot encoding for \"Contract Type\"\n",
    "df = pd.get_dummies(df, columns=['Contract Type'], prefix=['Contract'])\n",
    "\n",
    "\n",
    "print(df)"
   ]
  },
  {
   "cell_type": "code",
   "execution_count": null,
   "id": "60f9ee7d",
   "metadata": {},
   "outputs": [],
   "source": []
  },
  {
   "cell_type": "code",
   "execution_count": null,
   "id": "1242e54d",
   "metadata": {},
   "outputs": [],
   "source": []
  }
 ],
 "metadata": {
  "kernelspec": {
   "display_name": "Python 3 (ipykernel)",
   "language": "python",
   "name": "python3"
  },
  "language_info": {
   "codemirror_mode": {
    "name": "ipython",
    "version": 3
   },
   "file_extension": ".py",
   "mimetype": "text/x-python",
   "name": "python",
   "nbconvert_exporter": "python",
   "pygments_lexer": "ipython3",
   "version": "3.9.7"
  }
 },
 "nbformat": 4,
 "nbformat_minor": 5
}
