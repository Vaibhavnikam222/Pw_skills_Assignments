{
 "cells": [
  {
   "cell_type": "markdown",
   "id": "39d9b271",
   "metadata": {},
   "source": [
    "# Q1. Which keyword is used to create a function? Create a function to return a list of odd numbers in the range of 1 to 25."
   ]
  },
  {
   "cell_type": "markdown",
   "id": "be17d4a1",
   "metadata": {},
   "source": [
    "**The keyword used to create a function in Python is -\"def\". "
   ]
  },
  {
   "cell_type": "code",
   "execution_count": 13,
   "id": "bc7c196f",
   "metadata": {},
   "outputs": [
    {
     "name": "stdout",
     "output_type": "stream",
     "text": [
      "1 2 3 4 5 6 7 8 9 10 11 12 13 14 15 16 17 18 19 20 21 22 23 24 25 "
     ]
    }
   ],
   "source": [
    "p=range(1,26)\n",
    "for i in p:\n",
    "    print(i, end=' ')"
   ]
  },
  {
   "cell_type": "code",
   "execution_count": 54,
   "id": "f46fdac7",
   "metadata": {},
   "outputs": [
    {
     "name": "stdout",
     "output_type": "stream",
     "text": [
      "[1, 3, 5, 7, 9, 11, 13, 15, 17, 19, 21, 23, 25]\n"
     ]
    }
   ],
   "source": [
    "def find_odd_numbers():\n",
    "    odd_numbers = []\n",
    "    for number in range(1, 26):\n",
    "        if number % 2 != 0:\n",
    "            odd_numbers.append(number)\n",
    "    return odd_numbers\n",
    "odd_numbers_list = find_odd_numbers()\n",
    "print(odd_numbers_list)"
   ]
  },
  {
   "cell_type": "markdown",
   "id": "4b5f0e7b",
   "metadata": {},
   "source": [
    "# Q2. Why \"**args\"  and \"kwargs\" is used in some functions? Create a function each for \"**args\"  and \"kwargs \"to demonstrate their use."
   ]
  },
  {
   "cell_type": "markdown",
   "id": "3acf93a3",
   "metadata": {},
   "source": [
    "***args and **kwargs are used in function definitions- to allow a variable no. of arguments to be passed to a function. They are often used when we want to create flexible functions that can accept different numbers of arguments. **\n",
    "\n",
    "***args: This syntax allows to pass a variable number of non-keyword arguments to a function. It collects all the positional arguments into a tuple. We can use any name in place of args, but the * symbol is essential.**\n",
    "\n",
    "**kwargs: This syntax allows to pass a variable number of keyword arguments to a function. It collects all the keyword arguments into a dictionary. We can use any name in place of kwargs, but the ** symbol is essential.**"
   ]
  },
  {
   "cell_type": "code",
   "execution_count": 3,
   "id": "94667541",
   "metadata": {},
   "outputs": [],
   "source": [
    "def test01(*args):                             \n",
    "    return args "
   ]
  },
  {
   "cell_type": "code",
   "execution_count": 5,
   "id": "3235b103",
   "metadata": {},
   "outputs": [
    {
     "data": {
      "text/plain": [
       "('Raj', 2, 3, 4, 5, 'Ram', 'Akash', 'JiJi', True, False)"
      ]
     },
     "execution_count": 5,
     "metadata": {},
     "output_type": "execute_result"
    }
   ],
   "source": [
    "test02=test01(\"Raj\",2,3,4,5,\"Ram\",\"Akash\",\"JiJi\",4.)\n",
    "test02"
   ]
  },
  {
   "cell_type": "code",
   "execution_count": 53,
   "id": "63e7f118",
   "metadata": {},
   "outputs": [
    {
     "name": "stdout",
     "output_type": "stream",
     "text": [
      "name: Jethalal\n",
      "age: 30\n",
      "city: Gokuldham\n"
     ]
    }
   ],
   "source": [
    "def test03(**kwargs):\n",
    "    for key, value in kwargs.items():\n",
    "        print(f\"{key}: {value}\")\n",
    "        \n",
    "test04= test03(name=\"Jethalal\", age=30, city=\"Gokuldham\")"
   ]
  },
  {
   "cell_type": "code",
   "execution_count": null,
   "id": "bef1f866",
   "metadata": {},
   "outputs": [],
   "source": []
  },
  {
   "cell_type": "markdown",
   "id": "99f5fbb8",
   "metadata": {},
   "source": [
    "# Q3. What is an iterator in python? Name the method used to initialise the iterator object and the method used for iteration. Use these methods to print the first five elements of the given list [2, 4, 6, 8, 10, 12, 14, 16, 18, 20]."
   ]
  },
  {
   "cell_type": "markdown",
   "id": "e05ff3bb",
   "metadata": {},
   "source": [
    "In Python, an iterator is an object that implements the iterator protocol, which consists of the iter() and next() methods.\n",
    "These methods allow us to iterate over elements one at a time, providing a mechanism for custom iteration within our objects."
   ]
  },
  {
   "cell_type": "code",
   "execution_count": 30,
   "id": "89c47523",
   "metadata": {},
   "outputs": [
    {
     "name": "stdout",
     "output_type": "stream",
     "text": [
      "2\n",
      "4\n",
      "6\n",
      "8\n",
      "10\n"
     ]
    }
   ],
   "source": [
    "list1= [2, 4, 6, 8, 10, 12, 14, 16, 18, 20]\n",
    "\n",
    "list2 = iter(list1)\n",
    "\n",
    "for _ in range(5):\n",
    "        list3 = next(list2)\n",
    "        print(list3)\n"
   ]
  },
  {
   "cell_type": "markdown",
   "id": "6d87297d",
   "metadata": {},
   "source": [
    "# Q4. What is a generator function in python? Why yield keyword is used? Give an example of a generator function."
   ]
  },
  {
   "cell_type": "markdown",
   "id": "f80402f8",
   "metadata": {},
   "source": [
    "A generator function is type of function that allows us to iterate over a potentially large sequence of items without storing them all in memory at once. It generates values as we iterate through them, making it memory-efficient and suitable for working with large data sets.\n",
    "\n",
    "Generator functions are defined like regular functions but use the 'yield' keyword instead of 'return' to produce a value. When a generator function is called, it doesn't execute the function immediately but instead returns a generator object, which can be  use to iterate over the values."
   ]
  },
  {
   "cell_type": "code",
   "execution_count": 32,
   "id": "5ef1064b",
   "metadata": {},
   "outputs": [
    {
     "name": "stdout",
     "output_type": "stream",
     "text": [
      "64\n",
      "49\n",
      "36\n",
      "25\n",
      "16\n",
      "9\n"
     ]
    }
   ],
   "source": [
    "list = [8,7,6,5,4,3]\n",
    "\n",
    "def square(n):\n",
    "    for i in list:\n",
    "        yield i**2\n",
    "aaa=square(list)\n",
    "\n",
    "for i in aaa:\n",
    "    print(i)\n"
   ]
  },
  {
   "cell_type": "markdown",
   "id": "a7f9431e",
   "metadata": {},
   "source": [
    "# Q5. Create a generator function for prime numbers less than 1000. Use the next() method to print the first 20 prime numbers."
   ]
  },
  {
   "cell_type": "code",
   "execution_count": 35,
   "id": "13b1a6fa",
   "metadata": {},
   "outputs": [
    {
     "name": "stdout",
     "output_type": "stream",
     "text": [
      "2\n",
      "3\n",
      "5\n",
      "7\n",
      "11\n",
      "13\n",
      "17\n",
      "19\n",
      "23\n",
      "29\n",
      "31\n",
      "37\n",
      "41\n",
      "43\n",
      "47\n",
      "53\n",
      "59\n",
      "61\n",
      "67\n",
      "71\n"
     ]
    }
   ],
   "source": [
    "def prime_generator():\n",
    "    primes = []\n",
    "    num = 2\n",
    "    while True:\n",
    "        if all(num % prime != 0 for prime in primes):\n",
    "            primes.append(num)\n",
    "            yield num\n",
    "        num += 1\n",
    "my_generator = prime_generator()\n",
    "for _ in range(20):\n",
    "    prime = next(my_generator)\n",
    "    print(prime)\n"
   ]
  },
  {
   "cell_type": "markdown",
   "id": "d4eab7d2",
   "metadata": {},
   "source": [
    "# Q6. Write a python program to print the first 10 Fibonacci numbers using a while loop."
   ]
  },
  {
   "cell_type": "code",
   "execution_count": 36,
   "id": "539464e4",
   "metadata": {},
   "outputs": [
    {
     "name": "stdout",
     "output_type": "stream",
     "text": [
      "0\n",
      "1\n",
      "1\n",
      "2\n",
      "3\n",
      "5\n",
      "8\n",
      "13\n",
      "21\n",
      "34\n"
     ]
    }
   ],
   "source": [
    "def fibonacci(n):\n",
    "    fib_numbers = []\n",
    "    a, b = 0, 1\n",
    "    count = 0\n",
    "    while count < n:\n",
    "        fib_numbers.append(a)\n",
    "        a, b = b, a + b\n",
    "        count += 1\n",
    "    return fib_numbers\n",
    "\n",
    "fib_list = fibonacci(10)\n",
    "for num in fib_list:\n",
    "    print(num)\n"
   ]
  },
  {
   "cell_type": "markdown",
   "id": "70a90da4",
   "metadata": {},
   "source": [
    "# Q7. Write a List Comprehension to iterate through the given string: ‘pwskills’. Expected output: ['p', 'w', 's', 'k', 'i', 'l', 'l', 's']"
   ]
  },
  {
   "cell_type": "code",
   "execution_count": 26,
   "id": "3fd6245d",
   "metadata": {},
   "outputs": [],
   "source": [
    "s = \"pwskills\""
   ]
  },
  {
   "cell_type": "code",
   "execution_count": 32,
   "id": "b4d514fb",
   "metadata": {},
   "outputs": [
    {
     "data": {
      "text/plain": [
       "['p', 'w', 's', 'k', 'i', 'l', 'l', 's']"
      ]
     },
     "execution_count": 32,
     "metadata": {},
     "output_type": "execute_result"
    }
   ],
   "source": [
    "list(map(lambda s :s.lower(),s))"
   ]
  },
  {
   "cell_type": "markdown",
   "id": "555171cc",
   "metadata": {},
   "source": [
    "# Q8. Write a python program to check whether a given number is Palindrome or not using a while loop."
   ]
  },
  {
   "cell_type": "code",
   "execution_count": 51,
   "id": "150b85ff",
   "metadata": {},
   "outputs": [
    {
     "name": "stdout",
     "output_type": "stream",
     "text": [
      "Enter a number: 33\n",
      "33 is a palindrome.\n"
     ]
    }
   ],
   "source": [
    "def is_palindrome(number):\n",
    "    original_number = number\n",
    "    reversed_number = 0\n",
    "    \n",
    "    while number > 0:\n",
    "        digit = number % 10\n",
    "        reversed_number = reversed_number * 10 + digit\n",
    "        number = number // 10\n",
    "    \n",
    "    return original_number == reversed_number\n",
    "\n",
    "\n",
    "num = int(input(\"Enter a number: \"))\n",
    "\n",
    "if is_palindrome(num):\n",
    "    print(f\"{num} is a palindrome.\")\n",
    "else:\n",
    "    print(f\"{num} is not a palindrome.\")\n",
    "\n"
   ]
  },
  {
   "cell_type": "markdown",
   "id": "71db8a15",
   "metadata": {},
   "source": [
    "# Q9 . Write a code to print odd numbers from 1 to 100 using list comprehension."
   ]
  },
  {
   "cell_type": "code",
   "execution_count": 52,
   "id": "6849702a",
   "metadata": {},
   "outputs": [
    {
     "name": "stdout",
     "output_type": "stream",
     "text": [
      "[1, 3, 5, 7, 9, 11, 13, 15, 17, 19, 21, 23, 25, 27, 29, 31, 33, 35, 37, 39, 41, 43, 45, 47, 49, 51, 53, 55, 57, 59, 61, 63, 65, 67, 69, 71, 73, 75, 77, 79, 81, 83, 85, 87, 89, 91, 93, 95, 97, 99]\n"
     ]
    }
   ],
   "source": [
    "odd_numbers = [num for num in range(1, 101) if num % 2 != 0]\n",
    "print(odd_numbers)\n"
   ]
  },
  {
   "cell_type": "code",
   "execution_count": null,
   "id": "23021e3c",
   "metadata": {},
   "outputs": [],
   "source": []
  }
 ],
 "metadata": {
  "kernelspec": {
   "display_name": "Python 3 (ipykernel)",
   "language": "python",
   "name": "python3"
  },
  "language_info": {
   "codemirror_mode": {
    "name": "ipython",
    "version": 3
   },
   "file_extension": ".py",
   "mimetype": "text/x-python",
   "name": "python",
   "nbconvert_exporter": "python",
   "pygments_lexer": "ipython3",
   "version": "3.9.7"
  }
 },
 "nbformat": 4,
 "nbformat_minor": 5
}
