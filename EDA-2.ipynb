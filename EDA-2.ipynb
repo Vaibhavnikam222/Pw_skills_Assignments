{
 "cells": [
  {
   "cell_type": "markdown",
   "id": "c50f1041",
   "metadata": {},
   "source": [
    "# Q1. Load the flight price dataset and examine its dimensions. How many rows and columns does the dataset have?"
   ]
  },
  {
   "cell_type": "code",
   "execution_count": 5,
   "id": "423320c8",
   "metadata": {},
   "outputs": [
    {
     "data": {
      "text/html": [
       "<div>\n",
       "<style scoped>\n",
       "    .dataframe tbody tr th:only-of-type {\n",
       "        vertical-align: middle;\n",
       "    }\n",
       "\n",
       "    .dataframe tbody tr th {\n",
       "        vertical-align: top;\n",
       "    }\n",
       "\n",
       "    .dataframe thead th {\n",
       "        text-align: right;\n",
       "    }\n",
       "</style>\n",
       "<table border=\"1\" class=\"dataframe\">\n",
       "  <thead>\n",
       "    <tr style=\"text-align: right;\">\n",
       "      <th></th>\n",
       "      <th>Airline</th>\n",
       "      <th>Date_of_Journey</th>\n",
       "      <th>Source</th>\n",
       "      <th>Destination</th>\n",
       "      <th>Route</th>\n",
       "      <th>Dep_Time</th>\n",
       "      <th>Arrival_Time</th>\n",
       "      <th>Duration</th>\n",
       "      <th>Total_Stops</th>\n",
       "      <th>Additional_Info</th>\n",
       "      <th>Price</th>\n",
       "    </tr>\n",
       "  </thead>\n",
       "  <tbody>\n",
       "    <tr>\n",
       "      <th>0</th>\n",
       "      <td>IndiGo</td>\n",
       "      <td>24/03/2019</td>\n",
       "      <td>Banglore</td>\n",
       "      <td>New Delhi</td>\n",
       "      <td>BLR → DEL</td>\n",
       "      <td>22:20</td>\n",
       "      <td>01:10 22 Mar</td>\n",
       "      <td>2h 50m</td>\n",
       "      <td>non-stop</td>\n",
       "      <td>No info</td>\n",
       "      <td>3897</td>\n",
       "    </tr>\n",
       "    <tr>\n",
       "      <th>1</th>\n",
       "      <td>Air India</td>\n",
       "      <td>1/05/2019</td>\n",
       "      <td>Kolkata</td>\n",
       "      <td>Banglore</td>\n",
       "      <td>CCU → IXR → BBI → BLR</td>\n",
       "      <td>05:50</td>\n",
       "      <td>13:15</td>\n",
       "      <td>7h 25m</td>\n",
       "      <td>2 stops</td>\n",
       "      <td>No info</td>\n",
       "      <td>7662</td>\n",
       "    </tr>\n",
       "    <tr>\n",
       "      <th>2</th>\n",
       "      <td>Jet Airways</td>\n",
       "      <td>9/06/2019</td>\n",
       "      <td>Delhi</td>\n",
       "      <td>Cochin</td>\n",
       "      <td>DEL → LKO → BOM → COK</td>\n",
       "      <td>09:25</td>\n",
       "      <td>04:25 10 Jun</td>\n",
       "      <td>19h</td>\n",
       "      <td>2 stops</td>\n",
       "      <td>No info</td>\n",
       "      <td>13882</td>\n",
       "    </tr>\n",
       "    <tr>\n",
       "      <th>3</th>\n",
       "      <td>IndiGo</td>\n",
       "      <td>12/05/2019</td>\n",
       "      <td>Kolkata</td>\n",
       "      <td>Banglore</td>\n",
       "      <td>CCU → NAG → BLR</td>\n",
       "      <td>18:05</td>\n",
       "      <td>23:30</td>\n",
       "      <td>5h 25m</td>\n",
       "      <td>1 stop</td>\n",
       "      <td>No info</td>\n",
       "      <td>6218</td>\n",
       "    </tr>\n",
       "    <tr>\n",
       "      <th>4</th>\n",
       "      <td>IndiGo</td>\n",
       "      <td>01/03/2019</td>\n",
       "      <td>Banglore</td>\n",
       "      <td>New Delhi</td>\n",
       "      <td>BLR → NAG → DEL</td>\n",
       "      <td>16:50</td>\n",
       "      <td>21:35</td>\n",
       "      <td>4h 45m</td>\n",
       "      <td>1 stop</td>\n",
       "      <td>No info</td>\n",
       "      <td>13302</td>\n",
       "    </tr>\n",
       "  </tbody>\n",
       "</table>\n",
       "</div>"
      ],
      "text/plain": [
       "       Airline Date_of_Journey    Source Destination                  Route  \\\n",
       "0       IndiGo      24/03/2019  Banglore   New Delhi              BLR → DEL   \n",
       "1    Air India       1/05/2019   Kolkata    Banglore  CCU → IXR → BBI → BLR   \n",
       "2  Jet Airways       9/06/2019     Delhi      Cochin  DEL → LKO → BOM → COK   \n",
       "3       IndiGo      12/05/2019   Kolkata    Banglore        CCU → NAG → BLR   \n",
       "4       IndiGo      01/03/2019  Banglore   New Delhi        BLR → NAG → DEL   \n",
       "\n",
       "  Dep_Time  Arrival_Time Duration Total_Stops Additional_Info  Price  \n",
       "0    22:20  01:10 22 Mar   2h 50m    non-stop         No info   3897  \n",
       "1    05:50         13:15   7h 25m     2 stops         No info   7662  \n",
       "2    09:25  04:25 10 Jun      19h     2 stops         No info  13882  \n",
       "3    18:05         23:30   5h 25m      1 stop         No info   6218  \n",
       "4    16:50         21:35   4h 45m      1 stop         No info  13302  "
      ]
     },
     "execution_count": 5,
     "metadata": {},
     "output_type": "execute_result"
    }
   ],
   "source": [
    "import pandas as pd\n",
    "\n",
    "df1=pd.read_excel('flight_price.xlsx')\n",
    "df1.head()"
   ]
  },
  {
   "cell_type": "code",
   "execution_count": 6,
   "id": "643f26e8",
   "metadata": {},
   "outputs": [
    {
     "data": {
      "text/plain": [
       "(10683, 11)"
      ]
     },
     "execution_count": 6,
     "metadata": {},
     "output_type": "execute_result"
    }
   ],
   "source": [
    "df1.shape"
   ]
  },
  {
   "cell_type": "markdown",
   "id": "3e1ab78b",
   "metadata": {},
   "source": [
    "### Therefore, there are 10683 rows and 11 columns."
   ]
  },
  {
   "cell_type": "markdown",
   "id": "975a24dd",
   "metadata": {},
   "source": [
    "# Q2. What is the distribution of flight prices in the dataset? Create a histogram to visualize the distribution."
   ]
  },
  {
   "cell_type": "code",
   "execution_count": 7,
   "id": "2681e4bf",
   "metadata": {},
   "outputs": [],
   "source": [
    "import matplotlib.pyplot as plt"
   ]
  },
  {
   "cell_type": "code",
   "execution_count": 8,
   "id": "21258c60",
   "metadata": {},
   "outputs": [
    {
     "data": {
      "image/png": "[encoded data removed]",
      "text/plain": [
       "<Figure size 720x432 with 1 Axes>"
      ]
     },
     "metadata": {
      "needs_background": "light"
     },
     "output_type": "display_data"
    }
   ],
   "source": [
    "plt.figure(figsize=(10,6))\n",
    "plt.hist(df1.Price, color='orange', edgecolor='black',bins=20)\n",
    "plt.xlabel('Flight Prices')\n",
    "plt.ylabel('Frequency')\n",
    "plt.title('Distribution of Flight Prices')\n",
    "plt.grid(axis='y', alpha=0.75)"
   ]
  },
  {
   "cell_type": "markdown",
   "id": "de026ed2",
   "metadata": {},
   "source": [
    "# Q3. What is the range of prices in the dataset? What is the minimum and maximum price?"
   ]
  },
  {
   "cell_type": "code",
   "execution_count": 9,
   "id": "ea4e6c0f",
   "metadata": {},
   "outputs": [
    {
     "data": {
      "text/plain": [
       "count    10683.000000\n",
       "mean      9087.064121\n",
       "std       4611.359167\n",
       "min       1759.000000\n",
       "25%       5277.000000\n",
       "50%       8372.000000\n",
       "75%      12373.000000\n",
       "max      79512.000000\n",
       "Name: Price, dtype: float64"
      ]
     },
     "execution_count": 9,
     "metadata": {},
     "output_type": "execute_result"
    }
   ],
   "source": [
    "df1['Price'].describe()"
   ]
  },
  {
   "cell_type": "code",
   "execution_count": 10,
   "id": "410e7e64",
   "metadata": {},
   "outputs": [
    {
     "name": "stdout",
     "output_type": "stream",
     "text": [
      "Minimum Price: 1759\n",
      "Maximum Price: 79512\n",
      "Price Range: 77753\n"
     ]
    }
   ],
   "source": [
    "\n",
    "flight_prices = df1['Price']\n",
    "\n",
    "# Calculate the minimum and maximum prices\n",
    "min_price = flight_prices.min()\n",
    "max_price = flight_prices.max()\n",
    "\n",
    "# Calculate the price range\n",
    "price_range = max_price - min_price\n",
    "\n",
    "print(f\"Minimum Price: {min_price}\")\n",
    "print(f\"Maximum Price: {max_price}\")\n",
    "print(f\"Price Range: {price_range}\")\n"
   ]
  },
  {
   "cell_type": "markdown",
   "id": "82cab7ea",
   "metadata": {},
   "source": [
    "# Q4. How does the price of flights vary by airline? Create a boxplot to compare the prices of different airlines."
   ]
  },
  {
   "cell_type": "code",
   "execution_count": 11,
   "id": "c90ba044",
   "metadata": {},
   "outputs": [
    {
     "data": {
      "text/plain": [
       "count           10683\n",
       "unique             12\n",
       "top       Jet Airways\n",
       "freq             3849\n",
       "Name: Airline, dtype: object"
      ]
     },
     "execution_count": 11,
     "metadata": {},
     "output_type": "execute_result"
    }
   ],
   "source": [
    "df1['Airline'].describe()"
   ]
  },
  {
   "cell_type": "code",
   "execution_count": 12,
   "id": "a305f8e9",
   "metadata": {},
   "outputs": [
    {
     "data": {
      "text/html": [
       "<div>\n",
       "<style scoped>\n",
       "    .dataframe tbody tr th:only-of-type {\n",
       "        vertical-align: middle;\n",
       "    }\n",
       "\n",
       "    .dataframe tbody tr th {\n",
       "        vertical-align: top;\n",
       "    }\n",
       "\n",
       "    .dataframe thead tr th {\n",
       "        text-align: left;\n",
       "    }\n",
       "\n",
       "    .dataframe thead tr:last-of-type th {\n",
       "        text-align: right;\n",
       "    }\n",
       "</style>\n",
       "<table border=\"1\" class=\"dataframe\">\n",
       "  <thead>\n",
       "    <tr>\n",
       "      <th></th>\n",
       "      <th colspan=\"8\" halign=\"left\">Price</th>\n",
       "    </tr>\n",
       "    <tr>\n",
       "      <th></th>\n",
       "      <th>count</th>\n",
       "      <th>mean</th>\n",
       "      <th>std</th>\n",
       "      <th>min</th>\n",
       "      <th>25%</th>\n",
       "      <th>50%</th>\n",
       "      <th>75%</th>\n",
       "      <th>max</th>\n",
       "    </tr>\n",
       "    <tr>\n",
       "      <th>Airline</th>\n",
       "      <th></th>\n",
       "      <th></th>\n",
       "      <th></th>\n",
       "      <th></th>\n",
       "      <th></th>\n",
       "      <th></th>\n",
       "      <th></th>\n",
       "      <th></th>\n",
       "    </tr>\n",
       "  </thead>\n",
       "  <tbody>\n",
       "    <tr>\n",
       "      <th>Air Asia</th>\n",
       "      <td>319.0</td>\n",
       "      <td>5590.260188</td>\n",
       "      <td>2027.362290</td>\n",
       "      <td>3383.0</td>\n",
       "      <td>4282.0</td>\n",
       "      <td>5162.0</td>\n",
       "      <td>6451.00</td>\n",
       "      <td>13774.0</td>\n",
       "    </tr>\n",
       "    <tr>\n",
       "      <th>Air India</th>\n",
       "      <td>1752.0</td>\n",
       "      <td>9611.210616</td>\n",
       "      <td>3900.952942</td>\n",
       "      <td>2050.0</td>\n",
       "      <td>6896.0</td>\n",
       "      <td>9443.0</td>\n",
       "      <td>12219.00</td>\n",
       "      <td>31945.0</td>\n",
       "    </tr>\n",
       "    <tr>\n",
       "      <th>GoAir</th>\n",
       "      <td>194.0</td>\n",
       "      <td>5861.056701</td>\n",
       "      <td>2703.585767</td>\n",
       "      <td>3398.0</td>\n",
       "      <td>3898.0</td>\n",
       "      <td>5135.0</td>\n",
       "      <td>6811.25</td>\n",
       "      <td>22794.0</td>\n",
       "    </tr>\n",
       "    <tr>\n",
       "      <th>IndiGo</th>\n",
       "      <td>2053.0</td>\n",
       "      <td>5673.682903</td>\n",
       "      <td>2264.142168</td>\n",
       "      <td>2227.0</td>\n",
       "      <td>4226.0</td>\n",
       "      <td>5000.0</td>\n",
       "      <td>6494.00</td>\n",
       "      <td>22153.0</td>\n",
       "    </tr>\n",
       "    <tr>\n",
       "      <th>Jet Airways</th>\n",
       "      <td>3849.0</td>\n",
       "      <td>11643.923357</td>\n",
       "      <td>4258.940578</td>\n",
       "      <td>1840.0</td>\n",
       "      <td>9134.0</td>\n",
       "      <td>11467.0</td>\n",
       "      <td>14151.00</td>\n",
       "      <td>54826.0</td>\n",
       "    </tr>\n",
       "    <tr>\n",
       "      <th>Jet Airways Business</th>\n",
       "      <td>6.0</td>\n",
       "      <td>58358.666667</td>\n",
       "      <td>11667.596748</td>\n",
       "      <td>46490.0</td>\n",
       "      <td>52243.0</td>\n",
       "      <td>54747.0</td>\n",
       "      <td>61122.50</td>\n",
       "      <td>79512.0</td>\n",
       "    </tr>\n",
       "    <tr>\n",
       "      <th>Multiple carriers</th>\n",
       "      <td>1196.0</td>\n",
       "      <td>10902.678094</td>\n",
       "      <td>3721.234997</td>\n",
       "      <td>5797.0</td>\n",
       "      <td>7723.0</td>\n",
       "      <td>10197.0</td>\n",
       "      <td>13587.00</td>\n",
       "      <td>36983.0</td>\n",
       "    </tr>\n",
       "    <tr>\n",
       "      <th>Multiple carriers Premium economy</th>\n",
       "      <td>13.0</td>\n",
       "      <td>11418.846154</td>\n",
       "      <td>1717.153936</td>\n",
       "      <td>9845.0</td>\n",
       "      <td>10161.0</td>\n",
       "      <td>11269.0</td>\n",
       "      <td>11269.00</td>\n",
       "      <td>14629.0</td>\n",
       "    </tr>\n",
       "    <tr>\n",
       "      <th>SpiceJet</th>\n",
       "      <td>818.0</td>\n",
       "      <td>4338.284841</td>\n",
       "      <td>1849.922514</td>\n",
       "      <td>1759.0</td>\n",
       "      <td>3574.5</td>\n",
       "      <td>3873.0</td>\n",
       "      <td>4760.00</td>\n",
       "      <td>23267.0</td>\n",
       "    </tr>\n",
       "    <tr>\n",
       "      <th>Trujet</th>\n",
       "      <td>1.0</td>\n",
       "      <td>4140.000000</td>\n",
       "      <td>NaN</td>\n",
       "      <td>4140.0</td>\n",
       "      <td>4140.0</td>\n",
       "      <td>4140.0</td>\n",
       "      <td>4140.00</td>\n",
       "      <td>4140.0</td>\n",
       "    </tr>\n",
       "    <tr>\n",
       "      <th>Vistara</th>\n",
       "      <td>479.0</td>\n",
       "      <td>7796.348643</td>\n",
       "      <td>2914.298578</td>\n",
       "      <td>3687.0</td>\n",
       "      <td>5403.0</td>\n",
       "      <td>7980.0</td>\n",
       "      <td>9345.00</td>\n",
       "      <td>21730.0</td>\n",
       "    </tr>\n",
       "    <tr>\n",
       "      <th>Vistara Premium economy</th>\n",
       "      <td>3.0</td>\n",
       "      <td>8962.333333</td>\n",
       "      <td>2915.405518</td>\n",
       "      <td>5969.0</td>\n",
       "      <td>7547.0</td>\n",
       "      <td>9125.0</td>\n",
       "      <td>10459.00</td>\n",
       "      <td>11793.0</td>\n",
       "    </tr>\n",
       "  </tbody>\n",
       "</table>\n",
       "</div>"
      ],
      "text/plain": [
       "                                    Price                              \\\n",
       "                                    count          mean           std   \n",
       "Airline                                                                 \n",
       "Air Asia                            319.0   5590.260188   2027.362290   \n",
       "Air India                          1752.0   9611.210616   3900.952942   \n",
       "GoAir                               194.0   5861.056701   2703.585767   \n",
       "IndiGo                             2053.0   5673.682903   2264.142168   \n",
       "Jet Airways                        3849.0  11643.923357   4258.940578   \n",
       "Jet Airways Business                  6.0  58358.666667  11667.596748   \n",
       "Multiple carriers                  1196.0  10902.678094   3721.234997   \n",
       "Multiple carriers Premium economy    13.0  11418.846154   1717.153936   \n",
       "SpiceJet                            818.0   4338.284841   1849.922514   \n",
       "Trujet                                1.0   4140.000000           NaN   \n",
       "Vistara                             479.0   7796.348643   2914.298578   \n",
       "Vistara Premium economy               3.0   8962.333333   2915.405518   \n",
       "\n",
       "                                                                        \\\n",
       "                                       min      25%      50%       75%   \n",
       "Airline                                                                  \n",
       "Air Asia                            3383.0   4282.0   5162.0   6451.00   \n",
       "Air India                           2050.0   6896.0   9443.0  12219.00   \n",
       "GoAir                               3398.0   3898.0   5135.0   6811.25   \n",
       "IndiGo                              2227.0   4226.0   5000.0   6494.00   \n",
       "Jet Airways                         1840.0   9134.0  11467.0  14151.00   \n",
       "Jet Airways Business               46490.0  52243.0  54747.0  61122.50   \n",
       "Multiple carriers                   5797.0   7723.0  10197.0  13587.00   \n",
       "Multiple carriers Premium economy   9845.0  10161.0  11269.0  11269.00   \n",
       "SpiceJet                            1759.0   3574.5   3873.0   4760.00   \n",
       "Trujet                              4140.0   4140.0   4140.0   4140.00   \n",
       "Vistara                             3687.0   5403.0   7980.0   9345.00   \n",
       "Vistara Premium economy             5969.0   7547.0   9125.0  10459.00   \n",
       "\n",
       "                                            \n",
       "                                       max  \n",
       "Airline                                     \n",
       "Air Asia                           13774.0  \n",
       "Air India                          31945.0  \n",
       "GoAir                              22794.0  \n",
       "IndiGo                             22153.0  \n",
       "Jet Airways                        54826.0  \n",
       "Jet Airways Business               79512.0  \n",
       "Multiple carriers                  36983.0  \n",
       "Multiple carriers Premium economy  14629.0  \n",
       "SpiceJet                           23267.0  \n",
       "Trujet                              4140.0  \n",
       "Vistara                            21730.0  \n",
       "Vistara Premium economy            11793.0  "
      ]
     },
     "execution_count": 12,
     "metadata": {},
     "output_type": "execute_result"
    }
   ],
   "source": [
    "df1.groupby(by='Airline').describe()"
   ]
  },
  {
   "cell_type": "code",
   "execution_count": 13,
   "id": "650bf3c7",
   "metadata": {},
   "outputs": [],
   "source": [
    "import seaborn as sns\n",
    "import matplotlib.pyplot as plt"
   ]
  },
  {
   "cell_type": "code",
   "execution_count": 14,
   "id": "5900e549",
   "metadata": {},
   "outputs": [
    {
     "data": {
      "image/png": "[encoded data removed]",
      "text/plain": [
       "<Figure size 720x576 with 1 Axes>"
      ]
     },
     "metadata": {
      "needs_background": "light"
     },
     "output_type": "display_data"
    }
   ],
   "source": [
    "plt.figure(figsize=(10,8))\n",
    "sns.boxplot(data=df1,x='Airline',y='Price')\n",
    "plt.title('Box plot of price of flights vary by airline')\n",
    "plt.xticks(rotation=45)\n",
    "plt.show()"
   ]
  },
  {
   "cell_type": "markdown",
   "id": "dac2be75",
   "metadata": {},
   "source": [
    "# Q5. Are there any outliers in the dataset? Identify any potential outliers using a boxplot and describe how they may impact your analysis."
   ]
  },
  {
   "cell_type": "code",
   "execution_count": 15,
   "id": "07b189f1",
   "metadata": {},
   "outputs": [
    {
     "data": {
      "text/plain": [
       "count    10683.0\n",
       "mean      9087.0\n",
       "std       4611.0\n",
       "min       1759.0\n",
       "25%       5277.0\n",
       "50%       8372.0\n",
       "75%      12373.0\n",
       "max      79512.0\n",
       "Name: Price, dtype: float64"
      ]
     },
     "execution_count": 15,
     "metadata": {},
     "output_type": "execute_result"
    }
   ],
   "source": [
    "df1['Price'].describe().round()"
   ]
  },
  {
   "cell_type": "code",
   "execution_count": 16,
   "id": "ad8e65bc",
   "metadata": {},
   "outputs": [],
   "source": [
    "q1=5277\n",
    "q3=12373\n",
    "min=1759\n",
    "max=79512\n",
    "iqr=q3-q1"
   ]
  },
  {
   "cell_type": "code",
   "execution_count": 17,
   "id": "1149fad7",
   "metadata": {},
   "outputs": [
    {
     "name": "stdout",
     "output_type": "stream",
     "text": [
      "lower bound:-5367.0\n",
      "upper bound:23017.0\n"
     ]
    }
   ],
   "source": [
    "lower_bound = q1 - 1.5 * iqr\n",
    "upper_bound = q3 + 1.5 * iqr\n",
    "\n",
    "print(f\"lower bound:{lower_bound}\")\n",
    "print(f\"upper bound:{upper_bound}\")"
   ]
  },
  {
   "cell_type": "code",
   "execution_count": 18,
   "id": "db8c2733",
   "metadata": {},
   "outputs": [
    {
     "data": {
      "image/png": "[encoded data removed]",
      "text/plain": [
       "<Figure size 1008x720 with 1 Axes>"
      ]
     },
     "metadata": {
      "needs_background": "light"
     },
     "output_type": "display_data"
    }
   ],
   "source": [
    "plt.figure(figsize=(14, 10))\n",
    "sns.boxplot(y='Price', data=df1, palette='Set3')\n",
    "plt.xlabel('Price')\n",
    "plt.title('Boxplot of Flight Prices')\n",
    "\n",
    "plt.show()"
   ]
  },
  {
   "cell_type": "code",
   "execution_count": 19,
   "id": "d78e3f05",
   "metadata": {},
   "outputs": [
    {
     "data": {
      "text/html": [
       "<div>\n",
       "<style scoped>\n",
       "    .dataframe tbody tr th:only-of-type {\n",
       "        vertical-align: middle;\n",
       "    }\n",
       "\n",
       "    .dataframe tbody tr th {\n",
       "        vertical-align: top;\n",
       "    }\n",
       "\n",
       "    .dataframe thead th {\n",
       "        text-align: right;\n",
       "    }\n",
       "</style>\n",
       "<table border=\"1\" class=\"dataframe\">\n",
       "  <thead>\n",
       "    <tr style=\"text-align: right;\">\n",
       "      <th></th>\n",
       "      <th>Airline</th>\n",
       "      <th>Date_of_Journey</th>\n",
       "      <th>Source</th>\n",
       "      <th>Destination</th>\n",
       "      <th>Route</th>\n",
       "      <th>Dep_Time</th>\n",
       "      <th>Arrival_Time</th>\n",
       "      <th>Duration</th>\n",
       "      <th>Total_Stops</th>\n",
       "      <th>Additional_Info</th>\n",
       "      <th>Price</th>\n",
       "    </tr>\n",
       "  </thead>\n",
       "  <tbody>\n",
       "    <tr>\n",
       "      <th>123</th>\n",
       "      <td>Air India</td>\n",
       "      <td>1/03/2019</td>\n",
       "      <td>Delhi</td>\n",
       "      <td>Cochin</td>\n",
       "      <td>DEL → BOM → COK</td>\n",
       "      <td>23:00</td>\n",
       "      <td>19:15 02 Mar</td>\n",
       "      <td>20h 15m</td>\n",
       "      <td>1 stop</td>\n",
       "      <td>No info</td>\n",
       "      <td>27430</td>\n",
       "    </tr>\n",
       "    <tr>\n",
       "      <th>396</th>\n",
       "      <td>Multiple carriers</td>\n",
       "      <td>1/03/2019</td>\n",
       "      <td>Delhi</td>\n",
       "      <td>Cochin</td>\n",
       "      <td>DEL → BOM → COK</td>\n",
       "      <td>12:50</td>\n",
       "      <td>19:15</td>\n",
       "      <td>6h 25m</td>\n",
       "      <td>1 stop</td>\n",
       "      <td>No info</td>\n",
       "      <td>36983</td>\n",
       "    </tr>\n",
       "    <tr>\n",
       "      <th>486</th>\n",
       "      <td>Jet Airways</td>\n",
       "      <td>01/03/2019</td>\n",
       "      <td>Banglore</td>\n",
       "      <td>New Delhi</td>\n",
       "      <td>BLR → BOM → DEL</td>\n",
       "      <td>08:55</td>\n",
       "      <td>15:15</td>\n",
       "      <td>6h 20m</td>\n",
       "      <td>1 stop</td>\n",
       "      <td>No info</td>\n",
       "      <td>26890</td>\n",
       "    </tr>\n",
       "    <tr>\n",
       "      <th>510</th>\n",
       "      <td>Jet Airways</td>\n",
       "      <td>01/03/2019</td>\n",
       "      <td>Banglore</td>\n",
       "      <td>New Delhi</td>\n",
       "      <td>BLR → BOM → DEL</td>\n",
       "      <td>07:00</td>\n",
       "      <td>12:25</td>\n",
       "      <td>5h 25m</td>\n",
       "      <td>1 stop</td>\n",
       "      <td>No info</td>\n",
       "      <td>26890</td>\n",
       "    </tr>\n",
       "    <tr>\n",
       "      <th>597</th>\n",
       "      <td>Air India</td>\n",
       "      <td>6/03/2019</td>\n",
       "      <td>Mumbai</td>\n",
       "      <td>Hyderabad</td>\n",
       "      <td>BOM → JDH → DEL → HYD</td>\n",
       "      <td>09:40</td>\n",
       "      <td>15:15 07 Mar</td>\n",
       "      <td>29h 35m</td>\n",
       "      <td>2 stops</td>\n",
       "      <td>No info</td>\n",
       "      <td>25139</td>\n",
       "    </tr>\n",
       "    <tr>\n",
       "      <th>...</th>\n",
       "      <td>...</td>\n",
       "      <td>...</td>\n",
       "      <td>...</td>\n",
       "      <td>...</td>\n",
       "      <td>...</td>\n",
       "      <td>...</td>\n",
       "      <td>...</td>\n",
       "      <td>...</td>\n",
       "      <td>...</td>\n",
       "      <td>...</td>\n",
       "      <td>...</td>\n",
       "    </tr>\n",
       "    <tr>\n",
       "      <th>10353</th>\n",
       "      <td>Jet Airways</td>\n",
       "      <td>6/03/2019</td>\n",
       "      <td>Mumbai</td>\n",
       "      <td>Hyderabad</td>\n",
       "      <td>BOM → BDQ → DEL → HYD</td>\n",
       "      <td>19:50</td>\n",
       "      <td>16:50 07 Mar</td>\n",
       "      <td>21h</td>\n",
       "      <td>2 stops</td>\n",
       "      <td>No info</td>\n",
       "      <td>24210</td>\n",
       "    </tr>\n",
       "    <tr>\n",
       "      <th>10364</th>\n",
       "      <td>Jet Airways Business</td>\n",
       "      <td>01/03/2019</td>\n",
       "      <td>Banglore</td>\n",
       "      <td>New Delhi</td>\n",
       "      <td>BLR → MAA → DEL</td>\n",
       "      <td>09:45</td>\n",
       "      <td>14:25</td>\n",
       "      <td>4h 40m</td>\n",
       "      <td>1 stop</td>\n",
       "      <td>Business class</td>\n",
       "      <td>57209</td>\n",
       "    </tr>\n",
       "    <tr>\n",
       "      <th>10383</th>\n",
       "      <td>Jet Airways</td>\n",
       "      <td>01/03/2019</td>\n",
       "      <td>Banglore</td>\n",
       "      <td>New Delhi</td>\n",
       "      <td>BLR → BOM → DEL</td>\n",
       "      <td>07:00</td>\n",
       "      <td>05:05 02 Mar</td>\n",
       "      <td>22h 5m</td>\n",
       "      <td>1 stop</td>\n",
       "      <td>No info</td>\n",
       "      <td>26890</td>\n",
       "    </tr>\n",
       "    <tr>\n",
       "      <th>10439</th>\n",
       "      <td>Jet Airways</td>\n",
       "      <td>01/03/2019</td>\n",
       "      <td>Banglore</td>\n",
       "      <td>New Delhi</td>\n",
       "      <td>BLR → BOM → DEL</td>\n",
       "      <td>18:40</td>\n",
       "      <td>09:00 02 Mar</td>\n",
       "      <td>14h 20m</td>\n",
       "      <td>1 stop</td>\n",
       "      <td>No info</td>\n",
       "      <td>31825</td>\n",
       "    </tr>\n",
       "    <tr>\n",
       "      <th>10511</th>\n",
       "      <td>Air India</td>\n",
       "      <td>01/03/2019</td>\n",
       "      <td>Banglore</td>\n",
       "      <td>New Delhi</td>\n",
       "      <td>BLR → BOM → BHO → DEL</td>\n",
       "      <td>06:45</td>\n",
       "      <td>09:25 02 Mar</td>\n",
       "      <td>26h 40m</td>\n",
       "      <td>2 stops</td>\n",
       "      <td>2 Long layover</td>\n",
       "      <td>26480</td>\n",
       "    </tr>\n",
       "  </tbody>\n",
       "</table>\n",
       "<p>94 rows × 11 columns</p>\n",
       "</div>"
      ],
      "text/plain": [
       "                    Airline Date_of_Journey    Source Destination  \\\n",
       "123               Air India       1/03/2019     Delhi      Cochin   \n",
       "396       Multiple carriers       1/03/2019     Delhi      Cochin   \n",
       "486             Jet Airways      01/03/2019  Banglore   New Delhi   \n",
       "510             Jet Airways      01/03/2019  Banglore   New Delhi   \n",
       "597               Air India       6/03/2019    Mumbai   Hyderabad   \n",
       "...                     ...             ...       ...         ...   \n",
       "10353           Jet Airways       6/03/2019    Mumbai   Hyderabad   \n",
       "10364  Jet Airways Business      01/03/2019  Banglore   New Delhi   \n",
       "10383           Jet Airways      01/03/2019  Banglore   New Delhi   \n",
       "10439           Jet Airways      01/03/2019  Banglore   New Delhi   \n",
       "10511             Air India      01/03/2019  Banglore   New Delhi   \n",
       "\n",
       "                       Route Dep_Time  Arrival_Time Duration Total_Stops  \\\n",
       "123          DEL → BOM → COK    23:00  19:15 02 Mar  20h 15m      1 stop   \n",
       "396          DEL → BOM → COK    12:50         19:15   6h 25m      1 stop   \n",
       "486          BLR → BOM → DEL    08:55         15:15   6h 20m      1 stop   \n",
       "510          BLR → BOM → DEL    07:00         12:25   5h 25m      1 stop   \n",
       "597    BOM → JDH → DEL → HYD    09:40  15:15 07 Mar  29h 35m     2 stops   \n",
       "...                      ...      ...           ...      ...         ...   \n",
       "10353  BOM → BDQ → DEL → HYD    19:50  16:50 07 Mar      21h     2 stops   \n",
       "10364        BLR → MAA → DEL    09:45         14:25   4h 40m      1 stop   \n",
       "10383        BLR → BOM → DEL    07:00  05:05 02 Mar   22h 5m      1 stop   \n",
       "10439        BLR → BOM → DEL    18:40  09:00 02 Mar  14h 20m      1 stop   \n",
       "10511  BLR → BOM → BHO → DEL    06:45  09:25 02 Mar  26h 40m     2 stops   \n",
       "\n",
       "      Additional_Info  Price  \n",
       "123           No info  27430  \n",
       "396           No info  36983  \n",
       "486           No info  26890  \n",
       "510           No info  26890  \n",
       "597           No info  25139  \n",
       "...               ...    ...  \n",
       "10353         No info  24210  \n",
       "10364  Business class  57209  \n",
       "10383         No info  26890  \n",
       "10439         No info  31825  \n",
       "10511  2 Long layover  26480  \n",
       "\n",
       "[94 rows x 11 columns]"
      ]
     },
     "execution_count": 19,
     "metadata": {},
     "output_type": "execute_result"
    }
   ],
   "source": [
    "df1[df1.Price > q3 + 1.5*iqr]"
   ]
  },
  {
   "cell_type": "markdown",
   "id": "960c99fe",
   "metadata": {},
   "source": [
    "### No. of outliers= 94"
   ]
  },
  {
   "cell_type": "markdown",
   "id": "764e8765",
   "metadata": {},
   "source": [
    "# Q6. You are working for a travel agency, and your boss has asked you to analyze the Flight Price dataset to identify the peak travel season. What features would you analyze to identify the peak season, and how would you present your findings to your boss?"
   ]
  },
  {
   "cell_type": "markdown",
   "id": "9a674981",
   "metadata": {},
   "source": [
    "### To identify the peak travel season using the Flight Price dataset, there are several features that could be analyzed. Here are some potential features:\n",
    "1. Month of the year: Analyzing the average flight prices for each month can reveal any seasonal patterns in travel demand. This analysis can help to identify the months with the highest and lowest flight prices.\n",
    "\n",
    "2. Day of the week: Analyzing the average flight prices for each day of the week can reveal any patterns in travel demand based on the day of the week. This analysis can help to identify the days with the highest and lowest flight prices.\n",
    "\n",
    "3. Destination: Analyzing the average flight prices for each destination can reveal any seasonal patterns in travel demand for specific locations. This analysis can help to identify the destinations with the highest and lowest flight prices.\n",
    "\n",
    "4. Departure city: Analyzing the average flight prices for each departure city can reveal any seasonal patterns in travel demand for specific locations. This analysis can help to identify the departure cities with the highest and lowest flight prices.\n"
   ]
  },
  {
   "cell_type": "code",
   "execution_count": 20,
   "id": "3dfde172",
   "metadata": {},
   "outputs": [],
   "source": [
    "df1['Date_of_Journey']=pd.to_datetime(df1['Date_of_Journey'])"
   ]
  },
  {
   "cell_type": "code",
   "execution_count": 21,
   "id": "6cd71d2f",
   "metadata": {},
   "outputs": [],
   "source": [
    "df1['Month']=df1['Date_of_Journey'].dt.month\n",
    "df1['Date']=df1['Date_of_Journey'].dt.day\n",
    "df1['Year']=df1['Date_of_Journey'].dt.year\n",
    "df1['Day']=df1['Date_of_Journey'].dt.day_name()"
   ]
  },
  {
   "cell_type": "code",
   "execution_count": 22,
   "id": "772066ff",
   "metadata": {
    "scrolled": true
   },
   "outputs": [
    {
     "data": {
      "text/plain": [
       "Month\n",
       "1     1075\n",
       "3     2211\n",
       "4      424\n",
       "5     2074\n",
       "6     2536\n",
       "9     1406\n",
       "12     957\n",
       "Name: Month, dtype: int64"
      ]
     },
     "execution_count": 22,
     "metadata": {},
     "output_type": "execute_result"
    }
   ],
   "source": [
    "df1.groupby(by='Month').Month.count()"
   ]
  },
  {
   "cell_type": "code",
   "execution_count": 23,
   "id": "d3420eda",
   "metadata": {},
   "outputs": [
    {
     "data": {
      "text/plain": [
       "<AxesSubplot:xlabel='Month'>"
      ]
     },
     "execution_count": 23,
     "metadata": {},
     "output_type": "execute_result"
    },
    {
     "data": {
      "image/png": "[encoded data removed]",
      "text/plain": [
       "<Figure size 432x288 with 1 Axes>"
      ]
     },
     "metadata": {
      "needs_background": "light"
     },
     "output_type": "display_data"
    }
   ],
   "source": [
    "df1.groupby(by='Month').Month.count().plot(kind='bar')"
   ]
  },
  {
   "cell_type": "markdown",
   "id": "56682040",
   "metadata": {},
   "source": [
    "### Peak months of journey 5 th and 6 th"
   ]
  },
  {
   "cell_type": "code",
   "execution_count": 24,
   "id": "3434b4b9",
   "metadata": {
    "scrolled": true
   },
   "outputs": [
    {
     "data": {
      "text/plain": [
       "Month\n",
       "1     10493.0\n",
       "3      8434.0\n",
       "4      5231.0\n",
       "5      9361.0\n",
       "6      9215.0\n",
       "9      9551.0\n",
       "12     9111.0\n",
       "Name: Price, dtype: float64"
      ]
     },
     "execution_count": 24,
     "metadata": {},
     "output_type": "execute_result"
    }
   ],
   "source": [
    "df1.groupby(by='Month').Price.mean().round()"
   ]
  },
  {
   "cell_type": "code",
   "execution_count": 25,
   "id": "e84cdfc0",
   "metadata": {},
   "outputs": [
    {
     "data": {
      "image/png": "[encoded data removed]",
      "text/plain": [
       "<Figure size 432x288 with 1 Axes>"
      ]
     },
     "metadata": {
      "needs_background": "light"
     },
     "output_type": "display_data"
    }
   ],
   "source": [
    "df1.groupby(by='Month').Price.mean().round().plot(kind='bar').grid(axis='y')"
   ]
  },
  {
   "cell_type": "code",
   "execution_count": 26,
   "id": "8531aa5c",
   "metadata": {},
   "outputs": [
    {
     "data": {
      "text/plain": [
       "Month\n",
       "4      5230.860849\n",
       "3      8433.839891\n",
       "12     9110.774295\n",
       "6      9214.964905\n",
       "5      9361.077628\n",
       "9      9551.474395\n",
       "1     10492.642791\n",
       "Name: Price, dtype: float64"
      ]
     },
     "execution_count": 26,
     "metadata": {},
     "output_type": "execute_result"
    }
   ],
   "source": [
    "df1.groupby(by='Month').mean()['Price'].sort_values()"
   ]
  },
  {
   "cell_type": "code",
   "execution_count": 27,
   "id": "799e696c",
   "metadata": {},
   "outputs": [
    {
     "data": {
      "text/plain": [
       "<AxesSubplot:xlabel='Month'>"
      ]
     },
     "execution_count": 27,
     "metadata": {},
     "output_type": "execute_result"
    },
    {
     "data": {
      "image/png": "[encoded data removed]",
      "text/plain": [
       "<Figure size 432x288 with 1 Axes>"
      ]
     },
     "metadata": {
      "needs_background": "light"
     },
     "output_type": "display_data"
    }
   ],
   "source": [
    "df1.groupby(by='Month').mean()['Price'].sort_values().plot(kind='bar')"
   ]
  },
  {
   "cell_type": "code",
   "execution_count": 28,
   "id": "13176b25",
   "metadata": {},
   "outputs": [
    {
     "data": {
      "text/plain": [
       "Destination\n",
       "Kolkata       381\n",
       "Hyderabad     697\n",
       "New Delhi     932\n",
       "Delhi        1265\n",
       "Banglore     2871\n",
       "Cochin       4537\n",
       "Name: Destination, dtype: int64"
      ]
     },
     "execution_count": 28,
     "metadata": {},
     "output_type": "execute_result"
    }
   ],
   "source": [
    "df1.groupby(by='Destination').Destination.count().sort_values()"
   ]
  },
  {
   "cell_type": "code",
   "execution_count": 29,
   "id": "6c986a10",
   "metadata": {
    "scrolled": false
   },
   "outputs": [
    {
     "data": {
      "text/plain": [
       "<AxesSubplot:xlabel='Destination'>"
      ]
     },
     "execution_count": 29,
     "metadata": {},
     "output_type": "execute_result"
    },
    {
     "data": {
      "image/png": "[encoded data removed]",
      "text/plain": [
       "<Figure size 432x288 with 1 Axes>"
      ]
     },
     "metadata": {
      "needs_background": "light"
     },
     "output_type": "display_data"
    }
   ],
   "source": [
    "df1.groupby(by='Destination').Destination.count().sort_values().plot(kind='bar')"
   ]
  },
  {
   "cell_type": "code",
   "execution_count": 30,
   "id": "180e7726",
   "metadata": {},
   "outputs": [
    {
     "data": {
      "text/plain": [
       "Source\n",
       "Chennai      4789.892388\n",
       "Mumbai       5059.708752\n",
       "Banglore     8017.464269\n",
       "Kolkata      9158.389411\n",
       "Delhi       10539.439057\n",
       "Name: Price, dtype: float64"
      ]
     },
     "execution_count": 30,
     "metadata": {},
     "output_type": "execute_result"
    }
   ],
   "source": [
    "df1.groupby(by='Source').mean()['Price'].sort_values()"
   ]
  },
  {
   "cell_type": "code",
   "execution_count": 31,
   "id": "0330401a",
   "metadata": {},
   "outputs": [
    {
     "data": {
      "text/plain": [
       "<AxesSubplot:xlabel='Source'>"
      ]
     },
     "execution_count": 31,
     "metadata": {},
     "output_type": "execute_result"
    },
    {
     "data": {
      "image/png": "[encoded data removed]",
      "text/plain": [
       "<Figure size 432x288 with 1 Axes>"
      ]
     },
     "metadata": {
      "needs_background": "light"
     },
     "output_type": "display_data"
    }
   ],
   "source": [
    "df1.groupby(by='Source').mean()['Price'].sort_values().plot(kind='bar')"
   ]
  },
  {
   "cell_type": "markdown",
   "id": "7e0a7b35",
   "metadata": {},
   "source": [
    "# Findings:\n",
    "1. Most destined city- Banglore, cochin\n",
    "2. most travelled months with max price - 1 & 9\n",
    "3. most travelled months - 5 & 6\n",
    "4. most travelled from - delhi"
   ]
  },
  {
   "cell_type": "markdown",
   "id": "083770e9",
   "metadata": {},
   "source": [
    "# Q7. You are a data analyst for a flight booking website, and you have been asked to analyze the Flight Price dataset to identify any trends in flight prices. What features would you analyze to identify these trends, and what visualizations would you use to present your findings to your team?"
   ]
  },
  {
   "cell_type": "markdown",
   "id": "4d6af6ee",
   "metadata": {},
   "source": [
    "### To uncover trends in flight prices, I would initiate my analysis by examining the following aspects within the Flight Price dataset:\n",
    "\n",
    "Temporal Features: These encompass elements such as the booking date, travel date, and the time of day for travel. By scrutinizing these attributes, we can discern whether flight prices exhibit patterns associated with specific times of the year or particular hours of the day.\n",
    "\n",
    "Route Characteristics: This category includes information about the departure and arrival cities, as well as any layovers or stopovers during the journey. Analyzing these aspects enables us to determine whether flight prices vary significantly based on the chosen route or the inclusion of specific stopovers.\n",
    "\n",
    "Airline Attributes: This pertains to the airline carrier responsible for each flight. Examining these attributes allows us to identify whether particular airlines consistently offer higher or lower prices compared to others.\n",
    "\n",
    "Demand-Related Factors: This covers variables such as the number of passengers booked on a flight and the total number of available seats. By delving into these factors, we can ascertain whether flight prices tend to rise or fall in response to fluctuations in demand.\n",
    "\n",
    "### As a data analyst for a flight booking website, I would focus on several key features to identify trends in flight prices. To present my findings to the team, I would utilize various types of visualizations:\n",
    "\n",
    "Line Charts: These charts would effectively display how flight prices change over time, such as daily, weekly, or monthly fluctuations. They can also illustrate how prices vary depending on the time of day.\n",
    "\n",
    "Scatterplots: I would employ scatterplots to visualize the relationship between flight prices and relevant variables like the number of passengers or seat availability. This would help us understand if there are any correlations or dependencies.\n",
    "\n",
    "Bar Charts: Bar charts would be useful for comparing flight prices across different airlines or routes. This type of visualization can highlight which airlines or routes tend to have higher or lower prices.\n",
    "\n",
    "Heatmaps: To identify seasonal patterns, I would use heatmaps to show when flight prices tend to be higher or lower throughout the year for various routes. This can assist in understanding the seasonality of flight prices.\n",
    "\n",
    "In summary, my analysis would involve examining these specific features and using appropriate visualizations to convey the insights effectively. The goal is to uncover any discernible patterns or trends in flight prices, which can then inform pricing strategies and enhance customer service for the flight booking website.\n"
   ]
  },
  {
   "cell_type": "markdown",
   "id": "ec35d73c",
   "metadata": {},
   "source": [
    "# Q8. You are a data scientist working for an airline company, and you have been asked to analyze the Flight Price dataset to identify the factors that affect flight prices. What features would you analyze to identify these factors, and how would you present your findings to the management team?"
   ]
  },
  {
   "cell_type": "markdown",
   "id": "c306be11",
   "metadata": {},
   "source": [
    "### To identify the factors that affect flight prices in the Flight Price dataset as a data scientist working for an airline company, I would focus on several key features and use appropriate analytical techniques. Here's a breakdown of the features I would analyze and how I would present my findings to the management team:\n",
    "\n",
    "1. Route Information:\n",
    "\n",
    "Origin and Destination Cities: Analyze how flight prices vary based on the cities passengers are traveling between.\n",
    "\n",
    "Number of Stops: Investigate whether non-stop flights are priced differently from those with layovers or stopovers.\n",
    "\n",
    "2. Temporal Features:\n",
    "\n",
    "Booking Date: Explore if the date when tickets are booked affects prices.\n",
    "\n",
    "Travel Date: Examine whether the time of year, month, or day of the week influences flight prices.\n",
    "\n",
    "Time of Day: Investigate if flight prices differ depending on the time of the day (e.g., morning, afternoon, evening).\n",
    "\n",
    "3. Airline-Related Features:\n",
    "\n",
    "Airline Carrier: Analyze whether different airlines have varying pricing strategies and how this impacts ticket costs.\n",
    "\n",
    "Class of Service: Assess if prices differ for economy, business, or first-class seats.\n",
    "\n",
    "4. Demand and Capacity:\n",
    "\n",
    "Number of Passengers: Determine if the number of passengers booked on a flight affects pricing.\n",
    "\n",
    "Seat Availability: Analyze whether ticket prices fluctuate based on the number of available seats on a flight.\n",
    "\n",
    "5. Additional Factors:\n",
    "\n",
    "Seasonality: Investigate how seasonal factors like holidays and peak travel seasons impact flight prices.\n",
    "\n",
    "Economic Indicators: Explore whether economic conditions affect ticket pricing.\n",
    "\n",
    "### To present my findings to the management team, I would use a combination of descriptive statistics, data visualizations, and potentially regression analysis or machine learning models (e.g., linear regression, random forests) to quantify and explain the impact of these factors on flight prices. Here's how I would structure the presentation:\n",
    "\n",
    "1. Executive Summary: Provide a high-level overview of the key findings and their implications for pricing strategies.\n",
    "\n",
    "2. Data Exploration: Present summary statistics, distributions, and visualizations for each relevant feature to give an initial understanding of the data.\n",
    "\n",
    "3. Factors Affecting Flight Prices:\n",
    "Show the impact of route information, temporal features, airline carriers, and demand-related factors on flight prices through charts and graphs.\n",
    "4. Use regression analysis to quantify the relationship between these factors and flight prices.\n",
    "5. Seasonal Patterns: Highlight any seasonal trends that affect flight prices and explain how the airline can adjust pricing accordingly.\n",
    "\n",
    "6. Recommendations: Based on the analysis, offer recommendations for pricing strategies, such as adjusting prices for certain routes, days of the week, or during peak travel times.\n",
    "\n",
    "7. Future Analysis: Suggest further analysis or data collection that can provide more insights into price determination.\n",
    "\n",
    "In this way, the management team will receive a comprehensive overview of the factors influencing flight prices and actionable insights for optimizing pricing strategies in the airline industry."
   ]
  },
  {
   "cell_type": "markdown",
   "id": "651fc782",
   "metadata": {},
   "source": [
    "# Q9. Load the Google Playstore dataset and examine its dimensions. How many rows and columns does the dataset have?"
   ]
  },
  {
   "cell_type": "code",
   "execution_count": 32,
   "id": "7093aaac",
   "metadata": {},
   "outputs": [
    {
     "data": {
      "text/html": [
       "<div>\n",
       "<style scoped>\n",
       "    .dataframe tbody tr th:only-of-type {\n",
       "        vertical-align: middle;\n",
       "    }\n",
       "\n",
       "    .dataframe tbody tr th {\n",
       "        vertical-align: top;\n",
       "    }\n",
       "\n",
       "    .dataframe thead th {\n",
       "        text-align: right;\n",
       "    }\n",
       "</style>\n",
       "<table border=\"1\" class=\"dataframe\">\n",
       "  <thead>\n",
       "    <tr style=\"text-align: right;\">\n",
       "      <th></th>\n",
       "      <th>App</th>\n",
       "      <th>Category</th>\n",
       "      <th>Rating</th>\n",
       "      <th>Reviews</th>\n",
       "      <th>Size</th>\n",
       "      <th>Installs</th>\n",
       "      <th>Type</th>\n",
       "      <th>Price</th>\n",
       "      <th>Content Rating</th>\n",
       "      <th>Genres</th>\n",
       "      <th>Last Updated</th>\n",
       "      <th>Current Ver</th>\n",
       "      <th>Android Ver</th>\n",
       "    </tr>\n",
       "  </thead>\n",
       "  <tbody>\n",
       "    <tr>\n",
       "      <th>0</th>\n",
       "      <td>Photo Editor &amp; Candy Camera &amp; Grid &amp; ScrapBook</td>\n",
       "      <td>ART_AND_DESIGN</td>\n",
       "      <td>4.1</td>\n",
       "      <td>159</td>\n",
       "      <td>19M</td>\n",
       "      <td>10,000+</td>\n",
       "      <td>Free</td>\n",
       "      <td>0</td>\n",
       "      <td>Everyone</td>\n",
       "      <td>Art &amp; Design</td>\n",
       "      <td>January 7, 2018</td>\n",
       "      <td>1.0.0</td>\n",
       "      <td>4.0.3 and up</td>\n",
       "    </tr>\n",
       "    <tr>\n",
       "      <th>1</th>\n",
       "      <td>Coloring book moana</td>\n",
       "      <td>ART_AND_DESIGN</td>\n",
       "      <td>3.9</td>\n",
       "      <td>967</td>\n",
       "      <td>14M</td>\n",
       "      <td>500,000+</td>\n",
       "      <td>Free</td>\n",
       "      <td>0</td>\n",
       "      <td>Everyone</td>\n",
       "      <td>Art &amp; Design;Pretend Play</td>\n",
       "      <td>January 15, 2018</td>\n",
       "      <td>2.0.0</td>\n",
       "      <td>4.0.3 and up</td>\n",
       "    </tr>\n",
       "    <tr>\n",
       "      <th>2</th>\n",
       "      <td>U Launcher Lite – FREE Live Cool Themes, Hide ...</td>\n",
       "      <td>ART_AND_DESIGN</td>\n",
       "      <td>4.7</td>\n",
       "      <td>87510</td>\n",
       "      <td>8.7M</td>\n",
       "      <td>5,000,000+</td>\n",
       "      <td>Free</td>\n",
       "      <td>0</td>\n",
       "      <td>Everyone</td>\n",
       "      <td>Art &amp; Design</td>\n",
       "      <td>August 1, 2018</td>\n",
       "      <td>1.2.4</td>\n",
       "      <td>4.0.3 and up</td>\n",
       "    </tr>\n",
       "    <tr>\n",
       "      <th>3</th>\n",
       "      <td>Sketch - Draw &amp; Paint</td>\n",
       "      <td>ART_AND_DESIGN</td>\n",
       "      <td>4.5</td>\n",
       "      <td>215644</td>\n",
       "      <td>25M</td>\n",
       "      <td>50,000,000+</td>\n",
       "      <td>Free</td>\n",
       "      <td>0</td>\n",
       "      <td>Teen</td>\n",
       "      <td>Art &amp; Design</td>\n",
       "      <td>June 8, 2018</td>\n",
       "      <td>Varies with device</td>\n",
       "      <td>4.2 and up</td>\n",
       "    </tr>\n",
       "    <tr>\n",
       "      <th>4</th>\n",
       "      <td>Pixel Draw - Number Art Coloring Book</td>\n",
       "      <td>ART_AND_DESIGN</td>\n",
       "      <td>4.3</td>\n",
       "      <td>967</td>\n",
       "      <td>2.8M</td>\n",
       "      <td>100,000+</td>\n",
       "      <td>Free</td>\n",
       "      <td>0</td>\n",
       "      <td>Everyone</td>\n",
       "      <td>Art &amp; Design;Creativity</td>\n",
       "      <td>June 20, 2018</td>\n",
       "      <td>1.1</td>\n",
       "      <td>4.4 and up</td>\n",
       "    </tr>\n",
       "  </tbody>\n",
       "</table>\n",
       "</div>"
      ],
      "text/plain": [
       "                                                 App        Category  Rating  \\\n",
       "0     Photo Editor & Candy Camera & Grid & ScrapBook  ART_AND_DESIGN     4.1   \n",
       "1                                Coloring book moana  ART_AND_DESIGN     3.9   \n",
       "2  U Launcher Lite – FREE Live Cool Themes, Hide ...  ART_AND_DESIGN     4.7   \n",
       "3                              Sketch - Draw & Paint  ART_AND_DESIGN     4.5   \n",
       "4              Pixel Draw - Number Art Coloring Book  ART_AND_DESIGN     4.3   \n",
       "\n",
       "  Reviews  Size     Installs  Type Price Content Rating  \\\n",
       "0     159   19M      10,000+  Free     0       Everyone   \n",
       "1     967   14M     500,000+  Free     0       Everyone   \n",
       "2   87510  8.7M   5,000,000+  Free     0       Everyone   \n",
       "3  215644   25M  50,000,000+  Free     0           Teen   \n",
       "4     967  2.8M     100,000+  Free     0       Everyone   \n",
       "\n",
       "                      Genres      Last Updated         Current Ver  \\\n",
       "0               Art & Design   January 7, 2018               1.0.0   \n",
       "1  Art & Design;Pretend Play  January 15, 2018               2.0.0   \n",
       "2               Art & Design    August 1, 2018               1.2.4   \n",
       "3               Art & Design      June 8, 2018  Varies with device   \n",
       "4    Art & Design;Creativity     June 20, 2018                 1.1   \n",
       "\n",
       "    Android Ver  \n",
       "0  4.0.3 and up  \n",
       "1  4.0.3 and up  \n",
       "2  4.0.3 and up  \n",
       "3    4.2 and up  \n",
       "4    4.4 and up  "
      ]
     },
     "execution_count": 32,
     "metadata": {},
     "output_type": "execute_result"
    }
   ],
   "source": [
    "df2=pd.read_csv('googleplaystore.csv')\n",
    "df2.head()"
   ]
  },
  {
   "cell_type": "code",
   "execution_count": 33,
   "id": "5052b0c4",
   "metadata": {},
   "outputs": [
    {
     "data": {
      "text/plain": [
       "(10841, 13)"
      ]
     },
     "execution_count": 33,
     "metadata": {},
     "output_type": "execute_result"
    }
   ],
   "source": [
    "df2.shape"
   ]
  },
  {
   "cell_type": "markdown",
   "id": "40c19796",
   "metadata": {},
   "source": [
    "### no. of rows=10841\n",
    "### no. of columns=13"
   ]
  },
  {
   "cell_type": "markdown",
   "id": "eaf78260",
   "metadata": {},
   "source": [
    "# Q10. How does the rating of apps vary by category? Create a boxplot to compare the ratings of different app categories."
   ]
  },
  {
   "cell_type": "code",
   "execution_count": 34,
   "id": "90614cbf",
   "metadata": {},
   "outputs": [
    {
     "data": {
      "text/plain": [
       "App                  0\n",
       "Category             0\n",
       "Rating            1474\n",
       "Reviews              0\n",
       "Size                 0\n",
       "Installs             0\n",
       "Type                 1\n",
       "Price                0\n",
       "Content Rating       1\n",
       "Genres               0\n",
       "Last Updated         0\n",
       "Current Ver          8\n",
       "Android Ver          3\n",
       "dtype: int64"
      ]
     },
     "execution_count": 34,
     "metadata": {},
     "output_type": "execute_result"
    }
   ],
   "source": [
    "df2.isnull().sum()"
   ]
  },
  {
   "cell_type": "code",
   "execution_count": 35,
   "id": "ae31869a",
   "metadata": {},
   "outputs": [
    {
     "data": {
      "text/html": [
       "<div>\n",
       "<style scoped>\n",
       "    .dataframe tbody tr th:only-of-type {\n",
       "        vertical-align: middle;\n",
       "    }\n",
       "\n",
       "    .dataframe tbody tr th {\n",
       "        vertical-align: top;\n",
       "    }\n",
       "\n",
       "    .dataframe thead tr th {\n",
       "        text-align: left;\n",
       "    }\n",
       "\n",
       "    .dataframe thead tr:last-of-type th {\n",
       "        text-align: right;\n",
       "    }\n",
       "</style>\n",
       "<table border=\"1\" class=\"dataframe\">\n",
       "  <thead>\n",
       "    <tr>\n",
       "      <th></th>\n",
       "      <th colspan=\"8\" halign=\"left\">Rating</th>\n",
       "    </tr>\n",
       "    <tr>\n",
       "      <th></th>\n",
       "      <th>count</th>\n",
       "      <th>mean</th>\n",
       "      <th>std</th>\n",
       "      <th>min</th>\n",
       "      <th>25%</th>\n",
       "      <th>50%</th>\n",
       "      <th>75%</th>\n",
       "      <th>max</th>\n",
       "    </tr>\n",
       "    <tr>\n",
       "      <th>Category</th>\n",
       "      <th></th>\n",
       "      <th></th>\n",
       "      <th></th>\n",
       "      <th></th>\n",
       "      <th></th>\n",
       "      <th></th>\n",
       "      <th></th>\n",
       "      <th></th>\n",
       "    </tr>\n",
       "  </thead>\n",
       "  <tbody>\n",
       "    <tr>\n",
       "      <th>1.9</th>\n",
       "      <td>1.0</td>\n",
       "      <td>19.000000</td>\n",
       "      <td>NaN</td>\n",
       "      <td>19.0</td>\n",
       "      <td>19.000</td>\n",
       "      <td>19.0</td>\n",
       "      <td>19.000</td>\n",
       "      <td>19.0</td>\n",
       "    </tr>\n",
       "    <tr>\n",
       "      <th>ART_AND_DESIGN</th>\n",
       "      <td>62.0</td>\n",
       "      <td>4.358065</td>\n",
       "      <td>0.358297</td>\n",
       "      <td>3.2</td>\n",
       "      <td>4.100</td>\n",
       "      <td>4.4</td>\n",
       "      <td>4.700</td>\n",
       "      <td>5.0</td>\n",
       "    </tr>\n",
       "    <tr>\n",
       "      <th>AUTO_AND_VEHICLES</th>\n",
       "      <td>73.0</td>\n",
       "      <td>4.190411</td>\n",
       "      <td>0.543692</td>\n",
       "      <td>2.1</td>\n",
       "      <td>4.000</td>\n",
       "      <td>4.3</td>\n",
       "      <td>4.600</td>\n",
       "      <td>4.9</td>\n",
       "    </tr>\n",
       "    <tr>\n",
       "      <th>BEAUTY</th>\n",
       "      <td>42.0</td>\n",
       "      <td>4.278571</td>\n",
       "      <td>0.362603</td>\n",
       "      <td>3.1</td>\n",
       "      <td>4.000</td>\n",
       "      <td>4.3</td>\n",
       "      <td>4.575</td>\n",
       "      <td>4.9</td>\n",
       "    </tr>\n",
       "    <tr>\n",
       "      <th>BOOKS_AND_REFERENCE</th>\n",
       "      <td>178.0</td>\n",
       "      <td>4.346067</td>\n",
       "      <td>0.429046</td>\n",
       "      <td>2.7</td>\n",
       "      <td>4.100</td>\n",
       "      <td>4.5</td>\n",
       "      <td>4.600</td>\n",
       "      <td>5.0</td>\n",
       "    </tr>\n",
       "    <tr>\n",
       "      <th>BUSINESS</th>\n",
       "      <td>303.0</td>\n",
       "      <td>4.121452</td>\n",
       "      <td>0.624422</td>\n",
       "      <td>1.0</td>\n",
       "      <td>3.900</td>\n",
       "      <td>4.3</td>\n",
       "      <td>4.500</td>\n",
       "      <td>5.0</td>\n",
       "    </tr>\n",
       "    <tr>\n",
       "      <th>COMICS</th>\n",
       "      <td>58.0</td>\n",
       "      <td>4.155172</td>\n",
       "      <td>0.537758</td>\n",
       "      <td>2.8</td>\n",
       "      <td>3.825</td>\n",
       "      <td>4.4</td>\n",
       "      <td>4.500</td>\n",
       "      <td>5.0</td>\n",
       "    </tr>\n",
       "    <tr>\n",
       "      <th>COMMUNICATION</th>\n",
       "      <td>328.0</td>\n",
       "      <td>4.158537</td>\n",
       "      <td>0.426192</td>\n",
       "      <td>1.0</td>\n",
       "      <td>4.000</td>\n",
       "      <td>4.3</td>\n",
       "      <td>4.400</td>\n",
       "      <td>5.0</td>\n",
       "    </tr>\n",
       "    <tr>\n",
       "      <th>DATING</th>\n",
       "      <td>195.0</td>\n",
       "      <td>3.970769</td>\n",
       "      <td>0.630510</td>\n",
       "      <td>1.0</td>\n",
       "      <td>3.700</td>\n",
       "      <td>4.1</td>\n",
       "      <td>4.400</td>\n",
       "      <td>5.0</td>\n",
       "    </tr>\n",
       "    <tr>\n",
       "      <th>EDUCATION</th>\n",
       "      <td>155.0</td>\n",
       "      <td>4.389032</td>\n",
       "      <td>0.251894</td>\n",
       "      <td>3.5</td>\n",
       "      <td>4.200</td>\n",
       "      <td>4.4</td>\n",
       "      <td>4.600</td>\n",
       "      <td>4.9</td>\n",
       "    </tr>\n",
       "    <tr>\n",
       "      <th>ENTERTAINMENT</th>\n",
       "      <td>149.0</td>\n",
       "      <td>4.126174</td>\n",
       "      <td>0.302556</td>\n",
       "      <td>3.0</td>\n",
       "      <td>3.900</td>\n",
       "      <td>4.2</td>\n",
       "      <td>4.300</td>\n",
       "      <td>4.7</td>\n",
       "    </tr>\n",
       "    <tr>\n",
       "      <th>EVENTS</th>\n",
       "      <td>45.0</td>\n",
       "      <td>4.435556</td>\n",
       "      <td>0.419499</td>\n",
       "      <td>2.9</td>\n",
       "      <td>4.200</td>\n",
       "      <td>4.5</td>\n",
       "      <td>4.700</td>\n",
       "      <td>5.0</td>\n",
       "    </tr>\n",
       "    <tr>\n",
       "      <th>FAMILY</th>\n",
       "      <td>1747.0</td>\n",
       "      <td>4.192272</td>\n",
       "      <td>0.508026</td>\n",
       "      <td>1.0</td>\n",
       "      <td>4.000</td>\n",
       "      <td>4.3</td>\n",
       "      <td>4.500</td>\n",
       "      <td>5.0</td>\n",
       "    </tr>\n",
       "    <tr>\n",
       "      <th>FINANCE</th>\n",
       "      <td>323.0</td>\n",
       "      <td>4.131889</td>\n",
       "      <td>0.642108</td>\n",
       "      <td>1.0</td>\n",
       "      <td>4.000</td>\n",
       "      <td>4.3</td>\n",
       "      <td>4.500</td>\n",
       "      <td>5.0</td>\n",
       "    </tr>\n",
       "    <tr>\n",
       "      <th>FOOD_AND_DRINK</th>\n",
       "      <td>109.0</td>\n",
       "      <td>4.166972</td>\n",
       "      <td>0.548070</td>\n",
       "      <td>1.7</td>\n",
       "      <td>4.000</td>\n",
       "      <td>4.3</td>\n",
       "      <td>4.500</td>\n",
       "      <td>5.0</td>\n",
       "    </tr>\n",
       "    <tr>\n",
       "      <th>GAME</th>\n",
       "      <td>1097.0</td>\n",
       "      <td>4.286326</td>\n",
       "      <td>0.365375</td>\n",
       "      <td>1.0</td>\n",
       "      <td>4.100</td>\n",
       "      <td>4.4</td>\n",
       "      <td>4.500</td>\n",
       "      <td>5.0</td>\n",
       "    </tr>\n",
       "    <tr>\n",
       "      <th>HEALTH_AND_FITNESS</th>\n",
       "      <td>297.0</td>\n",
       "      <td>4.277104</td>\n",
       "      <td>0.617822</td>\n",
       "      <td>1.4</td>\n",
       "      <td>4.100</td>\n",
       "      <td>4.5</td>\n",
       "      <td>4.600</td>\n",
       "      <td>5.0</td>\n",
       "    </tr>\n",
       "    <tr>\n",
       "      <th>HOUSE_AND_HOME</th>\n",
       "      <td>76.0</td>\n",
       "      <td>4.197368</td>\n",
       "      <td>0.368411</td>\n",
       "      <td>2.8</td>\n",
       "      <td>4.000</td>\n",
       "      <td>4.3</td>\n",
       "      <td>4.500</td>\n",
       "      <td>4.8</td>\n",
       "    </tr>\n",
       "    <tr>\n",
       "      <th>LIBRARIES_AND_DEMO</th>\n",
       "      <td>65.0</td>\n",
       "      <td>4.178462</td>\n",
       "      <td>0.378522</td>\n",
       "      <td>3.1</td>\n",
       "      <td>4.000</td>\n",
       "      <td>4.2</td>\n",
       "      <td>4.400</td>\n",
       "      <td>5.0</td>\n",
       "    </tr>\n",
       "    <tr>\n",
       "      <th>LIFESTYLE</th>\n",
       "      <td>314.0</td>\n",
       "      <td>4.094904</td>\n",
       "      <td>0.693907</td>\n",
       "      <td>1.5</td>\n",
       "      <td>3.800</td>\n",
       "      <td>4.2</td>\n",
       "      <td>4.600</td>\n",
       "      <td>5.0</td>\n",
       "    </tr>\n",
       "    <tr>\n",
       "      <th>MAPS_AND_NAVIGATION</th>\n",
       "      <td>124.0</td>\n",
       "      <td>4.051613</td>\n",
       "      <td>0.519926</td>\n",
       "      <td>1.9</td>\n",
       "      <td>3.775</td>\n",
       "      <td>4.2</td>\n",
       "      <td>4.400</td>\n",
       "      <td>4.9</td>\n",
       "    </tr>\n",
       "    <tr>\n",
       "      <th>MEDICAL</th>\n",
       "      <td>350.0</td>\n",
       "      <td>4.189143</td>\n",
       "      <td>0.663581</td>\n",
       "      <td>1.0</td>\n",
       "      <td>4.000</td>\n",
       "      <td>4.3</td>\n",
       "      <td>4.600</td>\n",
       "      <td>5.0</td>\n",
       "    </tr>\n",
       "    <tr>\n",
       "      <th>NEWS_AND_MAGAZINES</th>\n",
       "      <td>233.0</td>\n",
       "      <td>4.132189</td>\n",
       "      <td>0.536707</td>\n",
       "      <td>1.7</td>\n",
       "      <td>3.900</td>\n",
       "      <td>4.2</td>\n",
       "      <td>4.500</td>\n",
       "      <td>5.0</td>\n",
       "    </tr>\n",
       "    <tr>\n",
       "      <th>PARENTING</th>\n",
       "      <td>50.0</td>\n",
       "      <td>4.300000</td>\n",
       "      <td>0.517845</td>\n",
       "      <td>2.0</td>\n",
       "      <td>4.100</td>\n",
       "      <td>4.4</td>\n",
       "      <td>4.675</td>\n",
       "      <td>5.0</td>\n",
       "    </tr>\n",
       "    <tr>\n",
       "      <th>PERSONALIZATION</th>\n",
       "      <td>314.0</td>\n",
       "      <td>4.335987</td>\n",
       "      <td>0.352732</td>\n",
       "      <td>2.5</td>\n",
       "      <td>4.200</td>\n",
       "      <td>4.4</td>\n",
       "      <td>4.600</td>\n",
       "      <td>5.0</td>\n",
       "    </tr>\n",
       "    <tr>\n",
       "      <th>PHOTOGRAPHY</th>\n",
       "      <td>317.0</td>\n",
       "      <td>4.192114</td>\n",
       "      <td>0.462896</td>\n",
       "      <td>2.0</td>\n",
       "      <td>4.000</td>\n",
       "      <td>4.3</td>\n",
       "      <td>4.500</td>\n",
       "      <td>5.0</td>\n",
       "    </tr>\n",
       "    <tr>\n",
       "      <th>PRODUCTIVITY</th>\n",
       "      <td>351.0</td>\n",
       "      <td>4.211396</td>\n",
       "      <td>0.504931</td>\n",
       "      <td>1.0</td>\n",
       "      <td>4.100</td>\n",
       "      <td>4.3</td>\n",
       "      <td>4.500</td>\n",
       "      <td>5.0</td>\n",
       "    </tr>\n",
       "    <tr>\n",
       "      <th>SHOPPING</th>\n",
       "      <td>238.0</td>\n",
       "      <td>4.259664</td>\n",
       "      <td>0.404577</td>\n",
       "      <td>1.6</td>\n",
       "      <td>4.100</td>\n",
       "      <td>4.3</td>\n",
       "      <td>4.500</td>\n",
       "      <td>5.0</td>\n",
       "    </tr>\n",
       "    <tr>\n",
       "      <th>SOCIAL</th>\n",
       "      <td>259.0</td>\n",
       "      <td>4.255598</td>\n",
       "      <td>0.413809</td>\n",
       "      <td>1.9</td>\n",
       "      <td>4.100</td>\n",
       "      <td>4.3</td>\n",
       "      <td>4.500</td>\n",
       "      <td>5.0</td>\n",
       "    </tr>\n",
       "    <tr>\n",
       "      <th>SPORTS</th>\n",
       "      <td>319.0</td>\n",
       "      <td>4.223511</td>\n",
       "      <td>0.427857</td>\n",
       "      <td>1.5</td>\n",
       "      <td>4.100</td>\n",
       "      <td>4.3</td>\n",
       "      <td>4.500</td>\n",
       "      <td>5.0</td>\n",
       "    </tr>\n",
       "    <tr>\n",
       "      <th>TOOLS</th>\n",
       "      <td>734.0</td>\n",
       "      <td>4.047411</td>\n",
       "      <td>0.616143</td>\n",
       "      <td>1.0</td>\n",
       "      <td>3.800</td>\n",
       "      <td>4.2</td>\n",
       "      <td>4.400</td>\n",
       "      <td>5.0</td>\n",
       "    </tr>\n",
       "    <tr>\n",
       "      <th>TRAVEL_AND_LOCAL</th>\n",
       "      <td>226.0</td>\n",
       "      <td>4.109292</td>\n",
       "      <td>0.504691</td>\n",
       "      <td>2.2</td>\n",
       "      <td>3.900</td>\n",
       "      <td>4.3</td>\n",
       "      <td>4.400</td>\n",
       "      <td>5.0</td>\n",
       "    </tr>\n",
       "    <tr>\n",
       "      <th>VIDEO_PLAYERS</th>\n",
       "      <td>160.0</td>\n",
       "      <td>4.063750</td>\n",
       "      <td>0.551098</td>\n",
       "      <td>1.8</td>\n",
       "      <td>3.800</td>\n",
       "      <td>4.2</td>\n",
       "      <td>4.400</td>\n",
       "      <td>4.9</td>\n",
       "    </tr>\n",
       "    <tr>\n",
       "      <th>WEATHER</th>\n",
       "      <td>75.0</td>\n",
       "      <td>4.244000</td>\n",
       "      <td>0.331353</td>\n",
       "      <td>3.3</td>\n",
       "      <td>4.050</td>\n",
       "      <td>4.3</td>\n",
       "      <td>4.500</td>\n",
       "      <td>4.8</td>\n",
       "    </tr>\n",
       "  </tbody>\n",
       "</table>\n",
       "</div>"
      ],
      "text/plain": [
       "                     Rating                                                   \\\n",
       "                      count       mean       std   min     25%   50%     75%   \n",
       "Category                                                                       \n",
       "1.9                     1.0  19.000000       NaN  19.0  19.000  19.0  19.000   \n",
       "ART_AND_DESIGN         62.0   4.358065  0.358297   3.2   4.100   4.4   4.700   \n",
       "AUTO_AND_VEHICLES      73.0   4.190411  0.543692   2.1   4.000   4.3   4.600   \n",
       "BEAUTY                 42.0   4.278571  0.362603   3.1   4.000   4.3   4.575   \n",
       "BOOKS_AND_REFERENCE   178.0   4.346067  0.429046   2.7   4.100   4.5   4.600   \n",
       "BUSINESS              303.0   4.121452  0.624422   1.0   3.900   4.3   4.500   \n",
       "COMICS                 58.0   4.155172  0.537758   2.8   3.825   4.4   4.500   \n",
       "COMMUNICATION         328.0   4.158537  0.426192   1.0   4.000   4.3   4.400   \n",
       "DATING                195.0   3.970769  0.630510   1.0   3.700   4.1   4.400   \n",
       "EDUCATION             155.0   4.389032  0.251894   3.5   4.200   4.4   4.600   \n",
       "ENTERTAINMENT         149.0   4.126174  0.302556   3.0   3.900   4.2   4.300   \n",
       "EVENTS                 45.0   4.435556  0.419499   2.9   4.200   4.5   4.700   \n",
       "FAMILY               1747.0   4.192272  0.508026   1.0   4.000   4.3   4.500   \n",
       "FINANCE               323.0   4.131889  0.642108   1.0   4.000   4.3   4.500   \n",
       "FOOD_AND_DRINK        109.0   4.166972  0.548070   1.7   4.000   4.3   4.500   \n",
       "GAME                 1097.0   4.286326  0.365375   1.0   4.100   4.4   4.500   \n",
       "HEALTH_AND_FITNESS    297.0   4.277104  0.617822   1.4   4.100   4.5   4.600   \n",
       "HOUSE_AND_HOME         76.0   4.197368  0.368411   2.8   4.000   4.3   4.500   \n",
       "LIBRARIES_AND_DEMO     65.0   4.178462  0.378522   3.1   4.000   4.2   4.400   \n",
       "LIFESTYLE             314.0   4.094904  0.693907   1.5   3.800   4.2   4.600   \n",
       "MAPS_AND_NAVIGATION   124.0   4.051613  0.519926   1.9   3.775   4.2   4.400   \n",
       "MEDICAL               350.0   4.189143  0.663581   1.0   4.000   4.3   4.600   \n",
       "NEWS_AND_MAGAZINES    233.0   4.132189  0.536707   1.7   3.900   4.2   4.500   \n",
       "PARENTING              50.0   4.300000  0.517845   2.0   4.100   4.4   4.675   \n",
       "PERSONALIZATION       314.0   4.335987  0.352732   2.5   4.200   4.4   4.600   \n",
       "PHOTOGRAPHY           317.0   4.192114  0.462896   2.0   4.000   4.3   4.500   \n",
       "PRODUCTIVITY          351.0   4.211396  0.504931   1.0   4.100   4.3   4.500   \n",
       "SHOPPING              238.0   4.259664  0.404577   1.6   4.100   4.3   4.500   \n",
       "SOCIAL                259.0   4.255598  0.413809   1.9   4.100   4.3   4.500   \n",
       "SPORTS                319.0   4.223511  0.427857   1.5   4.100   4.3   4.500   \n",
       "TOOLS                 734.0   4.047411  0.616143   1.0   3.800   4.2   4.400   \n",
       "TRAVEL_AND_LOCAL      226.0   4.109292  0.504691   2.2   3.900   4.3   4.400   \n",
       "VIDEO_PLAYERS         160.0   4.063750  0.551098   1.8   3.800   4.2   4.400   \n",
       "WEATHER                75.0   4.244000  0.331353   3.3   4.050   4.3   4.500   \n",
       "\n",
       "                           \n",
       "                      max  \n",
       "Category                   \n",
       "1.9                  19.0  \n",
       "ART_AND_DESIGN        5.0  \n",
       "AUTO_AND_VEHICLES     4.9  \n",
       "BEAUTY                4.9  \n",
       "BOOKS_AND_REFERENCE   5.0  \n",
       "BUSINESS              5.0  \n",
       "COMICS                5.0  \n",
       "COMMUNICATION         5.0  \n",
       "DATING                5.0  \n",
       "EDUCATION             4.9  \n",
       "ENTERTAINMENT         4.7  \n",
       "EVENTS                5.0  \n",
       "FAMILY                5.0  \n",
       "FINANCE               5.0  \n",
       "FOOD_AND_DRINK        5.0  \n",
       "GAME                  5.0  \n",
       "HEALTH_AND_FITNESS    5.0  \n",
       "HOUSE_AND_HOME        4.8  \n",
       "LIBRARIES_AND_DEMO    5.0  \n",
       "LIFESTYLE             5.0  \n",
       "MAPS_AND_NAVIGATION   4.9  \n",
       "MEDICAL               5.0  \n",
       "NEWS_AND_MAGAZINES    5.0  \n",
       "PARENTING             5.0  \n",
       "PERSONALIZATION       5.0  \n",
       "PHOTOGRAPHY           5.0  \n",
       "PRODUCTIVITY          5.0  \n",
       "SHOPPING              5.0  \n",
       "SOCIAL                5.0  \n",
       "SPORTS                5.0  \n",
       "TOOLS                 5.0  \n",
       "TRAVEL_AND_LOCAL      5.0  \n",
       "VIDEO_PLAYERS         4.9  \n",
       "WEATHER               4.8  "
      ]
     },
     "execution_count": 35,
     "metadata": {},
     "output_type": "execute_result"
    }
   ],
   "source": [
    "df2.groupby(by='Category').describe()"
   ]
  },
  {
   "cell_type": "code",
   "execution_count": 36,
   "id": "289ae12b",
   "metadata": {},
   "outputs": [
    {
     "data": {
      "image/png": "[encoded data removed]",
      "text/plain": [
       "<Figure size 864x864 with 1 Axes>"
      ]
     },
     "metadata": {
      "needs_background": "light"
     },
     "output_type": "display_data"
    }
   ],
   "source": [
    "plt.figure(figsize=(12,12))\n",
    "sns.boxplot(data=df2,y='Category',x='Rating')\n",
    "plt.xlim([0,5.1])\n",
    "plt.show()"
   ]
  },
  {
   "cell_type": "markdown",
   "id": "0868196b",
   "metadata": {},
   "source": [
    "# Q11. Are there any missing values in the dataset? Identify any missing values and describe how they may impact your analysis."
   ]
  },
  {
   "cell_type": "code",
   "execution_count": 37,
   "id": "cac34aeb",
   "metadata": {},
   "outputs": [
    {
     "data": {
      "text/plain": [
       "App                  0\n",
       "Category             0\n",
       "Rating            1474\n",
       "Reviews              0\n",
       "Size                 0\n",
       "Installs             0\n",
       "Type                 1\n",
       "Price                0\n",
       "Content Rating       1\n",
       "Genres               0\n",
       "Last Updated         0\n",
       "Current Ver          8\n",
       "Android Ver          3\n",
       "dtype: int64"
      ]
     },
     "execution_count": 37,
     "metadata": {},
     "output_type": "execute_result"
    }
   ],
   "source": [
    "df2.isnull().sum()"
   ]
  },
  {
   "cell_type": "markdown",
   "id": "6e1c1d93",
   "metadata": {},
   "source": [
    "### Insights:\n",
    "\n",
    "1. 1474 missing values found in Rating\n",
    "2. 1 Missing Value found in Type\n",
    "3. 8 Missing Values found in Current Ver\n",
    "4. 2 Missing Values found in Android Ver"
   ]
  },
  {
   "cell_type": "markdown",
   "id": "14b15815",
   "metadata": {},
   "source": [
    "### It causes :-\n",
    "1. biaseness\n",
    "2. skewed result\n",
    "3. distorted results\n",
    "4. misleading"
   ]
  },
  {
   "cell_type": "markdown",
   "id": "f8300505",
   "metadata": {},
   "source": [
    "# Q12. What is the relationship between the size of an app and its rating? Create a scatter plot to visualize the relationship."
   ]
  },
  {
   "cell_type": "code",
   "execution_count": 38,
   "id": "38fe2ad9",
   "metadata": {},
   "outputs": [
    {
     "data": {
      "text/plain": [
       "array(['19M', '14M', '8.7M', '25M', '2.8M', '5.6M', '29M', '33M', '3.1M',\n",
       "       '28M', '12M', '20M', '21M', '37M', '2.7M', '5.5M', '17M', '39M',\n",
       "       '31M', '4.2M', '7.0M', '23M', '6.0M', '6.1M', '4.6M', '9.2M',\n",
       "       '5.2M', '11M', '24M', 'Varies with device', '9.4M', '15M', '10M',\n",
       "       '1.2M', '26M', '8.0M', '7.9M', '56M', '57M', '35M', '54M', '201k',\n",
       "       '3.6M', '5.7M', '8.6M', '2.4M', '27M', '2.5M', '16M', '3.4M',\n",
       "       '8.9M', '3.9M', '2.9M', '38M', '32M', '5.4M', '18M', '1.1M',\n",
       "       '2.2M', '4.5M', '9.8M', '52M', '9.0M', '6.7M', '30M', '2.6M',\n",
       "       '7.1M', '3.7M', '22M', '7.4M', '6.4M', '3.2M', '8.2M', '9.9M',\n",
       "       '4.9M', '9.5M', '5.0M', '5.9M', '13M', '73M', '6.8M', '3.5M',\n",
       "       '4.0M', '2.3M', '7.2M', '2.1M', '42M', '7.3M', '9.1M', '55M',\n",
       "       '23k', '6.5M', '1.5M', '7.5M', '51M', '41M', '48M', '8.5M', '46M',\n",
       "       '8.3M', '4.3M', '4.7M', '3.3M', '40M', '7.8M', '8.8M', '6.6M',\n",
       "       '5.1M', '61M', '66M', '79k', '8.4M', '118k', '44M', '695k', '1.6M',\n",
       "       '6.2M', '18k', '53M', '1.4M', '3.0M', '5.8M', '3.8M', '9.6M',\n",
       "       '45M', '63M', '49M', '77M', '4.4M', '4.8M', '70M', '6.9M', '9.3M',\n",
       "       '10.0M', '8.1M', '36M', '84M', '97M', '2.0M', '1.9M', '1.8M',\n",
       "       '5.3M', '47M', '556k', '526k', '76M', '7.6M', '59M', '9.7M', '78M',\n",
       "       '72M', '43M', '7.7M', '6.3M', '334k', '34M', '93M', '65M', '79M',\n",
       "       '100M', '58M', '50M', '68M', '64M', '67M', '60M', '94M', '232k',\n",
       "       '99M', '624k', '95M', '8.5k', '41k', '292k', '11k', '80M', '1.7M',\n",
       "       '74M', '62M', '69M', '75M', '98M', '85M', '82M', '96M', '87M',\n",
       "       '71M', '86M', '91M', '81M', '92M', '83M', '88M', '704k', '862k',\n",
       "       '899k', '378k', '266k', '375k', '1.3M', '975k', '980k', '4.1M',\n",
       "       '89M', '696k', '544k', '525k', '920k', '779k', '853k', '720k',\n",
       "       '713k', '772k', '318k', '58k', '241k', '196k', '857k', '51k',\n",
       "       '953k', '865k', '251k', '930k', '540k', '313k', '746k', '203k',\n",
       "       '26k', '314k', '239k', '371k', '220k', '730k', '756k', '91k',\n",
       "       '293k', '17k', '74k', '14k', '317k', '78k', '924k', '902k', '818k',\n",
       "       '81k', '939k', '169k', '45k', '475k', '965k', '90M', '545k', '61k',\n",
       "       '283k', '655k', '714k', '93k', '872k', '121k', '322k', '1.0M',\n",
       "       '976k', '172k', '238k', '549k', '206k', '954k', '444k', '717k',\n",
       "       '210k', '609k', '308k', '705k', '306k', '904k', '473k', '175k',\n",
       "       '350k', '383k', '454k', '421k', '70k', '812k', '442k', '842k',\n",
       "       '417k', '412k', '459k', '478k', '335k', '782k', '721k', '430k',\n",
       "       '429k', '192k', '200k', '460k', '728k', '496k', '816k', '414k',\n",
       "       '506k', '887k', '613k', '243k', '569k', '778k', '683k', '592k',\n",
       "       '319k', '186k', '840k', '647k', '191k', '373k', '437k', '598k',\n",
       "       '716k', '585k', '982k', '222k', '219k', '55k', '948k', '323k',\n",
       "       '691k', '511k', '951k', '963k', '25k', '554k', '351k', '27k',\n",
       "       '82k', '208k', '913k', '514k', '551k', '29k', '103k', '898k',\n",
       "       '743k', '116k', '153k', '209k', '353k', '499k', '173k', '597k',\n",
       "       '809k', '122k', '411k', '400k', '801k', '787k', '237k', '50k',\n",
       "       '643k', '986k', '97k', '516k', '837k', '780k', '961k', '269k',\n",
       "       '20k', '498k', '600k', '749k', '642k', '881k', '72k', '656k',\n",
       "       '601k', '221k', '228k', '108k', '940k', '176k', '33k', '663k',\n",
       "       '34k', '942k', '259k', '164k', '458k', '245k', '629k', '28k',\n",
       "       '288k', '775k', '785k', '636k', '916k', '994k', '309k', '485k',\n",
       "       '914k', '903k', '608k', '500k', '54k', '562k', '847k', '957k',\n",
       "       '688k', '811k', '270k', '48k', '329k', '523k', '921k', '874k',\n",
       "       '981k', '784k', '280k', '24k', '518k', '754k', '892k', '154k',\n",
       "       '860k', '364k', '387k', '626k', '161k', '879k', '39k', '970k',\n",
       "       '170k', '141k', '160k', '144k', '143k', '190k', '376k', '193k',\n",
       "       '246k', '73k', '658k', '992k', '253k', '420k', '404k', '1,000+',\n",
       "       '470k', '226k', '240k', '89k', '234k', '257k', '861k', '467k',\n",
       "       '157k', '44k', '676k', '67k', '552k', '885k', '1020k', '582k',\n",
       "       '619k'], dtype=object)"
      ]
     },
     "execution_count": 38,
     "metadata": {},
     "output_type": "execute_result"
    }
   ],
   "source": [
    "import numpy as np\n",
    "df2['Size'].unique()"
   ]
  },
  {
   "cell_type": "code",
   "execution_count": 60,
   "id": "82f44403",
   "metadata": {
    "scrolled": true
   },
   "outputs": [],
   "source": [
    "df2['Size']=df2['Size'].str.replace('M','000')\n",
    "df2['Size']=df2['Size'].str.replace('k','')\n",
    "df2['Size'] = df2['Size'].replace('Varies with device',np.nan)\n",
    "df2['Size'] = df2['Size'].replace('1,000+',1)"
   ]
  },
  {
   "cell_type": "code",
   "execution_count": 61,
   "id": "b51564a7",
   "metadata": {},
   "outputs": [],
   "source": [
    "df2['Size'] = df2['Size'].astype(float)"
   ]
  },
  {
   "cell_type": "code",
   "execution_count": 64,
   "id": "0a813e7d",
   "metadata": {},
   "outputs": [
    {
     "data": {
      "image/png": "[encoded data removed]",
      "text/plain": [
       "<Figure size 864x864 with 1 Axes>"
      ]
     },
     "metadata": {
      "needs_background": "light"
     },
     "output_type": "display_data"
    }
   ],
   "source": [
    "plt.figure(figsize=(12,12))\n",
    "plt.scatter(data=df2,x='Size',y='Rating',alpha=0.5)\n",
    "plt.xlabel('Size')\n",
    "plt.ylabel('Rating')\n",
    "plt.title('Rating vs App Size scatterplot')\n",
    "plt.show()"
   ]
  },
  {
   "cell_type": "markdown",
   "id": "92bc83da",
   "metadata": {},
   "source": [
    "# Q13. How does the type of app affect its price? Create a bar chart to compare average prices by app type."
   ]
  },
  {
   "cell_type": "code",
   "execution_count": 65,
   "id": "6ba5cb95",
   "metadata": {},
   "outputs": [
    {
     "name": "stderr",
     "output_type": "stream",
     "text": [
      "C:\\Users\\SAMPADA\\AppData\\Local\\Temp/ipykernel_10672/2893456492.py:1: FutureWarning: The default value of regex will change from True to False in a future version. In addition, single character regular expressions will *not* be treated as literal strings when regex=True.\n",
      "  df2['Price']=df2['Price'].str.replace('$','')\n"
     ]
    }
   ],
   "source": [
    "df2['Price']=df2['Price'].str.replace('$','')"
   ]
  },
  {
   "cell_type": "code",
   "execution_count": 67,
   "id": "6895ca73",
   "metadata": {},
   "outputs": [
    {
     "data": {
      "text/plain": [
       "array(['0', '4.99', '3.99', '6.99', '1.49', '2.99', '7.99', '5.99',\n",
       "       '3.49', '1.99', '9.99', '7.49', '0.99', '9.00', '5.49', '10.00',\n",
       "       '24.99', '11.99', '79.99', '16.99', '14.99', '1.00', '29.99',\n",
       "       '12.99', '2.49', '10.99', '1.50', '19.99', '15.99', '33.99',\n",
       "       '74.99', '39.99', '3.95', '4.49', '1.70', '8.99', '2.00', '3.88',\n",
       "       '25.99', '399.99', '17.99', '400.00', '3.02', '1.76', '4.84',\n",
       "       '4.77', '1.61', '2.50', '1.59', '6.49', '1.29', '5.00', '13.99',\n",
       "       '299.99', '379.99', '37.99', '18.99', '389.99', '19.90', '8.49',\n",
       "       '1.75', '14.00', '4.85', '46.99', '109.99', '154.99', '3.08',\n",
       "       '2.59', '4.80', '1.96', '19.40', '3.90', '4.59', '15.46', '3.04',\n",
       "       '4.29', '2.60', '3.28', '4.60', '28.99', '2.95', '2.90', '1.97',\n",
       "       '200.00', '89.99', '2.56', '30.99', '3.61', '394.99', '1.26',\n",
       "       'Everyone', '1.20', '1.04'], dtype=object)"
      ]
     },
     "execution_count": 67,
     "metadata": {},
     "output_type": "execute_result"
    }
   ],
   "source": [
    "df2['Price'].unique()"
   ]
  },
  {
   "cell_type": "code",
   "execution_count": 69,
   "id": "38beb733",
   "metadata": {
    "scrolled": true
   },
   "outputs": [
    {
     "data": {
      "text/html": [
       "<div>\n",
       "<style scoped>\n",
       "    .dataframe tbody tr th:only-of-type {\n",
       "        vertical-align: middle;\n",
       "    }\n",
       "\n",
       "    .dataframe tbody tr th {\n",
       "        vertical-align: top;\n",
       "    }\n",
       "\n",
       "    .dataframe thead th {\n",
       "        text-align: right;\n",
       "    }\n",
       "</style>\n",
       "<table border=\"1\" class=\"dataframe\">\n",
       "  <thead>\n",
       "    <tr style=\"text-align: right;\">\n",
       "      <th></th>\n",
       "      <th>App</th>\n",
       "      <th>Category</th>\n",
       "      <th>Rating</th>\n",
       "      <th>Reviews</th>\n",
       "      <th>Size</th>\n",
       "      <th>Installs</th>\n",
       "      <th>Type</th>\n",
       "      <th>Price</th>\n",
       "      <th>Content Rating</th>\n",
       "      <th>Genres</th>\n",
       "      <th>Last Updated</th>\n",
       "      <th>Current Ver</th>\n",
       "      <th>Android Ver</th>\n",
       "    </tr>\n",
       "  </thead>\n",
       "  <tbody>\n",
       "    <tr>\n",
       "      <th>10472</th>\n",
       "      <td>Life Made WI-Fi Touchscreen Photo Frame</td>\n",
       "      <td>1.9</td>\n",
       "      <td>19.0</td>\n",
       "      <td>3.0M</td>\n",
       "      <td>1.0</td>\n",
       "      <td>Free</td>\n",
       "      <td>0</td>\n",
       "      <td>Everyone</td>\n",
       "      <td>NaN</td>\n",
       "      <td>February 11, 2018</td>\n",
       "      <td>1.0.19</td>\n",
       "      <td>4.0 and up</td>\n",
       "      <td>NaN</td>\n",
       "    </tr>\n",
       "  </tbody>\n",
       "</table>\n",
       "</div>"
      ],
      "text/plain": [
       "                                           App Category  Rating Reviews  Size  \\\n",
       "10472  Life Made WI-Fi Touchscreen Photo Frame      1.9    19.0    3.0M   1.0   \n",
       "\n",
       "      Installs Type     Price Content Rating             Genres Last Updated  \\\n",
       "10472     Free    0  Everyone            NaN  February 11, 2018       1.0.19   \n",
       "\n",
       "      Current Ver Android Ver  \n",
       "10472  4.0 and up         NaN  "
      ]
     },
     "execution_count": 69,
     "metadata": {},
     "output_type": "execute_result"
    }
   ],
   "source": [
    "df2[df2.Price=='Everyone']"
   ]
  },
  {
   "cell_type": "code",
   "execution_count": 70,
   "id": "5c52c983",
   "metadata": {},
   "outputs": [],
   "source": [
    "df2=df2.drop(index=10472,axis=0)"
   ]
  },
  {
   "cell_type": "code",
   "execution_count": 72,
   "id": "77f91190",
   "metadata": {},
   "outputs": [],
   "source": [
    "df2['Price'] = df2['Price'].astype(float)"
   ]
  },
  {
   "cell_type": "code",
   "execution_count": 73,
   "id": "7826937e",
   "metadata": {},
   "outputs": [
    {
     "data": {
      "text/html": [
       "<div>\n",
       "<style scoped>\n",
       "    .dataframe tbody tr th:only-of-type {\n",
       "        vertical-align: middle;\n",
       "    }\n",
       "\n",
       "    .dataframe tbody tr th {\n",
       "        vertical-align: top;\n",
       "    }\n",
       "\n",
       "    .dataframe thead th {\n",
       "        text-align: right;\n",
       "    }\n",
       "</style>\n",
       "<table border=\"1\" class=\"dataframe\">\n",
       "  <thead>\n",
       "    <tr style=\"text-align: right;\">\n",
       "      <th></th>\n",
       "      <th>App</th>\n",
       "      <th>Category</th>\n",
       "      <th>Rating</th>\n",
       "      <th>Reviews</th>\n",
       "      <th>Size</th>\n",
       "      <th>Installs</th>\n",
       "      <th>Type</th>\n",
       "      <th>Price</th>\n",
       "      <th>Content Rating</th>\n",
       "      <th>Genres</th>\n",
       "      <th>Last Updated</th>\n",
       "      <th>Current Ver</th>\n",
       "      <th>Android Ver</th>\n",
       "    </tr>\n",
       "  </thead>\n",
       "  <tbody>\n",
       "    <tr>\n",
       "      <th>0</th>\n",
       "      <td>Photo Editor &amp; Candy Camera &amp; Grid &amp; ScrapBook</td>\n",
       "      <td>ART_AND_DESIGN</td>\n",
       "      <td>4.1</td>\n",
       "      <td>159</td>\n",
       "      <td>19000.0</td>\n",
       "      <td>10,000+</td>\n",
       "      <td>Free</td>\n",
       "      <td>0.0</td>\n",
       "      <td>Everyone</td>\n",
       "      <td>Art &amp; Design</td>\n",
       "      <td>January 7, 2018</td>\n",
       "      <td>1.0.0</td>\n",
       "      <td>4.0.3 and up</td>\n",
       "    </tr>\n",
       "    <tr>\n",
       "      <th>1</th>\n",
       "      <td>Coloring book moana</td>\n",
       "      <td>ART_AND_DESIGN</td>\n",
       "      <td>3.9</td>\n",
       "      <td>967</td>\n",
       "      <td>14000.0</td>\n",
       "      <td>500,000+</td>\n",
       "      <td>Free</td>\n",
       "      <td>0.0</td>\n",
       "      <td>Everyone</td>\n",
       "      <td>Art &amp; Design;Pretend Play</td>\n",
       "      <td>January 15, 2018</td>\n",
       "      <td>2.0.0</td>\n",
       "      <td>4.0.3 and up</td>\n",
       "    </tr>\n",
       "    <tr>\n",
       "      <th>2</th>\n",
       "      <td>U Launcher Lite – FREE Live Cool Themes, Hide ...</td>\n",
       "      <td>ART_AND_DESIGN</td>\n",
       "      <td>4.7</td>\n",
       "      <td>87510</td>\n",
       "      <td>8.7</td>\n",
       "      <td>5,000,000+</td>\n",
       "      <td>Free</td>\n",
       "      <td>0.0</td>\n",
       "      <td>Everyone</td>\n",
       "      <td>Art &amp; Design</td>\n",
       "      <td>August 1, 2018</td>\n",
       "      <td>1.2.4</td>\n",
       "      <td>4.0.3 and up</td>\n",
       "    </tr>\n",
       "    <tr>\n",
       "      <th>3</th>\n",
       "      <td>Sketch - Draw &amp; Paint</td>\n",
       "      <td>ART_AND_DESIGN</td>\n",
       "      <td>4.5</td>\n",
       "      <td>215644</td>\n",
       "      <td>25000.0</td>\n",
       "      <td>50,000,000+</td>\n",
       "      <td>Free</td>\n",
       "      <td>0.0</td>\n",
       "      <td>Teen</td>\n",
       "      <td>Art &amp; Design</td>\n",
       "      <td>June 8, 2018</td>\n",
       "      <td>Varies with device</td>\n",
       "      <td>4.2 and up</td>\n",
       "    </tr>\n",
       "    <tr>\n",
       "      <th>4</th>\n",
       "      <td>Pixel Draw - Number Art Coloring Book</td>\n",
       "      <td>ART_AND_DESIGN</td>\n",
       "      <td>4.3</td>\n",
       "      <td>967</td>\n",
       "      <td>2.8</td>\n",
       "      <td>100,000+</td>\n",
       "      <td>Free</td>\n",
       "      <td>0.0</td>\n",
       "      <td>Everyone</td>\n",
       "      <td>Art &amp; Design;Creativity</td>\n",
       "      <td>June 20, 2018</td>\n",
       "      <td>1.1</td>\n",
       "      <td>4.4 and up</td>\n",
       "    </tr>\n",
       "  </tbody>\n",
       "</table>\n",
       "</div>"
      ],
      "text/plain": [
       "                                                 App        Category  Rating  \\\n",
       "0     Photo Editor & Candy Camera & Grid & ScrapBook  ART_AND_DESIGN     4.1   \n",
       "1                                Coloring book moana  ART_AND_DESIGN     3.9   \n",
       "2  U Launcher Lite – FREE Live Cool Themes, Hide ...  ART_AND_DESIGN     4.7   \n",
       "3                              Sketch - Draw & Paint  ART_AND_DESIGN     4.5   \n",
       "4              Pixel Draw - Number Art Coloring Book  ART_AND_DESIGN     4.3   \n",
       "\n",
       "  Reviews     Size     Installs  Type  Price Content Rating  \\\n",
       "0     159  19000.0      10,000+  Free    0.0       Everyone   \n",
       "1     967  14000.0     500,000+  Free    0.0       Everyone   \n",
       "2   87510      8.7   5,000,000+  Free    0.0       Everyone   \n",
       "3  215644  25000.0  50,000,000+  Free    0.0           Teen   \n",
       "4     967      2.8     100,000+  Free    0.0       Everyone   \n",
       "\n",
       "                      Genres      Last Updated         Current Ver  \\\n",
       "0               Art & Design   January 7, 2018               1.0.0   \n",
       "1  Art & Design;Pretend Play  January 15, 2018               2.0.0   \n",
       "2               Art & Design    August 1, 2018               1.2.4   \n",
       "3               Art & Design      June 8, 2018  Varies with device   \n",
       "4    Art & Design;Creativity     June 20, 2018                 1.1   \n",
       "\n",
       "    Android Ver  \n",
       "0  4.0.3 and up  \n",
       "1  4.0.3 and up  \n",
       "2  4.0.3 and up  \n",
       "3    4.2 and up  \n",
       "4    4.4 and up  "
      ]
     },
     "execution_count": 73,
     "metadata": {},
     "output_type": "execute_result"
    }
   ],
   "source": [
    "df2.head()"
   ]
  },
  {
   "cell_type": "code",
   "execution_count": 74,
   "id": "d77ca874",
   "metadata": {},
   "outputs": [
    {
     "data": {
      "text/plain": [
       "Type\n",
       "Free    10039\n",
       "Paid      800\n",
       "Name: Type, dtype: int64"
      ]
     },
     "execution_count": 74,
     "metadata": {},
     "output_type": "execute_result"
    }
   ],
   "source": [
    "df2.groupby(by='Type').Type.count()"
   ]
  },
  {
   "cell_type": "code",
   "execution_count": 77,
   "id": "f2004243",
   "metadata": {},
   "outputs": [
    {
     "data": {
      "text/plain": [
       "<AxesSubplot:xlabel='Type'>"
      ]
     },
     "execution_count": 77,
     "metadata": {},
     "output_type": "execute_result"
    },
    {
     "data": {
      "image/png": "[encoded data removed]",
      "text/plain": [
       "<Figure size 432x288 with 1 Axes>"
      ]
     },
     "metadata": {
      "needs_background": "light"
     },
     "output_type": "display_data"
    }
   ],
   "source": [
    "df2.groupby(by='Type').Type.count().plot(kind='bar')"
   ]
  },
  {
   "cell_type": "code",
   "execution_count": 80,
   "id": "b69eed15",
   "metadata": {},
   "outputs": [
    {
     "data": {
      "text/plain": [
       "Type\n",
       "Free     0.000000\n",
       "Paid    13.920837\n",
       "Name: Price, dtype: float64"
      ]
     },
     "execution_count": 80,
     "metadata": {},
     "output_type": "execute_result"
    }
   ],
   "source": [
    "df2.groupby(by='Type').mean()['Price']"
   ]
  },
  {
   "cell_type": "code",
   "execution_count": 79,
   "id": "3bda6d39",
   "metadata": {
    "scrolled": true
   },
   "outputs": [
    {
     "data": {
      "text/plain": [
       "<AxesSubplot:xlabel='Type'>"
      ]
     },
     "execution_count": 79,
     "metadata": {},
     "output_type": "execute_result"
    },
    {
     "data": {
      "image/png": "[encoded data removed]",
      "text/plain": [
       "<Figure size 432x288 with 1 Axes>"
      ]
     },
     "metadata": {
      "needs_background": "light"
     },
     "output_type": "display_data"
    }
   ],
   "source": [
    "df2.groupby(by='Type').mean()['Price'].plot(kind='bar')"
   ]
  },
  {
   "cell_type": "markdown",
   "id": "9893f09d",
   "metadata": {},
   "source": [
    "# Q14. What are the top 10 most popular apps in the dataset? Create a frequency table to identify the apps with the highest number of installs."
   ]
  },
  {
   "cell_type": "code",
   "execution_count": 84,
   "id": "7100d29e",
   "metadata": {},
   "outputs": [
    {
     "name": "stderr",
     "output_type": "stream",
     "text": [
      "C:\\Users\\SAMPADA\\AppData\\Local\\Temp/ipykernel_10672/3815803166.py:1: FutureWarning: The default value of regex will change from True to False in a future version. In addition, single character regular expressions will *not* be treated as literal strings when regex=True.\n",
      "  df2['Installs']=df2['Installs'].str.replace('+','')\n"
     ]
    }
   ],
   "source": [
    "df2['Installs']=df2['Installs'].str.replace('+','')\n",
    "df2['Installs']=df2['Installs'].str.replace(',','')"
   ]
  },
  {
   "cell_type": "code",
   "execution_count": 85,
   "id": "64fb20e4",
   "metadata": {
    "scrolled": false
   },
   "outputs": [
    {
     "data": {
      "text/plain": [
       "array(['10000', '500000', '5000000', '50000000', '100000', '50000',\n",
       "       '1000000', '10000000', '5000', '100000000', '1000000000', '1000',\n",
       "       '500000000', '50', '100', '500', '10', '1', '5', '0'], dtype=object)"
      ]
     },
     "execution_count": 85,
     "metadata": {},
     "output_type": "execute_result"
    }
   ],
   "source": [
    "df2['Installs'].unique()"
   ]
  },
  {
   "cell_type": "code",
   "execution_count": 87,
   "id": "c3c0d73b",
   "metadata": {},
   "outputs": [
    {
     "data": {
      "text/plain": [
       "1181"
      ]
     },
     "execution_count": 87,
     "metadata": {},
     "output_type": "execute_result"
    }
   ],
   "source": [
    "df2['App'].duplicated().sum()"
   ]
  },
  {
   "cell_type": "code",
   "execution_count": 88,
   "id": "96998c07",
   "metadata": {},
   "outputs": [],
   "source": [
    "df2=df2.drop_duplicates(subset=['App'],keep='first')"
   ]
  },
  {
   "cell_type": "code",
   "execution_count": 89,
   "id": "d484ae7b",
   "metadata": {},
   "outputs": [],
   "source": [
    "df2['Installs']=df2['Installs'].astype(int)"
   ]
  },
  {
   "cell_type": "code",
   "execution_count": 98,
   "id": "655e3506",
   "metadata": {},
   "outputs": [
    {
     "data": {
      "text/html": [
       "<div>\n",
       "<style scoped>\n",
       "    .dataframe tbody tr th:only-of-type {\n",
       "        vertical-align: middle;\n",
       "    }\n",
       "\n",
       "    .dataframe tbody tr th {\n",
       "        vertical-align: top;\n",
       "    }\n",
       "\n",
       "    .dataframe thead th {\n",
       "        text-align: right;\n",
       "    }\n",
       "</style>\n",
       "<table border=\"1\" class=\"dataframe\">\n",
       "  <thead>\n",
       "    <tr style=\"text-align: right;\">\n",
       "      <th></th>\n",
       "      <th>App</th>\n",
       "      <th>Installs</th>\n",
       "      <th>Rating</th>\n",
       "    </tr>\n",
       "  </thead>\n",
       "  <tbody>\n",
       "    <tr>\n",
       "      <th>1654</th>\n",
       "      <td>Subway Surfers</td>\n",
       "      <td>1000000000</td>\n",
       "      <td>4.5</td>\n",
       "    </tr>\n",
       "    <tr>\n",
       "      <th>2545</th>\n",
       "      <td>Instagram</td>\n",
       "      <td>1000000000</td>\n",
       "      <td>4.5</td>\n",
       "    </tr>\n",
       "    <tr>\n",
       "      <th>2808</th>\n",
       "      <td>Google Photos</td>\n",
       "      <td>1000000000</td>\n",
       "      <td>4.5</td>\n",
       "    </tr>\n",
       "    <tr>\n",
       "      <th>336</th>\n",
       "      <td>WhatsApp Messenger</td>\n",
       "      <td>1000000000</td>\n",
       "      <td>4.4</td>\n",
       "    </tr>\n",
       "    <tr>\n",
       "      <th>3234</th>\n",
       "      <td>Google</td>\n",
       "      <td>1000000000</td>\n",
       "      <td>4.4</td>\n",
       "    </tr>\n",
       "    <tr>\n",
       "      <th>3454</th>\n",
       "      <td>Google Drive</td>\n",
       "      <td>1000000000</td>\n",
       "      <td>4.4</td>\n",
       "    </tr>\n",
       "    <tr>\n",
       "      <th>338</th>\n",
       "      <td>Google Chrome: Fast &amp; Secure</td>\n",
       "      <td>1000000000</td>\n",
       "      <td>4.3</td>\n",
       "    </tr>\n",
       "    <tr>\n",
       "      <th>340</th>\n",
       "      <td>Gmail</td>\n",
       "      <td>1000000000</td>\n",
       "      <td>4.3</td>\n",
       "    </tr>\n",
       "    <tr>\n",
       "      <th>865</th>\n",
       "      <td>Google Play Games</td>\n",
       "      <td>1000000000</td>\n",
       "      <td>4.3</td>\n",
       "    </tr>\n",
       "    <tr>\n",
       "      <th>3117</th>\n",
       "      <td>Maps - Navigate &amp; Explore</td>\n",
       "      <td>1000000000</td>\n",
       "      <td>4.3</td>\n",
       "    </tr>\n",
       "  </tbody>\n",
       "</table>\n",
       "</div>"
      ],
      "text/plain": [
       "                               App    Installs  Rating\n",
       "1654                Subway Surfers  1000000000     4.5\n",
       "2545                     Instagram  1000000000     4.5\n",
       "2808                 Google Photos  1000000000     4.5\n",
       "336             WhatsApp Messenger  1000000000     4.4\n",
       "3234                        Google  1000000000     4.4\n",
       "3454                  Google Drive  1000000000     4.4\n",
       "338   Google Chrome: Fast & Secure  1000000000     4.3\n",
       "340                          Gmail  1000000000     4.3\n",
       "865              Google Play Games  1000000000     4.3\n",
       "3117     Maps - Navigate & Explore  1000000000     4.3"
      ]
     },
     "execution_count": 98,
     "metadata": {},
     "output_type": "execute_result"
    }
   ],
   "source": [
    "top_10_apps = df2.sort_values(by=['Installs','Rating'],ascending=False).head(10)[['App','Installs','Rating']]\n",
    "top_10_apps"
   ]
  },
  {
   "cell_type": "markdown",
   "id": "32d0e7c1",
   "metadata": {},
   "source": [
    "# Q15. A company wants to launch a new app on the Google Playstore and has asked you to analyze the Google Playstore dataset to identify the most popular app categories. How would you approach this task, and what features would you analyze to make recommendations to the company?"
   ]
  },
  {
   "cell_type": "code",
   "execution_count": 99,
   "id": "ef7b3081",
   "metadata": {},
   "outputs": [
    {
     "data": {
      "text/plain": [
       "FAMILY                 1832\n",
       "GAME                    959\n",
       "TOOLS                   827\n",
       "BUSINESS                420\n",
       "MEDICAL                 395\n",
       "PERSONALIZATION         376\n",
       "PRODUCTIVITY            374\n",
       "LIFESTYLE               369\n",
       "FINANCE                 345\n",
       "SPORTS                  325\n",
       "COMMUNICATION           315\n",
       "HEALTH_AND_FITNESS      288\n",
       "PHOTOGRAPHY             281\n",
       "NEWS_AND_MAGAZINES      254\n",
       "SOCIAL                  239\n",
       "BOOKS_AND_REFERENCE     222\n",
       "TRAVEL_AND_LOCAL        219\n",
       "SHOPPING                202\n",
       "DATING                  171\n",
       "VIDEO_PLAYERS           163\n",
       "MAPS_AND_NAVIGATION     131\n",
       "EDUCATION               119\n",
       "FOOD_AND_DRINK          112\n",
       "ENTERTAINMENT           102\n",
       "AUTO_AND_VEHICLES        85\n",
       "LIBRARIES_AND_DEMO       84\n",
       "WEATHER                  79\n",
       "HOUSE_AND_HOME           74\n",
       "EVENTS                   64\n",
       "ART_AND_DESIGN           64\n",
       "PARENTING                60\n",
       "COMICS                   56\n",
       "BEAUTY                   53\n",
       "Name: Category, dtype: int64"
      ]
     },
     "execution_count": 99,
     "metadata": {},
     "output_type": "execute_result"
    }
   ],
   "source": [
    "df2['Category'].value_counts()"
   ]
  },
  {
   "cell_type": "code",
   "execution_count": 100,
   "id": "7642d780",
   "metadata": {},
   "outputs": [
    {
     "data": {
      "text/plain": [
       "<AxesSubplot:title={'center':'Value Count of App Categories'}>"
      ]
     },
     "execution_count": 100,
     "metadata": {},
     "output_type": "execute_result"
    },
    {
     "data": {
      "image/png": "[encoded data removed]",
      "text/plain": [
       "<Figure size 720x720 with 1 Axes>"
      ]
     },
     "metadata": {
      "needs_background": "light"
     },
     "output_type": "display_data"
    }
   ],
   "source": [
    "df2['Category'].value_counts().plot(kind='bar',figsize=(10,10),title='Value Count of App Categories')"
   ]
  },
  {
   "cell_type": "code",
   "execution_count": 101,
   "id": "8c9abc97",
   "metadata": {},
   "outputs": [
    {
     "data": {
      "text/plain": [
       "Category\n",
       "EVENTS                 4.435556\n",
       "EDUCATION              4.364407\n",
       "ART_AND_DESIGN         4.357377\n",
       "BOOKS_AND_REFERENCE    4.344970\n",
       "PERSONALIZATION        4.332215\n",
       "PARENTING              4.300000\n",
       "BEAUTY                 4.278571\n",
       "GAME                   4.247368\n",
       "SOCIAL                 4.247291\n",
       "WEATHER                4.243056\n",
       "HEALTH_AND_FITNESS     4.243033\n",
       "SHOPPING               4.230000\n",
       "SPORTS                 4.216154\n",
       "AUTO_AND_VEHICLES      4.190411\n",
       "PRODUCTIVITY           4.183389\n",
       "COMICS                 4.181481\n",
       "FAMILY                 4.179664\n",
       "LIBRARIES_AND_DEMO     4.178125\n",
       "FOOD_AND_DRINK         4.172340\n",
       "MEDICAL                4.166552\n",
       "PHOTOGRAPHY            4.157414\n",
       "HOUSE_AND_HOME         4.150000\n",
       "ENTERTAINMENT          4.135294\n",
       "NEWS_AND_MAGAZINES     4.121569\n",
       "COMMUNICATION          4.121484\n",
       "FINANCE                4.115563\n",
       "BUSINESS               4.098479\n",
       "LIFESTYLE              4.093355\n",
       "TRAVEL_AND_LOCAL       4.069519\n",
       "VIDEO_PLAYERS          4.044595\n",
       "TOOLS                  4.039554\n",
       "MAPS_AND_NAVIGATION    4.036441\n",
       "DATING                 3.970149\n",
       "Name: Rating, dtype: float64"
      ]
     },
     "execution_count": 101,
     "metadata": {},
     "output_type": "execute_result"
    }
   ],
   "source": [
    "df2.groupby(by='Category').mean()['Rating'].sort_values(ascending=False)"
   ]
  },
  {
   "cell_type": "code",
   "execution_count": 106,
   "id": "a3a79502",
   "metadata": {},
   "outputs": [
    {
     "data": {
      "text/plain": [
       "<AxesSubplot:title={'center':'Average Review per category'}, xlabel='Category'>"
      ]
     },
     "execution_count": 106,
     "metadata": {},
     "output_type": "execute_result"
    },
    {
     "data": {
      "image/png": "[encoded data removed]",
      "text/plain": [
       "<Figure size 720x720 with 1 Axes>"
      ]
     },
     "metadata": {
      "needs_background": "light"
     },
     "output_type": "display_data"
    }
   ],
   "source": [
    "df2.groupby(by='Category').mean()['Rating'].sort_values(ascending=False).plot(kind='bar',\n",
    "                                                                                  figsize=(10,10),\n",
    "                                                                                  title = 'Average Review per category')"
   ]
  },
  {
   "cell_type": "markdown",
   "id": "b0b67099",
   "metadata": {},
   "source": [
    "# Q16. A mobile app development company wants to analyze the Google Playstore dataset to identify the most successful app developers. What features would you analyze to make recommendations to the company, and what data visualizations would you use to present your findings?"
   ]
  },
  {
   "cell_type": "code",
   "execution_count": 109,
   "id": "7cc3cf90",
   "metadata": {},
   "outputs": [
    {
     "data": {
      "text/html": [
       "<div>\n",
       "<style scoped>\n",
       "    .dataframe tbody tr th:only-of-type {\n",
       "        vertical-align: middle;\n",
       "    }\n",
       "\n",
       "    .dataframe tbody tr th {\n",
       "        vertical-align: top;\n",
       "    }\n",
       "\n",
       "    .dataframe thead th {\n",
       "        text-align: right;\n",
       "    }\n",
       "</style>\n",
       "<table border=\"1\" class=\"dataframe\">\n",
       "  <thead>\n",
       "    <tr style=\"text-align: right;\">\n",
       "      <th></th>\n",
       "      <th>App</th>\n",
       "      <th>Category</th>\n",
       "      <th>Rating</th>\n",
       "      <th>Reviews</th>\n",
       "      <th>Size</th>\n",
       "      <th>Installs</th>\n",
       "      <th>Type</th>\n",
       "      <th>Price</th>\n",
       "      <th>Content Rating</th>\n",
       "      <th>Genres</th>\n",
       "      <th>Last Updated</th>\n",
       "      <th>Current Ver</th>\n",
       "      <th>Android Ver</th>\n",
       "    </tr>\n",
       "  </thead>\n",
       "  <tbody>\n",
       "    <tr>\n",
       "      <th>0</th>\n",
       "      <td>Photo Editor &amp; Candy Camera &amp; Grid &amp; ScrapBook</td>\n",
       "      <td>ART_AND_DESIGN</td>\n",
       "      <td>4.1</td>\n",
       "      <td>159</td>\n",
       "      <td>19000.0</td>\n",
       "      <td>10000</td>\n",
       "      <td>Free</td>\n",
       "      <td>0.0</td>\n",
       "      <td>Everyone</td>\n",
       "      <td>Art &amp; Design</td>\n",
       "      <td>January 7, 2018</td>\n",
       "      <td>1.0.0</td>\n",
       "      <td>4.0.3 and up</td>\n",
       "    </tr>\n",
       "    <tr>\n",
       "      <th>1</th>\n",
       "      <td>Coloring book moana</td>\n",
       "      <td>ART_AND_DESIGN</td>\n",
       "      <td>3.9</td>\n",
       "      <td>967</td>\n",
       "      <td>14000.0</td>\n",
       "      <td>500000</td>\n",
       "      <td>Free</td>\n",
       "      <td>0.0</td>\n",
       "      <td>Everyone</td>\n",
       "      <td>Art &amp; Design;Pretend Play</td>\n",
       "      <td>January 15, 2018</td>\n",
       "      <td>2.0.0</td>\n",
       "      <td>4.0.3 and up</td>\n",
       "    </tr>\n",
       "    <tr>\n",
       "      <th>2</th>\n",
       "      <td>U Launcher Lite – FREE Live Cool Themes, Hide ...</td>\n",
       "      <td>ART_AND_DESIGN</td>\n",
       "      <td>4.7</td>\n",
       "      <td>87510</td>\n",
       "      <td>8.7</td>\n",
       "      <td>5000000</td>\n",
       "      <td>Free</td>\n",
       "      <td>0.0</td>\n",
       "      <td>Everyone</td>\n",
       "      <td>Art &amp; Design</td>\n",
       "      <td>August 1, 2018</td>\n",
       "      <td>1.2.4</td>\n",
       "      <td>4.0.3 and up</td>\n",
       "    </tr>\n",
       "    <tr>\n",
       "      <th>3</th>\n",
       "      <td>Sketch - Draw &amp; Paint</td>\n",
       "      <td>ART_AND_DESIGN</td>\n",
       "      <td>4.5</td>\n",
       "      <td>215644</td>\n",
       "      <td>25000.0</td>\n",
       "      <td>50000000</td>\n",
       "      <td>Free</td>\n",
       "      <td>0.0</td>\n",
       "      <td>Teen</td>\n",
       "      <td>Art &amp; Design</td>\n",
       "      <td>June 8, 2018</td>\n",
       "      <td>Varies with device</td>\n",
       "      <td>4.2 and up</td>\n",
       "    </tr>\n",
       "    <tr>\n",
       "      <th>4</th>\n",
       "      <td>Pixel Draw - Number Art Coloring Book</td>\n",
       "      <td>ART_AND_DESIGN</td>\n",
       "      <td>4.3</td>\n",
       "      <td>967</td>\n",
       "      <td>2.8</td>\n",
       "      <td>100000</td>\n",
       "      <td>Free</td>\n",
       "      <td>0.0</td>\n",
       "      <td>Everyone</td>\n",
       "      <td>Art &amp; Design;Creativity</td>\n",
       "      <td>June 20, 2018</td>\n",
       "      <td>1.1</td>\n",
       "      <td>4.4 and up</td>\n",
       "    </tr>\n",
       "  </tbody>\n",
       "</table>\n",
       "</div>"
      ],
      "text/plain": [
       "                                                 App        Category  Rating  \\\n",
       "0     Photo Editor & Candy Camera & Grid & ScrapBook  ART_AND_DESIGN     4.1   \n",
       "1                                Coloring book moana  ART_AND_DESIGN     3.9   \n",
       "2  U Launcher Lite – FREE Live Cool Themes, Hide ...  ART_AND_DESIGN     4.7   \n",
       "3                              Sketch - Draw & Paint  ART_AND_DESIGN     4.5   \n",
       "4              Pixel Draw - Number Art Coloring Book  ART_AND_DESIGN     4.3   \n",
       "\n",
       "  Reviews     Size  Installs  Type  Price Content Rating  \\\n",
       "0     159  19000.0     10000  Free    0.0       Everyone   \n",
       "1     967  14000.0    500000  Free    0.0       Everyone   \n",
       "2   87510      8.7   5000000  Free    0.0       Everyone   \n",
       "3  215644  25000.0  50000000  Free    0.0           Teen   \n",
       "4     967      2.8    100000  Free    0.0       Everyone   \n",
       "\n",
       "                      Genres      Last Updated         Current Ver  \\\n",
       "0               Art & Design   January 7, 2018               1.0.0   \n",
       "1  Art & Design;Pretend Play  January 15, 2018               2.0.0   \n",
       "2               Art & Design    August 1, 2018               1.2.4   \n",
       "3               Art & Design      June 8, 2018  Varies with device   \n",
       "4    Art & Design;Creativity     June 20, 2018                 1.1   \n",
       "\n",
       "    Android Ver  \n",
       "0  4.0.3 and up  \n",
       "1  4.0.3 and up  \n",
       "2  4.0.3 and up  \n",
       "3    4.2 and up  \n",
       "4    4.4 and up  "
      ]
     },
     "execution_count": 109,
     "metadata": {},
     "output_type": "execute_result"
    }
   ],
   "source": [
    "df2.head()"
   ]
  },
  {
   "cell_type": "markdown",
   "id": "1ca93665",
   "metadata": {},
   "source": [
    "### To identify the most successful app developers in the Google Play Store, we would need to analyze various features such as:\n",
    "\n",
    "1. Most downloaded Category\n",
    "2. Most downloaded genre\n",
    "3. Avg size of app\n",
    "4. Average installs per category,genre\n",
    "5. most ratings,avg ratings\n",
    "\n",
    "### To present the findings, we could use various data visualizations such as:\n",
    "Bar charts and pie charts to represent the number of downloads and rating of the apps.\n",
    "\n",
    "Scatter plots and bubble charts to analyze the correlation between the number of downloads, rating, and price.\n",
    "\n",
    "Heat maps to analyze the distribution of apps across different categories.\n",
    "\n",
    "Line graphs to represent the trend in the number of reviews over time.\n",
    "\n",
    "Tables and charts to compare the performance of different app developers.\n",
    "\n",
    "Interactive dashboards that allow users to filter and explore the data based on different criteria such as category, price, and rating"
   ]
  },
  {
   "cell_type": "markdown",
   "id": "357a1862",
   "metadata": {},
   "source": [
    "# Q17. A marketing research firm wants to analyze the Google Playstore dataset to identify the best time to launch a new app. What features would you analyze to make recommendations to the company, and what data visualizations would you use to present your findings?"
   ]
  },
  {
   "cell_type": "markdown",
   "id": "5262b0c2",
   "metadata": {},
   "source": [
    "### To identify the best time to launch a new app, we would need to analyze various features such as:\n",
    "Seasonality: Certain categories of apps may perform better during specific seasons (e.g., fitness apps during the new year or travel apps during the summer).\n",
    "\n",
    "Monthly trends: Analyzing the number of downloads, rating, and reviews over time could help identify trends in user behavior and preferences.\n",
    "\n",
    "Day of the week: The day of the week may impact app usage and downloads. For example, weekdays may see higher usage for productivity apps, while weekends may see higher usage for gaming apps.\n",
    "\n",
    "Competition: Analyzing the number of apps in a particular category and their performance could provide insights into the level of competition in the market.\n",
    "\n",
    "User demographics: Understanding the demographics of the app's target audience could help identify the best time to launch the app based on their behavior and preferences.\n",
    "\n",
    "### To present the findings, we could use various data visualizations such as:\n",
    "Line graphs to represent the trend in the number of downloads, rating, and reviews over time.\n",
    "\n",
    "Heat maps to analyze the distribution of app downloads by month and day of the week.\n",
    "\n",
    "Bar charts to represent the performance of competing apps in a particular category.\n",
    "\n",
    "Scatter plots to analyze the correlation between the number of downloads, rating, and reviews and the time of the year.\n",
    "\n",
    "Interactive dashboards that allow users to filter and explore the data based on different criteria such as category, user demographics, and time of the year.\n",
    "\n",
    "Overall, the combination of these features and visualizations could provide valuable insights to the marketing research firm and help them make data-driven decisions about when to launch a new app."
   ]
  },
  {
   "cell_type": "code",
   "execution_count": null,
   "id": "473a782a",
   "metadata": {},
   "outputs": [],
   "source": []
  }
 ],
 "metadata": {
  "kernelspec": {
   "display_name": "Python 3 (ipykernel)",
   "language": "python",
   "name": "python3"
  },
  "language_info": {
   "codemirror_mode": {
    "name": "ipython",
    "version": 3
   },
   "file_extension": ".py",
   "mimetype": "text/x-python",
   "name": "python",
   "nbconvert_exporter": "python",
   "pygments_lexer": "ipython3",
   "version": "3.9.7"
  }
 },
 "nbformat": 4,
 "nbformat_minor": 5
}
