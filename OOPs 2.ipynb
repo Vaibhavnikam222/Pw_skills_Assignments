{
 "cells": [
  {
   "cell_type": "markdown",
   "id": "d78acae4",
   "metadata": {},
   "source": [
    "# Q1. What is Abstraction in OOps? Explain with an example."
   ]
  },
  {
   "cell_type": "markdown",
   "id": "23ff8f19",
   "metadata": {},
   "source": [
    "Abstraction is a fundamental concept in OOP that allows you to represent complex real-world entities in a simplified manner by focusing on the essential features and ignoring unnecessary details.It creates the skeleton of class. It provides a way to model and define the structure and behavior of objects and classes without getting into the implementation specifics"
   ]
  },
  {
   "cell_type": "code",
   "execution_count": 1,
   "id": "6ceca336",
   "metadata": {},
   "outputs": [],
   "source": [
    "class Car:\n",
    "    def start(self):\n",
    "        pass\n",
    "\n",
    "    def accelerate(self):\n",
    "        pass\n",
    "\n",
    "    def brake(self):\n",
    "        pass\n",
    "\n",
    "    def stop(self):\n",
    "        pass\n"
   ]
  },
  {
   "cell_type": "code",
   "execution_count": 3,
   "id": "63d41565",
   "metadata": {},
   "outputs": [],
   "source": [
    "a=Car()"
   ]
  },
  {
   "cell_type": "code",
   "execution_count": 8,
   "id": "8bd1ae99",
   "metadata": {},
   "outputs": [],
   "source": [
    "a.accelerate()"
   ]
  },
  {
   "cell_type": "markdown",
   "id": "353c9535",
   "metadata": {},
   "source": [
    "# Q2. Differentiate between Abstraction and Encapsulation. Explain with an example."
   ]
  },
  {
   "cell_type": "markdown",
   "id": "700a4561",
   "metadata": {},
   "source": [
    "Abstraction:\n",
    "\n",
    "It involves hiding unnecessary details and showing only the relevant features of an object. Abstraction allows you to create a high-level view of objects and classes, emphasizing what an object does rather than how it does it. It defines the interface and the essential behaviors of an object, while leaving the implementation details to be defined in derived classes"
   ]
  },
  {
   "cell_type": "markdown",
   "id": "8b59a988",
   "metadata": {},
   "source": [
    "Encapsulation:\n",
    "It helps in controlling the access to the data by providing access modifiers (public, private, protected) and ensures that the data is manipulated only through well-defined methods. Encapsulation helps in achieving data hiding and modularity, making the internal implementation details of a class hidden from the outside world."
   ]
  },
  {
   "cell_type": "code",
   "execution_count": 17,
   "id": "d38c83ee",
   "metadata": {},
   "outputs": [],
   "source": [
    "#abstraction\n",
    "import abc\n",
    "\n",
    "class Student():\n",
    "    def __init__(self, name, roll_number):\n",
    "        self.name = name\n",
    "        self.roll_number = roll_number\n",
    "\n",
    "    @abc.abstractmethod\n",
    "    def display_info(self):\n",
    "        pass\n",
    "\n",
    "class EngineeringStudent(Student):\n",
    "    def __init__(self, name, roll_number, major):\n",
    "        super().__init__(name, roll_number)\n",
    "        self.major = major\n",
    "\n",
    "    def display_info(self):\n",
    "        return f\"Name: {self.name}, Roll Number: {self.roll_number}, Major: {self.major}\""
   ]
  },
  {
   "cell_type": "code",
   "execution_count": 18,
   "id": "1cedaf6a",
   "metadata": {},
   "outputs": [
    {
     "name": "stdout",
     "output_type": "stream",
     "text": [
      "Name: Bob, Roll Number: 456, Major: Computer Science\n"
     ]
    }
   ],
   "source": [
    "eng_student = EngineeringStudent(\"Bob\", 456, \"Computer Science\")\n",
    "\n",
    "print(eng_student.display_info())"
   ]
  },
  {
   "cell_type": "code",
   "execution_count": 19,
   "id": "fb547eb7",
   "metadata": {},
   "outputs": [],
   "source": [
    "#Encapsulation\n",
    "class Person:\n",
    "    def __init__(self, name, age):\n",
    "        self._name = name    \n",
    "        self._age = age      \n",
    "\n",
    "    def get_name(self):\n",
    "        return self._name\n",
    "\n",
    "    def set_name(self, name):\n",
    "        self._name = name\n",
    "\n",
    "    def get_age(self):\n",
    "        return self._age\n",
    "\n",
    "    def set_age(self, age):\n",
    "        if age < 0:\n",
    "            print(\"Age cannot be negative.\")\n",
    "        else:\n",
    "            self._age = age"
   ]
  },
  {
   "cell_type": "code",
   "execution_count": 20,
   "id": "1bb9fb27",
   "metadata": {},
   "outputs": [],
   "source": [
    "a=Person(\"jk\",21)"
   ]
  },
  {
   "cell_type": "code",
   "execution_count": 21,
   "id": "119b3628",
   "metadata": {},
   "outputs": [],
   "source": [
    "a.set_age(19)"
   ]
  },
  {
   "cell_type": "code",
   "execution_count": 24,
   "id": "1c47e2ba",
   "metadata": {},
   "outputs": [
    {
     "data": {
      "text/plain": [
       "19"
      ]
     },
     "execution_count": 24,
     "metadata": {},
     "output_type": "execute_result"
    }
   ],
   "source": [
    "a.get_age()"
   ]
  },
  {
   "cell_type": "markdown",
   "id": "34551fdd",
   "metadata": {},
   "source": [
    "# Q3. What is abc module in python? Why is it used?"
   ]
  },
  {
   "cell_type": "markdown",
   "id": "e56a73a5",
   "metadata": {},
   "source": [
    "The abc module in Python stands for \"Abstract Base Classes.\" The 'abc' module in Python library provides the infrastructure for defining custom abstract base classes.Abstract classes are classes that cannot be instantiated on their own and are meant to serve as base classes for other classes. Abstract methods are methods that are declared in an abstract class but do not have an implementation in the abstract class itself. Instead, they must be implemented by concrete subclasses.\n",
    "\n",
    "reasons: the abc module is used to define and enforce a structured class hierarchy, ensure consistent behavior across subclasses, and promote code reusability and flexibility through polymorphism. It's a valuable tool for creating well-designed and maintainable object-oriented code in Python"
   ]
  },
  {
   "cell_type": "markdown",
   "id": "ad71ed3b",
   "metadata": {},
   "source": [
    "# Q4. How can we achieve data abstraction?"
   ]
  },
  {
   "cell_type": "markdown",
   "id": "101f1551",
   "metadata": {},
   "source": [
    "In programming, the term \"data abstraction\" refers to the technique of highlighting an object's key attributes while concealing its extraneous implementation details. It enables the creation of high-level representations of objects that emphasize their functionalities rather than their mechanisms. Data abstraction in OOP is accomplished via classes and their interfaces.\n",
    "\n",
    "Steps to data abstraction include:\n",
    "Establish Classes: Make classes to represent the program's abstract entities. These classes ought to specify the fundamental properties (information) and operations (methods) pertinent to the function of the objct.\n",
    "Hide Implementation Information: By designating attributes as private ,public methods to access and alter the data.\n",
    "\n",
    "Use access modifiers to limit the visibility of class members in languages that support them (such as public, private, and protected). Public methods offer a controlled interface for dealing with the contents of the object, whereas private attributes can only be accessed and changed within the class.\n",
    "Give abstract techniques: Use abstract classes or interfaces, if your programming language supports them, to construct a contract that outlines the fundamental functions that subclasses must implement. This encourages a consistent user interface across implementations.\n",
    "Getter and Setter Methods to Use: To retrieve attribute values and to edit them, provide getter methods and setter methods"
   ]
  },
  {
   "cell_type": "markdown",
   "id": "fe6ca3c7",
   "metadata": {},
   "source": [
    "# Q5.Can we create an instance of an abstract class? Explain your answer."
   ]
  },
  {
   "cell_type": "markdown",
   "id": "329a9471",
   "metadata": {},
   "source": [
    "No.\n",
    "    most programming languages, including Python, do not allow you to construct an instance of an abstract class. As they may have one or more abstract methods that lack implementations, abstract classes are intended to act as models or templates for other classes and cannot be instantiated directly.\n",
    "\n",
    "   Concrete classes are designed to subclass abstract classes in order to implement the abstract methods that are declared in the abstract class. This makes sure that the subclasses of the abstract class adhere to and appropriately implement the behavior described in the abstract class.\n",
    "\n",
    "   Directly attempting to build an instance of an abstract class would be against the idea of abstraction because the abstract class isn't complete and doesn't include the required implementations.\n",
    "    In Python, if we try to create an instance of an abstract class that contains abstract methods using the abc module, we will encounter a \"Type Error\". "
   ]
  },
  {
   "cell_type": "code",
   "execution_count": null,
   "id": "c7e6653f",
   "metadata": {},
   "outputs": [],
   "source": []
  }
 ],
 "metadata": {
  "kernelspec": {
   "display_name": "Python 3 (ipykernel)",
   "language": "python",
   "name": "python3"
  },
  "language_info": {
   "codemirror_mode": {
    "name": "ipython",
    "version": 3
   },
   "file_extension": ".py",
   "mimetype": "text/x-python",
   "name": "python",
   "nbconvert_exporter": "python",
   "pygments_lexer": "ipython3",
   "version": "3.9.7"
  }
 },
 "nbformat": 4,
 "nbformat_minor": 5
}
