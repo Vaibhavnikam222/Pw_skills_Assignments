{
 "cells": [
  {
   "cell_type": "markdown",
   "id": "d1ef5902",
   "metadata": {},
   "source": [
    "# Q1: What is Estimation Statistics? Explain point estimate and interval estimate.*"
   ]
  },
  {
   "cell_type": "markdown",
   "id": "3ae962a7",
   "metadata": {},
   "source": [
    "Estimation statistics is a branch of statistics which deals with making inferences about population parameters (such as the population mean or population proportion) based on sample data. Estimation allows us to estimates about population characteristics when it's not practical to measure the entire population.\n",
    "\n",
    "Point Estimate:\n",
    "\n",
    "A point estimate is a single value that is used to estimate an unknown population parameter. It provides a specific, single-valued estimate of the parameter but does not provide information about the level of uncertainty associated with the estimate.\n",
    "\n",
    "Interval Estimate:\n",
    "interval estimation is the evaluation of a parameter—for example, the mean of a population by computing an interval, or range of values, within which the parameter is most likely to be located. \n",
    "An interval estimate, as opposed to a point estimate, recognizes the inherent uncertainty in predicting population parameters from a sample."
   ]
  },
  {
   "cell_type": "markdown",
   "id": "f5e55103",
   "metadata": {},
   "source": [
    "# Q2. Write a Python function to estimate the population mean using a sample mean and standard deviation."
   ]
  },
  {
   "cell_type": "code",
   "execution_count": 16,
   "id": "d9eea95b",
   "metadata": {},
   "outputs": [
    {
     "name": "stdout",
     "output_type": "stream",
     "text": [
      "Sample Mean: 32.0\n",
      "Estimated Population Mean: 32.0\n",
      "95% Confidence Interval: (29.52077431442799, 34.47922568557201)\n"
     ]
    }
   ],
   "source": [
    "def estimate_population_mean(sample_mean, sample_std_dev, sample_size):\n",
    "    # Calculate the standard error (SE) of the sample mean\n",
    "    standard_error = sample_std_dev / (sample_size ** 0.5)\n",
    "\n",
    "    z_score = 1.96  # for a 95% confidence interval\n",
    "    margin_of_error = z_score * standard_error\n",
    "    \n",
    "    # Calculate the lower and upper bounds of the confidence interval\n",
    "    lower_bound = sample_mean - margin_of_error\n",
    "    upper_bound = sample_mean + margin_of_error\n",
    "    \n",
    "    return sample_mean, lower_bound, upper_bound\n",
    "\n",
    "# Example usage:\n",
    "sample_mean = 32.0\n",
    "sample_std_dev = 40.0\n",
    "sample_size = 1000\n",
    "mean_estimate, lower_bound, upper_bound = estimate_population_mean(sample_mean, sample_std_dev, sample_size)\n",
    "\n",
    "print(f\"Sample Mean: {sample_mean}\")\n",
    "print(f\"Estimated Population Mean: {mean_estimate}\")\n",
    "print(f\"95% Confidence Interval: ({lower_bound}, {upper_bound})\")\n",
    "\n"
   ]
  },
  {
   "cell_type": "markdown",
   "id": "778d81fe",
   "metadata": {},
   "source": [
    "# Q3: What is Hypothesis testing? Why is it used? State the importance of Hypothesis testing."
   ]
  },
  {
   "cell_type": "markdown",
   "id": "fbcec003",
   "metadata": {},
   "source": [
    "Hypothesis testing is a statistical method used in the field of inferential statistics to make decisions or draw conclusions about populations based on sample data. It involves formulating a hypothesis, collecting data, and then using statistical techniques to determine whether the data provides enough evidence to support or reject the hypothesis. The two primary types of hypotheses in hypothesis testing are the null hypothesis (H0) and the alternative hypothesis (Ha).\n",
    "\n",
    "In many real-world scenarios, important decisions need to be made, and these decisions often have consequences. Hypothesis testing provides a systematic and evidence-based way to make these decisions. For example, businesses may use hypothesis testing to decide whether to launch a new product, governments may use it to evaluate policy effectiveness, and doctors may use it to determine the efficacy of a new treatment.\n",
    "\n",
    " In a data-driven world, hypothesis testing is crucial for businesses and organizations to base decisions on empirical evidence rather than intuition or guesswork. It helps mitigate risks and optimize strategies by relying on data analysis.\n",
    " \n",
    " In manufacturing and industry, hypothesis testing is used to ensure product quality and consistency by testing whether production processes are within specified limits.\n",
    " \n",
    " Hypothesis testing is the backbone of academic research, providing a rigorous framework for testing hypotheses and drawing valid conclusions."
   ]
  },
  {
   "cell_type": "markdown",
   "id": "6c16fc8b",
   "metadata": {},
   "source": [
    "# Q4. Create a hypothesis that states whether the average weight of male college students is greater than the average weight of female college students."
   ]
  },
  {
   "cell_type": "markdown",
   "id": "16b6ecca",
   "metadata": {},
   "source": [
    "Null Hypothesis (H0): The average weight of male college students is equal to the average weight of female college students.\n",
    "\n",
    "Alternative Hypothesis (Ha): The average weight of male college students is greater than the average weight of female college students.\n",
    "\n",
    "o test this hypothesis, you would collect weight data from a sample of male and female college students and then perform a statistical test,to determine if there is enough evidence to reject the null hypothesis in favor of the alternative hypothesis based on the sample data. The results of the test would indicate whether there is a statistically significant difference in the average weights of male and female college students."
   ]
  },
  {
   "cell_type": "markdown",
   "id": "4b6ff7b7",
   "metadata": {},
   "source": [
    "# Q5. Write a Python script to conduct a hypothesis test on the difference between two population means, given a sample from each population."
   ]
  },
  {
   "cell_type": "code",
   "execution_count": 1,
   "id": "0a47d86a",
   "metadata": {},
   "outputs": [
    {
     "name": "stdout",
     "output_type": "stream",
     "text": [
      "Requirement already satisfied: scipy in c:\\users\\sampada\\anaconda3\\lib\\site-packages (1.7.1)\n",
      "Requirement already satisfied: numpy<1.23.0,>=1.16.5 in c:\\users\\sampada\\anaconda3\\lib\\site-packages (from scipy) (1.20.3)\n",
      "Note: you may need to restart the kernel to use updated packages.\n"
     ]
    }
   ],
   "source": [
    "pip install scipy"
   ]
  },
  {
   "cell_type": "code",
   "execution_count": 3,
   "id": "18280418",
   "metadata": {},
   "outputs": [],
   "source": [
    "import numpy as np \n",
    "from scipy import stats "
   ]
  },
  {
   "cell_type": "code",
   "execution_count": 5,
   "id": "bf37c89f",
   "metadata": {},
   "outputs": [],
   "source": [
    "s1 = np.array([64, 72, 73, 71, 70, 63, 72, 73, 70, 74])\n",
    "s2 = np.array([68, 66, 64, 65, 68, 69, 65, 69, 64, 67])\n",
    "\n",
    "alpha = 0.05\n",
    "\n",
    "# Perform a two-sample t-test\n",
    "t_stat, p_value = stats.ttest_ind(s1, s2)"
   ]
  },
  {
   "cell_type": "code",
   "execution_count": 6,
   "id": "3b5e72af",
   "metadata": {},
   "outputs": [
    {
     "name": "stdout",
     "output_type": "stream",
     "text": [
      "Two-Sample T-Test Results:\n",
      "T-statistic: 2.7569663879715147\n",
      "P-value: 0.012977945412279385\n",
      "Reject the null hypothesis\n"
     ]
    }
   ],
   "source": [
    "# Print the results\n",
    "print(\"Two-Sample T-Test Results:\")\n",
    "print(f\"T-statistic: {t_stat}\")\n",
    "print(f\"P-value: {p_value}\")\n",
    "\n",
    "# Check if the null hypothesis should be rejected\n",
    "if p_value < alpha:\n",
    "    print(\"Reject the null hypothesis\")\n",
    "else:\n",
    "    print(\"Fail to reject the null hypothesis\")"
   ]
  },
  {
   "cell_type": "markdown",
   "id": "09a5989d",
   "metadata": {},
   "source": [
    "# Q6: What is a null and alternative hypothesis? Give some examples."
   ]
  },
  {
   "cell_type": "markdown",
   "id": "4a514a59",
   "metadata": {},
   "source": [
    "### Null Hypothesis (H0):\n",
    "The null hypothesis is a statement that there is no significant effect, difference, relationship, or change in the population. It serves as the default hypothesis to be tested. In other words, it represents the status quo or the absence of an effect.\n",
    "\n",
    "**Example:**\n",
    "In quality control, a null hypothesis could be that a manufacturing process is operating within specified limits, and any deviations from those limits are due to random variation. Symbolically, it might be written as H0: The process mean is equal to a target value.\n",
    "\n",
    "### Alternative Hypothesis (Ha or H1):\n",
    "The alternative hypothesis is a statement that contradicts the null hypothesis. It suggests that there is a significant effect, difference, relationship, or change in the population that is not due to random chance. It represents the researcher's hypothesis or what they aim to demonstrate.\n",
    "\n",
    "**Example:**\n",
    " In quality control, the alternative hypothesis could assert that the manufacturing process is not operating within specified limits, and any deviations from those limits are not due to random variation. Symbolically, it might be written as Ha: The process mean is not equal to the target value."
   ]
  },
  {
   "cell_type": "markdown",
   "id": "23286055",
   "metadata": {},
   "source": [
    "# Examples:-\n",
    "1. Drug Efficacy\n",
    "\n",
    "Null Hypothesis (H0): The new drug has no significant effect on patients' recovery compared to a placebo.\n",
    "Alternative Hypothesis (Ha): The new drug has a significant effect on patients' recovery compared to a placebo.\n",
    "\n",
    "2. Gender and Income\n",
    "\n",
    "Null Hypothesis (H0): There is no significant difference in the average income between men and women in the population.\n",
    "Alternative Hypothesis (Ha): There is a significant difference in the average income between men and women in the population.\n",
    "\n",
    "3. Website Conversion Rates\n",
    "\n",
    "Null Hypothesis (H0): The new website design has no effect on the conversion rate compared to the old design.\n",
    "Alternative Hypothesis (Ha): The new website design has a significant effect on the conversion rate compared to the old design."
   ]
  },
  {
   "cell_type": "markdown",
   "id": "f2d47240",
   "metadata": {},
   "source": [
    "# Q7: Write down the steps involved in hypothesis testing."
   ]
  },
  {
   "cell_type": "markdown",
   "id": "c7863bec",
   "metadata": {},
   "source": [
    "# steps involved in hypothesis testing:\n",
    "1. State the null and alternative hypotheses: This involves defining the null hypothesis (H0) and alternative hypothesis (Ha) based on the research question or problem being investigated.\n",
    "\n",
    "2. Determine the level of significance: This involves selecting a level of significance (alpha) that represents the maximum probability of making a Type I error (rejecting the null hypothesis when it is actually true).\n",
    "\n",
    "3. Choose the appropriate test statistic: This depends on the type of data being analyzed, the sample size, and the assumptions of the statistical test.\n",
    "\n",
    "4. Calculate the test statistic: This involves computing the test statistic based on the sample data.\n",
    "\n",
    "5. Determine the p-value: This is the probability of obtaining a test statistic as extreme or more extreme than the observed value, assuming the null hypothesis is true.\n",
    "\n",
    "6. Compare the p-value to the level of significance: If the p-value is less than or equal to the level of significance, reject the null hypothesis. If the p-value is greater than the level of significance, fail to reject the null hypothesis.\n",
    "\n",
    "7. Interpret the results: This involves drawing conclusions based on the statistical analysis and determining the practical significance of the findings.\n",
    "\n",
    "8. Make a decision and draw conclusions: Based on the results of the hypothesis test, make a decision regarding the research question and draw conclusions based on the findings."
   ]
  },
  {
   "cell_type": "markdown",
   "id": "94cc67f4",
   "metadata": {},
   "source": [
    "# Q8. Define p-value and explain its significance in hypothesis testing."
   ]
  },
  {
   "cell_type": "markdown",
   "id": "3efadd15",
   "metadata": {},
   "source": [
    "The p-value is a probability that measures how likely it is to observe sample data as extreme or more extreme than the data actually observed, assuming that the null hypothesis is true.\n",
    "In other words, it answers the question, \"If the null hypothesis were true, what is the probability of obtaining the observed results (or results more extreme) due to random chance alone?\"\n",
    "\n",
    "### Significance of the p-value:\n",
    "The p-value serves as a critical tool in hypothesis testing because it helps determine whether there is enough evidence in the sample data to reject the null hypothesis in favor of the alternative hypothesis.\n",
    "\n",
    "The significance of the p-value can be understood as follows:\n",
    "If the p-value is small (typically less than or equal to the chosen significance level, denoted as α), it suggests that the observed data is unlikely to have occurred by random chance alone under the null hypothesis. This leads to the rejection of the null hypothesis.\n",
    "If the p-value is large (greater than α), it suggests that the observed data is reasonably consistent with what would be expected under the null hypothesis, and there is no strong evidence to reject the null hypothesis."
   ]
  },
  {
   "cell_type": "markdown",
   "id": "f3f561f7",
   "metadata": {},
   "source": [
    "# Q9. Generate a Student's t-distribution plot using Python's matplotlib library, with the degrees of freedom parameter set to 10."
   ]
  },
  {
   "cell_type": "code",
   "execution_count": 7,
   "id": "779b1e92",
   "metadata": {},
   "outputs": [
    {
     "name": "stdout",
     "output_type": "stream",
     "text": [
      "Requirement already satisfied: matplotlib in c:\\users\\sampada\\anaconda3\\lib\\site-packages (3.4.3)Note: you may need to restart the kernel to use updated packages.\n",
      "Requirement already satisfied: numpy>=1.16 in c:\\users\\sampada\\anaconda3\\lib\\site-packages (from matplotlib) (1.20.3)\n",
      "Requirement already satisfied: pyparsing>=2.2.1 in c:\\users\\sampada\\anaconda3\\lib\\site-packages (from matplotlib) (3.0.4)\n",
      "Requirement already satisfied: kiwisolver>=1.0.1 in c:\\users\\sampada\\anaconda3\\lib\\site-packages (from matplotlib) (1.3.1)\n",
      "Requirement already satisfied: cycler>=0.10 in c:\\users\\sampada\\anaconda3\\lib\\site-packages (from matplotlib) (0.10.0)\n",
      "Requirement already satisfied: pillow>=6.2.0 in c:\\users\\sampada\\anaconda3\\lib\\site-packages (from matplotlib) (9.2.0)\n",
      "Requirement already satisfied: python-dateutil>=2.7 in c:\\users\\sampada\\anaconda3\\lib\\site-packages (from matplotlib) (2.8.2)\n",
      "Requirement already satisfied: six in c:\\users\\sampada\\anaconda3\\lib\\site-packages (from cycler>=0.10->matplotlib) (1.16.0)\n",
      "\n"
     ]
    }
   ],
   "source": [
    "pip install matplotlib"
   ]
  },
  {
   "cell_type": "code",
   "execution_count": 12,
   "id": "4712bed6",
   "metadata": {},
   "outputs": [],
   "source": [
    "import numpy as np\n",
    "import matplotlib.pyplot as plt\n",
    "from scipy.stats import t"
   ]
  },
  {
   "cell_type": "code",
   "execution_count": 16,
   "id": "72011a5b",
   "metadata": {},
   "outputs": [],
   "source": [
    "df=10\n",
    "\n",
    "x = np.linspace(-5, 5, 400)"
   ]
  },
  {
   "cell_type": "code",
   "execution_count": 15,
   "id": "fe2ce4ac",
   "metadata": {},
   "outputs": [
    {
     "data": {
      "text/plain": [
       "array([-5.        , -4.97493734, -4.94987469, -4.92481203, -4.89974937,\n",
       "       -4.87468672, -4.84962406, -4.8245614 , -4.79949875, -4.77443609,\n",
       "       -4.74937343, -4.72431078, -4.69924812, -4.67418546, -4.64912281,\n",
       "       -4.62406015, -4.59899749, -4.57393484, -4.54887218, -4.52380952,\n",
       "       -4.49874687, -4.47368421, -4.44862155, -4.4235589 , -4.39849624,\n",
       "       -4.37343358, -4.34837093, -4.32330827, -4.29824561, -4.27318296,\n",
       "       -4.2481203 , -4.22305764, -4.19799499, -4.17293233, -4.14786967,\n",
       "       -4.12280702, -4.09774436, -4.0726817 , -4.04761905, -4.02255639,\n",
       "       -3.99749373, -3.97243108, -3.94736842, -3.92230576, -3.89724311,\n",
       "       -3.87218045, -3.84711779, -3.82205514, -3.79699248, -3.77192982,\n",
       "       -3.74686717, -3.72180451, -3.69674185, -3.6716792 , -3.64661654,\n",
       "       -3.62155388, -3.59649123, -3.57142857, -3.54636591, -3.52130326,\n",
       "       -3.4962406 , -3.47117794, -3.44611529, -3.42105263, -3.39598997,\n",
       "       -3.37092732, -3.34586466, -3.32080201, -3.29573935, -3.27067669,\n",
       "       -3.24561404, -3.22055138, -3.19548872, -3.17042607, -3.14536341,\n",
       "       -3.12030075, -3.0952381 , -3.07017544, -3.04511278, -3.02005013,\n",
       "       -2.99498747, -2.96992481, -2.94486216, -2.9197995 , -2.89473684,\n",
       "       -2.86967419, -2.84461153, -2.81954887, -2.79448622, -2.76942356,\n",
       "       -2.7443609 , -2.71929825, -2.69423559, -2.66917293, -2.64411028,\n",
       "       -2.61904762, -2.59398496, -2.56892231, -2.54385965, -2.51879699,\n",
       "       -2.49373434, -2.46867168, -2.44360902, -2.41854637, -2.39348371,\n",
       "       -2.36842105, -2.3433584 , -2.31829574, -2.29323308, -2.26817043,\n",
       "       -2.24310777, -2.21804511, -2.19298246, -2.1679198 , -2.14285714,\n",
       "       -2.11779449, -2.09273183, -2.06766917, -2.04260652, -2.01754386,\n",
       "       -1.9924812 , -1.96741855, -1.94235589, -1.91729323, -1.89223058,\n",
       "       -1.86716792, -1.84210526, -1.81704261, -1.79197995, -1.76691729,\n",
       "       -1.74185464, -1.71679198, -1.69172932, -1.66666667, -1.64160401,\n",
       "       -1.61654135, -1.5914787 , -1.56641604, -1.54135338, -1.51629073,\n",
       "       -1.49122807, -1.46616541, -1.44110276, -1.4160401 , -1.39097744,\n",
       "       -1.36591479, -1.34085213, -1.31578947, -1.29072682, -1.26566416,\n",
       "       -1.2406015 , -1.21553885, -1.19047619, -1.16541353, -1.14035088,\n",
       "       -1.11528822, -1.09022556, -1.06516291, -1.04010025, -1.01503759,\n",
       "       -0.98997494, -0.96491228, -0.93984962, -0.91478697, -0.88972431,\n",
       "       -0.86466165, -0.839599  , -0.81453634, -0.78947368, -0.76441103,\n",
       "       -0.73934837, -0.71428571, -0.68922306, -0.6641604 , -0.63909774,\n",
       "       -0.61403509, -0.58897243, -0.56390977, -0.53884712, -0.51378446,\n",
       "       -0.4887218 , -0.46365915, -0.43859649, -0.41353383, -0.38847118,\n",
       "       -0.36340852, -0.33834586, -0.31328321, -0.28822055, -0.26315789,\n",
       "       -0.23809524, -0.21303258, -0.18796992, -0.16290727, -0.13784461,\n",
       "       -0.11278195, -0.0877193 , -0.06265664, -0.03759398, -0.01253133,\n",
       "        0.01253133,  0.03759398,  0.06265664,  0.0877193 ,  0.11278195,\n",
       "        0.13784461,  0.16290727,  0.18796992,  0.21303258,  0.23809524,\n",
       "        0.26315789,  0.28822055,  0.31328321,  0.33834586,  0.36340852,\n",
       "        0.38847118,  0.41353383,  0.43859649,  0.46365915,  0.4887218 ,\n",
       "        0.51378446,  0.53884712,  0.56390977,  0.58897243,  0.61403509,\n",
       "        0.63909774,  0.6641604 ,  0.68922306,  0.71428571,  0.73934837,\n",
       "        0.76441103,  0.78947368,  0.81453634,  0.839599  ,  0.86466165,\n",
       "        0.88972431,  0.91478697,  0.93984962,  0.96491228,  0.98997494,\n",
       "        1.01503759,  1.04010025,  1.06516291,  1.09022556,  1.11528822,\n",
       "        1.14035088,  1.16541353,  1.19047619,  1.21553885,  1.2406015 ,\n",
       "        1.26566416,  1.29072682,  1.31578947,  1.34085213,  1.36591479,\n",
       "        1.39097744,  1.4160401 ,  1.44110276,  1.46616541,  1.49122807,\n",
       "        1.51629073,  1.54135338,  1.56641604,  1.5914787 ,  1.61654135,\n",
       "        1.64160401,  1.66666667,  1.69172932,  1.71679198,  1.74185464,\n",
       "        1.76691729,  1.79197995,  1.81704261,  1.84210526,  1.86716792,\n",
       "        1.89223058,  1.91729323,  1.94235589,  1.96741855,  1.9924812 ,\n",
       "        2.01754386,  2.04260652,  2.06766917,  2.09273183,  2.11779449,\n",
       "        2.14285714,  2.1679198 ,  2.19298246,  2.21804511,  2.24310777,\n",
       "        2.26817043,  2.29323308,  2.31829574,  2.3433584 ,  2.36842105,\n",
       "        2.39348371,  2.41854637,  2.44360902,  2.46867168,  2.49373434,\n",
       "        2.51879699,  2.54385965,  2.56892231,  2.59398496,  2.61904762,\n",
       "        2.64411028,  2.66917293,  2.69423559,  2.71929825,  2.7443609 ,\n",
       "        2.76942356,  2.79448622,  2.81954887,  2.84461153,  2.86967419,\n",
       "        2.89473684,  2.9197995 ,  2.94486216,  2.96992481,  2.99498747,\n",
       "        3.02005013,  3.04511278,  3.07017544,  3.0952381 ,  3.12030075,\n",
       "        3.14536341,  3.17042607,  3.19548872,  3.22055138,  3.24561404,\n",
       "        3.27067669,  3.29573935,  3.32080201,  3.34586466,  3.37092732,\n",
       "        3.39598997,  3.42105263,  3.44611529,  3.47117794,  3.4962406 ,\n",
       "        3.52130326,  3.54636591,  3.57142857,  3.59649123,  3.62155388,\n",
       "        3.64661654,  3.6716792 ,  3.69674185,  3.72180451,  3.74686717,\n",
       "        3.77192982,  3.79699248,  3.82205514,  3.84711779,  3.87218045,\n",
       "        3.89724311,  3.92230576,  3.94736842,  3.97243108,  3.99749373,\n",
       "        4.02255639,  4.04761905,  4.0726817 ,  4.09774436,  4.12280702,\n",
       "        4.14786967,  4.17293233,  4.19799499,  4.22305764,  4.2481203 ,\n",
       "        4.27318296,  4.29824561,  4.32330827,  4.34837093,  4.37343358,\n",
       "        4.39849624,  4.4235589 ,  4.44862155,  4.47368421,  4.49874687,\n",
       "        4.52380952,  4.54887218,  4.57393484,  4.59899749,  4.62406015,\n",
       "        4.64912281,  4.67418546,  4.69924812,  4.72431078,  4.74937343,\n",
       "        4.77443609,  4.79949875,  4.8245614 ,  4.84962406,  4.87468672,\n",
       "        4.89974937,  4.92481203,  4.94987469,  4.97493734,  5.        ])"
      ]
     },
     "execution_count": 15,
     "metadata": {},
     "output_type": "execute_result"
    }
   ],
   "source": [
    "x"
   ]
  },
  {
   "cell_type": "code",
   "execution_count": 18,
   "id": "a7efedbe",
   "metadata": {},
   "outputs": [],
   "source": [
    "# Calculate the probability density function (PDF) for the t-distribution\n",
    "pdf = t.pdf(x, df)\n"
   ]
  },
  {
   "cell_type": "code",
   "execution_count": 22,
   "id": "096344be",
   "metadata": {},
   "outputs": [
    {
     "data": {
      "image/png": "[encoded data removed]",
      "text/plain": [
       "<Figure size 864x576 with 1 Axes>"
      ]
     },
     "metadata": {
      "needs_background": "light"
     },
     "output_type": "display_data"
    }
   ],
   "source": [
    "# Create the plot\n",
    "\n",
    "plt.figure(figsize=(12, 8))\n",
    "plt.plot(x, pdf, label=f't-distribution (df={df})', color='blue')\n",
    "\n",
    "plt.title('Student\\'s t-Distribution')\n",
    "\n",
    "plt.xlabel('x')\n",
    "plt.ylabel('Probability Density')\n",
    "plt.legend()\n",
    "plt.grid(True)\n",
    "\n",
    "plt.show()\n"
   ]
  },
  {
   "cell_type": "markdown",
   "id": "c3bddab8",
   "metadata": {},
   "source": [
    "# Q10. Write a Python program to calculate the two-sample t-test for independent samples, given two random samples of equal size and a null hypothesis that the population means are equal."
   ]
  },
  {
   "cell_type": "code",
   "execution_count": 28,
   "id": "6b993e2c",
   "metadata": {},
   "outputs": [
    {
     "name": "stdout",
     "output_type": "stream",
     "text": [
      "Null Hypothesis: Population means are equal\n",
      "Sample 1 Mean: 50.3541\n",
      "Sample 2 Mean:54.7390\n",
      "T-Statistic: -3.6617\n",
      "P-Value:0.0003\n",
      "Result: Reject the null hypothesis\n"
     ]
    }
   ],
   "source": [
    "sample1 = np.random.normal(loc=50, scale=10, size=100)    #(loc=mean, scale=standard deviation, size)\n",
    "\n",
    "sample2 = np.random.normal(loc=55, scale=10, size=100)\n",
    "\n",
    "null_hypothesis = \"Population means are equal\"\n",
    "\n",
    "t_statistic, p_value = stats.ttest_ind(sample1, sample2)\n",
    "\n",
    "# Set the significance level (alpha)\n",
    "alpha = 0.05\n",
    "\n",
    "# Print the results\n",
    "print(\"Null Hypothesis:\", null_hypothesis)\n",
    "print(f\"Sample 1 Mean: {np.mean(sample1):.4f}\")\n",
    "print(f\"Sample 2 Mean:{ np.mean(sample2):.4f}\")\n",
    "print(f\"T-Statistic: {t_statistic:.4f}\")\n",
    "print(f\"P-Value:{ p_value:.4f}\")\n",
    "\n",
    "# Determine whether to reject the null hypothesis\n",
    "if p_value < alpha:\n",
    "    print(\"Result: Reject the null hypothesis\")\n",
    "else:\n",
    "    print(\"Result: Fail to reject the null hypothesis\")"
   ]
  },
  {
   "cell_type": "markdown",
   "id": "6af25e61",
   "metadata": {},
   "source": [
    "# Q11: What is Student’s t distribution? When to use the t-Distribution."
   ]
  },
  {
   "cell_type": "markdown",
   "id": "1691001d",
   "metadata": {},
   "source": [
    "Student's t-distribution, is a probability distribution that is commonly used in statistics to make inferences about population parameters, particularly when dealing with small sample sizes and when the population standard deviation is unknown.\n",
    "\n",
    "### characteristics of the t-distribution:\n",
    "\n",
    "**Shape:** The t-distribution has a bell-shaped, symmetric probability density function similar to the normal distribution (bell curve), but with heavier tails. This means that it has more probability mass in the tails compared to the normal distribution.\n",
    "\n",
    "**Location and Scale:** Like the normal distribution, the t-distribution is centered at zero. The spread or width of the distribution is determined by the degrees of freedom (df). As df increases, the t-distribution approaches the shape of the standard normal distribution.\n",
    "\n",
    "**Degrees of Freedom:** The degrees of freedom (df) parameter in the t-distribution specifies the shape of the distribution and plays a critical role. It represents the number of independent observations available for estimating a statistic. Larger df values lead to distributions that closely resemble the normal distribution.\n",
    "\n",
    "### When to use the t-Distribution:\n",
    "1. Small Sample Sizes: When we have a small sample size (typically less than 30)\n",
    "2. When the population standard deviation is unknown\n",
    "3. Confidence Intervals: When constructing confidence intervals for population parameters (e.g., mean or proportion) based on sample data, the t-distribution is used to account for uncertainty due to small sample sizes.\n",
    "4. In hypothesis testing, especially when comparing sample means, the t-distribution is employed to determine the statistical significance of observed differences.\n"
   ]
  },
  {
   "cell_type": "markdown",
   "id": "f2c91ef1",
   "metadata": {},
   "source": [
    "# Q12: What is t-statistic? State the formula for t-statistic."
   ]
  },
  {
   "cell_type": "markdown",
   "id": "f86a6573",
   "metadata": {},
   "source": [
    "The t-statistic, is a measure used in statistics to assess the difference between sample means and population means while considering the variability within the sample.\n",
    "\n",
    "It is commonly used in hypothesis testing and constructing confidence intervals. The t-statistic quantifies how many standard errors the sample mean is away from the hypothesized population mean.\n",
    "\n",
    " $$t = \\frac{\\bar{x} - \\mu}{\\frac{s}{\\sqrt{n}}}$$\n",
    " \n",
    "**where:**\n",
    " * $\\bar{x}$ = the sample mean\n",
    " * $\\mu$ = the hypothesized population mean\n",
    " * $s$ = the sample standard deviation\n",
    " * $n$ = the sample size"
   ]
  },
  {
   "cell_type": "markdown",
   "id": "41164c5e",
   "metadata": {},
   "source": [
    "# Q13. A coffee shop owner wants to estimate the average daily revenue for their shop. They take a random sample of 50 days and find the sample mean revenue to be 500 with a standard deviation of  50. Estimate the population mean revenue with a 95% confidence interval."
   ]
  },
  {
   "cell_type": "code",
   "execution_count": 29,
   "id": "c2c8b886",
   "metadata": {},
   "outputs": [],
   "source": [
    "import scipy.stats as stats\n",
    "import numpy as np"
   ]
  },
  {
   "cell_type": "code",
   "execution_count": 34,
   "id": "8ea4300a",
   "metadata": {},
   "outputs": [
    {
     "name": "stdout",
     "output_type": "stream",
     "text": [
      "the population mean revenue with a 95% confidence interval: (486.14 ,513.86)\n"
     ]
    }
   ],
   "source": [
    "# Sample statistics\n",
    "sample_mean = 500  \n",
    "sample_std_dev = 50 \n",
    "sample_size = 50  \n",
    "confidence_level = 0.95\n",
    "\n",
    "# Calculate the standard error\n",
    "standard_error = sample_std_dev / np.sqrt(sample_size)\n",
    "\n",
    "# Calculate the margin of error using the critical value (Z)\n",
    "critical_value = stats.norm.ppf((1 + confidence_level) / 2)  # For a two-tailed test\n",
    "margin_of_error = critical_value * standard_error\n",
    "\n",
    "# Calculate the confidence interval\n",
    "lower_bound = sample_mean - margin_of_error\n",
    "upper_bound = sample_mean + margin_of_error\n",
    "\n",
    "# Display the confidence interval\n",
    "print(f\"the population mean revenue with a 95% confidence interval: ({lower_bound:.2f} ,{upper_bound:.2f})\")"
   ]
  },
  {
   "cell_type": "markdown",
   "id": "0be5a2d7",
   "metadata": {},
   "source": [
    "# Q14. A researcher hypothesizes that a new drug will decrease blood pressure by 10 mmHg. They conduct a clinical trial with 100 patients and find that the sample mean decrease in blood pressure is 8 mmHg with a standard deviation of 3 mmHg. Test the hypothesis with a significance level of 0.05."
   ]
  },
  {
   "cell_type": "code",
   "execution_count": 36,
   "id": "033aa18a",
   "metadata": {},
   "outputs": [],
   "source": [
    "import math"
   ]
  },
  {
   "cell_type": "code",
   "execution_count": 46,
   "id": "171bbab1",
   "metadata": {},
   "outputs": [
    {
     "name": "stdout",
     "output_type": "stream",
     "text": [
      "The p-value is 0.0, which is less than the significance level of 0.05.\n",
      "Reject the null hypothesis\n",
      "Conclusion: The true mean decrease in blood pressure is less than 10 mmHg.\n"
     ]
    }
   ],
   "source": [
    "# sample size\n",
    "n = 100\n",
    "sample_mean = 8\n",
    "sample_std = 3\n",
    "\n",
    "# hypothesized population mean\n",
    "pop_mean = 10\n",
    "\n",
    "null_hypothesis = \"The true mean decrease in blood pressure is equal to 10 mmHg\"\n",
    "alternative_hypothesis = \"The true mean decrease in blood pressure is less than 10 mmHg\"\n",
    "\n",
    "# calculate the t-value and p-value\n",
    "t_value = (sample_mean - pop_mean) / (sample_std / math.sqrt(n))\n",
    "\n",
    "p_value = stats.t.cdf(t_value, df=n-1)\n",
    "rounded_p_value = round(p_value, 8)\n",
    "\n",
    "# compare the p-value with the significance level\n",
    "significance_level = 0.05\n",
    "\n",
    "if p_value < significance_level:\n",
    "    print(f\"The p-value is {rounded_p_value}, which is less than the significance level of {significance_level}.\")\n",
    "    print(f\"Reject the null hypothesis\")\n",
    "    print(f\"Conclusion: {alternative_hypothesis}.\")\n",
    "else:\n",
    "    print(f\"The p-value is {p_value}, which is greater than the significance level of {significance_level}.\")\n",
    "    print(f\"Fail to reject the null hypothesis\")\n",
    "    print(\"Conclusion: There is not enough evidence to conclude that the new drug decreases blood pressure by a statistically significant amount.\")\n",
    "\n"
   ]
  },
  {
   "cell_type": "markdown",
   "id": "5efdae6a",
   "metadata": {},
   "source": [
    "# Q15. An electronics company produces a certain type of product with a mean weight of 5 pounds and a standard deviation of 0.5 pounds. A random sample of 25 products is taken, and the sample mean weight is found to be 4.8 pounds. Test the hypothesis that the true mean weight of the products is less than 5 pounds with a significance level of 0.01."
   ]
  },
  {
   "cell_type": "code",
   "execution_count": 49,
   "id": "43615ed3",
   "metadata": {},
   "outputs": [
    {
     "name": "stdout",
     "output_type": "stream",
     "text": [
      "Reject the null hypothesis\n",
      "conclusion:The true mean weight of the products is less than 5 pounds.\n"
     ]
    }
   ],
   "source": [
    "# Given data\n",
    "population_mean = 5  \n",
    "population_std_dev = 0.5 \n",
    "sample_mean = 4.8  \n",
    "sample_size = 25  \n",
    "alpha = 0.01  \n",
    "\n",
    "# Calculate the standard error\n",
    "standard_error = population_std_dev / math.sqrt(sample_size)\n",
    "\n",
    "# Calculate the t-statistic\n",
    "t_statistic = (sample_mean - population_mean) / standard_error\n",
    "\n",
    "# Calculate degrees of freedom\n",
    "df = sample_size - 1\n",
    "\n",
    "# Calculate the critical t-value for a left-tailed test\n",
    "t_critical = -stats.t.ppf(alpha, df)\n",
    "\n",
    "# Perform the hypothesis test\n",
    "if t_statistic < t_critical:\n",
    "    # Reject the null hypothesis\n",
    "    print(\"Reject the null hypothesis\") \n",
    "    print(\"conclusion:The true mean weight of the products is less than 5 pounds.\")\n",
    "else:\n",
    "    # Fail to reject the null hypothesis\n",
    "    print(\"Fail to reject the null hypothesis\")\n",
    "    print(\" conclusion:There is no sufficient evidence to conclude the mean weight is less than 5 pounds.\")\n"
   ]
  },
  {
   "cell_type": "markdown",
   "id": "1a401f21",
   "metadata": {},
   "source": [
    "# Q16. Two groups of students are given different study materials to prepare for a test. The first group (n1 =30) has a mean score of 80 with a standard deviation of 10, and the second group (n2 = 40) has a mean score of 75 with a standard deviation of 8. Test the hypothesis that the population means for the two groups are equal with a significance level of 0.01."
   ]
  },
  {
   "cell_type": "code",
   "execution_count": 50,
   "id": "6c551cd8",
   "metadata": {},
   "outputs": [
    {
     "name": "stdout",
     "output_type": "stream",
     "text": [
      "p-value:  0.02761348036769749\n",
      "Fail to reject the null hypothesis.\n",
      "Conclusion : The population means for the two groups are EQUAL\n"
     ]
    }
   ],
   "source": [
    "# Sample 1 statistics\n",
    "n1 = 30\n",
    "x1 = 80\n",
    "s1 = 10\n",
    "\n",
    "# Sample 2 statistics\n",
    "n2 = 40\n",
    "x2 = 75\n",
    "s2 = 8\n",
    "\n",
    "null_hypothesis = \"The population means for the two groups are EQUAL\"\n",
    "alternative_hypothesis = \"The population means for the two groups are not equal.\"\n",
    "\n",
    "# Calculate the t-statistic\n",
    "t = (x1 - x2) / ((s1**2 / n1) + (s2**2 / n2))**0.5\n",
    "\n",
    "# Degrees of freedom\n",
    "df = n1 + n2 - 2\n",
    "\n",
    "# Calculate the p-value for the two-tailed test\n",
    "p_value = stats.t.sf(abs(t), df) * 2\n",
    "\n",
    "# Significance level\n",
    "alpha = 0.01\n",
    "\n",
    "print(\"p-value: \", p_value)\n",
    "# Test the hypothesis\n",
    "if p_value < alpha:\n",
    "    print(f\"Reject the null hypothesis\")\n",
    "    print(f\"Conclusion : {alternative_hypothesis}\")\n",
    "else:\n",
    "    print(\"Fail to reject the null hypothesis.\")\n",
    "    print(f\"Conclusion : {null_hypothesis}\")\n",
    "\n"
   ]
  },
  {
   "cell_type": "markdown",
   "id": "f4b7a826",
   "metadata": {},
   "source": [
    "# Q17. A marketing company wants to estimate the average number of ads watched by viewers during a TV program. They take a random sample of 50 viewers and find that the sample mean is 4 with a standard deviation of 1.5. Estimate the population mean with a 99% confidence interval."
   ]
  },
  {
   "cell_type": "code",
   "execution_count": 55,
   "id": "764090d5",
   "metadata": {},
   "outputs": [
    {
     "name": "stdout",
     "output_type": "stream",
     "text": [
      "The population mean is between 3.43 and 4.57\n"
     ]
    }
   ],
   "source": [
    "sample_mean = 4\n",
    "sample_size = 50\n",
    "sample_std_dev = 1.5\n",
    "conf_level = 0.99\n",
    "\n",
    "# calculate the t-value for the desired level of confidence and degrees of freedom\n",
    "t_value = stats.t.ppf((1+conf_level)/2,sample_size-1)\n",
    "\n",
    "# Calculate margin of error\n",
    "margin_error = t_value * (sample_std_dev / math.sqrt(sample_size))\n",
    "\n",
    "# Calculate confidence interval\n",
    "lower_interval = sample_mean - margin_error\n",
    "upper_interval = sample_mean + margin_error\n",
    "\n",
    "# Print results\n",
    "print(\"The population mean is between\", round(lower_interval, 2), \"and\", round(upper_interval, 2))"
   ]
  },
  {
   "cell_type": "code",
   "execution_count": null,
   "id": "8073db01",
   "metadata": {},
   "outputs": [],
   "source": []
  }
 ],
 "metadata": {
  "kernelspec": {
   "display_name": "Python 3 (ipykernel)",
   "language": "python",
   "name": "python3"
  },
  "language_info": {
   "codemirror_mode": {
    "name": "ipython",
    "version": 3
   },
   "file_extension": ".py",
   "mimetype": "text/x-python",
   "name": "python",
   "nbconvert_exporter": "python",
   "pygments_lexer": "ipython3",
   "version": "3.9.7"
  }
 },
 "nbformat": 4,
 "nbformat_minor": 5
}
