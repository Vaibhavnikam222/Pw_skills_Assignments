{
 "cells": [
  {
   "cell_type": "markdown",
   "id": "c0488bc2",
   "metadata": {},
   "source": [
    "# ***Q1. What is an Exception in python? Write the difference between Exceptions and syntax errors.***"
   ]
  },
  {
   "cell_type": "markdown",
   "id": "5a7b3f91",
   "metadata": {},
   "source": [
    "An event that occurs during the execution of a program in Python is referred to as an exception because it obstructs the regular flow of the program's instructions. It is a runtime error that takes place when something unexpected happens. When an exception happens, the software stops running and looks for a suitable exception handler to deal with the situation. If an exception is not recognized and handled, the program will be terminated.\n",
    "\n",
    "Exceptions enable us to control the flow of our program based on specific conditions. we can use try and except blocks to execute alternate code paths when exceptions occur, ensuring that our program behaves as expected even in unexpected situations.\n",
    "\n",
    "Instead of crashing the program, we can catch and handle exceptions, enabling the program to gracefully recover and continue executing."
   ]
  },
  {
   "cell_type": "markdown",
   "id": "e36bb555",
   "metadata": {},
   "source": [
    "Difference between Exceptions and syntax errors:-\n",
    "\n",
    "1.occurence:-\n",
    "\n",
    "Syntax Errors: Syntax errors occur due to fundamental issues in the code, like missing colons, unmatched parentheses, or improper indentation. These issues are related to the way the code is written.\n",
    "\n",
    "Exceptions: Exceptions occur due to dynamic factors during program execution, such as incorrect data inputs or interactions with external resources.\n",
    "\n",
    "2.Handling:-\n",
    "\n",
    "Syntax Errors: Syntax errors need to be fixed in the code itself before the program can be executed. They are typically caught by the developer while writing the code.\n",
    "\n",
    "Exceptions: Exceptions can be caught and handled using try and except blocks, allowing the program to recover from unexpected conditions. \n",
    "\n",
    "3.solving:\n",
    "\n",
    "Syntax Errors: Syntax errors are often straightforward to debug as the interpreter provides specific error messages pointing to the problematic line in the code.\n",
    "\n",
    "Exceptions: Debugging exceptions may require examining the traceback, which provides information about the sequence of function calls leading to the exception. The traceback helps identify the root cause of the error."
   ]
  },
  {
   "cell_type": "markdown",
   "id": "3d4419d8",
   "metadata": {},
   "source": [
    "# ***Q2. What happens when an exception is not handled? Explain withan example.***"
   ]
  },
  {
   "cell_type": "markdown",
   "id": "cc74ebdf",
   "metadata": {},
   "source": [
    "When an exception is not handled, it propagates up the call stack until it reaches the top level of the program. If the exception is not caught and handled anywhere along the way, it will ultimately lead to the termination of the program, and an error message describing the unhandled exception will be displayed\n"
   ]
  },
  {
   "cell_type": "code",
   "execution_count": 2,
   "id": "4a2e545d",
   "metadata": {},
   "outputs": [
    {
     "ename": "ZeroDivisionError",
     "evalue": "division by zero",
     "output_type": "error",
     "traceback": [
      "\u001b[1;31m---------------------------------------------------------------------------\u001b[0m",
      "\u001b[1;31mZeroDivisionError\u001b[0m                         Traceback (most recent call last)",
      "\u001b[1;32m~\\AppData\\Local\\Temp/ipykernel_19052/729364388.py\u001b[0m in \u001b[0;36m<module>\u001b[1;34m\u001b[0m\n\u001b[0;32m      3\u001b[0m \u001b[1;33m\u001b[0m\u001b[0m\n\u001b[0;32m      4\u001b[0m \u001b[1;32mtry\u001b[0m\u001b[1;33m:\u001b[0m\u001b[1;33m\u001b[0m\u001b[1;33m\u001b[0m\u001b[0m\n\u001b[1;32m----> 5\u001b[1;33m     \u001b[0mresult\u001b[0m \u001b[1;33m=\u001b[0m \u001b[0mdivide\u001b[0m\u001b[1;33m(\u001b[0m\u001b[1;36m10\u001b[0m\u001b[1;33m,\u001b[0m \u001b[1;36m0\u001b[0m\u001b[1;33m)\u001b[0m\u001b[1;33m\u001b[0m\u001b[1;33m\u001b[0m\u001b[0m\n\u001b[0m\u001b[0;32m      6\u001b[0m \u001b[1;32mexcept\u001b[0m \u001b[0mValueError\u001b[0m\u001b[1;33m:\u001b[0m\u001b[1;33m\u001b[0m\u001b[1;33m\u001b[0m\u001b[0m\n\u001b[0;32m      7\u001b[0m     \u001b[0mprint\u001b[0m\u001b[1;33m(\u001b[0m\u001b[1;34m\"ValueError occurred.\"\u001b[0m\u001b[1;33m)\u001b[0m\u001b[1;33m\u001b[0m\u001b[1;33m\u001b[0m\u001b[0m\n",
      "\u001b[1;32m~\\AppData\\Local\\Temp/ipykernel_19052/729364388.py\u001b[0m in \u001b[0;36mdivide\u001b[1;34m(x, y)\u001b[0m\n\u001b[0;32m      1\u001b[0m \u001b[1;32mdef\u001b[0m \u001b[0mdivide\u001b[0m\u001b[1;33m(\u001b[0m\u001b[0mx\u001b[0m\u001b[1;33m,\u001b[0m \u001b[0my\u001b[0m\u001b[1;33m)\u001b[0m\u001b[1;33m:\u001b[0m\u001b[1;33m\u001b[0m\u001b[1;33m\u001b[0m\u001b[0m\n\u001b[1;32m----> 2\u001b[1;33m     \u001b[1;32mreturn\u001b[0m \u001b[0mx\u001b[0m \u001b[1;33m/\u001b[0m \u001b[0my\u001b[0m\u001b[1;33m\u001b[0m\u001b[1;33m\u001b[0m\u001b[0m\n\u001b[0m\u001b[0;32m      3\u001b[0m \u001b[1;33m\u001b[0m\u001b[0m\n\u001b[0;32m      4\u001b[0m \u001b[1;32mtry\u001b[0m\u001b[1;33m:\u001b[0m\u001b[1;33m\u001b[0m\u001b[1;33m\u001b[0m\u001b[0m\n\u001b[0;32m      5\u001b[0m     \u001b[0mresult\u001b[0m \u001b[1;33m=\u001b[0m \u001b[0mdivide\u001b[0m\u001b[1;33m(\u001b[0m\u001b[1;36m10\u001b[0m\u001b[1;33m,\u001b[0m \u001b[1;36m0\u001b[0m\u001b[1;33m)\u001b[0m\u001b[1;33m\u001b[0m\u001b[1;33m\u001b[0m\u001b[0m\n",
      "\u001b[1;31mZeroDivisionError\u001b[0m: division by zero"
     ]
    }
   ],
   "source": [
    "def divide(x, y):\n",
    "    return x / y\n",
    "\n",
    "try:\n",
    "    result = divide(10, 0)  \n",
    "except ValueError:\n",
    "    print(\"ValueError occurred.\")\n"
   ]
  },
  {
   "cell_type": "markdown",
   "id": "478f979d",
   "metadata": {},
   "source": [
    "# ***Q3. Which Python statements are used to catch and handle exceptions? Explain with an example***"
   ]
  },
  {
   "cell_type": "markdown",
   "id": "f150f201",
   "metadata": {},
   "source": [
    "In Python, the try and except statements are used to catch and handle exceptions. The try block contains the code that might raise an exception, and the except block contains the code that handles the exception if it occurs."
   ]
  },
  {
   "cell_type": "code",
   "execution_count": null,
   "id": "0fad255d",
   "metadata": {},
   "outputs": [],
   "source": [
    "def divide(x, y):\n",
    "    try:\n",
    "        result = x / y\n",
    "    except Exception as e:\n",
    "        print(\"Division by zero is not allowed.\",e)\n",
    "        result = None\n",
    "    return result\n",
    "\n",
    "num1 = 10\n",
    "num2 = 0\n",
    "\n",
    "result = divide(num1, num2)"
   ]
  },
  {
   "cell_type": "markdown",
   "id": "ed9c4285",
   "metadata": {},
   "source": [
    "# Q.4 Explain with an example\n",
    "    a) try and else\n",
    "    b)finally \n",
    "    c)raise  "
   ]
  },
  {
   "cell_type": "markdown",
   "id": "4c1dd3bd",
   "metadata": {},
   "source": [
    "a) try and else:\n",
    "\n",
    "If no exceptions are raised in the try block then else block in a try statement is executed. It provides a way to define code that should be executed when the try block does not result in an exception"
   ]
  },
  {
   "cell_type": "code",
   "execution_count": null,
   "id": "bc778fd6",
   "metadata": {},
   "outputs": [],
   "source": [
    "def divide(x, y):\n",
    "    try:\n",
    "        result = x / y\n",
    "    except Exception as e:\n",
    "        print(\"Division by zero is not allowed.\",e)\n",
    "    else:\n",
    "        print(\"Division successful:\", result)\n",
    "\n",
    "num1 = 10\n",
    "num2 = 2\n",
    "\n",
    "divide(num1, num2)\n"
   ]
  },
  {
   "cell_type": "code",
   "execution_count": null,
   "id": "1c096e09",
   "metadata": {},
   "outputs": [],
   "source": [
    "num1 = 10\n",
    "num2 = 0\n",
    "divide(num1, num2)"
   ]
  },
  {
   "cell_type": "markdown",
   "id": "cd7041b5",
   "metadata": {},
   "source": [
    "b) Finally :-\n",
    "    \n",
    "The finally block in a try statement is executed no matter what, whether an exception was raised or not. It's typically used to perform cleanup tasks or release resources, regardless of the outcome of the try block."
   ]
  },
  {
   "cell_type": "code",
   "execution_count": null,
   "id": "7e98440c",
   "metadata": {},
   "outputs": [],
   "source": [
    "def divide(x, y):\n",
    "    try:\n",
    "        result = x / y\n",
    "    except Exception as e:\n",
    "        print(\"Division by zero is not allowed.\",e)\n",
    "        \n",
    "    finally:\n",
    "        print(\"Division operation completed.\")\n",
    "\n",
    "num1 = 10\n",
    "num2 = 1\n",
    "divide(num1, num2)"
   ]
  },
  {
   "cell_type": "code",
   "execution_count": null,
   "id": "866a3871",
   "metadata": {},
   "outputs": [],
   "source": [
    "num1 = 10\n",
    "num2 = 0\n",
    "divide(num1, num2)"
   ]
  },
  {
   "cell_type": "markdown",
   "id": "bbd8e628",
   "metadata": {},
   "source": [
    "c) Raise:-\n",
    "The raise statement is used to explicitly raise an exception. We can use it to signal that a specific exception condition has occurred in our code."
   ]
  },
  {
   "cell_type": "code",
   "execution_count": 5,
   "id": "d7e96420",
   "metadata": {},
   "outputs": [],
   "source": [
    "class validmarks(Exception):\n",
    "    pass\n",
    "    \n",
    "    def __init__(self, msg):\n",
    "        self.msg = msg"
   ]
  },
  {
   "cell_type": "code",
   "execution_count": 8,
   "id": "80f2cc42",
   "metadata": {},
   "outputs": [],
   "source": [
    "def validatemarks(marks):\n",
    "    if marks < 0:\n",
    "        raise validmarks(\"MARKS CAN NOT NEGATIVE\")\n",
    "    elif marks >500:\n",
    "        raise validmarks(\"marks canot such high\")\n",
    "    else:\n",
    "        raise validmarks(\"pass\")"
   ]
  },
  {
   "cell_type": "code",
   "execution_count": 10,
   "id": "42eb908c",
   "metadata": {},
   "outputs": [
    {
     "name": "stdout",
     "output_type": "stream",
     "text": [
      "enter your marks600\n",
      "marks canot such high\n"
     ]
    }
   ],
   "source": [
    "try:\n",
    "    marks=int(input (\"enter your marks\"))\n",
    "    validatemarks(marks)\n",
    "except validmarks as e:\n",
    "    print(e)\n",
    "    "
   ]
  },
  {
   "cell_type": "markdown",
   "id": "c0fc30c3",
   "metadata": {},
   "source": [
    "# ***Q.5 What are custom exception in python? Why do we need custom exception? Explain with example.***"
   ]
  },
  {
   "cell_type": "markdown",
   "id": "114668c5",
   "metadata": {},
   "source": [
    "Custom exceptions is known as user-defined exceptions.These are exceptions that we define ourself in Python code. While Python provides a variety of built-in exceptions like ValueError, TypeError, and IndexError, sometimes these may not accurately represent the specific errors or exceptional situations that can occur in our application. In such cases, we can create our own custom exception classes to handle these situations more appropriately."
   ]
  },
  {
   "cell_type": "markdown",
   "id": "eb421f63",
   "metadata": {},
   "source": [
    "**NEED-**\n",
    " Sometimes the standard built-in exceptions might not precisely cover the errors or exceptional situations that need our application's domain. Custom exceptions let us to match our application's needs.\n",
    " \n",
    " We can attach additional information, methods, or attributes to our custom exceptions.\n",
    " \n",
    " If we decide to change the error handling strategy or messages in the future, we can make these changes in one place by modifying the custom exception classes, rather than hunting through entire codebase.\n"
   ]
  },
  {
   "cell_type": "code",
   "execution_count": 11,
   "id": "bf5838f7",
   "metadata": {},
   "outputs": [
    {
     "name": "stdout",
     "output_type": "stream",
     "text": [
      "Error: Insufficient balance\n"
     ]
    }
   ],
   "source": [
    "class InsufficientBalanceError(Exception):\n",
    "    pass\n",
    "\n",
    "class BankingApp:\n",
    "    def withdraw(self, amount):\n",
    "        if amount > self.balance:\n",
    "            raise InsufficientBalanceError(\"Insufficient balance\") \n",
    "        else:\n",
    "            self.balance -= amount\n",
    "\n",
    "bank_account = BankingApp()\n",
    "bank_account.balance = 1000\n",
    "\n",
    "try:\n",
    "    bank_account.withdraw(1500)\n",
    "except Exception as e:\n",
    "    print(f\"Error: {e}\")"
   ]
  },
  {
   "cell_type": "markdown",
   "id": "32f5fa3a",
   "metadata": {},
   "source": [
    "# Q.6 create a custom exception class.use this class to handle exception."
   ]
  },
  {
   "cell_type": "code",
   "execution_count": 12,
   "id": "41f297f6",
   "metadata": {},
   "outputs": [
    {
     "name": "stdout",
     "output_type": "stream",
     "text": [
      "Enter your entrance exam marks: 55\n",
      "Marks are valid\n"
     ]
    }
   ],
   "source": [
    "class Invalidmarks(Exception):\n",
    "    def __init__(self, marks):\n",
    "        self.marks = marks\n",
    "        self.message = f\"Marks {marks} are not within the valid range of 0 to 100\"\n",
    "\n",
    "def validate_marks(marks):\n",
    "    if marks < 0 or marks > 100:\n",
    "        raise InvalidMarksError(marks)\n",
    "    else:\n",
    "        print(\"Marks are valid\")\n",
    "\n",
    "try:\n",
    "    entrance_exam_marks = int(input(\"Enter your entrance exam marks: \"))\n",
    "    validate_marks(entrance_exam_marks)\n",
    "except Invalidmarks as e:\n",
    "    print(f\"Error: {e.message}\")"
   ]
  },
  {
   "cell_type": "markdown",
   "id": "9fe0e80f",
   "metadata": {},
   "source": [
    "In this example,\n",
    "\n",
    "1.A custom exception class has name Invalidmarks that inherits from the built-in Exception class.\n",
    "\n",
    "2.The custom exception class has an __init__ method to generate an informative error message.\n",
    "\n",
    "3.The validate_marks function checks if the given marks are outside the valid range (0 to 100) and raises the custom exception if they are.\n",
    "\n",
    "4.In the try block, we take user input for entrance exam marks, validate them using the validate_marks function, and catch the custom exception if it's raised."
   ]
  },
  {
   "cell_type": "code",
   "execution_count": null,
   "id": "8b596d95",
   "metadata": {},
   "outputs": [],
   "source": []
  }
 ],
 "metadata": {
  "kernelspec": {
   "display_name": "Python 3 (ipykernel)",
   "language": "python",
   "name": "python3"
  },
  "language_info": {
   "codemirror_mode": {
    "name": "ipython",
    "version": 3
   },
   "file_extension": ".py",
   "mimetype": "text/x-python",
   "name": "python",
   "nbconvert_exporter": "python",
   "pygments_lexer": "ipython3",
   "version": "3.9.7"
  }
 },
 "nbformat": 4,
 "nbformat_minor": 5
}
