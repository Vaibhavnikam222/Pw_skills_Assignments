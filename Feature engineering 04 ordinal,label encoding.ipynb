{
 "cells": [
  {
   "cell_type": "markdown",
   "id": "e8f3ee19",
   "metadata": {},
   "source": [
    "# Q1. What is the difference between Ordinal Encoding and Label Encoding? Provide an example of when you might choose one over the other."
   ]
  },
  {
   "cell_type": "markdown",
   "id": "3f70aaaf",
   "metadata": {},
   "source": [
    "Ordinal Encoding and Label Encoding are both techniques used in machine learning to convert categorical data into numerical values.\n",
    "\n",
    "### Differences:\n",
    "### 1. Ordinal Encoding:\n",
    "\n",
    "1. Used when categories have an inherent order or ranking.\n",
    "2. Assigns unique integer values based on the order or rank of categories.\n",
    "3. Suitable for features like education levels or ratings.\n",
    "4. Preserves the ordinal relationship between categories.\n",
    "5. Encodes data with meaningful numeric values.\n",
    "\n",
    "### 2.Label Encoding:\n",
    "\n",
    "1. Used when categories have no inherent order or ranking.\n",
    "2. Assigns unique integer labels to categories without considering order.\n",
    "3. Suitable for nominal features like colors or product names.\n",
    "4. Treats all categories as equally important.\n",
    "5. Encodes data with arbitrary numeric values for distinction.\n",
    "\n",
    "### When to Choose One Over the Other:\n",
    "\n",
    "Choose Ordinal Encoding when there is a clear order or ranking among the categories, and this order is important for our analysis. For example, in cases like education levels, we want the model to understand that \"Master's\" is higher than \"Bachelor's.\"\n",
    "\n",
    "Choose Label Encoding when there is no meaningful order among the categories, and we only need to represent them as distinct numerical values. For nominal categories like colors or product names, Label Encoding is suitable because it doesn't introduce any artificial ranking."
   ]
  },
  {
   "cell_type": "markdown",
   "id": "1cad802a",
   "metadata": {},
   "source": [
    "# Q2. Explain how Target Guided Ordinal Encoding works and provide an example of when you might use it in a machine learning project."
   ]
  },
  {
   "cell_type": "markdown",
   "id": "72d2415b",
   "metadata": {},
   "source": [
    "Target Guided Ordinal Encoding is a feature encoding technique used for categorical variables in a machine learning project. It's especially useful when we have a categorical feature with a large number of categories and we want to convert it into a numerical format that preserves the relationship between the categories and the target variable. \n",
    "\n",
    "### How it works:\n",
    "\n",
    "1. Calculate the mean (or other aggregation) of the target variable for each category in the feature.\n",
    "\n",
    "2. Order the categories based on their mean values, from lowest to highest.\n",
    "\n",
    "3. Encode the categories with ordinal values reflecting their mean-based order.\n",
    "\n",
    "### Example:\n",
    "We are working on a project to predict customer churn for a telecommunications company. One of the features in your dataset is \"Contract Type,\" which can take values like \"Month-to-Month,\" \"One Year,\" and \"Two Year.\" This feature has a clear ordinal relationship because customers with longer contract durations tend to have lower churn rates.\n",
    "\n",
    "1. We calculate the mean churn rate for each contract type:\n",
    "\"Month-to-Month\" contract has a mean churn rate of 0.42.\n",
    "\"One Year\" contract has a mean churn rate of 0.12.\n",
    "\"Two Year\" contract has a mean churn rate of 0.02.\n",
    "\n",
    "2. Based on these means, you assign ordinal values:\n",
    "\"Month-to-Month\" gets assigned 1.\n",
    "\"One Year\" gets assigned 2.\n",
    "\"Two Year\" gets assigned 3.\n",
    "\n",
    "3. We replace the original \"Contract Type\" column with these ordinal values."
   ]
  },
  {
   "cell_type": "markdown",
   "id": "434a98f5",
   "metadata": {},
   "source": [
    "# Q3. Define covariance and explain why it is important in statistical analysis. How is covariance calculated?"
   ]
  },
  {
   "cell_type": "markdown",
   "id": "17605c57",
   "metadata": {},
   "source": [
    "Covariance is a statistical measure that quantifies the degree to which two random variables change together. In other words, it measures the joint variability of two variables. Covariance can tell us whether two variables tend to increase or decrease together (positive covariance), move in opposite directions (negative covariance), or have no significant relationship (near-zero covariance).\n",
    "\n",
    "### Covariance is important in statistical analysis because it is a measure of the strength and direction of the relationship between two variables.\n",
    "\n",
    "### Importance in Statistical Analysis:\n",
    "\n",
    "1. Dependency Assessment: Covariance reveals how two variables relate; positive covariance suggests they increase together, negative suggests an inverse relationship.\n",
    "\n",
    "2. Portfolio Management: In finance, it assesses asset returns' relationship, impacting diversification and risk management.\n",
    "\n",
    "3. Regression Analysis: It aids in estimating linear regression coefficients, showing how one variable affects another.\n",
    "\n",
    "4. Data Exploration: Helps identify patterns and dependencies in data during exploratory analysis."
   ]
  },
  {
   "cell_type": "markdown",
   "id": "375a0cea",
   "metadata": {},
   "source": [
    "# Q4. For a dataset with the following categorical variables: Color (red, green, blue), Size (small, medium, large), and Material (wood, metal, plastic), perform label encoding using Python's scikit-learn library. Show your code and explain the output."
   ]
  },
  {
   "cell_type": "code",
   "execution_count": 7,
   "id": "0218a5b5",
   "metadata": {},
   "outputs": [],
   "source": [
    "from sklearn.preprocessing import LabelEncoder\n",
    "import pandas as pd"
   ]
  },
  {
   "cell_type": "code",
   "execution_count": 12,
   "id": "692e0726",
   "metadata": {},
   "outputs": [
    {
     "data": {
      "text/html": [
       "<div>\n",
       "<style scoped>\n",
       "    .dataframe tbody tr th:only-of-type {\n",
       "        vertical-align: middle;\n",
       "    }\n",
       "\n",
       "    .dataframe tbody tr th {\n",
       "        vertical-align: top;\n",
       "    }\n",
       "\n",
       "    .dataframe thead th {\n",
       "        text-align: right;\n",
       "    }\n",
       "</style>\n",
       "<table border=\"1\" class=\"dataframe\">\n",
       "  <thead>\n",
       "    <tr style=\"text-align: right;\">\n",
       "      <th></th>\n",
       "      <th>Color</th>\n",
       "      <th>Size</th>\n",
       "      <th>Material</th>\n",
       "    </tr>\n",
       "  </thead>\n",
       "  <tbody>\n",
       "    <tr>\n",
       "      <th>0</th>\n",
       "      <td>red</td>\n",
       "      <td>small</td>\n",
       "      <td>wood</td>\n",
       "    </tr>\n",
       "    <tr>\n",
       "      <th>1</th>\n",
       "      <td>green</td>\n",
       "      <td>medium</td>\n",
       "      <td>metal</td>\n",
       "    </tr>\n",
       "    <tr>\n",
       "      <th>2</th>\n",
       "      <td>blue</td>\n",
       "      <td>large</td>\n",
       "      <td>plastic</td>\n",
       "    </tr>\n",
       "    <tr>\n",
       "      <th>3</th>\n",
       "      <td>red</td>\n",
       "      <td>medium</td>\n",
       "      <td>plastic</td>\n",
       "    </tr>\n",
       "  </tbody>\n",
       "</table>\n",
       "</div>"
      ],
      "text/plain": [
       "   Color    Size Material\n",
       "0    red   small     wood\n",
       "1  green  medium    metal\n",
       "2   blue   large  plastic\n",
       "3    red  medium  plastic"
      ]
     },
     "execution_count": 12,
     "metadata": {},
     "output_type": "execute_result"
    }
   ],
   "source": [
    "data = {\n",
    "    'Color': ['red', 'green', 'blue', 'red'],\n",
    "    'Size': ['small', 'medium', 'large', 'medium'],\n",
    "    'Material': ['wood', 'metal', 'plastic', 'plastic']\n",
    "}\n",
    "\n",
    "data1= pd.DataFrame(data)\n",
    "data1"
   ]
  },
  {
   "cell_type": "code",
   "execution_count": 13,
   "id": "5b12176c",
   "metadata": {},
   "outputs": [
    {
     "name": "stdout",
     "output_type": "stream",
     "text": [
      "   Color  Size  Material\n",
      "0      2     2         2\n",
      "1      1     1         0\n",
      "2      0     0         1\n",
      "3      2     1         1\n"
     ]
    }
   ],
   "source": [
    "label_encoder = LabelEncoder()\n",
    "\n",
    "for column in data1:\n",
    "    data1[column]=label_encoder.fit_transform(data1[column])\n",
    "    \n",
    "print(data1)"
   ]
  },
  {
   "cell_type": "markdown",
   "id": "7b81a97e",
   "metadata": {},
   "source": [
    "# Q5. Calculate the covariance matrix for the following variables in a dataset: Age, Income, and Education level. Interpret the results."
   ]
  },
  {
   "cell_type": "code",
   "execution_count": 25,
   "id": "5aec488f",
   "metadata": {},
   "outputs": [
    {
     "data": {
      "text/html": [
       "<div>\n",
       "<style scoped>\n",
       "    .dataframe tbody tr th:only-of-type {\n",
       "        vertical-align: middle;\n",
       "    }\n",
       "\n",
       "    .dataframe tbody tr th {\n",
       "        vertical-align: top;\n",
       "    }\n",
       "\n",
       "    .dataframe thead th {\n",
       "        text-align: right;\n",
       "    }\n",
       "</style>\n",
       "<table border=\"1\" class=\"dataframe\">\n",
       "  <thead>\n",
       "    <tr style=\"text-align: right;\">\n",
       "      <th></th>\n",
       "      <th>Age</th>\n",
       "      <th>Income</th>\n",
       "      <th>Education_Level</th>\n",
       "    </tr>\n",
       "  </thead>\n",
       "  <tbody>\n",
       "    <tr>\n",
       "      <th>0</th>\n",
       "      <td>30</td>\n",
       "      <td>50000</td>\n",
       "      <td>12</td>\n",
       "    </tr>\n",
       "    <tr>\n",
       "      <th>1</th>\n",
       "      <td>40</td>\n",
       "      <td>60000</td>\n",
       "      <td>16</td>\n",
       "    </tr>\n",
       "    <tr>\n",
       "      <th>2</th>\n",
       "      <td>25</td>\n",
       "      <td>45000</td>\n",
       "      <td>10</td>\n",
       "    </tr>\n",
       "    <tr>\n",
       "      <th>3</th>\n",
       "      <td>35</td>\n",
       "      <td>55000</td>\n",
       "      <td>14</td>\n",
       "    </tr>\n",
       "    <tr>\n",
       "      <th>4</th>\n",
       "      <td>28</td>\n",
       "      <td>48000</td>\n",
       "      <td>12</td>\n",
       "    </tr>\n",
       "  </tbody>\n",
       "</table>\n",
       "</div>"
      ],
      "text/plain": [
       "   Age  Income  Education_Level\n",
       "0   30   50000               12\n",
       "1   40   60000               16\n",
       "2   25   45000               10\n",
       "3   35   55000               14\n",
       "4   28   48000               12"
      ]
     },
     "execution_count": 25,
     "metadata": {},
     "output_type": "execute_result"
    }
   ],
   "source": [
    "import pandas as pd\n",
    "\n",
    "data = pd.DataFrame({\n",
    "    'Age': [30, 40, 25, 35, 28],\n",
    "    'Income': [50000, 60000, 45000, 55000, 48000],\n",
    "    'Education_Level': [12, 16, 10, 14, 12]\n",
    "})\n",
    "data"
   ]
  },
  {
   "cell_type": "code",
   "execution_count": 26,
   "id": "4aef1462",
   "metadata": {},
   "outputs": [
    {
     "name": "stdout",
     "output_type": "stream",
     "text": [
      "Covariance Matrix:\n",
      "                     Age      Income  Education_Level\n",
      "Age                 35.3     35300.0             13.4\n",
      "Income           35300.0  35300000.0          13400.0\n",
      "Education_Level     13.4     13400.0              5.2\n"
     ]
    }
   ],
   "source": [
    "covariance_matrix = data.cov()\n",
    "\n",
    "print(\"Covariance Matrix:\")\n",
    "print(covariance_matrix)"
   ]
  },
  {
   "cell_type": "code",
   "execution_count": null,
   "id": "2bb3ce1c",
   "metadata": {},
   "outputs": [],
   "source": []
  },
  {
   "cell_type": "markdown",
   "id": "a2b21adc",
   "metadata": {},
   "source": [
    "# Q6. You are working on a machine learning project with a dataset containing several categorical variables, including \"Gender\" (Male/Female), \"Education Level\" (High School/Bachelor's/Master's/PhD), and \"Employment Status\" (Unemployed/Part-Time/Full-Time). Which encoding method would you use for each variable, and why?"
   ]
  },
  {
   "cell_type": "markdown",
   "id": "cd4a341f",
   "metadata": {},
   "source": [
    "For the categorical variables \"Gender,\" \"Education Level,\" and \"Employment Status,\" the choice of encoding method depends on the nature of the variables and the machine learning algorithm we plan to use. Here's a recommendation for each variable:\n",
    "\n",
    "### A.Gender (Binary Categorical Variable - Male/Female):\n",
    "\n",
    "1. Encoding Method: Use Label Encoding or Binary Encoding.\n",
    "2. Explanation:\n",
    "Label Encoding: If our machine learning algorithm can handle ordinal values, we can use label encoding, where we assign 0 to one category (e.g., Male) and 1 to the other (e.g., Female). This method maintains the ordinality but might imply an artificial order.\n",
    "\n",
    "Binary Encoding: If we want to avoid implying an order, binary encoding can represent gender using binary digits (0 and 1), ensuring that there's no implied ranking. This is especially useful when there are only two categories, as in this case.\n",
    "\n",
    "### B. Education Level (Nominal Categorical Variable - High School/Bachelor's/Master's/PhD):\n",
    "\n",
    "1. Encoding Method: Use One-Hot Encoding.\n",
    "2. Explanation:\n",
    "Education levels have no inherent order, and each level is distinct. One-hot encoding creates a binary column for each category, where 1 represents the presence of that category and 0 represents its absence. This method preserves the nominal nature of the variable and avoids introducing artificial rankings.\n",
    "\n",
    "### C. Employment Status (Nominal Categorical Variable - Unemployed/Part-Time/Full-Time):\n",
    "\n",
    "1. Encoding Method: Use One-Hot Encoding.\n",
    "2. Explanation:\n",
    "Like education status, employment status is also nominal, with no natural order among categories. Therefore, one-hot encoding is appropriate for the same reasons mentioned above. It ensures that each category is treated as a separate, non-ordinal entity."
   ]
  },
  {
   "cell_type": "markdown",
   "id": "e5fda68b",
   "metadata": {},
   "source": [
    "# Q7. You are analyzing a dataset with two continuous variables, \"Temperature\" and \"Humidity\", and two categorical variables, \"Weather Condition\" (Sunny/Cloudy/Rainy) and \"Wind Direction\" (North/South/ East/West). Calculate the covariance between each pair of variables and interpret the results."
   ]
  },
  {
   "cell_type": "code",
   "execution_count": 36,
   "id": "132d306c",
   "metadata": {},
   "outputs": [
    {
     "data": {
      "text/html": [
       "<div>\n",
       "<style scoped>\n",
       "    .dataframe tbody tr th:only-of-type {\n",
       "        vertical-align: middle;\n",
       "    }\n",
       "\n",
       "    .dataframe tbody tr th {\n",
       "        vertical-align: top;\n",
       "    }\n",
       "\n",
       "    .dataframe thead th {\n",
       "        text-align: right;\n",
       "    }\n",
       "</style>\n",
       "<table border=\"1\" class=\"dataframe\">\n",
       "  <thead>\n",
       "    <tr style=\"text-align: right;\">\n",
       "      <th></th>\n",
       "      <th>Temperature</th>\n",
       "      <th>Humidity</th>\n",
       "      <th>weather</th>\n",
       "      <th>wind</th>\n",
       "    </tr>\n",
       "  </thead>\n",
       "  <tbody>\n",
       "    <tr>\n",
       "      <th>0</th>\n",
       "      <td>25</td>\n",
       "      <td>50</td>\n",
       "      <td>Cloudy</td>\n",
       "      <td>East</td>\n",
       "    </tr>\n",
       "    <tr>\n",
       "      <th>1</th>\n",
       "      <td>28</td>\n",
       "      <td>60</td>\n",
       "      <td>Rainy</td>\n",
       "      <td>West</td>\n",
       "    </tr>\n",
       "    <tr>\n",
       "      <th>2</th>\n",
       "      <td>32</td>\n",
       "      <td>45</td>\n",
       "      <td>Rainy</td>\n",
       "      <td>North</td>\n",
       "    </tr>\n",
       "    <tr>\n",
       "      <th>3</th>\n",
       "      <td>27</td>\n",
       "      <td>55</td>\n",
       "      <td>Cloudy</td>\n",
       "      <td>West</td>\n",
       "    </tr>\n",
       "    <tr>\n",
       "      <th>4</th>\n",
       "      <td>21</td>\n",
       "      <td>48</td>\n",
       "      <td>Rainy</td>\n",
       "      <td>East</td>\n",
       "    </tr>\n",
       "    <tr>\n",
       "      <th>5</th>\n",
       "      <td>24</td>\n",
       "      <td>65</td>\n",
       "      <td>Cloudy</td>\n",
       "      <td>North</td>\n",
       "    </tr>\n",
       "    <tr>\n",
       "      <th>6</th>\n",
       "      <td>35</td>\n",
       "      <td>74</td>\n",
       "      <td>Sunny</td>\n",
       "      <td>North</td>\n",
       "    </tr>\n",
       "    <tr>\n",
       "      <th>7</th>\n",
       "      <td>38</td>\n",
       "      <td>72</td>\n",
       "      <td>Sunny</td>\n",
       "      <td>East</td>\n",
       "    </tr>\n",
       "    <tr>\n",
       "      <th>8</th>\n",
       "      <td>28</td>\n",
       "      <td>82</td>\n",
       "      <td>Cloudy</td>\n",
       "      <td>East</td>\n",
       "    </tr>\n",
       "  </tbody>\n",
       "</table>\n",
       "</div>"
      ],
      "text/plain": [
       "   Temperature  Humidity weather   wind\n",
       "0           25        50  Cloudy   East\n",
       "1           28        60   Rainy   West\n",
       "2           32        45   Rainy  North\n",
       "3           27        55  Cloudy   West\n",
       "4           21        48   Rainy   East\n",
       "5           24        65  Cloudy  North\n",
       "6           35        74   Sunny  North\n",
       "7           38        72   Sunny   East\n",
       "8           28        82  Cloudy   East"
      ]
     },
     "execution_count": 36,
     "metadata": {},
     "output_type": "execute_result"
    }
   ],
   "source": [
    "import pandas as pd\n",
    "import numpy as np\n",
    "\n",
    "data4 = pd.DataFrame({\n",
    "    'Temperature': [25, 28, 32, 27, 21,24,35,38,28],\n",
    "    'Humidity': [50, 60, 45, 55, 48,65,74,72,82],\n",
    "    'weather' : np.random.choice(['Sunny', 'Cloudy', 'Rainy'],9),\n",
    "    'wind' : np.random.choice(['North', 'South', 'East', 'West'], 9)\n",
    "})\n",
    "data4\n"
   ]
  },
  {
   "cell_type": "code",
   "execution_count": 37,
   "id": "21280bee",
   "metadata": {},
   "outputs": [
    {
     "name": "stdout",
     "output_type": "stream",
     "text": [
      "Covariance between Temperature and Humidity: 31.208333333333332\n"
     ]
    }
   ],
   "source": [
    "covariance = data4['Temperature'].cov(data4['Humidity'])\n",
    "\n",
    "print(f'Covariance between Temperature and Humidity: {covariance}')"
   ]
  },
  {
   "cell_type": "code",
   "execution_count": 38,
   "id": "56406998",
   "metadata": {},
   "outputs": [
    {
     "data": {
      "text/plain": [
       "31.208333333333332"
      ]
     },
     "execution_count": 38,
     "metadata": {},
     "output_type": "execute_result"
    }
   ],
   "source": [
    "covariance"
   ]
  },
  {
   "cell_type": "code",
   "execution_count": 40,
   "id": "e786bbb7",
   "metadata": {},
   "outputs": [
    {
     "data": {
      "text/html": [
       "<div>\n",
       "<style scoped>\n",
       "    .dataframe tbody tr th:only-of-type {\n",
       "        vertical-align: middle;\n",
       "    }\n",
       "\n",
       "    .dataframe tbody tr th {\n",
       "        vertical-align: top;\n",
       "    }\n",
       "\n",
       "    .dataframe thead th {\n",
       "        text-align: right;\n",
       "    }\n",
       "</style>\n",
       "<table border=\"1\" class=\"dataframe\">\n",
       "  <thead>\n",
       "    <tr style=\"text-align: right;\">\n",
       "      <th></th>\n",
       "      <th>Temperature</th>\n",
       "      <th>Humidity</th>\n",
       "    </tr>\n",
       "  </thead>\n",
       "  <tbody>\n",
       "    <tr>\n",
       "      <th>Temperature</th>\n",
       "      <td>29.500000</td>\n",
       "      <td>31.208333</td>\n",
       "    </tr>\n",
       "    <tr>\n",
       "      <th>Humidity</th>\n",
       "      <td>31.208333</td>\n",
       "      <td>166.194444</td>\n",
       "    </tr>\n",
       "  </tbody>\n",
       "</table>\n",
       "</div>"
      ],
      "text/plain": [
       "             Temperature    Humidity\n",
       "Temperature    29.500000   31.208333\n",
       "Humidity       31.208333  166.194444"
      ]
     },
     "execution_count": 40,
     "metadata": {},
     "output_type": "execute_result"
    }
   ],
   "source": [
    "data4.cov()"
   ]
  },
  {
   "cell_type": "markdown",
   "id": "938d3f58",
   "metadata": {},
   "source": [
    "As the covariance is positive, it means that as \"Temperature\" increases, \"Humidity\" tends to increase as well, suggesting a positive association.\n",
    "\n",
    "The magnitude of the covariance indicates the strength of the relationship. A larger absolute value indicates a stronger relationship.\n",
    "\n",
    "It is important to note that we cannot calculate the covariance between continuous and categorical variables since covariance requires numerical data. Therefore, we cannot interpret the covariance between \"Temperature\" and \"Weather Condition\" or between \"Humidity\" and \"Wind Direction\". In general, we need to be careful when interpreting covariance and consider the nature of the variables being analyzed.\n",
    "\n",
    "ANOVA Should be used to compare significance of Categorical variables with Numeric Variables"
   ]
  },
  {
   "cell_type": "code",
   "execution_count": null,
   "id": "96ace664",
   "metadata": {},
   "outputs": [],
   "source": []
  }
 ],
 "metadata": {
  "kernelspec": {
   "display_name": "Python 3 (ipykernel)",
   "language": "python",
   "name": "python3"
  },
  "language_info": {
   "codemirror_mode": {
    "name": "ipython",
    "version": 3
   },
   "file_extension": ".py",
   "mimetype": "text/x-python",
   "name": "python",
   "nbconvert_exporter": "python",
   "pygments_lexer": "ipython3",
   "version": "3.9.7"
  }
 },
 "nbformat": 4,
 "nbformat_minor": 5
}
