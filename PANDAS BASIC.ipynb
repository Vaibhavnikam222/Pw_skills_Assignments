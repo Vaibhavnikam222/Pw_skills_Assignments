{
 "cells": [
  {
   "cell_type": "markdown",
   "id": "4d216505",
   "metadata": {},
   "source": [
    "# Q1. Create a Pandas Series that contains the following data: 4, 8, 15, 16, 23, and 42. Then, print the series."
   ]
  },
  {
   "cell_type": "code",
   "execution_count": 12,
   "id": "f4853993",
   "metadata": {},
   "outputs": [],
   "source": [
    "import pandas as pd"
   ]
  },
  {
   "cell_type": "code",
   "execution_count": 13,
   "id": "d28aeb89",
   "metadata": {},
   "outputs": [
    {
     "name": "stdout",
     "output_type": "stream",
     "text": [
      "0     4\n",
      "1     8\n",
      "2    15\n",
      "3    16\n",
      "4    23\n",
      "5    42\n",
      "dtype: int64\n"
     ]
    }
   ],
   "source": [
    "data = [4, 8, 15, 16, 23, 42]\n",
    "series = pd.Series(data)\n",
    "\n",
    "print(series)"
   ]
  },
  {
   "cell_type": "markdown",
   "id": "a8c09219",
   "metadata": {},
   "source": [
    "# Q2. Create a variable of list type containing 10 elements in it, and apply pandas.Series function on the variable print it."
   ]
  },
  {
   "cell_type": "code",
   "execution_count": 33,
   "id": "45937d19",
   "metadata": {},
   "outputs": [
    {
     "name": "stdout",
     "output_type": "stream",
     "text": [
      "0     11\n",
      "1     21\n",
      "2     31\n",
      "3     33\n",
      "4     44\n",
      "5     55\n",
      "6     77\n",
      "7     99\n",
      "8    108\n",
      "9    360\n",
      "dtype: int64\n"
     ]
    }
   ],
   "source": [
    "list = [11,21,31,33,44,55,77,99,108,360]\n",
    "\n",
    "series = pd.Series(list)\n",
    "\n",
    "print(series)\n"
   ]
  },
  {
   "cell_type": "markdown",
   "id": "c7a17ccc",
   "metadata": {},
   "source": [
    "# Q3. Create a Pandas DataFrame that contains the following data:\n",
    "\n",
    "| Name   | Age | Gender |\n",
    "|--------|-----|--------|\n",
    "| Alice  | 25  | Female |\n",
    "| Bob    | 30  | Male   |\n",
    "| Claire | 27  | Female |\n",
    "\n",
    "        \n",
    "# Then, print the DataFrame."
   ]
  },
  {
   "cell_type": "code",
   "execution_count": 15,
   "id": "1f3e801b",
   "metadata": {},
   "outputs": [
    {
     "name": "stdout",
     "output_type": "stream",
     "text": [
      "     Name  Age  Gender\n",
      "0   Alice   25  Female\n",
      "1     Bob   30    Male\n",
      "2  Claire   27  Female\n"
     ]
    }
   ],
   "source": [
    "import pandas as pd\n",
    "\n",
    "data = {\n",
    "    'Name': ['Alice', 'Bob', 'Claire'],\n",
    "    'Age': [25, 30, 27],\n",
    "    'Gender': ['Female', 'Male', 'Female']\n",
    "}\n",
    "\n",
    "df = pd.DataFrame(data)\n",
    "\n",
    "print(df)\n"
   ]
  },
  {
   "cell_type": "markdown",
   "id": "d18c9cc2",
   "metadata": {},
   "source": [
    "# Q4. What is ‘DataFrame’ in pandas and how is it different from pandas.series? Explain with an example."
   ]
  },
  {
   "cell_type": "markdown",
   "id": "db4ff32c",
   "metadata": {},
   "source": [
    "A DataFrame is a two-dimensional, size-mutable, and potentially heterogeneous tabular data structure with labeled axes (rows and columns). It is similar to a spreadsheet or a SQL table and can store data of various types, including numbers, strings, and more. DataFrames are one of the most commonly used data structures in Pandas, and they provide a powerful way to work with structured data.\n",
    "\n",
    "A Pandas Series is a one-dimensional array-like object that can hold data of any type. A Series is essentially a single column of data with an associated label, called the index. Series are the building blocks of DataFrames."
   ]
  },
  {
   "cell_type": "markdown",
   "id": "bf78f40a",
   "metadata": {},
   "source": [
    "**Differences Between DataFrame and Series**\n",
    "\n",
    "| Characteristic               | DataFrame                            | Series                                |\n",
    "|-----------------------------|--------------------------------------|---------------------------------------|\n",
    "| Dimensionality              | Two-dimensional (rows and columns)   | One-dimensional (single column or row)|\n",
    "| Data Structure              | Tabular structure with multiple columns, each potentially holding different types of data. | A single column of data with an index. |\n",
    "| Index                       | Has both a row index and a column index. | Has an index but no column index. |\n",
    "| Size Mutability             | You can add or remove columns easily, making it size-mutable. | Generally, its size is fixed. |\n",
    "| Common Operations           | Supports operations on entire tables, like filtering, grouping, and merging. | Supports operations on individual columns or rows. |\n"
   ]
  },
  {
   "cell_type": "code",
   "execution_count": 21,
   "id": "2d95cbca",
   "metadata": {},
   "outputs": [
    {
     "data": {
      "text/html": [
       "<div>\n",
       "<style scoped>\n",
       "    .dataframe tbody tr th:only-of-type {\n",
       "        vertical-align: middle;\n",
       "    }\n",
       "\n",
       "    .dataframe tbody tr th {\n",
       "        vertical-align: top;\n",
       "    }\n",
       "\n",
       "    .dataframe thead th {\n",
       "        text-align: right;\n",
       "    }\n",
       "</style>\n",
       "<table border=\"1\" class=\"dataframe\">\n",
       "  <thead>\n",
       "    <tr style=\"text-align: right;\">\n",
       "      <th></th>\n",
       "      <th>emp_id</th>\n",
       "      <th>name</th>\n",
       "      <th>dept</th>\n",
       "    </tr>\n",
       "  </thead>\n",
       "  <tbody>\n",
       "    <tr>\n",
       "      <th>0</th>\n",
       "      <td>11</td>\n",
       "      <td>Ram</td>\n",
       "      <td>Marketing</td>\n",
       "    </tr>\n",
       "    <tr>\n",
       "      <th>1</th>\n",
       "      <td>12</td>\n",
       "      <td>Raj</td>\n",
       "      <td>finance</td>\n",
       "    </tr>\n",
       "    <tr>\n",
       "      <th>2</th>\n",
       "      <td>13</td>\n",
       "      <td>Sita</td>\n",
       "      <td>Operation</td>\n",
       "    </tr>\n",
       "  </tbody>\n",
       "</table>\n",
       "</div>"
      ],
      "text/plain": [
       "   emp_id  name       dept\n",
       "0      11   Ram  Marketing\n",
       "1      12   Raj    finance\n",
       "2      13  Sita  Operation"
      ]
     },
     "execution_count": 21,
     "metadata": {},
     "output_type": "execute_result"
    }
   ],
   "source": [
    "data = {\n",
    "    'emp_id':[11,12,13],\n",
    "    'name':['Ram','Raj','Sita'],\n",
    "    'dept':['Marketing','finance','Operation'],\n",
    "}\n",
    "\n",
    "data_frame = pd.DataFrame(data)\n",
    "data_frame"
   ]
  },
  {
   "cell_type": "code",
   "execution_count": 37,
   "id": "6f36d748",
   "metadata": {},
   "outputs": [
    {
     "data": {
      "text/plain": [
       "0     Ram\n",
       "1     Raj\n",
       "2    Sita\n",
       "Name: name, dtype: object"
      ]
     },
     "execution_count": 37,
     "metadata": {},
     "output_type": "execute_result"
    }
   ],
   "source": [
    "data_frame['name']"
   ]
  },
  {
   "cell_type": "code",
   "execution_count": 38,
   "id": "1029342f",
   "metadata": {},
   "outputs": [
    {
     "data": {
      "text/plain": [
       "pandas.core.series.Series"
      ]
     },
     "execution_count": 38,
     "metadata": {},
     "output_type": "execute_result"
    }
   ],
   "source": [
    "type(data_frame['name'])"
   ]
  },
  {
   "cell_type": "markdown",
   "id": "308fb851",
   "metadata": {},
   "source": [
    "# Q5. What are some common functions you can use to manipulate data in a Pandas DataFrame? Can you give an example of when you might use one of these functions?"
   ]
  },
  {
   "cell_type": "markdown",
   "id": "acfa66eb",
   "metadata": {},
   "source": [
    "\n"
   ]
  },
  {
   "cell_type": "code",
   "execution_count": 52,
   "id": "95d60b5e",
   "metadata": {},
   "outputs": [
    {
     "data": {
      "text/html": [
       "<div>\n",
       "<style scoped>\n",
       "    .dataframe tbody tr th:only-of-type {\n",
       "        vertical-align: middle;\n",
       "    }\n",
       "\n",
       "    .dataframe tbody tr th {\n",
       "        vertical-align: top;\n",
       "    }\n",
       "\n",
       "    .dataframe thead th {\n",
       "        text-align: right;\n",
       "    }\n",
       "</style>\n",
       "<table border=\"1\" class=\"dataframe\">\n",
       "  <thead>\n",
       "    <tr style=\"text-align: right;\">\n",
       "      <th></th>\n",
       "      <th>name</th>\n",
       "      <th>age</th>\n",
       "      <th>city</th>\n",
       "      <th>Purchase</th>\n",
       "      <th>sales</th>\n",
       "    </tr>\n",
       "  </thead>\n",
       "  <tbody>\n",
       "    <tr>\n",
       "      <th>0</th>\n",
       "      <td>Ram</td>\n",
       "      <td>25.0</td>\n",
       "      <td>Pune</td>\n",
       "      <td>shampoo</td>\n",
       "      <td>1400</td>\n",
       "    </tr>\n",
       "    <tr>\n",
       "      <th>1</th>\n",
       "      <td>Raj</td>\n",
       "      <td>NaN</td>\n",
       "      <td>Mumbai</td>\n",
       "      <td>powder</td>\n",
       "      <td>1200</td>\n",
       "    </tr>\n",
       "    <tr>\n",
       "      <th>2</th>\n",
       "      <td>Nana</td>\n",
       "      <td>40.0</td>\n",
       "      <td>Delhi</td>\n",
       "      <td>shampoo</td>\n",
       "      <td>11250</td>\n",
       "    </tr>\n",
       "    <tr>\n",
       "      <th>3</th>\n",
       "      <td>Ved</td>\n",
       "      <td>35.0</td>\n",
       "      <td>Banaras</td>\n",
       "      <td>bread</td>\n",
       "      <td>5150</td>\n",
       "    </tr>\n",
       "    <tr>\n",
       "      <th>4</th>\n",
       "      <td>Hari</td>\n",
       "      <td>23.0</td>\n",
       "      <td>None</td>\n",
       "      <td>powder</td>\n",
       "      <td>3450</td>\n",
       "    </tr>\n",
       "  </tbody>\n",
       "</table>\n",
       "</div>"
      ],
      "text/plain": [
       "   name   age     city Purchase  sales\n",
       "0   Ram  25.0     Pune  shampoo   1400\n",
       "1   Raj   NaN   Mumbai   powder   1200\n",
       "2  Nana  40.0    Delhi  shampoo  11250\n",
       "3   Ved  35.0  Banaras    bread   5150\n",
       "4  Hari  23.0     None   powder   3450"
      ]
     },
     "execution_count": 52,
     "metadata": {},
     "output_type": "execute_result"
    }
   ],
   "source": [
    "# created the sample dataframe \n",
    "data1 = {'name': ['Ram', 'Raj', 'Nana', 'Ved', 'Hari'],\n",
    "        'age': [25,None, 40, 35,23],\n",
    "        'city': ['Pune', 'Mumbai', 'Delhi', 'Banaras', None,],\n",
    "        'Purchase': ['shampoo', 'powder', 'shampoo', 'bread', 'powder'],\n",
    "        'sales': [1400, 1200, 11250, 5150, 3450],\n",
    "        }\n",
    "df1 = pd.DataFrame(data1)\n",
    "df1"
   ]
  },
  {
   "cell_type": "markdown",
   "id": "0676b215",
   "metadata": {},
   "source": [
    "1. Dropping Data:-\n",
    "\n",
    "drop(): Allows you to drop rows or columns from the DataFrame."
   ]
  },
  {
   "cell_type": "code",
   "execution_count": 56,
   "id": "2cd2b1c4",
   "metadata": {},
   "outputs": [
    {
     "data": {
      "text/html": [
       "<div>\n",
       "<style scoped>\n",
       "    .dataframe tbody tr th:only-of-type {\n",
       "        vertical-align: middle;\n",
       "    }\n",
       "\n",
       "    .dataframe tbody tr th {\n",
       "        vertical-align: top;\n",
       "    }\n",
       "\n",
       "    .dataframe thead th {\n",
       "        text-align: right;\n",
       "    }\n",
       "</style>\n",
       "<table border=\"1\" class=\"dataframe\">\n",
       "  <thead>\n",
       "    <tr style=\"text-align: right;\">\n",
       "      <th></th>\n",
       "      <th>name</th>\n",
       "      <th>age</th>\n",
       "      <th>city</th>\n",
       "      <th>Purchase</th>\n",
       "      <th>sales</th>\n",
       "    </tr>\n",
       "  </thead>\n",
       "  <tbody>\n",
       "    <tr>\n",
       "      <th>0</th>\n",
       "      <td>Ram</td>\n",
       "      <td>25.0</td>\n",
       "      <td>Pune</td>\n",
       "      <td>shampoo</td>\n",
       "      <td>1400</td>\n",
       "    </tr>\n",
       "    <tr>\n",
       "      <th>2</th>\n",
       "      <td>Nana</td>\n",
       "      <td>40.0</td>\n",
       "      <td>Delhi</td>\n",
       "      <td>shampoo</td>\n",
       "      <td>11250</td>\n",
       "    </tr>\n",
       "    <tr>\n",
       "      <th>3</th>\n",
       "      <td>Ved</td>\n",
       "      <td>35.0</td>\n",
       "      <td>Banaras</td>\n",
       "      <td>bread</td>\n",
       "      <td>5150</td>\n",
       "    </tr>\n",
       "  </tbody>\n",
       "</table>\n",
       "</div>"
      ],
      "text/plain": [
       "   name   age     city Purchase  sales\n",
       "0   Ram  25.0     Pune  shampoo   1400\n",
       "2  Nana  40.0    Delhi  shampoo  11250\n",
       "3   Ved  35.0  Banaras    bread   5150"
      ]
     },
     "execution_count": 56,
     "metadata": {},
     "output_type": "execute_result"
    }
   ],
   "source": [
    "a=df1.dropna()\n",
    "a"
   ]
  },
  {
   "cell_type": "markdown",
   "id": "71fab693",
   "metadata": {},
   "source": [
    "2. fillna(): Fills missing values with a specified value or method."
   ]
  },
  {
   "cell_type": "code",
   "execution_count": 58,
   "id": "185199ac",
   "metadata": {},
   "outputs": [
    {
     "data": {
      "text/html": [
       "<div>\n",
       "<style scoped>\n",
       "    .dataframe tbody tr th:only-of-type {\n",
       "        vertical-align: middle;\n",
       "    }\n",
       "\n",
       "    .dataframe tbody tr th {\n",
       "        vertical-align: top;\n",
       "    }\n",
       "\n",
       "    .dataframe thead th {\n",
       "        text-align: right;\n",
       "    }\n",
       "</style>\n",
       "<table border=\"1\" class=\"dataframe\">\n",
       "  <thead>\n",
       "    <tr style=\"text-align: right;\">\n",
       "      <th></th>\n",
       "      <th>name</th>\n",
       "      <th>age</th>\n",
       "      <th>city</th>\n",
       "      <th>Purchase</th>\n",
       "      <th>sales</th>\n",
       "    </tr>\n",
       "  </thead>\n",
       "  <tbody>\n",
       "    <tr>\n",
       "      <th>0</th>\n",
       "      <td>Ram</td>\n",
       "      <td>25.0</td>\n",
       "      <td>Pune</td>\n",
       "      <td>shampoo</td>\n",
       "      <td>1400</td>\n",
       "    </tr>\n",
       "    <tr>\n",
       "      <th>1</th>\n",
       "      <td>Raj</td>\n",
       "      <td>0.0</td>\n",
       "      <td>Mumbai</td>\n",
       "      <td>powder</td>\n",
       "      <td>1200</td>\n",
       "    </tr>\n",
       "    <tr>\n",
       "      <th>2</th>\n",
       "      <td>Nana</td>\n",
       "      <td>40.0</td>\n",
       "      <td>Delhi</td>\n",
       "      <td>shampoo</td>\n",
       "      <td>11250</td>\n",
       "    </tr>\n",
       "    <tr>\n",
       "      <th>3</th>\n",
       "      <td>Ved</td>\n",
       "      <td>35.0</td>\n",
       "      <td>Banaras</td>\n",
       "      <td>bread</td>\n",
       "      <td>5150</td>\n",
       "    </tr>\n",
       "    <tr>\n",
       "      <th>4</th>\n",
       "      <td>Hari</td>\n",
       "      <td>23.0</td>\n",
       "      <td>0</td>\n",
       "      <td>powder</td>\n",
       "      <td>3450</td>\n",
       "    </tr>\n",
       "  </tbody>\n",
       "</table>\n",
       "</div>"
      ],
      "text/plain": [
       "   name   age     city Purchase  sales\n",
       "0   Ram  25.0     Pune  shampoo   1400\n",
       "1   Raj   0.0   Mumbai   powder   1200\n",
       "2  Nana  40.0    Delhi  shampoo  11250\n",
       "3   Ved  35.0  Banaras    bread   5150\n",
       "4  Hari  23.0        0   powder   3450"
      ]
     },
     "execution_count": 58,
     "metadata": {},
     "output_type": "execute_result"
    }
   ],
   "source": [
    "b=df1.fillna(0)\n",
    "b"
   ]
  },
  {
   "cell_type": "markdown",
   "id": "3f5dbc57",
   "metadata": {},
   "source": [
    "3. Sorting:\n",
    "\n",
    "sort_values(): Sorts the DataFrame by one or more columns."
   ]
  },
  {
   "cell_type": "code",
   "execution_count": 65,
   "id": "aa3b7b54",
   "metadata": {},
   "outputs": [
    {
     "data": {
      "text/html": [
       "<div>\n",
       "<style scoped>\n",
       "    .dataframe tbody tr th:only-of-type {\n",
       "        vertical-align: middle;\n",
       "    }\n",
       "\n",
       "    .dataframe tbody tr th {\n",
       "        vertical-align: top;\n",
       "    }\n",
       "\n",
       "    .dataframe thead th {\n",
       "        text-align: right;\n",
       "    }\n",
       "</style>\n",
       "<table border=\"1\" class=\"dataframe\">\n",
       "  <thead>\n",
       "    <tr style=\"text-align: right;\">\n",
       "      <th></th>\n",
       "      <th>name</th>\n",
       "      <th>age</th>\n",
       "      <th>city</th>\n",
       "      <th>Purchase</th>\n",
       "      <th>sales</th>\n",
       "    </tr>\n",
       "  </thead>\n",
       "  <tbody>\n",
       "    <tr>\n",
       "      <th>3</th>\n",
       "      <td>Ved</td>\n",
       "      <td>35.0</td>\n",
       "      <td>Banaras</td>\n",
       "      <td>bread</td>\n",
       "      <td>5150</td>\n",
       "    </tr>\n",
       "    <tr>\n",
       "      <th>2</th>\n",
       "      <td>Nana</td>\n",
       "      <td>40.0</td>\n",
       "      <td>Delhi</td>\n",
       "      <td>shampoo</td>\n",
       "      <td>11250</td>\n",
       "    </tr>\n",
       "    <tr>\n",
       "      <th>1</th>\n",
       "      <td>Raj</td>\n",
       "      <td>NaN</td>\n",
       "      <td>Mumbai</td>\n",
       "      <td>powder</td>\n",
       "      <td>1200</td>\n",
       "    </tr>\n",
       "    <tr>\n",
       "      <th>0</th>\n",
       "      <td>Ram</td>\n",
       "      <td>25.0</td>\n",
       "      <td>Pune</td>\n",
       "      <td>shampoo</td>\n",
       "      <td>1400</td>\n",
       "    </tr>\n",
       "    <tr>\n",
       "      <th>4</th>\n",
       "      <td>Hari</td>\n",
       "      <td>23.0</td>\n",
       "      <td>None</td>\n",
       "      <td>powder</td>\n",
       "      <td>3450</td>\n",
       "    </tr>\n",
       "  </tbody>\n",
       "</table>\n",
       "</div>"
      ],
      "text/plain": [
       "   name   age     city Purchase  sales\n",
       "3   Ved  35.0  Banaras    bread   5150\n",
       "2  Nana  40.0    Delhi  shampoo  11250\n",
       "1   Raj   NaN   Mumbai   powder   1200\n",
       "0   Ram  25.0     Pune  shampoo   1400\n",
       "4  Hari  23.0     None   powder   3450"
      ]
     },
     "execution_count": 65,
     "metadata": {},
     "output_type": "execute_result"
    }
   ],
   "source": [
    "c=df1.sort_values(by='city',ascending=True)\n",
    "c"
   ]
  },
  {
   "cell_type": "markdown",
   "id": "72b033f8",
   "metadata": {},
   "source": [
    "4. groupby(): Groups data based on a column and allows you to perform aggregation functions."
   ]
  },
  {
   "cell_type": "code",
   "execution_count": 75,
   "id": "811d117d",
   "metadata": {},
   "outputs": [
    {
     "data": {
      "text/plain": [
       "Purchase\n",
       "bread      35.0\n",
       "powder     23.0\n",
       "shampoo    32.5\n",
       "Name: age, dtype: float64"
      ]
     },
     "execution_count": 75,
     "metadata": {},
     "output_type": "execute_result"
    }
   ],
   "source": [
    "d=df1.groupby('Purchase')['age'].mean()\n",
    "d"
   ]
  },
  {
   "cell_type": "markdown",
   "id": "15b41d0c",
   "metadata": {},
   "source": [
    "5. assign(): Adds new columns to the DataFrame."
   ]
  },
  {
   "cell_type": "code",
   "execution_count": 78,
   "id": "b3f9be6f",
   "metadata": {},
   "outputs": [
    {
     "data": {
      "text/html": [
       "<div>\n",
       "<style scoped>\n",
       "    .dataframe tbody tr th:only-of-type {\n",
       "        vertical-align: middle;\n",
       "    }\n",
       "\n",
       "    .dataframe tbody tr th {\n",
       "        vertical-align: top;\n",
       "    }\n",
       "\n",
       "    .dataframe thead th {\n",
       "        text-align: right;\n",
       "    }\n",
       "</style>\n",
       "<table border=\"1\" class=\"dataframe\">\n",
       "  <thead>\n",
       "    <tr style=\"text-align: right;\">\n",
       "      <th></th>\n",
       "      <th>name</th>\n",
       "      <th>age</th>\n",
       "      <th>city</th>\n",
       "      <th>Purchase</th>\n",
       "      <th>sales</th>\n",
       "      <th>Doubled_sales</th>\n",
       "    </tr>\n",
       "  </thead>\n",
       "  <tbody>\n",
       "    <tr>\n",
       "      <th>0</th>\n",
       "      <td>Ram</td>\n",
       "      <td>25.0</td>\n",
       "      <td>Pune</td>\n",
       "      <td>shampoo</td>\n",
       "      <td>1400</td>\n",
       "      <td>2800</td>\n",
       "    </tr>\n",
       "    <tr>\n",
       "      <th>1</th>\n",
       "      <td>Raj</td>\n",
       "      <td>NaN</td>\n",
       "      <td>Mumbai</td>\n",
       "      <td>powder</td>\n",
       "      <td>1200</td>\n",
       "      <td>2400</td>\n",
       "    </tr>\n",
       "    <tr>\n",
       "      <th>2</th>\n",
       "      <td>Nana</td>\n",
       "      <td>40.0</td>\n",
       "      <td>Delhi</td>\n",
       "      <td>shampoo</td>\n",
       "      <td>11250</td>\n",
       "      <td>22500</td>\n",
       "    </tr>\n",
       "    <tr>\n",
       "      <th>3</th>\n",
       "      <td>Ved</td>\n",
       "      <td>35.0</td>\n",
       "      <td>Banaras</td>\n",
       "      <td>bread</td>\n",
       "      <td>5150</td>\n",
       "      <td>10300</td>\n",
       "    </tr>\n",
       "    <tr>\n",
       "      <th>4</th>\n",
       "      <td>Hari</td>\n",
       "      <td>23.0</td>\n",
       "      <td>None</td>\n",
       "      <td>powder</td>\n",
       "      <td>3450</td>\n",
       "      <td>6900</td>\n",
       "    </tr>\n",
       "  </tbody>\n",
       "</table>\n",
       "</div>"
      ],
      "text/plain": [
       "   name   age     city Purchase  sales  Doubled_sales\n",
       "0   Ram  25.0     Pune  shampoo   1400           2800\n",
       "1   Raj   NaN   Mumbai   powder   1200           2400\n",
       "2  Nana  40.0    Delhi  shampoo  11250          22500\n",
       "3   Ved  35.0  Banaras    bread   5150          10300\n",
       "4  Hari  23.0     None   powder   3450           6900"
      ]
     },
     "execution_count": 78,
     "metadata": {},
     "output_type": "execute_result"
    }
   ],
   "source": [
    "e=df1.assign(Doubled_sales=df1['sales'] * 2)\n",
    "e"
   ]
  },
  {
   "cell_type": "markdown",
   "id": "7934a113",
   "metadata": {},
   "source": [
    "6. Filtering:\n",
    "\n",
    "boolean indexing: Allows you to filter rows based on a condition."
   ]
  },
  {
   "cell_type": "code",
   "execution_count": 79,
   "id": "1a2d6636",
   "metadata": {},
   "outputs": [
    {
     "data": {
      "text/html": [
       "<div>\n",
       "<style scoped>\n",
       "    .dataframe tbody tr th:only-of-type {\n",
       "        vertical-align: middle;\n",
       "    }\n",
       "\n",
       "    .dataframe tbody tr th {\n",
       "        vertical-align: top;\n",
       "    }\n",
       "\n",
       "    .dataframe thead th {\n",
       "        text-align: right;\n",
       "    }\n",
       "</style>\n",
       "<table border=\"1\" class=\"dataframe\">\n",
       "  <thead>\n",
       "    <tr style=\"text-align: right;\">\n",
       "      <th></th>\n",
       "      <th>name</th>\n",
       "      <th>age</th>\n",
       "      <th>city</th>\n",
       "      <th>Purchase</th>\n",
       "      <th>sales</th>\n",
       "    </tr>\n",
       "  </thead>\n",
       "  <tbody>\n",
       "    <tr>\n",
       "      <th>2</th>\n",
       "      <td>Nana</td>\n",
       "      <td>40.0</td>\n",
       "      <td>Delhi</td>\n",
       "      <td>shampoo</td>\n",
       "      <td>11250</td>\n",
       "    </tr>\n",
       "    <tr>\n",
       "      <th>3</th>\n",
       "      <td>Ved</td>\n",
       "      <td>35.0</td>\n",
       "      <td>Banaras</td>\n",
       "      <td>bread</td>\n",
       "      <td>5150</td>\n",
       "    </tr>\n",
       "  </tbody>\n",
       "</table>\n",
       "</div>"
      ],
      "text/plain": [
       "   name   age     city Purchase  sales\n",
       "2  Nana  40.0    Delhi  shampoo  11250\n",
       "3   Ved  35.0  Banaras    bread   5150"
      ]
     },
     "execution_count": 79,
     "metadata": {},
     "output_type": "execute_result"
    }
   ],
   "source": [
    "g=df1[df1['age']>30]\n",
    "g"
   ]
  },
  {
   "cell_type": "code",
   "execution_count": null,
   "id": "b28553da",
   "metadata": {},
   "outputs": [],
   "source": []
  },
  {
   "cell_type": "markdown",
   "id": "8e3a5f46",
   "metadata": {},
   "source": [
    "# Q6. Which of the following is mutable in nature Series, DataFrame, Panel?"
   ]
  },
  {
   "cell_type": "markdown",
   "id": "48f139d9",
   "metadata": {},
   "source": [
    "Series: It is a 1-D size-immutable array like structure having homogeneous data.\n",
    "\n",
    "DataFrames: It is a 2-D size-mutable tabular structure with heterogeneously typed columns.\n",
    "\n",
    "Panel: It is a 3-D, size-mutable array. Panel has been deprecated in more recent versions of Pandas."
   ]
  },
  {
   "cell_type": "markdown",
   "id": "578b8241",
   "metadata": {},
   "source": [
    "# Q7. Create a DataFrame using multiple Series. Explain with an example."
   ]
  },
  {
   "cell_type": "code",
   "execution_count": 49,
   "id": "d09b4a15",
   "metadata": {},
   "outputs": [
    {
     "data": {
      "text/html": [
       "<div>\n",
       "<style scoped>\n",
       "    .dataframe tbody tr th:only-of-type {\n",
       "        vertical-align: middle;\n",
       "    }\n",
       "\n",
       "    .dataframe tbody tr th {\n",
       "        vertical-align: top;\n",
       "    }\n",
       "\n",
       "    .dataframe thead th {\n",
       "        text-align: right;\n",
       "    }\n",
       "</style>\n",
       "<table border=\"1\" class=\"dataframe\">\n",
       "  <thead>\n",
       "    <tr style=\"text-align: right;\">\n",
       "      <th></th>\n",
       "      <th>name</th>\n",
       "      <th>age</th>\n",
       "      <th>purchase</th>\n",
       "    </tr>\n",
       "  </thead>\n",
       "  <tbody>\n",
       "    <tr>\n",
       "      <th>0</th>\n",
       "      <td>ram</td>\n",
       "      <td>23</td>\n",
       "      <td>nirma</td>\n",
       "    </tr>\n",
       "    <tr>\n",
       "      <th>1</th>\n",
       "      <td>raj</td>\n",
       "      <td>45</td>\n",
       "      <td>shampoo</td>\n",
       "    </tr>\n",
       "    <tr>\n",
       "      <th>2</th>\n",
       "      <td>amar</td>\n",
       "      <td>31</td>\n",
       "      <td>fruits</td>\n",
       "    </tr>\n",
       "  </tbody>\n",
       "</table>\n",
       "</div>"
      ],
      "text/plain": [
       "   name  age purchase\n",
       "0   ram   23    nirma\n",
       "1   raj   45  shampoo\n",
       "2  amar   31   fruits"
      ]
     },
     "execution_count": 49,
     "metadata": {},
     "output_type": "execute_result"
    }
   ],
   "source": [
    "import pandas as pd\n",
    "\n",
    "name= pd.Series(['ram','raj','amar'])\n",
    "age= pd.Series([23,45,31])\n",
    "item_purchase=pd.Series(['nirma','shampoo','fruits'])\n",
    "\n",
    "data_frame=pd.DataFrame({\n",
    "    'name':name,\n",
    "    'age':age,\n",
    "    'purchase':item_purchase\n",
    "    \n",
    "}\n",
    ")\n",
    "data_frame"
   ]
  },
  {
   "cell_type": "code",
   "execution_count": null,
   "id": "26349cb4",
   "metadata": {},
   "outputs": [],
   "source": []
  }
 ],
 "metadata": {
  "kernelspec": {
   "display_name": "Python 3 (ipykernel)",
   "language": "python",
   "name": "python3"
  },
  "language_info": {
   "codemirror_mode": {
    "name": "ipython",
    "version": 3
   },
   "file_extension": ".py",
   "mimetype": "text/x-python",
   "name": "python",
   "nbconvert_exporter": "python",
   "pygments_lexer": "ipython3",
   "version": "3.9.7"
  }
 },
 "nbformat": 4,
 "nbformat_minor": 5
}
