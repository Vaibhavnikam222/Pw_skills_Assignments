{
 "cells": [
  {
   "cell_type": "markdown",
   "id": "3c3c2ced",
   "metadata": {},
   "source": [
    "# Q.1) What is multithreading in python? why is it used? Name the module used to handle threads in python."
   ]
  },
  {
   "cell_type": "markdown",
   "id": "6c996ab1",
   "metadata": {},
   "source": [
    " A thread is the smallest program that can be scheduled for execution by the operating system. Multithreading is used for creating and managing multiple threads within a single process.Multithreading enables a program to execute multiple threads concurrently, allowing different parts of the program to run in parallel."
   ]
  },
  {
   "cell_type": "markdown",
   "id": "34b44a40",
   "metadata": {},
   "source": [
    "Reason - \n",
    "\n",
    "   1. Multithreading enables different parts of a program to execute concurrently. It improves the responsiveness and overall efficiency of the application.\n",
    "   2.This is useful for applications where multiple tasks need to handle simultaneously without blocking the entire program's execution.\n",
    "   3.When a program spends a significant amount of time waiting for operations like reading/writing files, network communication  then multithreading can be beneficial.\n",
    "   4. user interface remains responsive while other tasks are being performed in the background.\n",
    "   5. Better utilization of system resources.\n",
    "   "
   ]
  },
  {
   "cell_type": "markdown",
   "id": "e9726938",
   "metadata": {},
   "source": [
    "The module used to handle threads in python- threading module.\n",
    "    This module provides classes and functions for creating, managing, and synchronizing threads within a Python program. It allows you to create and control multiple threads to achieve concurrency and parallelism in our applications, depending on our specific use."
   ]
  },
  {
   "cell_type": "markdown",
   "id": "9940cbad",
   "metadata": {},
   "source": [
    "# Q.2.Why threading module used? Write the use of the following functions\n",
    "\n",
    "**1.activeCount()\n",
    "2.currentThread()\n",
    "3.enumerate()**"
   ]
  },
  {
   "cell_type": "markdown",
   "id": "a016652b",
   "metadata": {},
   "source": [
    "The threading module in Python is used to manage threads within a single process. Threads are a way to achieve concurrency in a program, allowing multiple tasks to execute concurrently.\n",
    "    \n",
    "Reasons for using the threading module:-\n",
    "\n",
    "    1.On machines with multiple CPU cores, the threading module can be used to take advantage of parallelism and maximize CPU utilization.\n",
    "    2.The threading module provides synchronization mechanisms like locks, semaphores, and condition variables that help manage access to shared resources among threads, preventing data corruption and ensuring data integrity.\n",
    "    3.When a program spends a significant amount of time waiting for operations like reading/writing files, network communication then threading module can be beneficial."
   ]
  },
  {
   "cell_type": "markdown",
   "id": "bb18ac09",
   "metadata": {},
   "source": [
    "**use of following functions-**\n",
    "1.activecount()- The function is used to return the number of Thread objects currently running.\n",
    "\n",
    "2.currentThread()- This function returns the Thread object representing the current thread. This function is often used within a thread to get a reference to itself, which can be useful for various purposes such as logging or identification.\n",
    "\n",
    "3.enumerate()- This function returns a list of all Thread objects currently alive.It is often used to retrieve a list of all active threads, which can be useful for monitoring, debugging, or managing threads."
   ]
  },
  {
   "cell_type": "markdown",
   "id": "92f42861",
   "metadata": {},
   "source": [
    "# 3. Explain the following functions\n",
    "***1.run()\n",
    "2start()\n",
    "3.join()\n",
    "4.isAlive()***"
   ]
  },
  {
   "cell_type": "markdown",
   "id": "bf667207",
   "metadata": {},
   "source": [
    "**run():**\n",
    "\n",
    "The run() method is a standard method that we can define in a custom class derived from threading.Thread.\n",
    "It represents the code that will be executed when a thread starts running.\n",
    "When we create a custom thread class, we override the run() method to define the behavior of the thread."
   ]
  },
  {
   "cell_type": "code",
   "execution_count": 1,
   "id": "6499e166",
   "metadata": {},
   "outputs": [
    {
     "name": "stdout",
     "output_type": "stream",
     "text": [
      "Thread is running\n"
     ]
    }
   ],
   "source": [
    "import threading\n",
    "\n",
    "class MyThread(threading.Thread):\n",
    "    def run(self):\n",
    "        print(\"Thread is running\")\n",
    "\n",
    "thread = MyThread()\n",
    "thread.start()"
   ]
  },
  {
   "cell_type": "markdown",
   "id": "5a8bf078",
   "metadata": {},
   "source": [
    "**start():**\n",
    "The start() method is used to initiate the execution of a thread.\n",
    "It schedules the run() method of the thread to be executed in a separate thread of control.\n",
    "Once a thread is started, it runs independently in the background."
   ]
  },
  {
   "cell_type": "code",
   "execution_count": 4,
   "id": "c248ff6e",
   "metadata": {},
   "outputs": [
    {
     "name": "stdout",
     "output_type": "stream",
     "text": [
      "Worker thread is running\n"
     ]
    }
   ],
   "source": [
    "import threading\n",
    "\n",
    "def worker():\n",
    "    print(\"Worker thread is running\")\n",
    "\n",
    "thread = threading.Thread(target=worker)\n",
    "thread.start()\n"
   ]
  },
  {
   "cell_type": "markdown",
   "id": "a7b32f12",
   "metadata": {},
   "source": [
    "**join():**\n",
    "The join() method is used to wait for a thread to complete its execution before continuing with the main program.\n",
    "It blocks the calling thread until the thread being joined has finished executing.\n",
    "This is often used to ensure that the main program doesn't exit before important threads have completed."
   ]
  },
  {
   "cell_type": "code",
   "execution_count": 1,
   "id": "1e42a41c",
   "metadata": {},
   "outputs": [
    {
     "name": "stdout",
     "output_type": "stream",
     "text": [
      "Number: 0\n",
      "Number: 1\n",
      "Number: 2\n",
      "Number: 3\n",
      "Number: 4\n",
      "Thread has finished\n"
     ]
    }
   ],
   "source": [
    "import threading\n",
    "\n",
    "def print_numbers():\n",
    "    for i in range(5):\n",
    "        print(f\"Number: {i}\")\n",
    "t = threading.Thread(target=print_numbers)\n",
    "\n",
    "t.start()\n",
    "\n",
    "t.join()\n",
    "\n",
    "print(\"Thread has finished\")\n"
   ]
  },
  {
   "cell_type": "markdown",
   "id": "408226c2",
   "metadata": {},
   "source": [
    "**isAlive():**\n",
    "isAlive() is used to check whether a thread is currently running or not. It returns True if the thread is still active, and False otherwise."
   ]
  },
  {
   "cell_type": "code",
   "execution_count": 2,
   "id": "3d9b8c48",
   "metadata": {},
   "outputs": [
    {
     "name": "stdout",
     "output_type": "stream",
     "text": [
      "Thread is alive:\n",
      "Thread has completed.\n"
     ]
    }
   ],
   "source": [
    "import threading\n",
    "import time\n",
    "\n",
    "def my_function():\n",
    "    time.sleep(2)\n",
    "\n",
    "t= threading.Thread(target=my_function)\n",
    "\n",
    "t.start()\n",
    "\n",
    "print(\"Thread is alive:\")\n",
    "\n",
    "t.join()\n",
    "\n",
    "if t.is_alive(): \n",
    "    print(\"Thread is still running.\")\n",
    "else:\n",
    "    print(\"Thread has completed.\")\n"
   ]
  },
  {
   "cell_type": "markdown",
   "id": "826d0c81",
   "metadata": {},
   "source": [
    "# Q.4. Write a python program to create two threads. Thread one must print the list of squares and thread two must print the list of cubes."
   ]
  },
  {
   "cell_type": "code",
   "execution_count": 3,
   "id": "b1168b73",
   "metadata": {},
   "outputs": [
    {
     "name": "stdout",
     "output_type": "stream",
     "text": [
      "Square of 1: 1\n",
      "Square of 2: 4\n",
      "Square of 3: 9\n",
      "Square of 4: 16\n",
      "Square of 5: 25\n",
      "Cube of 1:1\n",
      "Cube of 2:8\n",
      "Cube of 3:27\n",
      "Cube of 4:64\n",
      "Cube of 5:125\n",
      "Main thread finished.\n"
     ]
    }
   ],
   "source": [
    "import threading\n",
    "\n",
    "def print_squares():\n",
    "    for i in range(1, 6):\n",
    "        a= i**2\n",
    "        print(f\"Square of {i}: {a}\")\n",
    "\n",
    "def print_cubes():\n",
    "    for i in range(1, 6):\n",
    "        b= i**3\n",
    "        print(f\"Cube of {i}:{b}\")\n",
    "\n",
    "squares = threading.Thread(target=print_squares)\n",
    "cubes = threading.Thread(target=print_cubes)\n",
    "\n",
    "squares.start()\n",
    "cubes.start()\n",
    "\n",
    "squares.join()\n",
    "cubes.join()\n",
    "\n",
    "print(\"Main thread finished.\")\n"
   ]
  },
  {
   "cell_type": "markdown",
   "id": "e7beb104",
   "metadata": {},
   "source": [
    "# Q.5. State advantages and disadvantages of multithreading."
   ]
  },
  {
   "cell_type": "markdown",
   "id": "50556c2e",
   "metadata": {},
   "source": [
    "**Adavantages-**\n",
    "\n",
    "    1.It hepls to make better use of available resources and improves performance.\n",
    "    2.It allows multiple tasks to run concurrently.\n",
    "    3.It ensures that the user interface remains responsive even when some tasks are executing in the background.\n",
    "    4.It can lead to improved execution times for tasks that can be parallelized, such as calculations on multi-core processors.\n",
    "    \n",
    "**Disadvantage-**\n",
    "\n",
    "    1.It is complex in nature.\n",
    "    2.Synchronization and coordination mechanisms requires to prevent issues like race conditions and deadlocks.\n",
    "    3.Debugging multithreaded programs can be challenging.\n",
    "    4.Not all applications benefit from multithreading. \n",
    "    5.It increases memory usage.\n"
   ]
  },
  {
   "cell_type": "markdown",
   "id": "8b8d83d4",
   "metadata": {},
   "source": [
    "# Q.6. Explain deadlocks and race conditions."
   ]
  },
  {
   "cell_type": "markdown",
   "id": "aefb85e4",
   "metadata": {},
   "source": [
    "**Deadlocks:**\n",
    "\n",
    "A deadlock is a situation in concurrent programming where two or more threads or processes are unable to proceed with their execution because they are each waiting for a resource that is held by another thread or process in the group. This creates a cyclic dependency of resources and results in a standstill, where none of the threads can make progress. Deadlocks can lead to a complete halt in the execution of the program, requiring intervention to resolve the situation.\n",
    "\n",
    "    To avoid deadlocks, proper synchronization mechanisms should be employed, and the conditions leading to deadlocks should be carefully managed.\n",
    "    \n",
    "**Race Conditions:**.\n",
    "\n",
    "A race condition is a situation in which the behavior of a program depends on the relative timing of events, such as the order of execution of threads or processes. When multiple threads access shared resources concurrently and at least one of them modifies the resource, the final outcome becomes unpredictable due to the race condition.\n",
    "\n",
    "   Race conditions can lead to incorrect results, crashes, or other unexpected behavior in a program. They occur when there is a lack of proper synchronization mechanisms to control access to shared resources. Race conditions can happen, for example, when one thread is reading a value while another thread is simultaneously modifying it.\n",
    "    \n",
    "   To prevent race conditions - locks, mutexes, and semaphores can be used to ensure that only one thread can access a resource at a time or to establish a consistent order of access."
   ]
  },
  {
   "cell_type": "code",
   "execution_count": null,
   "id": "c292f60b",
   "metadata": {},
   "outputs": [],
   "source": []
  }
 ],
 "metadata": {
  "kernelspec": {
   "display_name": "Python 3 (ipykernel)",
   "language": "python",
   "name": "python3"
  },
  "language_info": {
   "codemirror_mode": {
    "name": "ipython",
    "version": 3
   },
   "file_extension": ".py",
   "mimetype": "text/x-python",
   "name": "python",
   "nbconvert_exporter": "python",
   "pygments_lexer": "ipython3",
   "version": "3.9.7"
  }
 },
 "nbformat": 4,
 "nbformat_minor": 5
}
