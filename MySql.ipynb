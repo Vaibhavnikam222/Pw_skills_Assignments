{
 "cells": [
  {
   "cell_type": "markdown",
   "id": "c04dcec3",
   "metadata": {},
   "source": [
    "# Q1. What is a database? Differentiate between SQL and NoSQL databases."
   ]
  },
  {
   "cell_type": "markdown",
   "id": "fbbe3a0e",
   "metadata": {},
   "source": [
    "A database is an organized collection of structured information, or data, typically stored electronically in a computer system. It allows for efficient retrieval, manipulation, and management of data. It serves as a central repository for storing and managing various types of information, making it possible to store, retrieve, update, and delete data in a systematic and structured manner."
   ]
  },
  {
   "cell_type": "markdown",
   "id": "1f9c9feb",
   "metadata": {},
   "source": [
    "Differentiation between SQL and NoSQL databases-\n",
    "\n",
    "1. Data Model:\n",
    "\n",
    "SQL Databases:\n",
    "Use a tabular structure to store data.Data is organized into rows and columns.Each column has a specific data type.Relationships between tables are established using foreign keys.\n",
    "\n",
    "NoSQL Databases:\n",
    "Use various data models such as key-value, document, column-family, and graph.Data is stored in a more flexible and dynamic format.\n",
    "\n",
    "2. Schema:\n",
    "\n",
    "SQL Databases: Have a fixed schema that defines the structure of tables and columns.\n",
    "\n",
    "NoSQL Databases:Can be schema-less or schema-flexible.\n",
    "\n",
    "3. Query Language:\n",
    "\n",
    "SQL Databases:\n",
    "Use the structured query language for data querying and manipulation.\n",
    "SQL offers powerful querying capabilities, including complex joins, aggregation functions, and data manipulation.\n",
    "\n",
    "NoSQL Databases:\n",
    "Use various query languages or APIs depending on the specific database and data model.Query languages might be more simplistic compared to the rich querying capabilities of SQL.\n",
    "\n",
    "4. Transactions and Consistency:\n",
    "\n",
    "SQL Databases:\n",
    "Generally offer strong ACID (Atomicity, Consistency, Isolation, Durability) transactions.Ensures data consistency even in the case of failures or concurrent updates.\n",
    "\n",
    "NoSQL Databases:\n",
    "Might offer eventual consistency rather than strict consistency.Sacrifices some level of consistency for improved scalability and performance.\n",
    "\n",
    "5. Scalability:\n",
    "\n",
    "SQL Databases:\n",
    "Traditional SQL databases are often vertically scalable.Horizontal scalability might require more complex setups.\n",
    "\n",
    "NoSQL Databases:\n",
    "Designed for horizontal scalability from the beginning.\n",
    "\n",
    "6. Use Cases:\n",
    "\n",
    "SQL Databases:\n",
    "Well-suited for applications where structured data, complex querying, and transactional integrity are important.Commonly used in financial systems, e-commerce platforms, and relational data scenarios.\n",
    "\n",
    "NoSQL Databases:\n",
    "Ideal for handling large volumes of unstructured or semi-structured data.Suitable for applications like social media, content management, real-time analytics, and IoT.\n",
    "\n",
    "7. Examples:\n",
    "\n",
    "SQL Databases:\n",
    "MySQL, PostgreSQL, Oracle Database, Microsoft SQL Server.\n",
    "\n",
    "NoSQL Databases:\n",
    "MongoDB (document), Cassandra (column-family), Redis (key-value), Neo4j (graph)."
   ]
  },
  {
   "cell_type": "markdown",
   "id": "9368991f",
   "metadata": {},
   "source": [
    "# Q2. What is DDL? Explain why CREATE, DROP, ALTER, and TRUNCATE are used with an example."
   ]
  },
  {
   "cell_type": "markdown",
   "id": "cd75981d",
   "metadata": {},
   "source": [
    "**DDL (Data Definition Language):**\n",
    "\n",
    "DDL is a subset of SQL (Structured Query Language). DDL statements are used to create, modify, and delete database objects such as tables, indexes, views, and schemas. Unlike DML (Data Manipulation Language), which is used to manipulate data within the database, DDL focuses on the management and organization of the data itself."
   ]
  },
  {
   "cell_type": "markdown",
   "id": "7f4607f8",
   "metadata": {},
   "source": [
    "**1.CREATE:**\n",
    "\n",
    "The CREATE statement is used to create new database objects, such as tables, indexes, views, or schemas."
   ]
  },
  {
   "cell_type": "markdown",
   "id": "80a0e03e",
   "metadata": {},
   "source": [
    "#Query for table creation in SQL-\n",
    "\n",
    "CREATE TABLE Employees (\n",
    "\n",
    "    EmployeeID INT PRIMARY KEY,\n",
    "    \n",
    "    FirstName VARCHAR(50),\n",
    "    \n",
    "    LastName VARCHAR(50),\n",
    "    \n",
    "    Department VARCHAR(50)\n",
    "    \n",
    "); \n"
   ]
  },
  {
   "cell_type": "markdown",
   "id": "a15e2ec6",
   "metadata": {},
   "source": [
    "**2.DROP:**\n",
    "    \n",
    "The DROP statement is used to delete existing database objects."
   ]
  },
  {
   "cell_type": "markdown",
   "id": "fd788911",
   "metadata": {},
   "source": [
    "#Query for DROP table in SQL-\n",
    "\n",
    "DROP TABLE Employees;\n"
   ]
  },
  {
   "cell_type": "markdown",
   "id": "c10872a0",
   "metadata": {},
   "source": [
    "**3. ALTER:**\n",
    "\n",
    "The ALTER statement is used to modify the structure of an existing database object, such as adding, modifying, or deleting columns in a table.\n",
    "\n",
    "#Query for ALTER table in SQL-\n",
    "\n",
    "ALTER TABLE Employees\n",
    "\n",
    "ADD Email VARCHAR(100);\n"
   ]
  },
  {
   "cell_type": "markdown",
   "id": "8095f770",
   "metadata": {},
   "source": [
    "**4. TRUNCATE:**\n",
    "\n",
    "It is used to remove all rows from a table, but it retains the structure of the table for future use. Unlike DELETE, which removes individual rows, TRUNCATE is a faster operation and doesn't generate as much log data.\n",
    "\n",
    "#Query for TRUNCATE table in SQL\n",
    "\n",
    "TRUNCATE TABLE Employees;\n"
   ]
  },
  {
   "cell_type": "markdown",
   "id": "153196b3",
   "metadata": {},
   "source": [
    "# Q3. What is DML? Explain INSERT, UPDATE, and DELETE with an example."
   ]
  },
  {
   "cell_type": "markdown",
   "id": "4e7a5f6d",
   "metadata": {},
   "source": [
    "DML is Data Manipulation Language. It is a subset of SQL (Structured Query Language) used for manipulating data stored in a database. DML statements are used to insert, update, and delete data within tables, enabling interactions with the actual data records."
   ]
  },
  {
   "cell_type": "markdown",
   "id": "e95ee1af",
   "metadata": {},
   "source": [
    "**1.INSERT:**\n",
    "\n",
    "The INSERT statement is used to add new rows of data into a table.\n",
    "\n",
    "#Query for INSERT in SQL-\n",
    "\n",
    "INSERT INTO Employees (EmployeeID, FirstName, LastName, Department)\n",
    "\n",
    "VALUES (1, 'John', 'Doe', 'HR');\n"
   ]
  },
  {
   "cell_type": "markdown",
   "id": "4d001f36",
   "metadata": {},
   "source": [
    "**2.UPDATE:**\n",
    "\n",
    "The UPDATE statement is used to modify existing data in a table.\n",
    "\n",
    "#Query for UPDATE in SQL-\n",
    "\n",
    "UPDATE Employees\n",
    "\n",
    "SET Department = 'Marketing'\n",
    "\n",
    "WHERE EmployeeID = 1;\n"
   ]
  },
  {
   "cell_type": "markdown",
   "id": "51da909a",
   "metadata": {},
   "source": [
    "**3. DELETE:**\n",
    "\n",
    "The DELETE statement is used to remove one or more rows from a table.\n",
    "\n",
    "#Query for DELETE in SQL-\n",
    "\n",
    "DELETE FROM Employees\n",
    "\n",
    "WHERE EmployeeID = 1;"
   ]
  },
  {
   "cell_type": "markdown",
   "id": "0bca5fd3",
   "metadata": {},
   "source": [
    "# Q4. What is DQL? Explain SELECT with an example."
   ]
  },
  {
   "cell_type": "markdown",
   "id": "ff2c024c",
   "metadata": {},
   "source": [
    "DQL is Data Query Language. It is used for querying and retrieving data from a database. DQL statements are primarily used to retrieve specific data from tables based on specified criteria and conditions."
   ]
  },
  {
   "cell_type": "markdown",
   "id": "88fef509",
   "metadata": {},
   "source": [
    "**SELECT Statement:**\n",
    "\n",
    "The SELECT statement is the fundamental DQL command used to retrieve data from one or more tables in a database."
   ]
  },
  {
   "cell_type": "markdown",
   "id": "e081c2ca",
   "metadata": {},
   "source": [
    "for example, to know the First Name, Last Name, Age of employee we can run following query to retrieve data:\n",
    "\n",
    "SELECT FirstName, LastName, Age\n",
    "\n",
    "FROM Students;\n"
   ]
  },
  {
   "cell_type": "markdown",
   "id": "f4efc25e",
   "metadata": {},
   "source": [
    "# Q5. Explain Primary Key and Foreign Key."
   ]
  },
  {
   "cell_type": "markdown",
   "id": "f71ea9fb",
   "metadata": {},
   "source": [
    "**Primary Key:**\n",
    "\n",
    "A primary key is a column or a combination of columns in a database table that uniquely identifies each row or record in that table. It ensures that each record in the table has a unique identifier, which is critical for maintaining data integrity and enabling efficient data retrieval. A primary key constraint guarantees that there are no duplicate values in the primary key column(s) and that the values are never null.\n",
    "\n",
    "**CHARACTERISTICS-**\n",
    "1.Uniqueness\n",
    "\n",
    "2.Non-null\n",
    "\n",
    "3.Uniquely"
   ]
  },
  {
   "cell_type": "markdown",
   "id": "2bb7bd69",
   "metadata": {},
   "source": [
    "**Foreign Key:**\n",
    "\n",
    "A foreign key is a column in a table that establishes a link between the data in two tables. It creates a relationship between two tables based on the values of the foreign key column and the primary key column in another table. The foreign key column in one table references the primary key column in another table.\n",
    "\n",
    "**CHARACTERISTICS- **\n",
    "1.References a primary key.\n",
    "\n",
    "2.Maintains referential integrity\n",
    "\n",
    "3.Establishes relationships\n"
   ]
  },
  {
   "cell_type": "markdown",
   "id": "68d47fe9",
   "metadata": {},
   "source": [
    "# Q6. Write a python code to connect MySQL to python. Explain the cursor() and execute() method."
   ]
  },
  {
   "cell_type": "code",
   "execution_count": 5,
   "id": "915d5900",
   "metadata": {},
   "outputs": [
    {
     "name": "stdout",
     "output_type": "stream",
     "text": [
      "Requirement already satisfied: mysql.connector in c:\\users\\sampada\\anaconda3\\lib\\site-packages (2.2.9)\n",
      "Note: you may need to restart the kernel to use updated packages.\n"
     ]
    }
   ],
   "source": [
    "pip install mysql.connector"
   ]
  },
  {
   "cell_type": "code",
   "execution_count": 6,
   "id": "823c57df",
   "metadata": {},
   "outputs": [],
   "source": [
    "import  mysql.connector"
   ]
  },
  {
   "cell_type": "markdown",
   "id": "beee5983",
   "metadata": {},
   "source": [
    "\n",
    "connect = mysql.connector.connect(\n",
    "\n",
    "    host=\"localhost\",\n",
    "    \n",
    "    user=\"username\", \n",
    "    \n",
    "    password=\"password\",\n",
    "    \n",
    "    database=\"mydatabase\" \n",
    "    \n",
    ")"
   ]
  },
  {
   "cell_type": "markdown",
   "id": "e48ea2bb",
   "metadata": {},
   "source": [
    "cursor = connect.cursor()\n",
    "\n",
    "cursor.execute(\"SELECT FirstName, LastName FROM Employees\")\n",
    "\n",
    "results = cursor.fetchall()\n",
    "\n",
    "for row in results:\n",
    "\n",
    "    print(\"First Name:\", row[0])\n",
    "    \n",
    "    print(\"Last Name:\", row[1])\n",
    "    \n",
    "    print()\n",
    "\n",
    "cursor.close()\n",
    "\n",
    "connect.close()"
   ]
  },
  {
   "cell_type": "markdown",
   "id": "f60c2470",
   "metadata": {},
   "source": [
    "The cursor is used to execute SQL statements and retrieve data from the database.\n",
    "\n",
    "We use the execute() method of the cursor to execute the query."
   ]
  },
  {
   "cell_type": "markdown",
   "id": "9edd308a",
   "metadata": {},
   "source": [
    "# Q7. Give the order of execution of SQL clauses in an SQL query."
   ]
  },
  {
   "cell_type": "markdown",
   "id": "ebaa55ae",
   "metadata": {},
   "source": [
    "order of execution for the main clauses in an SQL query:\n",
    "\n",
    "FROM\n",
    "\n",
    "JOIN\n",
    "\n",
    "WHERE \n",
    "\n",
    "GROUP BY\n",
    "\n",
    "HAVING\n",
    "\n",
    "SELECT\n",
    "\n",
    "DISTINCT\n",
    "\n",
    "ORDER BY\n",
    "\n",
    "LIMIT"
   ]
  },
  {
   "cell_type": "code",
   "execution_count": null,
   "id": "6019c892",
   "metadata": {},
   "outputs": [],
   "source": []
  }
 ],
 "metadata": {
  "kernelspec": {
   "display_name": "Python 3 (ipykernel)",
   "language": "python",
   "name": "python3"
  },
  "language_info": {
   "codemirror_mode": {
    "name": "ipython",
    "version": 3
   },
   "file_extension": ".py",
   "mimetype": "text/x-python",
   "name": "python",
   "nbconvert_exporter": "python",
   "pygments_lexer": "ipython3",
   "version": "3.9.7"
  }
 },
 "nbformat": 4,
 "nbformat_minor": 5
}
