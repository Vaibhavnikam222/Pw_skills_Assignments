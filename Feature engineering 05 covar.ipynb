{
 "cells": [
  {
   "cell_type": "markdown",
   "id": "b4eb3858",
   "metadata": {},
   "source": [
    "# Q1. Pearson correlation coefficient is a measure of the linear relationship between two variables. Suppose you have collected data on the amount of time students spend studying for an exam and their final exam scores. Calculate the Pearson correlation coefficient between these two variables and interpret the result."
   ]
  },
  {
   "cell_type": "code",
   "execution_count": 7,
   "id": "b5146c6d",
   "metadata": {},
   "outputs": [
    {
     "data": {
      "text/html": [
       "<div>\n",
       "<style scoped>\n",
       "    .dataframe tbody tr th:only-of-type {\n",
       "        vertical-align: middle;\n",
       "    }\n",
       "\n",
       "    .dataframe tbody tr th {\n",
       "        vertical-align: top;\n",
       "    }\n",
       "\n",
       "    .dataframe thead th {\n",
       "        text-align: right;\n",
       "    }\n",
       "</style>\n",
       "<table border=\"1\" class=\"dataframe\">\n",
       "  <thead>\n",
       "    <tr style=\"text-align: right;\">\n",
       "      <th></th>\n",
       "      <th>study_time</th>\n",
       "      <th>exam_scores</th>\n",
       "    </tr>\n",
       "  </thead>\n",
       "  <tbody>\n",
       "    <tr>\n",
       "      <th>0</th>\n",
       "      <td>5</td>\n",
       "      <td>60</td>\n",
       "    </tr>\n",
       "    <tr>\n",
       "      <th>1</th>\n",
       "      <td>10</td>\n",
       "      <td>70</td>\n",
       "    </tr>\n",
       "    <tr>\n",
       "      <th>2</th>\n",
       "      <td>15</td>\n",
       "      <td>80</td>\n",
       "    </tr>\n",
       "    <tr>\n",
       "      <th>3</th>\n",
       "      <td>20</td>\n",
       "      <td>90</td>\n",
       "    </tr>\n",
       "    <tr>\n",
       "      <th>4</th>\n",
       "      <td>25</td>\n",
       "      <td>95</td>\n",
       "    </tr>\n",
       "  </tbody>\n",
       "</table>\n",
       "</div>"
      ],
      "text/plain": [
       "   study_time  exam_scores\n",
       "0           5           60\n",
       "1          10           70\n",
       "2          15           80\n",
       "3          20           90\n",
       "4          25           95"
      ]
     },
     "execution_count": 7,
     "metadata": {},
     "output_type": "execute_result"
    }
   ],
   "source": [
    "import numpy as np\n",
    "import pandas as pd\n",
    "\n",
    "\n",
    "data1={'study_time' : [5, 10, 15, 20, 25],\n",
    "       'exam_scores' :[60, 70, 80, 90, 95]}\n",
    "\n",
    "data2=pd.DataFrame(data1)\n",
    "data2\n",
    "                   "
   ]
  },
  {
   "cell_type": "code",
   "execution_count": 8,
   "id": "a71b5270",
   "metadata": {},
   "outputs": [
    {
     "data": {
      "text/html": [
       "<div>\n",
       "<style scoped>\n",
       "    .dataframe tbody tr th:only-of-type {\n",
       "        vertical-align: middle;\n",
       "    }\n",
       "\n",
       "    .dataframe tbody tr th {\n",
       "        vertical-align: top;\n",
       "    }\n",
       "\n",
       "    .dataframe thead th {\n",
       "        text-align: right;\n",
       "    }\n",
       "</style>\n",
       "<table border=\"1\" class=\"dataframe\">\n",
       "  <thead>\n",
       "    <tr style=\"text-align: right;\">\n",
       "      <th></th>\n",
       "      <th>study_time</th>\n",
       "      <th>exam_scores</th>\n",
       "    </tr>\n",
       "  </thead>\n",
       "  <tbody>\n",
       "    <tr>\n",
       "      <th>study_time</th>\n",
       "      <td>62.5</td>\n",
       "      <td>112.5</td>\n",
       "    </tr>\n",
       "    <tr>\n",
       "      <th>exam_scores</th>\n",
       "      <td>112.5</td>\n",
       "      <td>205.0</td>\n",
       "    </tr>\n",
       "  </tbody>\n",
       "</table>\n",
       "</div>"
      ],
      "text/plain": [
       "             study_time  exam_scores\n",
       "study_time         62.5        112.5\n",
       "exam_scores       112.5        205.0"
      ]
     },
     "execution_count": 8,
     "metadata": {},
     "output_type": "execute_result"
    }
   ],
   "source": [
    "data2.cov()"
   ]
  },
  {
   "cell_type": "code",
   "execution_count": 9,
   "id": "f7265b2d",
   "metadata": {},
   "outputs": [
    {
     "data": {
      "text/html": [
       "<div>\n",
       "<style scoped>\n",
       "    .dataframe tbody tr th:only-of-type {\n",
       "        vertical-align: middle;\n",
       "    }\n",
       "\n",
       "    .dataframe tbody tr th {\n",
       "        vertical-align: top;\n",
       "    }\n",
       "\n",
       "    .dataframe thead th {\n",
       "        text-align: right;\n",
       "    }\n",
       "</style>\n",
       "<table border=\"1\" class=\"dataframe\">\n",
       "  <thead>\n",
       "    <tr style=\"text-align: right;\">\n",
       "      <th></th>\n",
       "      <th>study_time</th>\n",
       "      <th>exam_scores</th>\n",
       "    </tr>\n",
       "  </thead>\n",
       "  <tbody>\n",
       "    <tr>\n",
       "      <th>study_time</th>\n",
       "      <td>1.000000</td>\n",
       "      <td>0.993884</td>\n",
       "    </tr>\n",
       "    <tr>\n",
       "      <th>exam_scores</th>\n",
       "      <td>0.993884</td>\n",
       "      <td>1.000000</td>\n",
       "    </tr>\n",
       "  </tbody>\n",
       "</table>\n",
       "</div>"
      ],
      "text/plain": [
       "             study_time  exam_scores\n",
       "study_time     1.000000     0.993884\n",
       "exam_scores    0.993884     1.000000"
      ]
     },
     "execution_count": 9,
     "metadata": {},
     "output_type": "execute_result"
    }
   ],
   "source": [
    "data2.corr(method='pearson')"
   ]
  },
  {
   "cell_type": "markdown",
   "id": "7623b45e",
   "metadata": {},
   "source": [
    "# Q2. Spearman's rank correlation is a measure of the monotonic relationship between two variables. Suppose you have collected data on the amount of sleep individuals get each night and their overall job satisfaction level on a scale of 1 to 10. Calculate the Spearman's rank correlation between these two variables and interpret the result."
   ]
  },
  {
   "cell_type": "code",
   "execution_count": 10,
   "id": "ae32ef1d",
   "metadata": {},
   "outputs": [],
   "source": [
    "import numpy as np\n",
    "from scipy.stats import spearmanr"
   ]
  },
  {
   "cell_type": "code",
   "execution_count": 12,
   "id": "1eda09b0",
   "metadata": {},
   "outputs": [
    {
     "data": {
      "text/html": [
       "<div>\n",
       "<style scoped>\n",
       "    .dataframe tbody tr th:only-of-type {\n",
       "        vertical-align: middle;\n",
       "    }\n",
       "\n",
       "    .dataframe tbody tr th {\n",
       "        vertical-align: top;\n",
       "    }\n",
       "\n",
       "    .dataframe thead th {\n",
       "        text-align: right;\n",
       "    }\n",
       "</style>\n",
       "<table border=\"1\" class=\"dataframe\">\n",
       "  <thead>\n",
       "    <tr style=\"text-align: right;\">\n",
       "      <th></th>\n",
       "      <th>sleep_duration</th>\n",
       "      <th>job_satisfaction</th>\n",
       "    </tr>\n",
       "  </thead>\n",
       "  <tbody>\n",
       "    <tr>\n",
       "      <th>0</th>\n",
       "      <td>7</td>\n",
       "      <td>8</td>\n",
       "    </tr>\n",
       "    <tr>\n",
       "      <th>1</th>\n",
       "      <td>6</td>\n",
       "      <td>7</td>\n",
       "    </tr>\n",
       "    <tr>\n",
       "      <th>2</th>\n",
       "      <td>5</td>\n",
       "      <td>5</td>\n",
       "    </tr>\n",
       "    <tr>\n",
       "      <th>3</th>\n",
       "      <td>8</td>\n",
       "      <td>9</td>\n",
       "    </tr>\n",
       "    <tr>\n",
       "      <th>4</th>\n",
       "      <td>6</td>\n",
       "      <td>7</td>\n",
       "    </tr>\n",
       "    <tr>\n",
       "      <th>5</th>\n",
       "      <td>7</td>\n",
       "      <td>8</td>\n",
       "    </tr>\n",
       "    <tr>\n",
       "      <th>6</th>\n",
       "      <td>4</td>\n",
       "      <td>4</td>\n",
       "    </tr>\n",
       "    <tr>\n",
       "      <th>7</th>\n",
       "      <td>9</td>\n",
       "      <td>9</td>\n",
       "    </tr>\n",
       "    <tr>\n",
       "      <th>8</th>\n",
       "      <td>8</td>\n",
       "      <td>9</td>\n",
       "    </tr>\n",
       "    <tr>\n",
       "      <th>9</th>\n",
       "      <td>5</td>\n",
       "      <td>6</td>\n",
       "    </tr>\n",
       "  </tbody>\n",
       "</table>\n",
       "</div>"
      ],
      "text/plain": [
       "   sleep_duration  job_satisfaction\n",
       "0               7                 8\n",
       "1               6                 7\n",
       "2               5                 5\n",
       "3               8                 9\n",
       "4               6                 7\n",
       "5               7                 8\n",
       "6               4                 4\n",
       "7               9                 9\n",
       "8               8                 9\n",
       "9               5                 6"
      ]
     },
     "execution_count": 12,
     "metadata": {},
     "output_type": "execute_result"
    }
   ],
   "source": [
    "data5={'sleep_duration' : [7, 6, 5, 8, 6, 7, 4, 9, 8, 5],\n",
    "      'job_satisfaction' : [8, 7, 5, 9, 7, 8, 4, 9, 9, 6]}\n",
    "\n",
    "sleep=pd.DataFrame(data5)\n",
    "sleep"
   ]
  },
  {
   "cell_type": "code",
   "execution_count": 17,
   "id": "a9e9f7ee",
   "metadata": {},
   "outputs": [
    {
     "name": "stdout",
     "output_type": "stream",
     "text": [
      "Spearman's Rank Correlation Coefficient (ρ): 0.9875192876744454\n"
     ]
    }
   ],
   "source": [
    "correlation_coefficient,p_value = spearmanr(sleep)\n",
    "print(f\"Spearman's Rank Correlation Coefficient (ρ): {correlation_coefficient}\")"
   ]
  },
  {
   "cell_type": "code",
   "execution_count": 19,
   "id": "e1925b23",
   "metadata": {},
   "outputs": [
    {
     "name": "stdout",
     "output_type": "stream",
     "text": [
      "Interpretation: There is a positive monotonic relationship.\n"
     ]
    }
   ],
   "source": [
    "if correlation_coefficient > 0:\n",
    "    interpretation = \"There is a positive monotonic relationship.\"\n",
    "elif correlation_coefficient < 0:\n",
    "    interpretation = \"There is a negative monotonic relationship.\"\n",
    "else:\n",
    "    interpretation = \"There is no significant monotonic relationship.\"\n",
    "\n",
    "print(f\"Interpretation: {interpretation}\")"
   ]
  },
  {
   "cell_type": "markdown",
   "id": "68b39d61",
   "metadata": {},
   "source": [
    "# Q3. Suppose you are conducting a study to examine the relationship between the number of hours of exercise per week and body mass index (BMI) in a sample of adults. You collected data on both variables for 50 participants. Calculate the Pearson correlation coefficient and the Spearman's rank correlation between these two variables and compare the results."
   ]
  },
  {
   "cell_type": "code",
   "execution_count": 28,
   "id": "5eb099c0",
   "metadata": {},
   "outputs": [
    {
     "name": "stdout",
     "output_type": "stream",
     "text": [
      "Pearson Correlation Coefficient: -0.1336596737623088\n",
      "Pearson Correlation P-Value: 0.35477181832505017\n",
      "Spearman's Rank Correlation Coefficient: -0.1524609843937575\n",
      "Spearman's Rank Correlation P-Value: 0.29051652462123817\n"
     ]
    }
   ],
   "source": [
    "import numpy as np\n",
    "from scipy.stats import pearsonr, spearmanr\n",
    "\n",
    "np.random.seed(45)\n",
    "exercise_hours = np.random.uniform(0,10, 50)\n",
    "\n",
    "bmi = np.random.uniform(20, 35, 50)\n",
    "\n",
    "\n",
    "pearson_coefficient, pearson_p_value = pearsonr(exercise_hours, bmi)\n",
    "\n",
    "# Calculate the Spearman's rank correlation coefficient\n",
    "spearman_coefficient, spearman_p_value = spearmanr(exercise_hours, bmi)\n",
    "\n",
    "# Compare the results\n",
    "print(f\"Pearson Correlation Coefficient: {pearson_coefficient}\")\n",
    "print(f\"Pearson Correlation P-Value: {pearson_p_value}\")\n",
    "print(f\"Spearman's Rank Correlation Coefficient: {spearman_coefficient}\")\n",
    "print(f\"Spearman's Rank Correlation P-Value: {spearman_p_value}\")\n"
   ]
  },
  {
   "cell_type": "markdown",
   "id": "0f696973",
   "metadata": {},
   "source": [
    "### Interpretation:\n",
    "\n",
    "1. Pearson Correlation Coefficient: It measures the linear relationship between exercise hours and BMI. If the coefficient is close to 1, it suggests a strong positive linear relationship (more exercise leads to lower BMI), and if it's close to -1, it suggests a strong negative linear relationship (more exercise leads to higher BMI). A coefficient close to 0 indicates no strong linear relationship.\n",
    "\n",
    "2. 's Rank Correlation Coefficient: It measures the monotonic relationship between exercise hours and BMI, which considers whether one variable consistently increases or decreases as the other does. A positive coefficient indicates a positive monotonic relationship, a negative coefficient indicates a negative monotonic relationship, and a coefficient close to 0 suggests no strong monotonic relationship."
   ]
  },
  {
   "cell_type": "markdown",
   "id": "c51cf986",
   "metadata": {},
   "source": [
    "# Q4. A researcher is interested in examining the relationship between the number of hours individuals spend watching television per day and their level of physical activity. The researcher collected data on both variables from a sample of 50 participants. Calculate the Pearson correlation coefficient between these two variables."
   ]
  },
  {
   "cell_type": "code",
   "execution_count": 35,
   "id": "d80f680f",
   "metadata": {},
   "outputs": [
    {
     "name": "stdout",
     "output_type": "stream",
     "text": [
      "Pearson Correlation Coefficient: 0.07\n"
     ]
    }
   ],
   "source": [
    "np.random.seed(50)\n",
    "tv_hours = np.random.uniform(0, 5, 50)  \n",
    "physical_activity = np.random.uniform(0, 10, 50)\n",
    "\n",
    "data6={'tv_hours':tv_hours,\n",
    "      'physical_activity':physical_activity}\n",
    "data7=pd.DataFrame(data6)\n",
    "\n",
    "\n",
    "correlation_coefficient, p_value = pearsonr(tv_hours, physical_activity)\n",
    "print(f\"Pearson Correlation Coefficient: {correlation_coefficient:.2f}\")\n"
   ]
  },
  {
   "attachments": {
    "Screenshot%202023-09-23%20192953.jpg": {
     "image/jpeg": "[encoded data removed]"
    }
   },
   "cell_type": "markdown",
   "id": "f22fdee7",
   "metadata": {},
   "source": [
    "# Q5. A survey was conducted to examine the relationship between age and preference for a particular brand of soft drink. The survey results are shown below:\n",
    "\n",
    "![Screenshot%202023-09-23%20192953.jpg](attachment:Screenshot%202023-09-23%20192953.jpg)"
   ]
  },
  {
   "cell_type": "code",
   "execution_count": 46,
   "id": "198e0391",
   "metadata": {},
   "outputs": [
    {
     "name": "stdout",
     "output_type": "stream",
     "text": [
      "   Age(Years) Soft Drink Preference\n",
      "0          25                  Coke\n",
      "1          42                 Pepsi\n",
      "2          37          Mountain Dew\n",
      "3          19                  Coke\n",
      "4          31                 Pepsi\n",
      "5          28                  Coke\n"
     ]
    }
   ],
   "source": [
    "import scipy.stats as stats\n",
    "data9 = {'Age(Years)': [25, 42, 37, 19, 31, 28],\n",
    "    'Soft Drink Preference': ['Coke', 'Pepsi', 'Mountain Dew', 'Coke', 'Pepsi', 'Coke']}\n",
    "\n",
    "df = pd.DataFrame(data9)\n",
    "\n",
    "print(df)\n"
   ]
  },
  {
   "cell_type": "code",
   "execution_count": 47,
   "id": "9cea8617",
   "metadata": {},
   "outputs": [
    {
     "name": "stdout",
     "output_type": "stream",
     "text": [
      "F-statistic: 3.52\n",
      "P-value: 0.1631\n",
      "Fail to reject the null hypothesis. There is no significant difference in means.\n"
     ]
    }
   ],
   "source": [
    "coke_age = df[df['Soft Drink Preference'] == 'Coke']['Age(Years)']\n",
    "pepsi_age = df[df['Soft Drink Preference'] == 'Pepsi']['Age(Years)']\n",
    "mountain_dew_age = df[df['Soft Drink Preference'] == 'Mountain Dew']['Age(Years)']\n",
    "\n",
    "# Perform one-way ANOVA test to compare means\n",
    "f_statistic, p_value = stats.f_oneway(coke_age, pepsi_age, mountain_dew_age)\n",
    "\n",
    "# Set the significance level (alpha)\n",
    "alpha = 0.05\n",
    "\n",
    "# Print the results\n",
    "print(f\"F-statistic: {f_statistic:.2f}\")\n",
    "print(f\"P-value: {p_value:.4f}\")\n",
    "\n",
    "# Check the p-value against the significance level\n",
    "if p_value < alpha:\n",
    "    print(\"Reject the null hypothesis. There is a significant difference in means.\")\n",
    "else:\n",
    "    print(\"Fail to reject the null hypothesis. There is no significant difference in means.\")"
   ]
  },
  {
   "cell_type": "code",
   "execution_count": null,
   "id": "1b42dade",
   "metadata": {},
   "outputs": [],
   "source": []
  },
  {
   "cell_type": "markdown",
   "id": "be2e3110",
   "metadata": {},
   "source": [
    "# Q6. A company is interested in examining the relationship between the number of sales calls made per day and the number of sales made per week. The company collected data on both variables from a sample of 30 sales representatives. Calculate the Pearson correlation coefficient between these two variables."
   ]
  },
  {
   "cell_type": "code",
   "execution_count": 48,
   "id": "71a4be35",
   "metadata": {},
   "outputs": [
    {
     "name": "stdout",
     "output_type": "stream",
     "text": [
      "Pearson Correlation Coefficient: -0.24\n",
      "P-Value: 0.2062\n",
      "Interpretation: There is a negative linear relationship.\n"
     ]
    }
   ],
   "source": [
    "import numpy as np\n",
    "from scipy.stats import pearsonr\n",
    "\n",
    "\n",
    "np.random.seed(42)  \n",
    "\n",
    "sales_calls_per_day = np.random.randint(10, 31, 30)\n",
    "\n",
    "sales_per_week = np.random.randint(50, 151, 30)\n",
    "\n",
    "# Calculate the Pearson correlation coefficient\n",
    "correlation_coefficient, p_value = pearsonr(sales_calls_per_day, sales_per_week)\n",
    "\n",
    "# Interpret the result\n",
    "if correlation_coefficient > 0:\n",
    "    interpretation = \"There is a positive linear relationship.\"\n",
    "elif correlation_coefficient < 0:\n",
    "    interpretation = \"There is a negative linear relationship.\"\n",
    "else:\n",
    "    interpretation = \"There is no significant linear relationship.\"\n",
    "\n",
    "print(f\"Pearson Correlation Coefficient: {correlation_coefficient:.2f}\")\n",
    "print(f\"P-Value: {p_value:.4f}\")\n",
    "print(f\"Interpretation: {interpretation}\")\n"
   ]
  },
  {
   "cell_type": "code",
   "execution_count": null,
   "id": "fcfcb335",
   "metadata": {},
   "outputs": [],
   "source": []
  }
 ],
 "metadata": {
  "kernelspec": {
   "display_name": "Python 3 (ipykernel)",
   "language": "python",
   "name": "python3"
  },
  "language_info": {
   "codemirror_mode": {
    "name": "ipython",
    "version": 3
   },
   "file_extension": ".py",
   "mimetype": "text/x-python",
   "name": "python",
   "nbconvert_exporter": "python",
   "pygments_lexer": "ipython3",
   "version": "3.9.7"
  }
 },
 "nbformat": 4,
 "nbformat_minor": 5
}
