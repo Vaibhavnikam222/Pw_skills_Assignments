{
 "cells": [
  {
   "cell_type": "markdown",
   "id": "dea01ebd",
   "metadata": {},
   "source": [
    "# Q1. Write a Python function that takes in two arrays of data and calculates the F-value for a variance ratio test. The function should return the F-value and the corresponding p-value for the test."
   ]
  },
  {
   "cell_type": "code",
   "execution_count": 5,
   "id": "dbbccefc",
   "metadata": {},
   "outputs": [],
   "source": [
    "import scipy.stats as stats\n",
    "import numpy as np"
   ]
  },
  {
   "cell_type": "code",
   "execution_count": 6,
   "id": "0d4a19d4",
   "metadata": {},
   "outputs": [],
   "source": [
    "def calculate_f_value(data1, data2):\n",
    "    # Calculate the variance of each dataset\n",
    "    var1 = data1.var()\n",
    "    var2 = data2.var()\n",
    "\n",
    "    # Ensure var1 is the larger variance\n",
    "    if var2 > var1:\n",
    "        var1, var2 = var2, var1\n",
    "        data1, data2 = data2, data1\n",
    "\n",
    "    # Calculate the F-value\n",
    "    f_value = var1 / var2\n",
    "\n",
    "    # Calculate degrees of freedom\n",
    "    df1 = len(data1) - 1\n",
    "    df2 = len(data2) - 1\n",
    "\n",
    "    # Calculate the p-value\n",
    "    p_value = 1 - stats.f.cdf(f_value, df1, df2)\n",
    "\n",
    "    return f_value, p_value"
   ]
  },
  {
   "cell_type": "code",
   "execution_count": 7,
   "id": "1f47b761",
   "metadata": {},
   "outputs": [
    {
     "name": "stdout",
     "output_type": "stream",
     "text": [
      "F-value: 1.24\n",
      "p-value: 0.3868156564035148\n"
     ]
    }
   ],
   "source": [
    "d1=[3,2,8,9,6]\n",
    "d2=[4,9,3,1,7,5,6]\n",
    "\n",
    "data1=np.array(d1)\n",
    "data2=np.array(d2)\n",
    "\n",
    "f_value, p_value = calculate_f_value(data1, data2)\n",
    "\n",
    "print(\"F-value:\", f_value)\n",
    "print(\"p-value:\", p_value)"
   ]
  },
  {
   "cell_type": "markdown",
   "id": "9b8d1121",
   "metadata": {},
   "source": [
    "# Q2. Given a significance level of 0.05 and the degrees of freedom for the numerator and denominator of an F-distribution, write a Python function that returns the critical F-value for a two-tailed test."
   ]
  },
  {
   "cell_type": "code",
   "execution_count": 8,
   "id": "b3b7ad3a",
   "metadata": {},
   "outputs": [],
   "source": [
    "\n",
    "def critical_f_value(alpha, dfn, dfd):\n",
    "    \n",
    "    # Calculate the right-tailed F-value for alpha/2\n",
    "    right_tail = stats.f.ppf(1 - alpha/2, dfn, dfd)\n",
    "\n",
    "    # Calculate the left-tailed F-value for alpha/2\n",
    "    left_tail = stats.f.ppf(alpha/2, dfn, dfd)\n",
    "\n",
    "    return left_tail, right_tail\n"
   ]
  },
  {
   "cell_type": "code",
   "execution_count": 11,
   "id": "687e4604",
   "metadata": {},
   "outputs": [
    {
     "name": "stdout",
     "output_type": "stream",
     "text": [
      "Left Critical F-value:0.0694\n",
      "Right Critical F-value:4.8256\n"
     ]
    }
   ],
   "source": [
    "alpha = 0.05\n",
    "dfn = 3  \n",
    "dfd = 10  \n",
    "\n",
    "left_critical, right_critical = critical_f_value(alpha, dfn, dfd)\n",
    "\n",
    "print(f\"Left Critical F-value:{left_critical:.4f}\")\n",
    "print(f\"Right Critical F-value:{ right_critical:.4f}\")\n"
   ]
  },
  {
   "cell_type": "markdown",
   "id": "abd890b9",
   "metadata": {},
   "source": [
    "# Q3. Write a Python program that generates random samples from two normal distributions with known variances and uses an F-test to determine if the variances are equal. The program should output the F- value, degrees of freedom, and p-value for the test."
   ]
  },
  {
   "cell_type": "code",
   "execution_count": 19,
   "id": "6a41e494",
   "metadata": {},
   "outputs": [],
   "source": [
    "import numpy as np\n",
    "import scipy.stats as stats"
   ]
  },
  {
   "cell_type": "code",
   "execution_count": 21,
   "id": "ae415d2f",
   "metadata": {},
   "outputs": [
    {
     "name": "stdout",
     "output_type": "stream",
     "text": [
      "F-value: 0.7087959958093473\n",
      "Degrees of freedom (numerator, denominator): 29 39\n",
      "p-value: 0.3382337757135684\n"
     ]
    }
   ],
   "source": [
    "np.random.seed(0)\n",
    "\n",
    "# Generate random samples from two normal distributions with known variances\n",
    "var1 = 4.0  \n",
    "var2 = 9.0 \n",
    "n1 = 30\n",
    "n2 = 40\n",
    "\n",
    "# Generate the random samples\n",
    "sample1 = np.random.normal(0, np.sqrt(var1), n1) #(mean, std_dev, size)\n",
    "\n",
    "sample2 = np.random.normal(0, np.sqrt(var2), n2)\n",
    "\n",
    "# Perform an F-test to determine if the variances are equal\n",
    "f_value = np.var(sample1, ddof=1) / np.var(sample2, ddof=1)\n",
    "\n",
    "df1 = n1 - 1\n",
    "df2 = n2 - 1\n",
    "\n",
    "\n",
    "# min function is used to find the smaller of the two probabilities calculated \n",
    "# 2 multiply because two-tailed test\n",
    "p_value = 2 * min(stats.f.cdf(f_value, df1, df2), 1 - stats.f.cdf(f_value, df1, df2))\n",
    "\n",
    "# results\n",
    "print(\"F-value:\", f_value)\n",
    "print(\"Degrees of freedom (numerator, denominator):\", df1, df2)\n",
    "print(\"p-value:\", p_value)\n"
   ]
  },
  {
   "cell_type": "code",
   "execution_count": 26,
   "id": "6669dd4d",
   "metadata": {},
   "outputs": [
    {
     "name": "stdout",
     "output_type": "stream",
     "text": [
      "Fail to reject the null hypothesis\n",
      "conclusion: Variances are equal.\n"
     ]
    }
   ],
   "source": [
    "alpha = 0.05\n",
    "if p_value < alpha:\n",
    "    print(\"Reject the null hypothesis: Variances are not equal.\")\n",
    "else:\n",
    "    print(\"Fail to reject the null hypothesis\")\n",
    "    print(\"conclusion: Variances are equal.\")"
   ]
  },
  {
   "cell_type": "markdown",
   "id": "878ca5fe",
   "metadata": {},
   "source": [
    "# Q4.The variances of two populations are known to be 10 and 15. A sample of 12 observations is taken from each population. Conduct an F-test at the 5% significance level to determine if the variances are significantly different."
   ]
  },
  {
   "cell_type": "code",
   "execution_count": 27,
   "id": "4ec38617",
   "metadata": {},
   "outputs": [
    {
     "name": "stdout",
     "output_type": "stream",
     "text": [
      "Fail to reject the null hypothesis: Variances are not significantly different.\n",
      "F-statistic: 1.5\n",
      "Degrees of freedom (numerator, denominator): 11 11\n",
      "p-value: 0.5123897987357995\n"
     ]
    }
   ],
   "source": [
    "# Given \n",
    "var1 = 10\n",
    "var2 = 15\n",
    "n = 12\n",
    "alpha = 0.05\n",
    "\n",
    "# Calculate the F-statistic\n",
    "f_stat = var2 / var1\n",
    "\n",
    "# Degrees of freedom\n",
    "df1 = n - 1\n",
    "df2 = n - 1\n",
    "\n",
    "# Calculate the p-value\n",
    "p_value = 2 * min(stats.f.cdf(f_stat, df1, df2), 1 - stats.f.cdf(f_stat, df1, df2))\n",
    "\n",
    "# Make a decision\n",
    "if p_value < alpha:\n",
    "    print(\"Reject the null hypothesis: Variances are significantly different.\")\n",
    "else:\n",
    "    print(\"Fail to reject the null hypothesis: Variances are not significantly different.\")\n",
    "\n",
    "print(\"F-statistic:\", f_stat)\n",
    "print(\"Degrees of freedom (numerator, denominator):\", df1, df2)\n",
    "print(\"p-value:\", p_value)\n"
   ]
  },
  {
   "cell_type": "markdown",
   "id": "fe215fe3",
   "metadata": {},
   "source": [
    "# Q5. A manufacturer claims that the variance of the diameter of a certain product is 0.005. A sample of 25 products is taken, and the sample variance is found to be 0.006. Conduct an F-test at the 1% significance level to determine if the claim is justified."
   ]
  },
  {
   "cell_type": "code",
   "execution_count": 32,
   "id": "a14d3d30",
   "metadata": {},
   "outputs": [],
   "source": [
    "from scipy.stats import f"
   ]
  },
  {
   "cell_type": "code",
   "execution_count": 33,
   "id": "c71b89fc",
   "metadata": {},
   "outputs": [
    {
     "name": "stdout",
     "output_type": "stream",
     "text": [
      "F-statistic: 0.8333\n",
      "F Critical values: 0.3371 and 2.9667\n",
      "P-value: 0.6587\n",
      "FAIL to reject null hypothesis.\n",
      "Conclusion : The variance of the diameter of the product is 0.005\n"
     ]
    }
   ],
   "source": [
    "alpha = 0.01\n",
    "\n",
    "# set the claimed population variance and sample variance\n",
    "claimed_variance = 0.005\n",
    "sample_variance = 0.006\n",
    "\n",
    "# set the sample size\n",
    "n = 25\n",
    "\n",
    "# Null Hypothesis and alternate hypothesis\n",
    "null_hypothesis = \"The variance of the diameter of the product is 0.005\"\n",
    "alternate_hypothesis = \"The variance of the diameter of the product is NOT 0.005.\"\n",
    "\n",
    "# calculate the F-statistic\n",
    "F = claimed_variance / sample_variance\n",
    "\n",
    "# calculate the critical value of the F-distribution\n",
    "dfn = n - 1\n",
    "dfd = n - 1\n",
    "\n",
    "# calculate the p-value\n",
    "p_value = 2 * min(f.cdf(F, dfn, dfd), 1 - f.cdf(F, dfn, dfd))\n",
    "\n",
    "# Calculates critical values for two tailed F-test\n",
    "alpha = 0.01\n",
    "F_crit1 = f.ppf(alpha/2, dfn, dfd)\n",
    "F_crit2 = f.ppf(1-alpha/2,dfn, dfd)\n",
    "\n",
    "# print the results\n",
    "print(f\"F-statistic: {F:.4f}\")\n",
    "print(f\"F Critical values: {F_crit1:.4f} and {F_crit2:.4f}\")\n",
    "print(f\"P-value: {p_value:.4f}\")\n",
    "\n",
    "if p_value < alpha:\n",
    "    print(\"Reject null hypothesis.\")\n",
    "    print(f\"Conclusion : {alternate_hypothesis}\")\n",
    "else:\n",
    "    print(\"FAIL to reject null hypothesis.\")\n",
    "    print(f\"Conclusion : {null_hypothesis}\")\n"
   ]
  },
  {
   "cell_type": "markdown",
   "id": "d6cd7f11",
   "metadata": {},
   "source": [
    "# Q6. Write a Python function that takes in the degrees of freedom for the numerator and denominator of an F-distribution and calculates the mean and variance of the distribution. The function should return the mean and variance as a tuple."
   ]
  },
  {
   "cell_type": "markdown",
   "id": "20cdb781",
   "metadata": {},
   "source": [
    "### Ans\n",
    "\n",
    "$$\\text{Mean} = \\frac{df_2}{df_2 - 2}$$\n",
    "\n",
    "$$\\text{Variance} = \\frac{2 df_2^2 (df_1 + df_2 - 2)}{df_1 (df_2 - 2)^2 (df_2 - 4)}$$"
   ]
  },
  {
   "cell_type": "code",
   "execution_count": 37,
   "id": "6c2a447b",
   "metadata": {},
   "outputs": [],
   "source": [
    "def f_dist_mean_var(df1:int, df2:int):\n",
    "   \n",
    "    if df1 <= 0 or df2 <= 0:\n",
    "        raise ValueError(\"Degrees of freedom must be positive.\")\n",
    "    \n",
    "    if df2 <= 2:\n",
    "        raise ValueError(\"Degrees of freedom for the denominator (df2) must be greater than 2.\")\n",
    "\n",
    "    mean = df2 / (df2 - 2)\n",
    "    \n",
    "    var = (2 * df2 ** 2 * (df1 + df2 - 2)) / (df1 * (df2 - 2) ** 2 * (df2 - 4))\n",
    "    \n",
    "    return (mean, var)"
   ]
  },
  {
   "cell_type": "code",
   "execution_count": 42,
   "id": "163c535c",
   "metadata": {},
   "outputs": [
    {
     "name": "stdout",
     "output_type": "stream",
     "text": [
      "Mean: 1.25\n",
      "Variance: 1.35\n"
     ]
    }
   ],
   "source": [
    "df1 = 5\n",
    "df2 = 10\n",
    "\n",
    "mean, variance = f_dist_mean_var(df1, df2)\n",
    "\n",
    "print(f\"Mean: {mean:.2f}\")\n",
    "print(f\"Variance: {variance:.2f}\")"
   ]
  },
  {
   "cell_type": "markdown",
   "id": "dbc656a6",
   "metadata": {},
   "source": [
    "# Q7. A random sample of 10 measurements is taken from a normal population with unknown variance. The sample variance is found to be 25. Another random sample of 15 measurements is taken from another normal population with unknown variance, and the sample variance is found to be 20. Conduct an F-test at the 10% significance level to determine if the variances are significantly different."
   ]
  },
  {
   "cell_type": "code",
   "execution_count": 47,
   "id": "d119222d",
   "metadata": {},
   "outputs": [
    {
     "name": "stdout",
     "output_type": "stream",
     "text": [
      "F-statistic: 1.25\n",
      "Degrees of freedom (numerator, denominator): 9 14\n",
      "p-value: 0.6832194382585954\n",
      "Fail to reject the null hypothesis: Variances are equal\n"
     ]
    }
   ],
   "source": [
    "# Given values\n",
    "var1 = 25\n",
    "var2 = 20\n",
    "n1 = 10\n",
    "n2 = 15\n",
    "alpha = 0.10\n",
    "\n",
    "\n",
    "null_hypothesis = \"Variances are equal\"\n",
    "alternate_hypothesis =  \"Variances are not equal\"\n",
    "\n",
    "\n",
    "# Calculate the F-statistic\n",
    "f_statistic =var1 / var2\n",
    "\n",
    "# Degrees of freedom\n",
    "df1 = n1 - 1\n",
    "df2 = n2- 1\n",
    "\n",
    "# Calculate the p-value\n",
    "p_value = 2 * min(stats.f.cdf(f_statistic, df1, df2), 1 - stats.f.cdf(f_statistic, df1, df2))\n",
    "\n",
    "print(\"F-statistic:\", f_statistic)\n",
    "print(\"Degrees of freedom (numerator, denominator):\", df1, df2)\n",
    "print(\"p-value:\", p_value)\n",
    "\n",
    "# Make a decision\n",
    "if p_value < alpha:\n",
    "    print(\"Reject the null hypothesis: \",alternate_hypothesis)\n",
    "else:\n",
    "    print(\"Fail to reject the null hypothesis:\",null_hypothesis )\n"
   ]
  },
  {
   "cell_type": "markdown",
   "id": "ac8a6263",
   "metadata": {},
   "source": [
    "# Q8. The following data represent the waiting times in minutes at two different restaurants on a Saturday night: Restaurant A: 24, 25, 28, 23, 22, 20, 27; Restaurant B: 31, 33, 35, 30, 32, 36. Conduct an F-test at the 5% significance level to determine if the variances are significantly different."
   ]
  },
  {
   "cell_type": "code",
   "execution_count": 49,
   "id": "69a48c4f",
   "metadata": {},
   "outputs": [
    {
     "name": "stdout",
     "output_type": "stream",
     "text": [
      "F-statistic: 1.4551907719609583\n",
      "Degrees of freedom (numerator, denominator): 6 5\n",
      "p-value: 0.6974815747937484\n"
     ]
    }
   ],
   "source": [
    "# Data for Restaurant A and Restaurant B\n",
    "A = np.array([24, 25, 28, 23, 22, 20, 27])\n",
    "B = np.array([31, 33, 35, 30, 32, 36])\n",
    "\n",
    "# Given significance level\n",
    "alpha = 0.05\n",
    "\n",
    "# Calculate sample variances\n",
    "var_A = np.var(A, ddof=1)\n",
    "var_B = np.var(B, ddof=1)\n",
    "\n",
    "# Calculate the F-statistic\n",
    "f_statistic = var_A / var_B\n",
    "\n",
    "# Degrees of freedom\n",
    "df1 = len(A) - 1\n",
    "df2 = len(B) - 1\n",
    "\n",
    "# Calculate the p-value\n",
    "p_value = 2 * min(stats.f.cdf(f_statistic, df1, df2), 1 - stats.f.cdf(f_statistic, df1, df2))\n",
    "\n",
    "\n",
    "print(\"F-statistic:\", f_statistic)\n",
    "print(\"Degrees of freedom (numerator, denominator):\", df1, df2)\n",
    "print(\"p-value:\", p_value)\n"
   ]
  },
  {
   "cell_type": "code",
   "execution_count": 50,
   "id": "96228f68",
   "metadata": {},
   "outputs": [
    {
     "name": "stdout",
     "output_type": "stream",
     "text": [
      "Fail to reject the null hypothesis: Variances are equal.\n"
     ]
    }
   ],
   "source": [
    "# Make a decision\n",
    "if p_value < alpha:\n",
    "    print(\"Reject the null hypothesis: Variances are not equal.\")\n",
    "else:\n",
    "    print(\"Fail to reject the null hypothesis: Variances are equal.\")"
   ]
  },
  {
   "cell_type": "markdown",
   "id": "84e22689",
   "metadata": {},
   "source": [
    "# Q9. The following data represent the test scores of two groups of students: Group A: 80, 85, 90, 92, 87, 83; Group B: 75, 78, 82, 79, 81, 84. Conduct an F-test at the 1% significance level to determine if the variances are significantly different."
   ]
  },
  {
   "cell_type": "code",
   "execution_count": 52,
   "id": "0e1eaaf9",
   "metadata": {},
   "outputs": [
    {
     "name": "stdout",
     "output_type": "stream",
     "text": [
      "F-statistic: 1.9442622950819677\n",
      "Degrees of freedom (numerator, denominator): 5 5\n",
      "p-value: 0.4831043549070688\n"
     ]
    }
   ],
   "source": [
    "A = np.array([80, 85, 90, 92, 87, 83])\n",
    "B = np.array([75, 78, 82, 79, 81, 84])\n",
    "\n",
    "# Given significance level\n",
    "alpha = 0.01\n",
    "\n",
    "# Calculate sample variances\n",
    "var_A = np.var(A, ddof=1)\n",
    "var_B = np.var(B, ddof=1)\n",
    "\n",
    "# Calculate the F-statistic\n",
    "f_statistic = var_A / var_B\n",
    "\n",
    "# Degrees of freedom\n",
    "df1 = len(A) - 1\n",
    "df2 = len(B) - 1\n",
    "\n",
    "# Calculate the p-value\n",
    "p_value = 2 * min(stats.f.cdf(f_statistic, df1, df2), 1 - stats.f.cdf(f_statistic, df1, df2))\n",
    "\n",
    "\n",
    "print(\"F-statistic:\", f_statistic)\n",
    "print(\"Degrees of freedom (numerator, denominator):\", df1, df2)\n",
    "print(\"p-value:\", p_value)\n"
   ]
  },
  {
   "cell_type": "code",
   "execution_count": 53,
   "id": "54a11171",
   "metadata": {},
   "outputs": [
    {
     "name": "stdout",
     "output_type": "stream",
     "text": [
      "Fail to reject the null hypothesis: Variances are equal.\n"
     ]
    }
   ],
   "source": [
    "\n",
    "# Make a decision\n",
    "if p_value < alpha:\n",
    "    print(\"Reject the null hypothesis: Variances are not equal.\")\n",
    "else:\n",
    "    print(\"Fail to reject the null hypothesis: Variances are equal.\")"
   ]
  },
  {
   "cell_type": "code",
   "execution_count": null,
   "id": "8990dc0b",
   "metadata": {},
   "outputs": [],
   "source": []
  }
 ],
 "metadata": {
  "kernelspec": {
   "display_name": "Python 3 (ipykernel)",
   "language": "python",
   "name": "python3"
  },
  "language_info": {
   "codemirror_mode": {
    "name": "ipython",
    "version": 3
   },
   "file_extension": ".py",
   "mimetype": "text/x-python",
   "name": "python",
   "nbconvert_exporter": "python",
   "pygments_lexer": "ipython3",
   "version": "3.9.7"
  }
 },
 "nbformat": 4,
 "nbformat_minor": 5
}
