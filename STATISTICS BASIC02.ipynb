{
 "cells": [
  {
   "cell_type": "markdown",
   "id": "f4899b3f",
   "metadata": {},
   "source": [
    "# Q1. What are the three measures of central tendency?"
   ]
  },
  {
   "cell_type": "markdown",
   "id": "1d9f818e",
   "metadata": {},
   "source": [
    "The three main measures of central tendency are:\n",
    "\n",
    "1. Mean : The mean is calculated by summing all the values in a dataset and dividing by the total number of values. It represents the arithmetic average of the data and is commonly used to describe the central value.\n",
    "\n",
    "2. Median : The median is the middle value when the data is arranged in ascending or descending order. If there's an even number of values, it's the average of the two middle values. The median represents the middle point of the dataset.\n",
    "\n",
    "3. Mode : The mode is the value that appears most frequently in the dataset. There can be one mode , more than one mode ), or no mode at all. The mode represents the most common value(s) in the data."
   ]
  },
  {
   "cell_type": "markdown",
   "id": "31bd1964",
   "metadata": {},
   "source": [
    "# Q2. What is the difference between the mean, median, and mode? How are they used to measure the central tendency of a dataset?"
   ]
  },
  {
   "cell_type": "markdown",
   "id": "4ea9a6bc",
   "metadata": {},
   "source": [
    "MEAN:-\n",
    "The mean is sensitive to all data points and provides the average value.\n",
    "EX.- It is used to calculate the average score in a class or the average income in a population.\n",
    "\n",
    "MEDIAN:-\n",
    "The median is the middle value that divides the data into two equal halves and is less influenced by extreme values.\n",
    "EX.- it is often used to determine the median household income in a region or the median response time for a set of events.\n",
    "\n",
    "MODE:-\n",
    "The mode is the most frequently occurring value or values and is useful for identifying the most common category or value.\n",
    "EX.-It is used to determine the mode color of cars in a parking lot or the mode grade in a class.\n"
   ]
  },
  {
   "cell_type": "markdown",
   "id": "2ee26632",
   "metadata": {},
   "source": [
    "# Q3. Measure the three measures of central tendency for the given height data:\n",
    "[178,177,176,177,178.2,178,175,179,180,175,178.9,176.2,177,172.5,178,176.5]"
   ]
  },
  {
   "cell_type": "code",
   "execution_count": 3,
   "id": "b25e99cc",
   "metadata": {},
   "outputs": [
    {
     "name": "stdout",
     "output_type": "stream",
     "text": [
      "Mean for given height data is 177.01875\n"
     ]
    }
   ],
   "source": [
    "heights = [178,177,176,177,178.2,178,175,179,180,175,178.9,176.2,177,172.5,178,176.5]\n",
    "\n",
    "\n",
    "import numpy as np\n",
    "\n",
    "mean = np.mean(heights)\n",
    "print(f'Mean for given height data is {mean}')"
   ]
  },
  {
   "cell_type": "code",
   "execution_count": 4,
   "id": "b1e0f7be",
   "metadata": {},
   "outputs": [
    {
     "name": "stdout",
     "output_type": "stream",
     "text": [
      "Median for given height data is 177.0\n"
     ]
    }
   ],
   "source": [
    "median = np.median(heights)\n",
    "print(f'Median for given height data is {median}')"
   ]
  },
  {
   "cell_type": "code",
   "execution_count": 14,
   "id": "b92d12ec",
   "metadata": {},
   "outputs": [
    {
     "name": "stdout",
     "output_type": "stream",
     "text": [
      "Mode for given height data is ModeResult(mode=array([177.]), count=array([3]))\n"
     ]
    }
   ],
   "source": [
    "from scipy import stats\n",
    "\n",
    "mode = stats.mode(heights)\n",
    "print(f'Mode for given height data is {mode}')\n"
   ]
  },
  {
   "cell_type": "markdown",
   "id": "1e98f4b1",
   "metadata": {},
   "source": [
    "# Q4. Find the standard deviation for the given data:\n",
    "[178,177,176,177,178.2,178,175,179,180,175,178.9,176.2,177,172.5,178,176.5]"
   ]
  },
  {
   "cell_type": "code",
   "execution_count": 1,
   "id": "f0ebe904",
   "metadata": {},
   "outputs": [
    {
     "name": "stdout",
     "output_type": "stream",
     "text": [
      "Standard Deviation for give data is 1.7886\n"
     ]
    }
   ],
   "source": [
    "import numpy as np\n",
    "data = [178,177,176,177,178.2,178,175,179,180,175,178.9,176.2,177,172.5,178,176.5]\n",
    "data_std = np.std(data)\n",
    "print(f'Standard Deviation for give data is {round(data_std,4)}')"
   ]
  },
  {
   "cell_type": "markdown",
   "id": "f5e5e741",
   "metadata": {},
   "source": [
    "# Q5. How are measures of dispersion such as range, variance, and standard deviation used to describe the spread of a dataset? Provide an example."
   ]
  },
  {
   "cell_type": "markdown",
   "id": "1a9a8750",
   "metadata": {},
   "source": [
    "**Range:** The range is the difference between the maximum and minimum values in a dataset. It gives an idea of how much the values in the dataset vary from one another. A wider range indicates a more spread-out dataset, while a smaller range indicates a more tightly clustered dataset. \n",
    "\n",
    "data = [10,20,30,40,50]\n",
    "range = max(data)-min(data)\n",
    "      = 50 - 10\n",
    "      = 40"
   ]
  },
  {
   "cell_type": "markdown",
   "id": "7d828157",
   "metadata": {},
   "source": [
    "**Variance:** Variance is a measure of how much the values in a dataset deviate from the mean. It is calculated by taking the sum of the squared differences between each value and the mean, divided by the total number of values. A higher variance indicates that the data is more spread out, while a lower variance indicates that the data is more tightly clustered around the mean. "
   ]
  },
  {
   "cell_type": "code",
   "execution_count": 17,
   "id": "ca8a02e7",
   "metadata": {},
   "outputs": [],
   "source": [
    "data = [10,20,30,40,50] "
   ]
  },
  {
   "cell_type": "code",
   "execution_count": 18,
   "id": "49c9e6ef",
   "metadata": {},
   "outputs": [
    {
     "data": {
      "text/plain": [
       "200.0"
      ]
     },
     "execution_count": 18,
     "metadata": {},
     "output_type": "execute_result"
    }
   ],
   "source": [
    "d=np.var(data)\n",
    "d"
   ]
  },
  {
   "cell_type": "markdown",
   "id": "0ce75526",
   "metadata": {},
   "source": [
    "**Deviation:-**The standard deviation is a statistical measure that quantifies the amount of variation or dispersion in a dataset. It provides a way to understand how spread out or clustered data points are around the mean (average) of the dataset. A smaller standard deviation indicates that data points are close to the mean, while a larger standard deviation indicates that data points are more spread out from the mean."
   ]
  },
  {
   "cell_type": "code",
   "execution_count": 20,
   "id": "cc558597",
   "metadata": {},
   "outputs": [
    {
     "data": {
      "text/plain": [
       "14.1421"
      ]
     },
     "execution_count": 20,
     "metadata": {},
     "output_type": "execute_result"
    }
   ],
   "source": [
    "d2=round(np.std(data),4)\n",
    "d2"
   ]
  },
  {
   "cell_type": "code",
   "execution_count": null,
   "id": "8bea65b5",
   "metadata": {},
   "outputs": [],
   "source": []
  },
  {
   "cell_type": "markdown",
   "id": "9973ecd0",
   "metadata": {},
   "source": [
    "# Q6. What is a Venn diagram?"
   ]
  },
  {
   "cell_type": "markdown",
   "id": "2d43744b",
   "metadata": {},
   "source": [
    "A Venn diagram typically consists of overlapping circles or other shapes, each representing a set. The overlapping regions of the circles show the elements that are common to the sets being compared, while the non-overlapping regions represent elements that are unique to each set.\n",
    "\n",
    "Venn diagrams are useful for visualizing concepts such as intersection (elements that belong to multiple sets), union (elements that belong to at least one set), and complement (elements that do not belong to a particular set). They are commonly used in education to teach set theory and in problem-solving to analyze and compare different data sets or groups.\n",
    "\n",
    "In addition to circles, Venn diagrams can use other shapes like ellipses or rectangles, and they can be adapted for more than two sets by using more overlapping shapes or more complex arrangements. Venn diagrams are a powerful tool for simplifying complex relationships and making them easier to understand through visualization.\n"
   ]
  },
  {
   "cell_type": "markdown",
   "id": "0567957e",
   "metadata": {},
   "source": [
    "# Q7. For the two given sets A = (2,3,4,5,6,7) & B = (0,2,6,8,10). Find:(i) A n  B      (ii) A ⋃ B\n"
   ]
  },
  {
   "cell_type": "code",
   "execution_count": 15,
   "id": "05acc109",
   "metadata": {},
   "outputs": [
    {
     "name": "stdout",
     "output_type": "stream",
     "text": [
      "(i) A ∩ B: [2, 6]\n"
     ]
    }
   ],
   "source": [
    "\n",
    "A = {2, 3, 4, 5, 6, 7}\n",
    "B = {0, 2, 6, 8, 10}\n",
    "\n",
    "\n",
    "intersection = A.intersection(B)\n",
    "intersection_list = list(intersection)\n",
    "\n",
    "print(\"(i) A ∩ B:\", intersection_list)\n"
   ]
  },
  {
   "cell_type": "code",
   "execution_count": 16,
   "id": "01b0bf5c",
   "metadata": {},
   "outputs": [
    {
     "name": "stdout",
     "output_type": "stream",
     "text": [
      "(ii) A ⋃ B: [0, 2, 3, 4, 5, 6, 7, 8, 10]\n"
     ]
    }
   ],
   "source": [
    "union = A.union(B)\n",
    "\n",
    "union_list = list(union)\n",
    "\n",
    "print(\"(ii) A ⋃ B:\", union_list)"
   ]
  },
  {
   "cell_type": "markdown",
   "id": "4b29fcc1",
   "metadata": {},
   "source": [
    "# Q8. What do you understand about skewness in data?"
   ]
  },
  {
   "cell_type": "markdown",
   "id": "fd9586e2",
   "metadata": {},
   "source": [
    "Skewness is a statistical measure that describes the asymmetry or lack of symmetry in the distribution of data.It quantifies the degree to which the data is skewed or distorted from a symmetrical, bell-shaped distribution (like a normal distribution). \n",
    "\n",
    "**Positive Skew (Right Skew):** In a positively skewed distribution, the tail on the right-hand side (the upper tail) is longer or fatter than the left-hand side (lower tail). This indicates that the majority of data points are concentrated on the left side, and there are a few unusually large values on the right side.\n",
    "\n",
    "**Negative Skew (Left Skew):** In a negatively skewed distribution, the tail on the left-hand side (the lower tail) is longer or fatter than the right-hand side (upper tail). This suggests that the majority of data points are concentrated on the right side, and there are a few unusually small values on the left side.\n",
    "\n",
    "**Zero Skew (Symmetrical):** In a symmetrical distribution, there is no skewness, and the data is evenly distributed on both sides of the mean. A perfect example of a symmetrical distribution is the normal distribution, which has zero skewness."
   ]
  },
  {
   "cell_type": "markdown",
   "id": "4e660045",
   "metadata": {},
   "source": [
    "# Q9. If a data is right skewed then what will be the position of median with respect to mean?"
   ]
  },
  {
   "cell_type": "markdown",
   "id": "b801cf9d",
   "metadata": {},
   "source": [
    "In a right-skewed (positively skewed) distribution, the tail on the right-hand side is longer or fatter than the left-hand side (lower tail). This means that there are a few unusually large values on the right side, which pull the mean towards the tail. \n",
    "\n",
    "In such a distribution:\n",
    "1. The mean (average) will be greater than the median.\n",
    "2. The median will be closer to the left (lower) side of the distribution, where the majority of data points are concentrated."
   ]
  },
  {
   "attachments": {
    "Positively-Skewed-Distribution-Graph.jpg.jpg": {
     "image/jpeg": "[encoded data removed]"
    }
   },
   "cell_type": "markdown",
   "id": "15d84cf8",
   "metadata": {},
   "source": [
    "![Positively-Skewed-Distribution-Graph.jpg.jpg](attachment:Positively-Skewed-Distribution-Graph.jpg.jpg)"
   ]
  },
  {
   "cell_type": "markdown",
   "id": "d6cc389a",
   "metadata": {},
   "source": [
    "# Q10. Explain the difference between covariance and correlation. How are these measures used in statistical analysis?"
   ]
  },
  {
   "cell_type": "markdown",
   "id": "5797fb0e",
   "metadata": {},
   "source": [
    "A. Definition: \n",
    "1. Covariance:-Covariance measures the degree to which two random variables change together. It quantifies the extent to which the values of one variable tend to increase or decrease in relation to the values of the other variable.\n",
    "2. Correlation:- Correlation is a standardized measure that quantifies the strength and direction of the linear relationship between two variables. It's designed to be scale-invariant and falls within the range of -1 to 1, with 0 indicating no linear correlation.\n",
    "\n",
    "B. Range:-\n",
    "1.  Covariance can take any real value, both positive and negative. The magnitude of covariance is not standardized.\n",
    "2.  Correlation values are bounded between -1 and 1, making them easier to interpret.\n",
    "\n",
    "C. Units:-\n",
    "1. Covariance: The units of covariance are the product of the units of the two variables.\n",
    "2. Correlation:-Correlation is a unitless measure, which means it's not affected by the units or scales of the variables.\n",
    "\n",
    "D. Scaling:-\n",
    "1. Covariance:-Covariance is sensitive to the scale of the variables. Therefore, it's challenging to compare covariances between datasets with different units or scales.\n",
    "2. Corelation:- Correlation allows for easier comparison between datasets with different units or scales, making it a more robust measure for assessing the strength and direction of linear relationships.\n",
    "\n",
    "\n",
    "**Measures used in statistical analysis:-**\n",
    "1. Covariance: Covariance is used to understand how two variables vary together. It is often used for exploratory data analysis. However, its sensitivity to scale makes it less suitable for comparing the strength of relationships between different datasets.\n",
    "\n",
    "2. Correlation: Correlation, particularly Pearson's correlation coefficient, is widely used for assessing linear relationships between variables. It's valuable for quantifying the strength and direction of the relationship in a standardized way. Other correlation coefficients, like Spearman's rank correlation, are used when variables may not have a linear relationship but have a monotonic one."
   ]
  },
  {
   "cell_type": "markdown",
   "id": "61bbc023",
   "metadata": {},
   "source": [
    "# Q11. What is the formula for calculating the sample mean? Provide an example calculation for a dataset."
   ]
  },
  {
   "cell_type": "markdown",
   "id": "b7a11588",
   "metadata": {},
   "source": [
    " the formula for calculating the sample mean\n",
    " \n",
    " mean= (x1+x2+x3......xn)/n"
   ]
  },
  {
   "cell_type": "code",
   "execution_count": 23,
   "id": "02c9b64a",
   "metadata": {},
   "outputs": [
    {
     "data": {
      "text/plain": [
       "6.0"
      ]
     },
     "execution_count": 23,
     "metadata": {},
     "output_type": "execute_result"
    }
   ],
   "source": [
    "data3=(3,4,8,9,6)\n",
    "\n",
    "mean=(3+4+8+9+6)/5\n",
    "mean"
   ]
  },
  {
   "cell_type": "markdown",
   "id": "f6177ddc",
   "metadata": {},
   "source": [
    "\n",
    "# Q12. For a normal distribution data what is the relationship between its measure of central tendency?"
   ]
  },
  {
   "cell_type": "markdown",
   "id": "7d297dee",
   "metadata": {},
   "source": [
    "1. For a normal distribution, the three measures of central tendency (mean, median, and mode) are all equal. This is because a normal distribution is symmetric around the mean, so the median is also the mean. Additionally, the mode is also equal to the mean and median in a normal distribution.\n",
    "\n",
    "2. In a perfectly normal distribution, the skewness is zero. This means that the distribution is perfectly symmetrical, and there is no skew to the left or right.\n",
    "\n",
    "3. In a perfectly normal distribution, the kurtosis (a measure of the \"tailedness\" of the distribution) is 3. This value indicates that the tails of the distribution are neither too heavy nor too light compared to a perfectly standardized normal distribution. "
   ]
  },
  {
   "cell_type": "code",
   "execution_count": null,
   "id": "4b76d6fa",
   "metadata": {},
   "outputs": [],
   "source": []
  },
  {
   "cell_type": "markdown",
   "id": "c73111bf",
   "metadata": {},
   "source": [
    "# Q13. How is covariance different from correlation?"
   ]
  },
  {
   "cell_type": "markdown",
   "id": "8789a994",
   "metadata": {},
   "source": [
    "Covariance:\n",
    "\n",
    "Covariance measures the degree to which two random variables change together. It indicates when there is  increase in one variable corresponds to an increase or decrease in the other variable.\n",
    "However, covariance by itself doesn't provide a standardized measure, making it challenging to interpret the strength and direction of the relationship.\n",
    "\n",
    "Correlation:\n",
    "\n",
    "Correlation is a standardized measure of the linear relationship between two variables. It quantifies both the strength and direction of the relationship.\n",
    "Correlation is unitless and does not depend on the scale of the variables, making it easier to compare relationships between different pairs of variables.\n"
   ]
  },
  {
   "cell_type": "markdown",
   "id": "0380885c",
   "metadata": {},
   "source": [
    "# Q14. How do outliers affect measures of central tendency and dispersion? Provide an example."
   ]
  },
  {
   "cell_type": "markdown",
   "id": "d71574ee",
   "metadata": {},
   "source": [
    "**Effect of outliers on Measures of Central Tendency:**\n",
    "\n",
    "Mean: Outliers can strongly influence the mean because it takes into account all values in the dataset. A single extreme outlier can pull the mean in its direction.\n",
    "\n",
    "Median : The median is less affected by outliers because it's based on the middle value of the sorted dataset. Outliers have little impact on the median unless they significantly outnumber the other data points.\n",
    "\n",
    "Mode : Outliers typically don't affect the mode, as it's determined by the most frequently occurring value(s) in the dataset."
   ]
  },
  {
   "cell_type": "markdown",
   "id": "30d6c428",
   "metadata": {},
   "source": [
    "**Effect of measures of dispersion:-**\n",
    "\n",
    "Range: Outliers can expand the range significantly because they represent extreme values in the dataset.\n",
    "\n",
    "Variance and Standard Deviation: Outliers can greatly increase the variance and standard deviation because these measures account for the spread of data points around the mean. Outliers, being far from the mean, increase the overall variability."
   ]
  },
  {
   "cell_type": "code",
   "execution_count": 9,
   "id": "87aec3b9",
   "metadata": {},
   "outputs": [
    {
     "name": "stdout",
     "output_type": "stream",
     "text": [
      "Mean: 88.45454545454545\n",
      "Median: 89.0\n",
      "Mode: 75\n",
      "Mode Count: 1\n"
     ]
    }
   ],
   "source": [
    "import numpy as np\n",
    "from scipy import stats\n",
    "\n",
    "#without outlier\n",
    "data = [85, 90, 92, 88, 89, 91, 87, 86, 94, 96, 75]\n",
    "\n",
    "mean = np.mean(data)\n",
    "print(\"Mean:\", mean)\n",
    "\n",
    "median = np.median(data)\n",
    "print(\"Median:\", median)\n",
    "\n",
    "mode = stats.mode(data)\n",
    "print(\"Mode:\", mode.mode[0])\n",
    "print(\"Mode Count:\", mode.count[0])\n",
    "\n",
    "\n"
   ]
  },
  {
   "cell_type": "code",
   "execution_count": 10,
   "id": "a4c7b2b1",
   "metadata": {},
   "outputs": [
    {
     "name": "stdout",
     "output_type": "stream",
     "text": [
      "Range: 21\n",
      "Variance: 28.247933884297524\n",
      "Standard Deviation: 5.3148785389976245\n"
     ]
    }
   ],
   "source": [
    "variance = np.var(data)\n",
    "std_deviation = np.std(data)\n",
    "range_of_data = np.max(data) - np.min(data)\n",
    "\n",
    "print(\"Range:\", range_of_data)\n",
    "\n",
    "print(\"Variance:\", variance)\n",
    "print(\"Standard Deviation:\", std_deviation)\n"
   ]
  },
  {
   "cell_type": "code",
   "execution_count": 6,
   "id": "dd4b0d61",
   "metadata": {},
   "outputs": [
    {
     "name": "stdout",
     "output_type": "stream",
     "text": [
      "Mean: 106.08333333333333\n",
      "Median: 89.5\n",
      "Mode: 75\n",
      "Mode Count: 1\n",
      "Range: 225\n",
      "Variance: 3444.4097222222226\n",
      "Standard Deviation: 58.68909372466253\n"
     ]
    }
   ],
   "source": [
    "# with outlier\n",
    "data = [85, 90, 92, 88, 89, 91, 87, 86, 94, 96, 75,300]\n",
    "\n",
    "mean = np.mean(data)\n",
    "median = np.median(data)\n",
    "mode = stats.mode(data)\n",
    "variance = np.var(data)\n",
    "std_deviation = np.std(data)\n",
    "range_of_data = np.max(data) - np.min(data)\n",
    "\n",
    "\n",
    "print(\"Mean:\", mean)\n",
    "print(\"Median:\", median)\n",
    "print(\"Mode:\", mode.mode[0])\n",
    "print(\"Mode Count:\", mode.count[0])\n",
    "print(\"Range:\", range_of_data)\n",
    "print(\"Variance:\", variance)\n",
    "print(\"Standard Deviation:\", std_deviation)\n"
   ]
  },
  {
   "cell_type": "code",
   "execution_count": null,
   "id": "0146cd55",
   "metadata": {},
   "outputs": [],
   "source": []
  }
 ],
 "metadata": {
  "kernelspec": {
   "display_name": "Python 3 (ipykernel)",
   "language": "python",
   "name": "python3"
  },
  "language_info": {
   "codemirror_mode": {
    "name": "ipython",
    "version": 3
   },
   "file_extension": ".py",
   "mimetype": "text/x-python",
   "name": "python",
   "nbconvert_exporter": "python",
   "pygments_lexer": "ipython3",
   "version": "3.9.7"
  }
 },
 "nbformat": 4,
 "nbformat_minor": 5
}
